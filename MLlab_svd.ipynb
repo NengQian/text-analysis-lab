{
 "cells": [
  {
   "cell_type": "markdown",
   "metadata": {},
   "source": [
    "# Day2"
   ]
  },
  {
   "cell_type": "code",
   "execution_count": 3,
   "metadata": {},
   "outputs": [],
   "source": [
    "import spacy\n",
    "import json\n",
    "from sklearn.feature_extraction.text import TfidfVectorizer\n",
    "from spacy.lang.de.stop_words import STOP_WORDS\n",
    "import pandas as pd\n",
    "from sklearn.cluster import KMeans\n",
    "import time"
   ]
  },
  {
   "cell_type": "code",
   "execution_count": 4,
   "metadata": {},
   "outputs": [],
   "source": [
    "%run src/file_utils.py\n",
    "%run src/configuration.py"
   ]
  },
  {
   "cell_type": "code",
   "execution_count": 5,
   "metadata": {},
   "outputs": [],
   "source": [
    "document_test = ['BMW-AnnualReport-2016.json']"
   ]
  },
  {
   "cell_type": "code",
   "execution_count": 6,
   "metadata": {},
   "outputs": [],
   "source": [
    "vocab_documents = ['BMW-AnnualReport-2016.json', 'CarlZeissMeditec-AnnualReport-2016.json', 'BVB-AnnualReport-2016.json']"
   ]
  },
  {
   "cell_type": "code",
   "execution_count": 7,
   "metadata": {},
   "outputs": [],
   "source": [
    "documents = ['BMW-AnnualReport-2015.json', 'BMW-AnnualReport-2016.json', 'BMW-AnnualReport-2017.json', \n",
    " 'CarlZeissMeditec-AnnualReport-2015.json', 'CarlZeissMeditec-AnnualReport-2016.json', 'CarlZeissMeditec-AnnualReport-2017.json',\n",
    " 'BVB-AnnualReport-2015.json', 'BVB-AnnualReport-2016.json', 'BVB-AnnualReport-2017.json']"
   ]
  },
  {
   "cell_type": "code",
   "execution_count": 8,
   "metadata": {},
   "outputs": [],
   "source": [
    "TYPE = 'type'\n",
    "PARAGRAPH = 'paragraph'\n",
    "CONTENT = 'content'"
   ]
  },
  {
   "cell_type": "code",
   "execution_count": 9,
   "metadata": {},
   "outputs": [],
   "source": [
    "def readContentOfFile(file_name):\n",
    "    content = ''\n",
    "    try:\n",
    "        with open(file_name) as f:\n",
    "            data = json.load(f)\n",
    "            for item in data:\n",
    "                typeDoc = item[TYPE]\n",
    "                if typeDoc == PARAGRAPH:\n",
    "                    content += item[CONTENT]\n",
    "    except:\n",
    "        FileUtils.fix_json(file_name)\n",
    "        with open(file_name) as f:\n",
    "            data = json.load(f)\n",
    "            for item in data:\n",
    "                typeDoc = item[TYPE]\n",
    "                if typeDoc == PARAGRAPH:\n",
    "                    content += item[CONTENT]\n",
    "    return content"
   ]
  },
  {
   "cell_type": "markdown",
   "metadata": {},
   "source": [
    "# Clustering without lemmatization"
   ]
  },
  {
   "cell_type": "code",
   "execution_count": 10,
   "metadata": {},
   "outputs": [],
   "source": [
    "common_vocabularly = set()\n",
    "for document in documents:\n",
    "    content_of_document = readContentOfFile(FILE_PATH + document)\n",
    "    nlp = spacy.load(\"de\")\n",
    "    sentence = nlp(content_of_document)\n",
    "    filtered_words = [word for word in sentence if word.lower_ not in STOP_WORDS]\n",
    "    filtered_words_withoutdigits = [word for word in filtered_words if not word.is_digit]\n",
    "    filtered_words_withoutpunc = [word for word in filtered_words_withoutdigits if word.pos_ != 'PUNCT']\n",
    "    vocabularly = set()\n",
    "    for word in filtered_words_withoutpunc:\n",
    "        vocabularly.add(word.text.replace('\\n', '').strip().lower())\n",
    "    new_vocab = set()\n",
    "    for u in vocabularly:\n",
    "        if u != '':\n",
    "            new_vocab.add(u)\n",
    "    vectorizer = TfidfVectorizer(vocabulary=new_vocab)\n",
    "    tfidf_matrix = vectorizer.fit_transform([content_of_document])\n",
    "    feature_names = vectorizer.get_feature_names()\n",
    "    corpus_index = [n for n in ['Values']]\n",
    "    df = pd.DataFrame(tfidf_matrix.T.todense(), index=feature_names, columns=corpus_index)\n",
    "    df = df.sort_values(by=['Values'], ascending=False)\n",
    "    common_vocabularly.update(df.head(1000).index.values.tolist())\n"
   ]
  },
  {
   "cell_type": "code",
   "execution_count": 11,
   "metadata": {},
   "outputs": [],
   "source": [
    "vectorizer = TfidfVectorizer(vocabulary=common_vocabularly)"
   ]
  },
  {
   "cell_type": "code",
   "execution_count": 12,
   "metadata": {},
   "outputs": [],
   "source": [
    "tfidf_matrix = vectorizer.fit_transform(\n",
    "    [readContentOfFile(FILE_PATH + 'BVB-AnnualReport-2011.json'), \n",
    "     readContentOfFile(FILE_PATH + 'BVB-AnnualReport-2012.json'), \n",
    "     readContentOfFile(FILE_PATH + 'BMW-AnnualReport-2012.json'),\n",
    "     readContentOfFile(FILE_PATH + 'BMW-AnnualReport-2011.json'),\n",
    "     readContentOfFile(FILE_PATH + 'CarlZeissMeditec-AnnualReport-2013.json'),\n",
    "     readContentOfFile(FILE_PATH + 'CarlZeissMeditec-AnnualReport-2012.json'),\n",
    "     readContentOfFile(FILE_PATH + 'BVB-AnnualReport-2013.json'), \n",
    "     readContentOfFile(FILE_PATH + 'BMW-AnnualReport-2013.json'),])"
   ]
  },
  {
   "cell_type": "code",
   "execution_count": 13,
   "metadata": {},
   "outputs": [
    {
     "data": {
      "text/plain": [
       "array([2, 2, 0, 0, 1, 1, 2, 0], dtype=int32)"
      ]
     },
     "execution_count": 13,
     "metadata": {},
     "output_type": "execute_result"
    }
   ],
   "source": [
    "km = KMeans(n_clusters=3, init='k-means++')\n",
    "km.fit(tfidf_matrix)\n",
    "km.labels_"
   ]
  },
  {
   "cell_type": "markdown",
   "metadata": {},
   "source": [
    "# Clustering with lemmatization"
   ]
  },
  {
   "cell_type": "code",
   "execution_count": 14,
   "metadata": {},
   "outputs": [],
   "source": [
    "nlp = spacy.load(\"de\")\n",
    "def perform_lemmatization(document):\n",
    "    content_of_document = readContentOfFile(document)\n",
    "    sentence = nlp(content_of_document)\n",
    "    filtered_words = [word for word in sentence if word.lower_ not in STOP_WORDS]\n",
    "    filtered_words_withoutdigits = [word for word in filtered_words if not word.is_digit]\n",
    "    filtered_words_withoutpunc = [word for word in filtered_words_withoutdigits if word.pos_ != 'PUNCT']\n",
    "    filtered_lemmas = [word.lemma_ for word in filtered_words_withoutpunc]\n",
    "    lemmatized_content = \" \".join(item for item in filtered_lemmas)\n",
    "    return lemmatized_content.lower()"
   ]
  },
  {
   "cell_type": "code",
   "execution_count": 15,
   "metadata": {},
   "outputs": [
    {
     "name": "stdout",
     "output_type": "stream",
     "text": [
      "56.25500535964966\n"
     ]
    }
   ],
   "source": [
    "start_time = time.time()\n",
    "common_vocabularly_lem = set()\n",
    "for document in documents:\n",
    "    content_of_document = readContentOfFile(FILE_PATH + document)\n",
    "    sentence = nlp(content_of_document)\n",
    "    filtered_words = [word for word in sentence if word.lower_ not in STOP_WORDS]\n",
    "    filtered_words_withoutdigits = [word for word in filtered_words if not word.is_digit]\n",
    "    filtered_words_withoutcurrency = [word for word in filtered_words_withoutdigits if not word.is_currency]\n",
    "    filtered_words_withoutverbs = [word for word in filtered_words_withoutcurrency if word.pos_ != 'VERB']\n",
    "    filtered_words_withoutnum = [word for word in filtered_words_withoutverbs if word.pos_ != 'NUM']\n",
    "    filtered_words_withoutsym = [word for word in filtered_words_withoutnum if word.pos_ != 'SYM']\n",
    "    filtered_words_withoutpunc = [word for word in filtered_words_withoutsym if word.pos_ != 'PUNCT']\n",
    "    filtered_lemmas = [word.lemma_ for word in filtered_words_withoutpunc]\n",
    "    vocabularly = set()\n",
    "    for word in filtered_lemmas:\n",
    "        vocabularly.add(word.replace('\\n', '').strip().lower())\n",
    "    new_vocab = set()\n",
    "    for u in vocabularly:\n",
    "        if u != '':\n",
    "            new_vocab.add(u)\n",
    "\n",
    "#     lemmatized_content = \" \".join(item for item in filtered_lemmas)\n",
    "#     vectorizer = TfidfVectorizer(vocabulary=new_vocab)\n",
    "#     tfidf_matrix = vectorizer.fit_transform([lemmatized_content])\n",
    "#     feature_names = vectorizer.get_feature_names()\n",
    "#     corpus_index = [n for n in ['Values']]\n",
    "#     df = pd.DataFrame(tfidf_matrix.T.todense(), index=feature_names, columns=corpus_index)\n",
    "#     df = df.sort_values(by=['Values'], ascending=False)\n",
    "#     print (df.head(5).index.values.tolist())\n",
    "#     common_vocabularly_lem.update(df.head(1000).index.values.tolist())\n",
    "    common_vocabularly_lem.update(new_vocab)\n",
    "common_vocabularly_lem.remove('million')\n",
    "common_vocabularly_lem.remove('tausend')\n",
    "common_vocabularly_lem.remove('eur')\n",
    "common_vocabularly_lem.remove('teur')\n",
    "print (time.time() - start_time)"
   ]
  },
  {
   "cell_type": "code",
   "execution_count": 16,
   "metadata": {},
   "outputs": [
    {
     "data": {
      "text/plain": [
       "False"
      ]
     },
     "execution_count": 16,
     "metadata": {},
     "output_type": "execute_result"
    }
   ],
   "source": [
    "'teur' in common_vocabularly_lem"
   ]
  },
  {
   "cell_type": "code",
   "execution_count": 17,
   "metadata": {},
   "outputs": [],
   "source": [
    "#common_vocabularly_lem.remove(\"borussia\")\n",
    "#common_vocabularly_lem.remove(\"dortmund\")\n",
    "#common_vocabularly_lem.remove(\"bmw\")\n",
    "#common_vocabularly_lem.remove(\"group\")\n",
    "#common_vocabularly_lem.remove(\"zeiss\")\n",
    "#common_vocabularly_lem.remove(\"carl\")"
   ]
  },
  {
   "cell_type": "code",
   "execution_count": 18,
   "metadata": {},
   "outputs": [],
   "source": [
    "vectorizer = TfidfVectorizer(vocabulary=common_vocabularly_lem)"
   ]
  },
  {
   "cell_type": "code",
   "execution_count": 19,
   "metadata": {},
   "outputs": [],
   "source": [
    "tfidf_matrix = vectorizer.fit_transform(\n",
    "    [perform_lemmatization(FILE_PATH + 'BVB-AnnualReport-2011.json'), \n",
    "     perform_lemmatization(FILE_PATH + 'BVB-AnnualReport-2012.json'), \n",
    "     perform_lemmatization(FILE_PATH + 'BMW-AnnualReport-2012.json'),\n",
    "     perform_lemmatization(FILE_PATH + 'BMW-AnnualReport-2011.json'),\n",
    "     perform_lemmatization(FILE_PATH + 'CarlZeissMeditec-AnnualReport-2013.json'),\n",
    "     perform_lemmatization(FILE_PATH + 'CarlZeissMeditec-AnnualReport-2012.json'),\n",
    "     perform_lemmatization(FILE_PATH + 'BVB-AnnualReport-2013.json'), \n",
    "     perform_lemmatization(FILE_PATH + 'BMW-AnnualReport-2013.json'),])"
   ]
  },
  {
   "cell_type": "code",
   "execution_count": 20,
   "metadata": {},
   "outputs": [
    {
     "name": "stdout",
     "output_type": "stream",
     "text": [
      "55.26533889770508\n"
     ]
    }
   ],
   "source": [
    "start_time = time.time()\n",
    "lemm_docs_prep = [\n",
    "     perform_lemmatization(FILE_PATH + 'BVB-AnnualReport-2015.json'), \n",
    "     perform_lemmatization(FILE_PATH + 'BVB-AnnualReport-2016.json'), \n",
    "     perform_lemmatization(FILE_PATH + 'BVB-AnnualReport-2017.json'),\n",
    "     perform_lemmatization(FILE_PATH + 'BMW-AnnualReport-2015.json'),\n",
    "     perform_lemmatization(FILE_PATH + 'BMW-AnnualReport-2016.json'),\n",
    "     perform_lemmatization(FILE_PATH + 'BMW-AnnualReport-2017.json'),\n",
    "     perform_lemmatization(FILE_PATH + 'CarlZeissMeditec-AnnualReport-2015.json'),\n",
    "     perform_lemmatization(FILE_PATH + 'CarlZeissMeditec-AnnualReport-2016.json'),\n",
    "     perform_lemmatization(FILE_PATH + 'CarlZeissMeditec-AnnualReport-2017.json')]\n",
    "print (time.time() - start_time)"
   ]
  },
  {
   "cell_type": "code",
   "execution_count": 21,
   "metadata": {},
   "outputs": [
    {
     "name": "stdout",
     "output_type": "stream",
     "text": [
      "0.15626931190490723\n"
     ]
    }
   ],
   "source": [
    "vectorizer = TfidfVectorizer(vocabulary=common_vocabularly_lem)\n",
    "start_time = time.time()\n",
    "tfidf_matrix = vectorizer.fit_transform(lemm_docs_prep)\n",
    "print (time.time() - start_time)"
   ]
  },
  {
   "cell_type": "code",
   "execution_count": 22,
   "metadata": {},
   "outputs": [],
   "source": [
    "feature_names = vectorizer.get_feature_names()\n",
    "corpus_index = [n for n in [\n",
    "    'BVB-2015', 'BVB-2016', 'BVB-2017', \n",
    "    'BMW-2015', 'BMW-2016', 'BMW-2017',\n",
    "    'CZM-2015', 'CZM-2016', 'CZM-2017']]\n",
    "df = pd.DataFrame(tfidf_matrix.T.todense(), index=feature_names, columns=corpus_index)"
   ]
  },
  {
   "cell_type": "code",
   "execution_count": 23,
   "metadata": {},
   "outputs": [
    {
     "name": "stdout",
     "output_type": "stream",
     "text": [
      "18958\n"
     ]
    }
   ],
   "source": [
    "print(len(feature_names))"
   ]
  },
  {
   "cell_type": "code",
   "execution_count": 24,
   "metadata": {},
   "outputs": [
    {
     "data": {
      "text/html": [
       "<div>\n",
       "<style scoped>\n",
       "    .dataframe tbody tr th:only-of-type {\n",
       "        vertical-align: middle;\n",
       "    }\n",
       "\n",
       "    .dataframe tbody tr th {\n",
       "        vertical-align: top;\n",
       "    }\n",
       "\n",
       "    .dataframe thead th {\n",
       "        text-align: right;\n",
       "    }\n",
       "</style>\n",
       "<table border=\"1\" class=\"dataframe\">\n",
       "  <thead>\n",
       "    <tr style=\"text-align: right;\">\n",
       "      <th></th>\n",
       "      <th>BVB-2015</th>\n",
       "      <th>BVB-2016</th>\n",
       "      <th>BVB-2017</th>\n",
       "      <th>BMW-2015</th>\n",
       "      <th>BMW-2016</th>\n",
       "      <th>BMW-2017</th>\n",
       "      <th>CZM-2015</th>\n",
       "      <th>CZM-2016</th>\n",
       "      <th>CZM-2017</th>\n",
       "    </tr>\n",
       "  </thead>\n",
       "  <tbody>\n",
       "    <tr>\n",
       "      <th>dortmund</th>\n",
       "      <td>0.597689</td>\n",
       "      <td>0.619811</td>\n",
       "      <td>0.608634</td>\n",
       "      <td>0.000000</td>\n",
       "      <td>0.000000</td>\n",
       "      <td>0.000000</td>\n",
       "      <td>0.000000</td>\n",
       "      <td>0.000000</td>\n",
       "      <td>0.000000</td>\n",
       "    </tr>\n",
       "    <tr>\n",
       "      <th>borussia</th>\n",
       "      <td>0.546458</td>\n",
       "      <td>0.580249</td>\n",
       "      <td>0.557550</td>\n",
       "      <td>0.000000</td>\n",
       "      <td>0.000000</td>\n",
       "      <td>0.000000</td>\n",
       "      <td>0.000000</td>\n",
       "      <td>0.000000</td>\n",
       "      <td>0.000000</td>\n",
       "    </tr>\n",
       "    <tr>\n",
       "      <th>gmbh</th>\n",
       "      <td>0.148820</td>\n",
       "      <td>0.141459</td>\n",
       "      <td>0.140906</td>\n",
       "      <td>0.010211</td>\n",
       "      <td>0.008022</td>\n",
       "      <td>0.008022</td>\n",
       "      <td>0.015530</td>\n",
       "      <td>0.013187</td>\n",
       "      <td>0.010345</td>\n",
       "    </tr>\n",
       "    <tr>\n",
       "      <th>risiko</th>\n",
       "      <td>0.103372</td>\n",
       "      <td>0.112402</td>\n",
       "      <td>0.109678</td>\n",
       "      <td>0.069048</td>\n",
       "      <td>0.073268</td>\n",
       "      <td>0.073268</td>\n",
       "      <td>0.064861</td>\n",
       "      <td>0.056045</td>\n",
       "      <td>0.058375</td>\n",
       "    </tr>\n",
       "    <tr>\n",
       "      <th>bvb</th>\n",
       "      <td>0.075138</td>\n",
       "      <td>0.089382</td>\n",
       "      <td>0.089033</td>\n",
       "      <td>0.000000</td>\n",
       "      <td>0.000000</td>\n",
       "      <td>0.000000</td>\n",
       "      <td>0.000000</td>\n",
       "      <td>0.000000</td>\n",
       "      <td>0.000000</td>\n",
       "    </tr>\n",
       "    <tr>\n",
       "      <th>uefa</th>\n",
       "      <td>0.092215</td>\n",
       "      <td>0.086451</td>\n",
       "      <td>0.068599</td>\n",
       "      <td>0.000000</td>\n",
       "      <td>0.000000</td>\n",
       "      <td>0.000000</td>\n",
       "      <td>0.000000</td>\n",
       "      <td>0.000000</td>\n",
       "      <td>0.000000</td>\n",
       "    </tr>\n",
       "    <tr>\n",
       "      <th>sportlich</th>\n",
       "      <td>0.098284</td>\n",
       "      <td>0.084332</td>\n",
       "      <td>0.085154</td>\n",
       "      <td>0.000000</td>\n",
       "      <td>0.000808</td>\n",
       "      <td>0.000808</td>\n",
       "      <td>0.000000</td>\n",
       "      <td>0.000000</td>\n",
       "      <td>0.000000</td>\n",
       "    </tr>\n",
       "    <tr>\n",
       "      <th>vorjahr</th>\n",
       "      <td>0.100699</td>\n",
       "      <td>0.084110</td>\n",
       "      <td>0.092922</td>\n",
       "      <td>0.040359</td>\n",
       "      <td>0.054015</td>\n",
       "      <td>0.054015</td>\n",
       "      <td>0.079477</td>\n",
       "      <td>0.075826</td>\n",
       "      <td>0.104188</td>\n",
       "    </tr>\n",
       "    <tr>\n",
       "      <th>kgaa</th>\n",
       "      <td>0.083474</td>\n",
       "      <td>0.080867</td>\n",
       "      <td>0.065592</td>\n",
       "      <td>0.000000</td>\n",
       "      <td>0.000808</td>\n",
       "      <td>0.000808</td>\n",
       "      <td>0.000000</td>\n",
       "      <td>0.000000</td>\n",
       "      <td>0.000000</td>\n",
       "    </tr>\n",
       "    <tr>\n",
       "      <th>league</th>\n",
       "      <td>0.080261</td>\n",
       "      <td>0.080590</td>\n",
       "      <td>0.061301</td>\n",
       "      <td>0.000000</td>\n",
       "      <td>0.000000</td>\n",
       "      <td>0.000000</td>\n",
       "      <td>0.000000</td>\n",
       "      <td>0.000000</td>\n",
       "      <td>0.000000</td>\n",
       "    </tr>\n",
       "  </tbody>\n",
       "</table>\n",
       "</div>"
      ],
      "text/plain": [
       "           BVB-2015  BVB-2016  BVB-2017  BMW-2015  BMW-2016  BMW-2017  \\\n",
       "dortmund   0.597689  0.619811  0.608634  0.000000  0.000000  0.000000   \n",
       "borussia   0.546458  0.580249  0.557550  0.000000  0.000000  0.000000   \n",
       "gmbh       0.148820  0.141459  0.140906  0.010211  0.008022  0.008022   \n",
       "risiko     0.103372  0.112402  0.109678  0.069048  0.073268  0.073268   \n",
       "bvb        0.075138  0.089382  0.089033  0.000000  0.000000  0.000000   \n",
       "uefa       0.092215  0.086451  0.068599  0.000000  0.000000  0.000000   \n",
       "sportlich  0.098284  0.084332  0.085154  0.000000  0.000808  0.000808   \n",
       "vorjahr    0.100699  0.084110  0.092922  0.040359  0.054015  0.054015   \n",
       "kgaa       0.083474  0.080867  0.065592  0.000000  0.000808  0.000808   \n",
       "league     0.080261  0.080590  0.061301  0.000000  0.000000  0.000000   \n",
       "\n",
       "           CZM-2015  CZM-2016  CZM-2017  \n",
       "dortmund   0.000000  0.000000  0.000000  \n",
       "borussia   0.000000  0.000000  0.000000  \n",
       "gmbh       0.015530  0.013187  0.010345  \n",
       "risiko     0.064861  0.056045  0.058375  \n",
       "bvb        0.000000  0.000000  0.000000  \n",
       "uefa       0.000000  0.000000  0.000000  \n",
       "sportlich  0.000000  0.000000  0.000000  \n",
       "vorjahr    0.079477  0.075826  0.104188  \n",
       "kgaa       0.000000  0.000000  0.000000  \n",
       "league     0.000000  0.000000  0.000000  "
      ]
     },
     "execution_count": 24,
     "metadata": {},
     "output_type": "execute_result"
    }
   ],
   "source": [
    "df = df.sort_values(by=['BVB-2016'], ascending=False)\n",
    "df.head(10)"
   ]
  },
  {
   "cell_type": "code",
   "execution_count": 25,
   "metadata": {},
   "outputs": [
    {
     "data": {
      "text/html": [
       "<div>\n",
       "<style scoped>\n",
       "    .dataframe tbody tr th:only-of-type {\n",
       "        vertical-align: middle;\n",
       "    }\n",
       "\n",
       "    .dataframe tbody tr th {\n",
       "        vertical-align: top;\n",
       "    }\n",
       "\n",
       "    .dataframe thead th {\n",
       "        text-align: right;\n",
       "    }\n",
       "</style>\n",
       "<table border=\"1\" class=\"dataframe\">\n",
       "  <thead>\n",
       "    <tr style=\"text-align: right;\">\n",
       "      <th></th>\n",
       "      <th>BVB-2015</th>\n",
       "      <th>BVB-2016</th>\n",
       "      <th>BVB-2017</th>\n",
       "      <th>BMW-2015</th>\n",
       "      <th>BMW-2016</th>\n",
       "      <th>BMW-2017</th>\n",
       "      <th>CZM-2015</th>\n",
       "      <th>CZM-2016</th>\n",
       "      <th>CZM-2017</th>\n",
       "    </tr>\n",
       "  </thead>\n",
       "  <tbody>\n",
       "    <tr>\n",
       "      <th>bmw</th>\n",
       "      <td>0.000000</td>\n",
       "      <td>0.000000</td>\n",
       "      <td>0.000000</td>\n",
       "      <td>0.852596</td>\n",
       "      <td>0.845486</td>\n",
       "      <td>0.845486</td>\n",
       "      <td>0.000000</td>\n",
       "      <td>0.000000</td>\n",
       "      <td>0.000000</td>\n",
       "    </tr>\n",
       "    <tr>\n",
       "      <th>group</th>\n",
       "      <td>0.000000</td>\n",
       "      <td>0.000845</td>\n",
       "      <td>0.000842</td>\n",
       "      <td>0.269279</td>\n",
       "      <td>0.277248</td>\n",
       "      <td>0.277248</td>\n",
       "      <td>0.002020</td>\n",
       "      <td>0.003644</td>\n",
       "      <td>0.001634</td>\n",
       "    </tr>\n",
       "    <tr>\n",
       "      <th>fahrzeug</th>\n",
       "      <td>0.000000</td>\n",
       "      <td>0.000000</td>\n",
       "      <td>0.000000</td>\n",
       "      <td>0.095975</td>\n",
       "      <td>0.112731</td>\n",
       "      <td>0.112731</td>\n",
       "      <td>0.000000</td>\n",
       "      <td>0.000000</td>\n",
       "      <td>0.000000</td>\n",
       "    </tr>\n",
       "    <tr>\n",
       "      <th>unternehmen</th>\n",
       "      <td>0.050795</td>\n",
       "      <td>0.055054</td>\n",
       "      <td>0.060932</td>\n",
       "      <td>0.077314</td>\n",
       "      <td>0.083429</td>\n",
       "      <td>0.083429</td>\n",
       "      <td>0.104142</td>\n",
       "      <td>0.116211</td>\n",
       "      <td>0.104927</td>\n",
       "    </tr>\n",
       "    <tr>\n",
       "      <th>automobile</th>\n",
       "      <td>0.000000</td>\n",
       "      <td>0.000000</td>\n",
       "      <td>0.006448</td>\n",
       "      <td>0.063394</td>\n",
       "      <td>0.080589</td>\n",
       "      <td>0.080589</td>\n",
       "      <td>0.000000</td>\n",
       "      <td>0.000000</td>\n",
       "      <td>0.000000</td>\n",
       "    </tr>\n",
       "    <tr>\n",
       "      <th>risiko</th>\n",
       "      <td>0.103372</td>\n",
       "      <td>0.112402</td>\n",
       "      <td>0.109678</td>\n",
       "      <td>0.069048</td>\n",
       "      <td>0.073268</td>\n",
       "      <td>0.073268</td>\n",
       "      <td>0.064861</td>\n",
       "      <td>0.056045</td>\n",
       "      <td>0.058375</td>\n",
       "    </tr>\n",
       "    <tr>\n",
       "      <th>segment</th>\n",
       "      <td>0.006238</td>\n",
       "      <td>0.003823</td>\n",
       "      <td>0.004570</td>\n",
       "      <td>0.067103</td>\n",
       "      <td>0.073268</td>\n",
       "      <td>0.073268</td>\n",
       "      <td>0.010049</td>\n",
       "      <td>0.008242</td>\n",
       "      <td>0.008867</td>\n",
       "    </tr>\n",
       "    <tr>\n",
       "      <th>motorrad</th>\n",
       "      <td>0.000000</td>\n",
       "      <td>0.000000</td>\n",
       "      <td>0.000000</td>\n",
       "      <td>0.053113</td>\n",
       "      <td>0.064564</td>\n",
       "      <td>0.064564</td>\n",
       "      <td>0.000000</td>\n",
       "      <td>0.000000</td>\n",
       "      <td>0.000000</td>\n",
       "    </tr>\n",
       "    <tr>\n",
       "      <th>mitglied</th>\n",
       "      <td>0.018714</td>\n",
       "      <td>0.016822</td>\n",
       "      <td>0.018280</td>\n",
       "      <td>0.058350</td>\n",
       "      <td>0.063641</td>\n",
       "      <td>0.063641</td>\n",
       "      <td>0.024665</td>\n",
       "      <td>0.018132</td>\n",
       "      <td>0.014040</td>\n",
       "    </tr>\n",
       "    <tr>\n",
       "      <th>höhe</th>\n",
       "      <td>0.082876</td>\n",
       "      <td>0.069582</td>\n",
       "      <td>0.085305</td>\n",
       "      <td>0.072451</td>\n",
       "      <td>0.063106</td>\n",
       "      <td>0.063106</td>\n",
       "      <td>0.060293</td>\n",
       "      <td>0.058518</td>\n",
       "      <td>0.059114</td>\n",
       "    </tr>\n",
       "  </tbody>\n",
       "</table>\n",
       "</div>"
      ],
      "text/plain": [
       "             BVB-2015  BVB-2016  BVB-2017  BMW-2015  BMW-2016  BMW-2017  \\\n",
       "bmw          0.000000  0.000000  0.000000  0.852596  0.845486  0.845486   \n",
       "group        0.000000  0.000845  0.000842  0.269279  0.277248  0.277248   \n",
       "fahrzeug     0.000000  0.000000  0.000000  0.095975  0.112731  0.112731   \n",
       "unternehmen  0.050795  0.055054  0.060932  0.077314  0.083429  0.083429   \n",
       "automobile   0.000000  0.000000  0.006448  0.063394  0.080589  0.080589   \n",
       "risiko       0.103372  0.112402  0.109678  0.069048  0.073268  0.073268   \n",
       "segment      0.006238  0.003823  0.004570  0.067103  0.073268  0.073268   \n",
       "motorrad     0.000000  0.000000  0.000000  0.053113  0.064564  0.064564   \n",
       "mitglied     0.018714  0.016822  0.018280  0.058350  0.063641  0.063641   \n",
       "höhe         0.082876  0.069582  0.085305  0.072451  0.063106  0.063106   \n",
       "\n",
       "             CZM-2015  CZM-2016  CZM-2017  \n",
       "bmw          0.000000  0.000000  0.000000  \n",
       "group        0.002020  0.003644  0.001634  \n",
       "fahrzeug     0.000000  0.000000  0.000000  \n",
       "unternehmen  0.104142  0.116211  0.104927  \n",
       "automobile   0.000000  0.000000  0.000000  \n",
       "risiko       0.064861  0.056045  0.058375  \n",
       "segment      0.010049  0.008242  0.008867  \n",
       "motorrad     0.000000  0.000000  0.000000  \n",
       "mitglied     0.024665  0.018132  0.014040  \n",
       "höhe         0.060293  0.058518  0.059114  "
      ]
     },
     "execution_count": 25,
     "metadata": {},
     "output_type": "execute_result"
    }
   ],
   "source": [
    "df = df.sort_values(by=['BMW-2016'], ascending=False)\n",
    "df.head(10)"
   ]
  },
  {
   "cell_type": "code",
   "execution_count": 26,
   "metadata": {},
   "outputs": [
    {
     "data": {
      "text/html": [
       "<div>\n",
       "<style scoped>\n",
       "    .dataframe tbody tr th:only-of-type {\n",
       "        vertical-align: middle;\n",
       "    }\n",
       "\n",
       "    .dataframe tbody tr th {\n",
       "        vertical-align: top;\n",
       "    }\n",
       "\n",
       "    .dataframe thead th {\n",
       "        text-align: right;\n",
       "    }\n",
       "</style>\n",
       "<table border=\"1\" class=\"dataframe\">\n",
       "  <thead>\n",
       "    <tr style=\"text-align: right;\">\n",
       "      <th></th>\n",
       "      <th>BVB-2015</th>\n",
       "      <th>BVB-2016</th>\n",
       "      <th>BVB-2017</th>\n",
       "      <th>BMW-2015</th>\n",
       "      <th>BMW-2016</th>\n",
       "      <th>BMW-2017</th>\n",
       "      <th>CZM-2015</th>\n",
       "      <th>CZM-2016</th>\n",
       "      <th>CZM-2017</th>\n",
       "    </tr>\n",
       "  </thead>\n",
       "  <tbody>\n",
       "    <tr>\n",
       "      <th>zeiss</th>\n",
       "      <td>0.000000</td>\n",
       "      <td>0.000000</td>\n",
       "      <td>0.000000</td>\n",
       "      <td>0.000000</td>\n",
       "      <td>0.000000</td>\n",
       "      <td>0.000000</td>\n",
       "      <td>0.563689</td>\n",
       "      <td>0.582796</td>\n",
       "      <td>0.577723</td>\n",
       "    </tr>\n",
       "    <tr>\n",
       "      <th>carl</th>\n",
       "      <td>0.000000</td>\n",
       "      <td>0.000000</td>\n",
       "      <td>0.000000</td>\n",
       "      <td>0.000000</td>\n",
       "      <td>0.000000</td>\n",
       "      <td>0.000000</td>\n",
       "      <td>0.483162</td>\n",
       "      <td>0.473818</td>\n",
       "      <td>0.488516</td>\n",
       "    </tr>\n",
       "    <tr>\n",
       "      <th>meditec</th>\n",
       "      <td>0.000000</td>\n",
       "      <td>0.000000</td>\n",
       "      <td>0.000000</td>\n",
       "      <td>0.000000</td>\n",
       "      <td>0.000000</td>\n",
       "      <td>0.000000</td>\n",
       "      <td>0.411388</td>\n",
       "      <td>0.423277</td>\n",
       "      <td>0.406389</td>\n",
       "    </tr>\n",
       "    <tr>\n",
       "      <th>konzern</th>\n",
       "      <td>0.042775</td>\n",
       "      <td>0.040526</td>\n",
       "      <td>0.044176</td>\n",
       "      <td>0.030634</td>\n",
       "      <td>0.029949</td>\n",
       "      <td>0.029949</td>\n",
       "      <td>0.199149</td>\n",
       "      <td>0.197806</td>\n",
       "      <td>0.236455</td>\n",
       "    </tr>\n",
       "    <tr>\n",
       "      <th>unternehmen</th>\n",
       "      <td>0.050795</td>\n",
       "      <td>0.055054</td>\n",
       "      <td>0.060932</td>\n",
       "      <td>0.077314</td>\n",
       "      <td>0.083429</td>\n",
       "      <td>0.083429</td>\n",
       "      <td>0.104142</td>\n",
       "      <td>0.116211</td>\n",
       "      <td>0.104927</td>\n",
       "    </tr>\n",
       "    <tr>\n",
       "      <th>vj</th>\n",
       "      <td>0.000000</td>\n",
       "      <td>0.000000</td>\n",
       "      <td>0.000000</td>\n",
       "      <td>0.000000</td>\n",
       "      <td>0.000000</td>\n",
       "      <td>0.000000</td>\n",
       "      <td>0.110737</td>\n",
       "      <td>0.098091</td>\n",
       "      <td>0.000000</td>\n",
       "    </tr>\n",
       "    <tr>\n",
       "      <th>geschäftsjahr</th>\n",
       "      <td>0.065944</td>\n",
       "      <td>0.066524</td>\n",
       "      <td>0.073881</td>\n",
       "      <td>0.047166</td>\n",
       "      <td>0.048667</td>\n",
       "      <td>0.048667</td>\n",
       "      <td>0.098661</td>\n",
       "      <td>0.089013</td>\n",
       "      <td>0.093104</td>\n",
       "    </tr>\n",
       "    <tr>\n",
       "      <th>vorjahr</th>\n",
       "      <td>0.100699</td>\n",
       "      <td>0.084110</td>\n",
       "      <td>0.092922</td>\n",
       "      <td>0.040359</td>\n",
       "      <td>0.054015</td>\n",
       "      <td>0.054015</td>\n",
       "      <td>0.079477</td>\n",
       "      <td>0.075826</td>\n",
       "      <td>0.104188</td>\n",
       "    </tr>\n",
       "    <tr>\n",
       "      <th>gruppe</th>\n",
       "      <td>0.012476</td>\n",
       "      <td>0.016822</td>\n",
       "      <td>0.019041</td>\n",
       "      <td>0.005835</td>\n",
       "      <td>0.005348</td>\n",
       "      <td>0.005348</td>\n",
       "      <td>0.055725</td>\n",
       "      <td>0.066760</td>\n",
       "      <td>0.022168</td>\n",
       "    </tr>\n",
       "    <tr>\n",
       "      <th>erfolgen</th>\n",
       "      <td>0.070400</td>\n",
       "      <td>0.062701</td>\n",
       "      <td>0.070072</td>\n",
       "      <td>0.033551</td>\n",
       "      <td>0.041714</td>\n",
       "      <td>0.041714</td>\n",
       "      <td>0.059379</td>\n",
       "      <td>0.064287</td>\n",
       "      <td>0.050247</td>\n",
       "    </tr>\n",
       "  </tbody>\n",
       "</table>\n",
       "</div>"
      ],
      "text/plain": [
       "               BVB-2015  BVB-2016  BVB-2017  BMW-2015  BMW-2016  BMW-2017  \\\n",
       "zeiss          0.000000  0.000000  0.000000  0.000000  0.000000  0.000000   \n",
       "carl           0.000000  0.000000  0.000000  0.000000  0.000000  0.000000   \n",
       "meditec        0.000000  0.000000  0.000000  0.000000  0.000000  0.000000   \n",
       "konzern        0.042775  0.040526  0.044176  0.030634  0.029949  0.029949   \n",
       "unternehmen    0.050795  0.055054  0.060932  0.077314  0.083429  0.083429   \n",
       "vj             0.000000  0.000000  0.000000  0.000000  0.000000  0.000000   \n",
       "geschäftsjahr  0.065944  0.066524  0.073881  0.047166  0.048667  0.048667   \n",
       "vorjahr        0.100699  0.084110  0.092922  0.040359  0.054015  0.054015   \n",
       "gruppe         0.012476  0.016822  0.019041  0.005835  0.005348  0.005348   \n",
       "erfolgen       0.070400  0.062701  0.070072  0.033551  0.041714  0.041714   \n",
       "\n",
       "               CZM-2015  CZM-2016  CZM-2017  \n",
       "zeiss          0.563689  0.582796  0.577723  \n",
       "carl           0.483162  0.473818  0.488516  \n",
       "meditec        0.411388  0.423277  0.406389  \n",
       "konzern        0.199149  0.197806  0.236455  \n",
       "unternehmen    0.104142  0.116211  0.104927  \n",
       "vj             0.110737  0.098091  0.000000  \n",
       "geschäftsjahr  0.098661  0.089013  0.093104  \n",
       "vorjahr        0.079477  0.075826  0.104188  \n",
       "gruppe         0.055725  0.066760  0.022168  \n",
       "erfolgen       0.059379  0.064287  0.050247  "
      ]
     },
     "execution_count": 26,
     "metadata": {},
     "output_type": "execute_result"
    }
   ],
   "source": [
    "df = df.sort_values(by=['CZM-2016'], ascending=False)\n",
    "df.head(10)"
   ]
  },
  {
   "cell_type": "code",
   "execution_count": 27,
   "metadata": {},
   "outputs": [
    {
     "data": {
      "text/plain": [
       "array([2, 2, 2, 1, 1, 1, 0, 0, 0], dtype=int32)"
      ]
     },
     "execution_count": 27,
     "metadata": {},
     "output_type": "execute_result"
    }
   ],
   "source": [
    "km = KMeans(n_clusters=3, init='k-means++')\n",
    "km.fit(tfidf_matrix)\n",
    "km.labels_"
   ]
  },
  {
   "cell_type": "markdown",
   "metadata": {},
   "source": [
    "# Picking topic of a paragraph"
   ]
  },
  {
   "cell_type": "code",
   "execution_count": 28,
   "metadata": {},
   "outputs": [],
   "source": [
    "def readContentOfParagraphs(file_name):\n",
    "    contents = []\n",
    "    try:\n",
    "        with open(file_name) as f:\n",
    "            data = json.load(f)\n",
    "            for item in data:\n",
    "                typeDoc = item[TYPE]\n",
    "                if typeDoc == PARAGRAPH:\n",
    "                    contents.append(item[CONTENT])\n",
    "    except:\n",
    "        FileUtils.fix_json(file_name)\n",
    "        with open(file_name) as f:\n",
    "            data = json.load(f)\n",
    "            for item in data:\n",
    "                typeDoc = item[TYPE]\n",
    "                if typeDoc == PARAGRAPH:\n",
    "                    contents.append(item[CONTENT])\n",
    "    return contents"
   ]
  },
  {
   "cell_type": "code",
   "execution_count": 29,
   "metadata": {},
   "outputs": [],
   "source": [
    "def lemmatize_paragraphs(paragraphs):\n",
    "    lemmatized_paragraphs = []\n",
    "    for paragraph in paragraphs:\n",
    "        nlp = spacy.load(\"de\")\n",
    "        sentence = nlp(paragraph)\n",
    "        filtered_words = [word for word in sentence if word.lower_ not in STOP_WORDS]\n",
    "        filtered_words_withoutdigits = [word for word in filtered_words if not word.is_digit]\n",
    "        filtered_words_withoutpunc = [word for word in filtered_words_withoutdigits if word.pos_ != 'PUNCT']\n",
    "        filtered_lemmas = [word.lemma_ for word in filtered_words_withoutpunc]\n",
    "        lemmatized_content = \" \".join(item for item in filtered_lemmas)\n",
    "        lemmatized_paragraphs.append(lemmatized_content)\n",
    "    return lemmatized_paragraphs"
   ]
  },
  {
   "cell_type": "code",
   "execution_count": 30,
   "metadata": {},
   "outputs": [],
   "source": [
    "lem_pars = lemmatize_paragraphs(readContentOfParagraphs(FILE_PATH + 'BVB-AnnualReport-2017.json'))"
   ]
  },
  {
   "cell_type": "code",
   "execution_count": 31,
   "metadata": {},
   "outputs": [],
   "source": [
    "vectorizer_par = TfidfVectorizer(vocabulary=common_vocabularly_lem)\n",
    "\n",
    "tfidf_matrix_par = vectorizer_par.fit_transform(lem_pars)"
   ]
  },
  {
   "cell_type": "code",
   "execution_count": 32,
   "metadata": {},
   "outputs": [],
   "source": [
    "feature_names = vectorizer_par.get_feature_names()\n",
    "corpus_index = ['P' + str(n) for n in range(len(lem_pars))]\n",
    "df_par = pd.DataFrame(tfidf_matrix_par.T.todense(), index=feature_names, columns=corpus_index)"
   ]
  },
  {
   "cell_type": "code",
   "execution_count": 33,
   "metadata": {},
   "outputs": [
    {
     "name": "stdout",
     "output_type": "stream",
     "text": [
      "P161 0.25028474875555506\n",
      "P167 0.1743876932987562\n",
      "P313 0.4535727830160994\n",
      "P449 0.1751518886322904\n",
      "P450 0.24473899536512775\n"
     ]
    }
   ],
   "source": [
    "row = df_par.loc[['prämie']]\n",
    "for i in row:\n",
    "    if(row[i].prämie != 0):\n",
    "        print ((str(i) + \" \" + str(row[i].prämie)))"
   ]
  },
  {
   "cell_type": "code",
   "execution_count": 34,
   "metadata": {},
   "outputs": [
    {
     "data": {
      "text/html": [
       "<div>\n",
       "<style scoped>\n",
       "    .dataframe tbody tr th:only-of-type {\n",
       "        vertical-align: middle;\n",
       "    }\n",
       "\n",
       "    .dataframe tbody tr th {\n",
       "        vertical-align: top;\n",
       "    }\n",
       "\n",
       "    .dataframe thead th {\n",
       "        text-align: right;\n",
       "    }\n",
       "</style>\n",
       "<table border=\"1\" class=\"dataframe\">\n",
       "  <thead>\n",
       "    <tr style=\"text-align: right;\">\n",
       "      <th></th>\n",
       "      <th>Values</th>\n",
       "    </tr>\n",
       "  </thead>\n",
       "  <tbody>\n",
       "    <tr>\n",
       "      <th>lizenzabteilung</th>\n",
       "      <td>0.467688</td>\n",
       "    </tr>\n",
       "    <tr>\n",
       "      <th>prämie</th>\n",
       "      <td>0.453573</td>\n",
       "    </tr>\n",
       "    <tr>\n",
       "      <th>zahlen</th>\n",
       "      <td>0.431300</td>\n",
       "    </tr>\n",
       "    <tr>\n",
       "      <th>sportliche</th>\n",
       "      <td>0.387974</td>\n",
       "    </tr>\n",
       "    <tr>\n",
       "      <th>erfolgen</th>\n",
       "      <td>0.249254</td>\n",
       "    </tr>\n",
       "    <tr>\n",
       "      <th>höhe</th>\n",
       "      <td>0.245653</td>\n",
       "    </tr>\n",
       "    <tr>\n",
       "      <th>geschäftsjahr</th>\n",
       "      <td>0.241374</td>\n",
       "    </tr>\n",
       "  </tbody>\n",
       "</table>\n",
       "</div>"
      ],
      "text/plain": [
       "                   Values\n",
       "lizenzabteilung  0.467688\n",
       "prämie           0.453573\n",
       "zahlen           0.431300\n",
       "sportliche       0.387974\n",
       "erfolgen         0.249254\n",
       "höhe             0.245653\n",
       "geschäftsjahr    0.241374"
      ]
     },
     "execution_count": 34,
     "metadata": {},
     "output_type": "execute_result"
    }
   ],
   "source": [
    "df_copy = pd.DataFrame()\n",
    "df_copy[\"Values\"] = df_par[\"P313\"]\n",
    "df_copy = df_copy.sort_values(by=['Values'], ascending=False)\n",
    "df_copy.head(7)"
   ]
  },
  {
   "cell_type": "code",
   "execution_count": 35,
   "metadata": {},
   "outputs": [
    {
     "data": {
      "text/plain": [
       "<Figure size 640x480 with 1 Axes>"
      ]
     },
     "metadata": {},
     "output_type": "display_data"
    }
   ],
   "source": [
    "import matplotlib.pyplot as plt\n",
    "import matplotlib.patches as mpatches\n",
    "plt.plot([row[i].prämie for i in row])\n",
    "red_patch = mpatches.Patch(label='\\\"Prämie\\\" for paragraphs')\n",
    "plt.legend(handles=[red_patch])\n",
    "plt.ylabel('TF-IDF values')\n",
    "plt.show()"
   ]
  },
  {
   "cell_type": "code",
   "execution_count": 36,
   "metadata": {},
   "outputs": [
    {
     "data": {
      "text/html": [
       "<div>\n",
       "<style scoped>\n",
       "    .dataframe tbody tr th:only-of-type {\n",
       "        vertical-align: middle;\n",
       "    }\n",
       "\n",
       "    .dataframe tbody tr th {\n",
       "        vertical-align: top;\n",
       "    }\n",
       "\n",
       "    .dataframe thead th {\n",
       "        text-align: right;\n",
       "    }\n",
       "</style>\n",
       "<table border=\"1\" class=\"dataframe\">\n",
       "  <thead>\n",
       "    <tr style=\"text-align: right;\">\n",
       "      <th></th>\n",
       "      <th>P0</th>\n",
       "      <th>P1</th>\n",
       "      <th>P2</th>\n",
       "      <th>P3</th>\n",
       "      <th>P4</th>\n",
       "      <th>P5</th>\n",
       "      <th>P6</th>\n",
       "      <th>P7</th>\n",
       "      <th>P8</th>\n",
       "      <th>P9</th>\n",
       "      <th>...</th>\n",
       "      <th>P762</th>\n",
       "      <th>P763</th>\n",
       "      <th>P764</th>\n",
       "      <th>P765</th>\n",
       "      <th>P766</th>\n",
       "      <th>P767</th>\n",
       "      <th>P768</th>\n",
       "      <th>P769</th>\n",
       "      <th>P770</th>\n",
       "      <th>P771</th>\n",
       "    </tr>\n",
       "  </thead>\n",
       "  <tbody>\n",
       "    <tr>\n",
       "      <th>lizenzabteilung</th>\n",
       "      <td>0.000000</td>\n",
       "      <td>0.0</td>\n",
       "      <td>0.000000</td>\n",
       "      <td>0.000000</td>\n",
       "      <td>0.0</td>\n",
       "      <td>0.0</td>\n",
       "      <td>0.0</td>\n",
       "      <td>0.000000</td>\n",
       "      <td>0.000000</td>\n",
       "      <td>0.000000</td>\n",
       "      <td>...</td>\n",
       "      <td>0.0</td>\n",
       "      <td>0.0</td>\n",
       "      <td>0.0</td>\n",
       "      <td>0.0</td>\n",
       "      <td>0.0</td>\n",
       "      <td>0.0</td>\n",
       "      <td>0.0</td>\n",
       "      <td>0.0</td>\n",
       "      <td>0.0</td>\n",
       "      <td>0.0</td>\n",
       "    </tr>\n",
       "    <tr>\n",
       "      <th>prämie</th>\n",
       "      <td>0.000000</td>\n",
       "      <td>0.0</td>\n",
       "      <td>0.000000</td>\n",
       "      <td>0.000000</td>\n",
       "      <td>0.0</td>\n",
       "      <td>0.0</td>\n",
       "      <td>0.0</td>\n",
       "      <td>0.000000</td>\n",
       "      <td>0.000000</td>\n",
       "      <td>0.000000</td>\n",
       "      <td>...</td>\n",
       "      <td>0.0</td>\n",
       "      <td>0.0</td>\n",
       "      <td>0.0</td>\n",
       "      <td>0.0</td>\n",
       "      <td>0.0</td>\n",
       "      <td>0.0</td>\n",
       "      <td>0.0</td>\n",
       "      <td>0.0</td>\n",
       "      <td>0.0</td>\n",
       "      <td>0.0</td>\n",
       "    </tr>\n",
       "    <tr>\n",
       "      <th>zahlen</th>\n",
       "      <td>0.000000</td>\n",
       "      <td>0.0</td>\n",
       "      <td>0.000000</td>\n",
       "      <td>0.000000</td>\n",
       "      <td>0.0</td>\n",
       "      <td>0.0</td>\n",
       "      <td>0.0</td>\n",
       "      <td>0.000000</td>\n",
       "      <td>0.000000</td>\n",
       "      <td>0.000000</td>\n",
       "      <td>...</td>\n",
       "      <td>0.0</td>\n",
       "      <td>0.0</td>\n",
       "      <td>0.0</td>\n",
       "      <td>0.0</td>\n",
       "      <td>0.0</td>\n",
       "      <td>0.0</td>\n",
       "      <td>0.0</td>\n",
       "      <td>0.0</td>\n",
       "      <td>0.0</td>\n",
       "      <td>0.0</td>\n",
       "    </tr>\n",
       "    <tr>\n",
       "      <th>sportliche</th>\n",
       "      <td>0.000000</td>\n",
       "      <td>0.0</td>\n",
       "      <td>0.000000</td>\n",
       "      <td>0.000000</td>\n",
       "      <td>0.0</td>\n",
       "      <td>0.0</td>\n",
       "      <td>0.0</td>\n",
       "      <td>0.000000</td>\n",
       "      <td>0.000000</td>\n",
       "      <td>0.000000</td>\n",
       "      <td>...</td>\n",
       "      <td>0.0</td>\n",
       "      <td>0.0</td>\n",
       "      <td>0.0</td>\n",
       "      <td>0.0</td>\n",
       "      <td>0.0</td>\n",
       "      <td>0.0</td>\n",
       "      <td>0.0</td>\n",
       "      <td>0.0</td>\n",
       "      <td>0.0</td>\n",
       "      <td>0.0</td>\n",
       "    </tr>\n",
       "    <tr>\n",
       "      <th>erfolgen</th>\n",
       "      <td>0.000000</td>\n",
       "      <td>0.0</td>\n",
       "      <td>0.000000</td>\n",
       "      <td>0.000000</td>\n",
       "      <td>0.0</td>\n",
       "      <td>0.0</td>\n",
       "      <td>0.0</td>\n",
       "      <td>0.000000</td>\n",
       "      <td>0.000000</td>\n",
       "      <td>0.000000</td>\n",
       "      <td>...</td>\n",
       "      <td>0.0</td>\n",
       "      <td>0.0</td>\n",
       "      <td>0.0</td>\n",
       "      <td>0.0</td>\n",
       "      <td>0.0</td>\n",
       "      <td>0.0</td>\n",
       "      <td>0.0</td>\n",
       "      <td>0.0</td>\n",
       "      <td>0.0</td>\n",
       "      <td>0.0</td>\n",
       "    </tr>\n",
       "    <tr>\n",
       "      <th>höhe</th>\n",
       "      <td>0.183343</td>\n",
       "      <td>0.0</td>\n",
       "      <td>0.000000</td>\n",
       "      <td>0.000000</td>\n",
       "      <td>0.0</td>\n",
       "      <td>0.0</td>\n",
       "      <td>0.0</td>\n",
       "      <td>0.000000</td>\n",
       "      <td>0.254540</td>\n",
       "      <td>0.000000</td>\n",
       "      <td>...</td>\n",
       "      <td>0.0</td>\n",
       "      <td>0.0</td>\n",
       "      <td>0.0</td>\n",
       "      <td>0.0</td>\n",
       "      <td>0.0</td>\n",
       "      <td>0.0</td>\n",
       "      <td>0.0</td>\n",
       "      <td>0.0</td>\n",
       "      <td>0.0</td>\n",
       "      <td>0.0</td>\n",
       "    </tr>\n",
       "    <tr>\n",
       "      <th>geschäftsjahr</th>\n",
       "      <td>0.000000</td>\n",
       "      <td>0.0</td>\n",
       "      <td>0.092926</td>\n",
       "      <td>0.145927</td>\n",
       "      <td>0.0</td>\n",
       "      <td>0.0</td>\n",
       "      <td>0.0</td>\n",
       "      <td>0.085742</td>\n",
       "      <td>0.083369</td>\n",
       "      <td>0.177828</td>\n",
       "      <td>...</td>\n",
       "      <td>0.0</td>\n",
       "      <td>0.0</td>\n",
       "      <td>0.0</td>\n",
       "      <td>0.0</td>\n",
       "      <td>0.0</td>\n",
       "      <td>0.0</td>\n",
       "      <td>0.0</td>\n",
       "      <td>0.0</td>\n",
       "      <td>0.0</td>\n",
       "      <td>0.0</td>\n",
       "    </tr>\n",
       "  </tbody>\n",
       "</table>\n",
       "<p>7 rows × 772 columns</p>\n",
       "</div>"
      ],
      "text/plain": [
       "                       P0   P1        P2        P3   P4   P5   P6        P7  \\\n",
       "lizenzabteilung  0.000000  0.0  0.000000  0.000000  0.0  0.0  0.0  0.000000   \n",
       "prämie           0.000000  0.0  0.000000  0.000000  0.0  0.0  0.0  0.000000   \n",
       "zahlen           0.000000  0.0  0.000000  0.000000  0.0  0.0  0.0  0.000000   \n",
       "sportliche       0.000000  0.0  0.000000  0.000000  0.0  0.0  0.0  0.000000   \n",
       "erfolgen         0.000000  0.0  0.000000  0.000000  0.0  0.0  0.0  0.000000   \n",
       "höhe             0.183343  0.0  0.000000  0.000000  0.0  0.0  0.0  0.000000   \n",
       "geschäftsjahr    0.000000  0.0  0.092926  0.145927  0.0  0.0  0.0  0.085742   \n",
       "\n",
       "                       P8        P9  ...   P762  P763  P764  P765  P766  P767  \\\n",
       "lizenzabteilung  0.000000  0.000000  ...    0.0   0.0   0.0   0.0   0.0   0.0   \n",
       "prämie           0.000000  0.000000  ...    0.0   0.0   0.0   0.0   0.0   0.0   \n",
       "zahlen           0.000000  0.000000  ...    0.0   0.0   0.0   0.0   0.0   0.0   \n",
       "sportliche       0.000000  0.000000  ...    0.0   0.0   0.0   0.0   0.0   0.0   \n",
       "erfolgen         0.000000  0.000000  ...    0.0   0.0   0.0   0.0   0.0   0.0   \n",
       "höhe             0.254540  0.000000  ...    0.0   0.0   0.0   0.0   0.0   0.0   \n",
       "geschäftsjahr    0.083369  0.177828  ...    0.0   0.0   0.0   0.0   0.0   0.0   \n",
       "\n",
       "                 P768  P769  P770  P771  \n",
       "lizenzabteilung   0.0   0.0   0.0   0.0  \n",
       "prämie            0.0   0.0   0.0   0.0  \n",
       "zahlen            0.0   0.0   0.0   0.0  \n",
       "sportliche        0.0   0.0   0.0   0.0  \n",
       "erfolgen          0.0   0.0   0.0   0.0  \n",
       "höhe              0.0   0.0   0.0   0.0  \n",
       "geschäftsjahr     0.0   0.0   0.0   0.0  \n",
       "\n",
       "[7 rows x 772 columns]"
      ]
     },
     "execution_count": 36,
     "metadata": {},
     "output_type": "execute_result"
    }
   ],
   "source": [
    "df_par = df_par.sort_values(by=['P313'], ascending=False)\n",
    "df_par.head(7)"
   ]
  },
  {
   "cell_type": "code",
   "execution_count": 37,
   "metadata": {},
   "outputs": [
    {
     "data": {
      "text/plain": [
       "'Die Erlöse aus der internationalen TV-Vermarktung\\nverzeichneten im abgelaufenen Geschäftsjahr\\n2016/2017 den größten Anstieg. Der Umsatz be-\\ntrug im Berichtszeitraum vom 01. Juli 2016 bis\\nzum 30. Juni 2017 TEUR 50.993 (Vorjahr TEUR\\n17.233). Die Erlöse enthalten die Ausschüttungen\\nfür die Teilnahme an den Spielen der UEFA Cham-\\npions League in 2016/2017 sowie die das Vorjahr\\nbetreffenden Überschussbeteiligungen.\\nDie Ausschüttung der UEFA für die UEFA Champions\\nLeague erfolgte analog der letzten Jahre. Sie be-\\ninhaltet den Marketpool, Start- und Spielprämien\\nsowie leistungsbezogene Prämien.\\n'"
      ]
     },
     "execution_count": 37,
     "metadata": {},
     "output_type": "execute_result"
    }
   ],
   "source": [
    "readContentOfParagraphs(FILE_PATH + 'BVB-AnnualReport-2017.json')[167]"
   ]
  },
  {
   "cell_type": "code",
   "execution_count": 38,
   "metadata": {},
   "outputs": [
    {
     "ename": "NameError",
     "evalue": "name 'content_of_all_documents' is not defined",
     "output_type": "error",
     "traceback": [
      "\u001b[0;31m---------------------------------------------------------------------------\u001b[0m",
      "\u001b[0;31mNameError\u001b[0m                                 Traceback (most recent call last)",
      "\u001b[0;32m<ipython-input-38-5cf31b83184a>\u001b[0m in \u001b[0;36m<module>\u001b[0;34m()\u001b[0m\n\u001b[1;32m      1\u001b[0m \u001b[0mnlp\u001b[0m \u001b[0;34m=\u001b[0m \u001b[0mspacy\u001b[0m\u001b[0;34m.\u001b[0m\u001b[0mload\u001b[0m\u001b[0;34m(\u001b[0m\u001b[0;34m\"de\"\u001b[0m\u001b[0;34m)\u001b[0m\u001b[0;34m\u001b[0m\u001b[0m\n\u001b[0;32m----> 2\u001b[0;31m \u001b[0msentence\u001b[0m \u001b[0;34m=\u001b[0m \u001b[0mnlp\u001b[0m\u001b[0;34m(\u001b[0m\u001b[0mcontent_of_all_documents\u001b[0m\u001b[0;34m)\u001b[0m\u001b[0;34m\u001b[0m\u001b[0m\n\u001b[0m",
      "\u001b[0;31mNameError\u001b[0m: name 'content_of_all_documents' is not defined"
     ]
    }
   ],
   "source": [
    "nlp = spacy.load(\"de\")\n",
    "sentence = nlp(content_of_all_documents)"
   ]
  },
  {
   "cell_type": "code",
   "execution_count": null,
   "metadata": {},
   "outputs": [],
   "source": [
    "filtered_words = [word for word in sentence if word.lower_ not in STOP_WORDS]\n",
    "filtered_words_withoutpunc = [word for word in filtered_words if word.pos_ != 'PUNCT']"
   ]
  },
  {
   "cell_type": "code",
   "execution_count": null,
   "metadata": {},
   "outputs": [],
   "source": [
    "vocabularly = []\n",
    "for word in filtered_words_withoutpunc:\n",
    "    vocabularly.append(word.text.replace('\\n', '').lower())"
   ]
  },
  {
   "cell_type": "code",
   "execution_count": null,
   "metadata": {},
   "outputs": [],
   "source": [
    "new_vocab = set()\n",
    "for u in vocabularly:\n",
    "    if u != '':\n",
    "        new_vocab.add(u)"
   ]
  },
  {
   "cell_type": "code",
   "execution_count": null,
   "metadata": {},
   "outputs": [],
   "source": [
    "vectorizer = TfidfVectorizer(vocabulary=new_vocab)"
   ]
  },
  {
   "cell_type": "code",
   "execution_count": null,
   "metadata": {},
   "outputs": [],
   "source": [
    "tfidf_matrix = vectorizer.fit_transform([readContentOfFile(FILE_PATH + 'BVB-AnnualReport-2016.json'), readContentOfFile(FILE_PATH + 'BMW-AnnualReport-2016.json')])"
   ]
  },
  {
   "cell_type": "code",
   "execution_count": null,
   "metadata": {},
   "outputs": [],
   "source": [
    "print (len(new_vocab))"
   ]
  },
  {
   "cell_type": "code",
   "execution_count": null,
   "metadata": {},
   "outputs": [],
   "source": [
    "feature_names = vectorizer.get_feature_names()\n",
    "corpus_index = [n for n in ['A', 'B']]\n",
    "import pandas as pd\n",
    "df = pd.DataFrame(tfidf_matrix.T.todense(), index=feature_names, columns=corpus_index)\n",
    "#df['1'].argmax()\n",
    "# print(df.)"
   ]
  },
  {
   "cell_type": "code",
   "execution_count": null,
   "metadata": {},
   "outputs": [],
   "source": [
    "print (df['A'].argmax())"
   ]
  },
  {
   "cell_type": "code",
   "execution_count": null,
   "metadata": {},
   "outputs": [],
   "source": [
    "print (df.sort_values(by=['B'], ascending=False))"
   ]
  },
  {
   "cell_type": "markdown",
   "metadata": {},
   "source": [
    "## try LSI"
   ]
  },
  {
   "cell_type": "code",
   "execution_count": 132,
   "metadata": {},
   "outputs": [],
   "source": [
    "#from sklearn.feature_extraction.text import TfidfVectorizer\n",
    "from sklearn.feature_extraction.text import CountVectorizer\n",
    "import numpy as np\n",
    "#vectorizer = TfidfVectorizer(min_df=1,norm=\"l2\")  # default normalize is l2...per document!\n",
    "#X = vectorizer.fit_transform(corpus)\n",
    "#idf = vectorizer.idf_   # I can get idf from here! then let see. Now I already have tfidf matrix\n",
    "#print (dict(zip(vectorizer.get_feature_names(), idf)))\n",
    "#feature_names = vectorizer.get_feature_names()\n",
    "#import pandas as pd\n",
    "#df = pd.DataFrame(X.T.todense(), index=feature_names, columns=\"d\")\n",
    "#print (X.T.todense())\n",
    "#cvectorizer = CountVectorizer(min_df=1)\n",
    "#CX = cvectorizer.fit_transform(corpus)\n",
    "#CX.todense()\n",
    "\n",
    "# first step, compute svd and do reduction of dimension.\n",
    "from scipy.sparse.linalg import svds, eigs\n",
    "\n",
    "\n",
    "vectorizer = TfidfVectorizer(vocabulary=common_vocabularly_lem)\n",
    "tfidf_matrix = vectorizer.fit_transform(\n",
    "    [perform_lemmatization(FILE_PATH + 'BVB-AnnualReport-2011.json'), \n",
    "     perform_lemmatization(FILE_PATH + 'BVB-AnnualReport-2012.json'), \n",
    "     perform_lemmatization(FILE_PATH + 'BMW-AnnualReport-2012.json'),\n",
    "     perform_lemmatization(FILE_PATH + 'BMW-AnnualReport-2011.json'),\n",
    "     perform_lemmatization(FILE_PATH + 'CarlZeissMeditec-AnnualReport-2013.json'),\n",
    "     perform_lemmatization(FILE_PATH + 'CarlZeissMeditec-AnnualReport-2012.json'),\n",
    "     perform_lemmatization(FILE_PATH + 'BVB-AnnualReport-2013.json'), \n",
    "     perform_lemmatization(FILE_PATH + 'BMW-AnnualReport-2013.json'),])\n",
    "\n",
    " "
   ]
  },
  {
   "cell_type": "code",
   "execution_count": 144,
   "metadata": {},
   "outputs": [
    {
     "name": "stdout",
     "output_type": "stream",
     "text": [
      "set()\n",
      "[nan nan nan nan nan nan nan nan]\n",
      "[0 1 2]\n"
     ]
    },
    {
     "name": "stderr",
     "output_type": "stream",
     "text": [
      "/opt/anaconda3/lib/python3.6/site-packages/ipykernel_launcher.py:34: RuntimeWarning: invalid value encountered in true_divide\n"
     ]
    }
   ],
   "source": [
    "\n",
    "\n",
    "# now compute the input query's vector.\n",
    "query = \"2013\" # some query string\n",
    "# why here 2013 can be filted?\n",
    "\n",
    "# step 1, do preprosseing for this query\n",
    "nlp = spacy.load(\"de\")\n",
    "sentence = nlp(query)\n",
    "filtered_words = [word for word in sentence if word.lower_ not in STOP_WORDS]\n",
    "filtered_words_withoutdigits = [word for word in filtered_words if not word.is_digit]\n",
    "filtered_words_withoutpunc = [word for word in filtered_words_withoutdigits if word.pos_ != 'PUNCT']\n",
    "filtered_lemmas = [word.lemma_ for word in filtered_words_withoutpunc]\n",
    "vocabularly = set()\n",
    "for word in filtered_lemmas:\n",
    "    vocabularly.add(word.replace('\\n', '').strip().lower())\n",
    "new_vocab = set()\n",
    "for u in vocabularly:\n",
    "    if u != '':\n",
    "        new_vocab.add(u)\n",
    "        \n",
    "\n",
    "# step 2, generate query's tf-idf vector\n",
    "query_vector_ori = np.zeros(tfidf_matrix.shape[1]) #initilize the query vector\n",
    "idf = vectorizer.idf_\n",
    "feature_name = vectorizer.get_feature_names()\n",
    "#print(idf)\n",
    "# find my words in this feature_name list, and its corresponding index\n",
    "print(new_vocab)\n",
    "for words in new_vocab:\n",
    "    idx = feature_name.index(words)\n",
    "    query_vector_ori[idx] = idf[idx]\n",
    "    print(query_vector_ori[idx])\n",
    "    print(idx)\n",
    "# do normalize\n",
    "query_vector_ori = query_vector_ori/np.linalg.norm(query_vector_ori)\n",
    "    \n",
    "# step3, transfer the origin vector to low_dim space\n",
    "k = 3\n",
    "u, s, vt = svds(tfidf_matrix.T, k=k)  # transpose the tfidf_matrix, get item*document\n",
    "#here k is the remaining dimension. could from 1 to (number of document-1), could try take all paragraph as document\n",
    "# k could be a parameter\n",
    "# d_hat = s.inv*U.t*d    may be not right?\n",
    "s_dig = np.diag(s)\n",
    "query_vector_low_dim = ((np.linalg.inv(s_dig)).dot(u.T)).dot(query_vector_ori)\n",
    "# get Vk\n",
    "#tfidf_matrix_low_dim = (u.dot(s_dig)).dot(vt)\n",
    "\n",
    "# step4, compute the similarity\n",
    "def calculate_simility(q1,q2):\n",
    "    sim = q1.dot(q2)/(np.linalg.norm(q1)*np.linalg.norm(q2))\n",
    "    return sim\n",
    "sim = np.zeros(vt.shape[1])\n",
    "for i in range(0,vt.shape[1]):\n",
    "    sim[i] = calculate_simility(query_vector_low_dim,vt[:,i])\n",
    "\n",
    "# step5, take top 3 similar document\n",
    "print(sim)\n",
    "top_3_idx = np.argsort(-sim)[0:3]  # here -sim, since I want t get decending order sort,and get the top 3 index\n",
    "print(top_3_idx)\n",
    "# try to find some way to connect document and this index"
   ]
  },
  {
   "cell_type": "code",
   "execution_count": null,
   "metadata": {},
   "outputs": [],
   "source": []
  }
 ],
 "metadata": {
  "kernelspec": {
   "display_name": "Python 3",
   "language": "python",
   "name": "python3"
  },
  "language_info": {
   "codemirror_mode": {
    "name": "ipython",
    "version": 3
   },
   "file_extension": ".py",
   "mimetype": "text/x-python",
   "name": "python",
   "nbconvert_exporter": "python",
   "pygments_lexer": "ipython3",
   "version": "3.6.6"
  }
 },
 "nbformat": 4,
 "nbformat_minor": 1
}
