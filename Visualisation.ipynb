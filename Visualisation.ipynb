{
 "cells": [
  {
   "cell_type": "markdown",
   "metadata": {},
   "source": [
    "# Risk management for banks"
   ]
  },
  {
   "cell_type": "code",
   "execution_count": 37,
   "metadata": {},
   "outputs": [
    {
     "data": {
      "text/html": [
       "<div id=\"c11d8eea-18a6-4d4d-aa24-d2787a9fab21\" style=\"height: 525px; width: 100%;\" class=\"plotly-graph-div\"></div><script type=\"text/javascript\">require([\"plotly\"], function(Plotly) { window.PLOTLYENV=window.PLOTLYENV || {};window.PLOTLYENV.BASE_URL=\"https://plot.ly\";\n",
       "        Plotly.plot(\n",
       "            'c11d8eea-18a6-4d4d-aa24-d2787a9fab21',\n",
       "            [{\"mode\": \"lines+markers\", \"name\": \"CommerzBank\", \"x\": [2010, 2011, 2012, 2013, 2014, 2015, 2016, 2017], \"y\": [10.71, 11.27, 12.2, 12.21, 13.41, 12.76, 13.52], \"type\": \"scatter\", \"uid\": \"ed327de6-9af6-11e8-a736-75063ee33466\"}, {\"mode\": \"lines+markers\", \"name\": \"DeutscheBank\", \"x\": [2010, 2011, 2012, 2013, 2014, 2015, 2016, 2017], \"y\": [12.13, 13.51, 20.44, 20.48, 22.37, 16.39, 17.34], \"type\": \"scatter\", \"uid\": \"ed327fda-9af6-11e8-a736-75063ee33466\"}, {\"mode\": \"lines+markers\", \"name\": \"DzBank\", \"x\": [2010, 2011, 2012, 2013, 2014, 2015, 2016, 2017], \"y\": [18.08, 21.6, 20.76, 21.87, 21.55, 26.19, 25.32], \"type\": \"scatter\", \"uid\": \"ed328142-9af6-11e8-a736-75063ee33466\"}, {\"mode\": \"lines+markers\", \"name\": \"BayerischeLandesbank\", \"x\": [2010, 2011, 2012, 2013, 2014, 2015, 2016, 2017], \"y\": [19.91, 22.0, 20.79, 23.37, 13.17, 15.14, 15.04], \"type\": \"scatter\", \"uid\": \"ed32826e-9af6-11e8-a736-75063ee33466\"}, {\"mode\": \"lines+markers\", \"name\": \"DeutschePfandbriefbank\", \"x\": [2010, 2011, 2012, 2013, 2014, 2015, 2016, 2017], \"y\": [14.83, 15.63, 16.62, 16.41, 15.51, 13.58, 13.91], \"type\": \"scatter\", \"uid\": \"ed328390-9af6-11e8-a736-75063ee33466\"}, {\"mode\": \"lines+markers\", \"name\": \"Landesbank Hessen\", \"x\": [2010, 2011, 2012, 2013, 2014, 2015, 2016, 2017], \"y\": [14.82, 14.91, 14.89, 17.47, 15.62, 16.09, 18.92], \"type\": \"scatter\", \"uid\": \"ed3284c6-9af6-11e8-a736-75063ee33466\"}, {\"mode\": \"lines+markers\", \"name\": \"Landesbank Baden\", \"x\": [2010, 2011, 2012, 2013, 2014, 2015, 2016, 2017], \"y\": [16.83, 15.8, 16.77, 14.06, 15.88, 16.73, 15.2], \"type\": \"scatter\", \"uid\": \"ed3285de-9af6-11e8-a736-75063ee33466\"}],\n",
       "            {\"title\": \"Risk Management\", \"xaxis\": {\"title\": \"Years\"}, \"yaxis\": {\"title\": \"Percentage in document\"}},\n",
       "            {\"showLink\": true, \"linkText\": \"Export to plot.ly\"}\n",
       "        ).then(function () {return Plotly.addFrames('c11d8eea-18a6-4d4d-aa24-d2787a9fab21',{});}).then(function(){Plotly.animate('c11d8eea-18a6-4d4d-aa24-d2787a9fab21');})\n",
       "        });</script>"
      ]
     },
     "metadata": {},
     "output_type": "execute_result"
    }
   ],
   "source": [
    "# Create random data with numpy\n",
    "import numpy as np\n",
    "\n",
    "N = 100\n",
    "random_x = np.linspace(0, 1, N)\n",
    "random_y0 = np.random.randn(N)+5\n",
    "random_y1 = np.random.randn(N)\n",
    "random_y2 = np.random.randn(N)-5\n",
    "\n",
    "years = [2010,2011,2012, 2013, 2014, 2015, 2016, 2017]\n",
    "\n",
    "# Create traces\n",
    "trace0 = go.Scatter(\n",
    "    x = years,\n",
    "    y = [10.71, 11.27, 12.2, 12.21, 13.41, 12.76, 13.52],\n",
    "    mode = 'lines+markers',\n",
    "    name = 'CommerzBank'\n",
    ")\n",
    "trace1 = go.Scatter(\n",
    "    x = years,\n",
    "    y = [12.13, 13.51, 20.44, 20.48, 22.37, 16.39, 17.34],\n",
    "    mode = 'lines+markers',\n",
    "    name = 'DeutscheBank'\n",
    ")\n",
    "trace2 = go.Scatter(\n",
    "    x = years,\n",
    "    y = [18.08, 21.60, 20.76, 21.87, 21.55, 26.19, 25.32],\n",
    "    mode = 'lines+markers',\n",
    "    name = 'DzBank'\n",
    ")\n",
    "\n",
    "trace4 = go.Scatter(\n",
    "    x = years,\n",
    "    y = [19.91, 22.0, 20.79, 23.37, 13.17, 15.14, 15.04],\n",
    "    mode = 'lines+markers',\n",
    "    name = 'BayerischeLandesbank'\n",
    ")\n",
    "\n",
    "trace4 = go.Scatter(\n",
    "    x = years,\n",
    "    y = [19.91, 22.0, 20.79, 23.37, 13.17, 15.14, 15.04],\n",
    "    mode = 'lines+markers',\n",
    "    name = 'BayerischeLandesbank'\n",
    ")\n",
    "\n",
    "trace5 = go.Scatter(\n",
    "    x = years,\n",
    "    y = [14.83, 15.63, 16.62, 16.41, 15.51, 13.58, 13.91],\n",
    "    mode = 'lines+markers',\n",
    "    name = 'DeutschePfandbriefbank'\n",
    ")\n",
    "\n",
    "trace6 = go.Scatter(\n",
    "    x = years,\n",
    "    y = [14.82, 14.91, 14.89, 17.47, 15.62, 16.09, 18.92],\n",
    "    mode = 'lines+markers',\n",
    "    name = 'Landesbank Hessen'\n",
    ")\n",
    "\n",
    "trace7 = go.Scatter(\n",
    "    x = years,\n",
    "    y = [16.83, 15.8, 16.77, 14.06, 15.88, 16.73, 15.2],\n",
    "    mode = 'lines+markers',\n",
    "    name = 'Landesbank Baden'\n",
    ")\n",
    "\n",
    "layout = go.Layout(\n",
    "    title='Risk Management',\n",
    "    xaxis=dict(title='Years'),\n",
    "    yaxis=dict(title='Percentage in document'))\n",
    "data = [trace0, trace1, trace2, trace4,trace5, trace6, trace7]\n",
    "fig = go.Figure(data=data, layout=layout)\n",
    "py.offline.iplot(fig, filename='scatter-mode')"
   ]
  },
  {
   "cell_type": "code",
   "execution_count": null,
   "metadata": {},
   "outputs": [],
   "source": [
    ""
   ]
  }
 ],
 "metadata": {
  "kernelspec": {
   "display_name": "Python 3",
   "language": "python",
   "name": "python3"
  },
  "language_info": {
   "codemirror_mode": {
    "name": "ipython",
    "version": 3.0
   },
   "file_extension": ".py",
   "mimetype": "text/x-python",
   "name": "python",
   "nbconvert_exporter": "python",
   "pygments_lexer": "ipython3",
   "version": "3.6.6"
  }
 },
 "nbformat": 4,
 "nbformat_minor": 0
}