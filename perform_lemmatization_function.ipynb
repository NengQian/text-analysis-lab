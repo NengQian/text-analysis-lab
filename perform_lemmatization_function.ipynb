{
 "cells": [
  {
   "cell_type": "code",
   "execution_count": null,
   "metadata": {},
   "outputs": [],
   "source": [
    "nlp = spacy.load(\"de\")\n",
    "def perform_lemmatization(document):\n",
    "    content_of_document = readContentOfFile(document)\n",
    "    \n",
    "    #remove minus sign and next-line sign\n",
    "    content_of_document = content_of_document.replace('-\\n','')\n",
    "    content_of_document = content_of_document.replace('\\n',' ')\n",
    "    \n",
    "    #replace all gco2 with co2\n",
    "    content_of_document = content_of_document.replace('gCO2','CO2')\n",
    "    \n",
    "    #remove the character we don't need\n",
    "    remove_char = content_of_document.maketrans('-',' ','+*<>%/&$')\n",
    "    content_of_document = content_of_document.translate(remove_char)\n",
    "    \n",
    "    sentence = nlp(content_of_document)\n",
    "    filtered_words = [word for word in sentence if word.lower_ not in STOP_WORDS]\n",
    "    filtered_words_withoutdigits = [word for word in filtered_words if not word.is_digit]\n",
    "    filtered_words_withoutpunc = [word for word in filtered_words_withoutdigits if word.pos_ != 'PUNCT']\n",
    "    filtered_lemmas = [word.lemma_ for word in filtered_words_withoutpunc]\n",
    "    \n",
    "    final = []  \n",
    "    for item in filtered_lemmas:\n",
    "        #remove the words contain digit except of co2\n",
    "        if(any(c.isdigit() for c in item)):\n",
    "            if 'CO2' in item:\n",
    "                final.append(item)\n",
    "        else:\n",
    "            #remove the words contain dot\n",
    "            if '.' not in item:\n",
    "                final.append(item)\n",
    "    \n",
    "    lemmatized_content = \" \".join(item for item in final)\n",
    "    \n",
    "    #output the result into file \n",
    "    if document.startswith(FILE_PATH):\n",
    "        filename = \"filtered_\" + document[len(FILE_PATH):]\n",
    "    \n",
    "    with open(filename, 'w') as outfile:\n",
    "        json.dump(lemmatized_content.lower(), outfile)\n",
    "    \n",
    "    return lemmatized_content.lower()"
   ]
  }
 ],
 "metadata": {
  "kernelspec": {
   "display_name": "Python 3",
   "language": "python",
   "name": "python3"
  },
  "language_info": {
   "codemirror_mode": {
    "name": "ipython",
    "version": 3
   },
   "file_extension": ".py",
   "mimetype": "text/x-python",
   "name": "python",
   "nbconvert_exporter": "python",
   "pygments_lexer": "ipython3",
   "version": "3.6.6"
  }
 },
 "nbformat": 4,
 "nbformat_minor": 2
}
