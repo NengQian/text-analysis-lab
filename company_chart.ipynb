{
 "cells": [
  {
   "cell_type": "markdown",
   "metadata": {},
   "source": [
    "# visualization of topic trend"
   ]
  },
  {
   "cell_type": "code",
   "execution_count": 2,
   "metadata": {},
   "outputs": [],
   "source": [
    "import spacy\n",
    "import json\n",
    "from sklearn.feature_extraction.text import TfidfVectorizer\n",
    "from spacy.lang.de.stop_words import STOP_WORDS\n",
    "import pandas as pd\n",
    "from sklearn.cluster import KMeans\n",
    "import time\n",
    "\n",
    "voc = set()"
   ]
  },
  {
   "cell_type": "code",
   "execution_count": 3,
   "metadata": {},
   "outputs": [],
   "source": [
    "%run src/file_utils.py\n",
    "%run src/configuration.py"
   ]
  },
  {
   "cell_type": "code",
   "execution_count": 4,
   "metadata": {},
   "outputs": [],
   "source": [
    "TYPE = 'type'\n",
    "PARAGRAPH = 'paragraph'\n",
    "CONTENT = 'content'\n",
    "#FILE_PATH = 'data/jsons/'"
   ]
  },
  {
   "cell_type": "code",
   "execution_count": 5,
   "metadata": {},
   "outputs": [],
   "source": [
    "def readContentOfFile(file_name):\n",
    "    content = ''\n",
    "    try:\n",
    "        with open(file_name) as f:\n",
    "            data = json.load(f)\n",
    "            for item in data:\n",
    "                typeDoc = item[TYPE]\n",
    "                if typeDoc == PARAGRAPH:\n",
    "                    content += item[CONTENT]\n",
    "    except:\n",
    "        FileUtils.fix_json(file_name)\n",
    "        with open(file_name) as f:\n",
    "            data = json.load(f)\n",
    "            for item in data:\n",
    "                typeDoc = item[TYPE]\n",
    "                if typeDoc == PARAGRAPH:\n",
    "                    content += item[CONTENT]\n",
    "    \n",
    "    return content"
   ]
  },
  {
   "cell_type": "markdown",
   "metadata": {},
   "source": [
    "# Clustering without lemmatization"
   ]
  },
  {
   "cell_type": "code",
   "execution_count": 6,
   "metadata": {},
   "outputs": [],
   "source": [
    "nlp = spacy.load(\"de\")\n",
    "def perform_lemmatization(document):\n",
    "    content_of_document = readContentOfFile(document)\n",
    "    \n",
    "    #remove minus sign and next-line sign\n",
    "    content_of_document = content_of_document.replace('-\\n','')\n",
    "    content_of_document = content_of_document.replace('\\n',' ')\n",
    "    \n",
    "    #replace all gco2 with co2\n",
    "    content_of_document = content_of_document.replace('gCO2','CO2')\n",
    "    \n",
    "    #remove the character we don't need\n",
    "    remove_char = content_of_document.maketrans('-',' ','+*<>%/&$')\n",
    "    content_of_document = content_of_document.translate(remove_char)\n",
    "    \n",
    "    #adjust the length before tokenization\n",
    "    content_of_document = content_of_document[0:999999]\n",
    "    \n",
    "    sentence = nlp(content_of_document)\n",
    "    filtered_words = [word for word in sentence if word.lower_ not in STOP_WORDS]\n",
    "    filtered_words_withoutdigits = [word for word in filtered_words if not word.is_digit]\n",
    "    filtered_words_withoutpunc = [word for word in filtered_words_withoutdigits if word.pos_ != 'PUNCT']\n",
    "    filtered_lemmas = [word.lemma_ for word in filtered_words_withoutpunc]\n",
    "    \n",
    "    final = []  \n",
    "    for item in filtered_lemmas:\n",
    "        #remove the words contain digit except of co2\n",
    "        if(any(c.isdigit() for c in item)):\n",
    "            if 'CO2' in item:\n",
    "                final.append(item)\n",
    "        else:\n",
    "            #remove the words contain dot\n",
    "            if '.' not in item:\n",
    "                final.append(item)\n",
    "    \n",
    "    \n",
    "    for item in final:\n",
    "        if item not in voc:\n",
    "            voc.add(item.lower())\n",
    "    \n",
    "    \n",
    "    lemmatized_content = \" \".join(item for item in final)\n",
    "    \n",
    "    \n",
    "    #output the result into file \n",
    "    if document.startswith(FILE_PATH):\n",
    "        filename = \"filtered_\" + document[len(FILE_PATH):]\n",
    "    \n",
    "    with open(filename, 'w') as outfile:\n",
    "        json.dump(lemmatized_content.lower(), outfile)\n",
    "    \n",
    "    \n",
    "    return lemmatized_content.lower()"
   ]
  },
  {
   "cell_type": "markdown",
   "metadata": {},
   "source": [
    "# BMW 2010-2017"
   ]
  },
  {
   "cell_type": "code",
   "execution_count": 7,
   "metadata": {},
   "outputs": [],
   "source": [
    "voc=set()"
   ]
  },
  {
   "cell_type": "code",
   "execution_count": 8,
   "metadata": {},
   "outputs": [],
   "source": [
    "bmw_lemm_docs_prep = [\n",
    "     perform_lemmatization(FILE_PATH + 'BMW-AnnualReport-2010.json'), \n",
    "     perform_lemmatization(FILE_PATH + 'BMW-AnnualReport-2011.json'), \n",
    "     perform_lemmatization(FILE_PATH + 'BMW-AnnualReport-2012.json'),\n",
    "     perform_lemmatization(FILE_PATH + 'BMW-AnnualReport-2013.json'), \n",
    "     perform_lemmatization(FILE_PATH + 'BMW-AnnualReport-2014.json'), \n",
    "     perform_lemmatization(FILE_PATH + 'BMW-AnnualReport-2015.json'),\n",
    "     perform_lemmatization(FILE_PATH + 'BMW-AnnualReport-2016.json'), \n",
    "     perform_lemmatization(FILE_PATH + 'BMW-AnnualReport-2017.json')]"
   ]
  },
  {
   "cell_type": "code",
   "execution_count": 9,
   "metadata": {},
   "outputs": [
    {
     "name": "stdout",
     "output_type": "stream",
     "text": [
      "0.22986221313476562\n"
     ]
    }
   ],
   "source": [
    "vectorizer_bmw = TfidfVectorizer(vocabulary=voc)\n",
    "start_time = time.time()\n",
    "tfidf_matrix_bmw = vectorizer_bmw.fit_transform(bmw_lemm_docs_prep)\n",
    "print (time.time() - start_time)"
   ]
  },
  {
   "cell_type": "code",
   "execution_count": 10,
   "metadata": {},
   "outputs": [],
   "source": [
    "#bmw_lemm_docs_prep"
   ]
  },
  {
   "cell_type": "code",
   "execution_count": 11,
   "metadata": {},
   "outputs": [],
   "source": [
    "bmw_feature_names = vectorizer_bmw.get_feature_names()\n",
    "bmw_corpus_index = [n for n in [\n",
    "    'BMW-2010', 'BMW-2011', 'BMW-2012', \n",
    "    'BMW-2013', 'BMW-2014', 'BMW-2015',\n",
    "    'BMW-2016', 'BMW-2017']]\n",
    "idf = vectorizer_bmw.idf_\n",
    "df = pd.DataFrame(tfidf_matrix_bmw.T.todense(), index=bmw_feature_names, columns=bmw_corpus_index)\n",
    "df['idf'] = idf"
   ]
  },
  {
   "cell_type": "code",
   "execution_count": 12,
   "metadata": {},
   "outputs": [
    {
     "data": {
      "text/html": [
       "<div>\n",
       "<style scoped>\n",
       "    .dataframe tbody tr th:only-of-type {\n",
       "        vertical-align: middle;\n",
       "    }\n",
       "\n",
       "    .dataframe tbody tr th {\n",
       "        vertical-align: top;\n",
       "    }\n",
       "\n",
       "    .dataframe thead th {\n",
       "        text-align: right;\n",
       "    }\n",
       "</style>\n",
       "<table border=\"1\" class=\"dataframe\">\n",
       "  <thead>\n",
       "    <tr style=\"text-align: right;\">\n",
       "      <th></th>\n",
       "      <th>BMW-2010</th>\n",
       "      <th>BMW-2011</th>\n",
       "      <th>BMW-2012</th>\n",
       "      <th>BMW-2013</th>\n",
       "      <th>BMW-2014</th>\n",
       "      <th>BMW-2015</th>\n",
       "      <th>BMW-2016</th>\n",
       "      <th>BMW-2017</th>\n",
       "      <th>idf</th>\n",
       "    </tr>\n",
       "  </thead>\n",
       "  <tbody>\n",
       "    <tr>\n",
       "      <th>next</th>\n",
       "      <td>0.000000</td>\n",
       "      <td>0.000000</td>\n",
       "      <td>0.000000</td>\n",
       "      <td>0.000000</td>\n",
       "      <td>0.000000</td>\n",
       "      <td>0.007599</td>\n",
       "      <td>0.032596</td>\n",
       "      <td>0.032596</td>\n",
       "      <td>1.810930</td>\n",
       "    </tr>\n",
       "    <tr>\n",
       "      <th>co2</th>\n",
       "      <td>0.000000</td>\n",
       "      <td>0.000000</td>\n",
       "      <td>0.000000</td>\n",
       "      <td>0.001186</td>\n",
       "      <td>0.001169</td>\n",
       "      <td>0.000000</td>\n",
       "      <td>0.027337</td>\n",
       "      <td>0.027337</td>\n",
       "      <td>1.587787</td>\n",
       "    </tr>\n",
       "    <tr>\n",
       "      <th>ergebnisauswirkungen</th>\n",
       "      <td>0.000000</td>\n",
       "      <td>0.000000</td>\n",
       "      <td>0.000000</td>\n",
       "      <td>0.002100</td>\n",
       "      <td>0.016557</td>\n",
       "      <td>0.018676</td>\n",
       "      <td>0.021998</td>\n",
       "      <td>0.021998</td>\n",
       "      <td>1.405465</td>\n",
       "    </tr>\n",
       "    <tr>\n",
       "      <th>zweijährig</th>\n",
       "      <td>0.000000</td>\n",
       "      <td>0.000000</td>\n",
       "      <td>0.000000</td>\n",
       "      <td>0.000000</td>\n",
       "      <td>0.019874</td>\n",
       "      <td>0.018878</td>\n",
       "      <td>0.021124</td>\n",
       "      <td>0.021124</td>\n",
       "      <td>1.587787</td>\n",
       "    </tr>\n",
       "    <tr>\n",
       "      <th>betrachtungszeitraum</th>\n",
       "      <td>0.000996</td>\n",
       "      <td>0.000000</td>\n",
       "      <td>0.000896</td>\n",
       "      <td>0.002506</td>\n",
       "      <td>0.009876</td>\n",
       "      <td>0.017198</td>\n",
       "      <td>0.020119</td>\n",
       "      <td>0.020119</td>\n",
       "      <td>1.117783</td>\n",
       "    </tr>\n",
       "    <tr>\n",
       "      <th>there</th>\n",
       "      <td>0.000000</td>\n",
       "      <td>0.000000</td>\n",
       "      <td>0.000000</td>\n",
       "      <td>0.000000</td>\n",
       "      <td>0.000000</td>\n",
       "      <td>0.024064</td>\n",
       "      <td>0.019841</td>\n",
       "      <td>0.019841</td>\n",
       "      <td>1.810930</td>\n",
       "    </tr>\n",
       "    <tr>\n",
       "      <th>brexit</th>\n",
       "      <td>0.000000</td>\n",
       "      <td>0.000000</td>\n",
       "      <td>0.000000</td>\n",
       "      <td>0.000000</td>\n",
       "      <td>0.000000</td>\n",
       "      <td>0.000000</td>\n",
       "      <td>0.018066</td>\n",
       "      <td>0.018066</td>\n",
       "      <td>2.098612</td>\n",
       "    </tr>\n",
       "    <tr>\n",
       "      <th>here</th>\n",
       "      <td>0.000000</td>\n",
       "      <td>0.000000</td>\n",
       "      <td>0.000000</td>\n",
       "      <td>0.000000</td>\n",
       "      <td>0.000000</td>\n",
       "      <td>0.018998</td>\n",
       "      <td>0.017006</td>\n",
       "      <td>0.017006</td>\n",
       "      <td>1.810930</td>\n",
       "    </tr>\n",
       "    <tr>\n",
       "      <th>plug</th>\n",
       "      <td>0.000000</td>\n",
       "      <td>0.003687</td>\n",
       "      <td>0.000896</td>\n",
       "      <td>0.001671</td>\n",
       "      <td>0.009876</td>\n",
       "      <td>0.007036</td>\n",
       "      <td>0.016620</td>\n",
       "      <td>0.016620</td>\n",
       "      <td>1.117783</td>\n",
       "    </tr>\n",
       "    <tr>\n",
       "      <th>aktienbasierte</th>\n",
       "      <td>0.000000</td>\n",
       "      <td>0.013826</td>\n",
       "      <td>0.017026</td>\n",
       "      <td>0.016705</td>\n",
       "      <td>0.014814</td>\n",
       "      <td>0.016417</td>\n",
       "      <td>0.016620</td>\n",
       "      <td>0.016620</td>\n",
       "      <td>1.117783</td>\n",
       "    </tr>\n",
       "  </tbody>\n",
       "</table>\n",
       "</div>"
      ],
      "text/plain": [
       "                      BMW-2010  BMW-2011  BMW-2012  BMW-2013  BMW-2014  \\\n",
       "next                  0.000000  0.000000  0.000000  0.000000  0.000000   \n",
       "co2                   0.000000  0.000000  0.000000  0.001186  0.001169   \n",
       "ergebnisauswirkungen  0.000000  0.000000  0.000000  0.002100  0.016557   \n",
       "zweijährig            0.000000  0.000000  0.000000  0.000000  0.019874   \n",
       "betrachtungszeitraum  0.000996  0.000000  0.000896  0.002506  0.009876   \n",
       "there                 0.000000  0.000000  0.000000  0.000000  0.000000   \n",
       "brexit                0.000000  0.000000  0.000000  0.000000  0.000000   \n",
       "here                  0.000000  0.000000  0.000000  0.000000  0.000000   \n",
       "plug                  0.000000  0.003687  0.000896  0.001671  0.009876   \n",
       "aktienbasierte        0.000000  0.013826  0.017026  0.016705  0.014814   \n",
       "\n",
       "                      BMW-2015  BMW-2016  BMW-2017       idf  \n",
       "next                  0.007599  0.032596  0.032596  1.810930  \n",
       "co2                   0.000000  0.027337  0.027337  1.587787  \n",
       "ergebnisauswirkungen  0.018676  0.021998  0.021998  1.405465  \n",
       "zweijährig            0.018878  0.021124  0.021124  1.587787  \n",
       "betrachtungszeitraum  0.017198  0.020119  0.020119  1.117783  \n",
       "there                 0.024064  0.019841  0.019841  1.810930  \n",
       "brexit                0.000000  0.018066  0.018066  2.098612  \n",
       "here                  0.018998  0.017006  0.017006  1.810930  \n",
       "plug                  0.007036  0.016620  0.016620  1.117783  \n",
       "aktienbasierte        0.016417  0.016620  0.016620  1.117783  "
      ]
     },
     "execution_count": 12,
     "metadata": {},
     "output_type": "execute_result"
    }
   ],
   "source": [
    "df = df.sort_values(by=['BMW-2016'], ascending=False)\n",
    "df[(df['idf'] != 1)].head(10)\n",
    "#df.head(10)"
   ]
  },
  {
   "cell_type": "markdown",
   "metadata": {},
   "source": [
    "# Deutsche Bank 2010-2016"
   ]
  },
  {
   "cell_type": "code",
   "execution_count": 13,
   "metadata": {},
   "outputs": [],
   "source": [
    "voc=set()"
   ]
  },
  {
   "cell_type": "code",
   "execution_count": 14,
   "metadata": {},
   "outputs": [],
   "source": [
    "db_lemm_docs_prep = [\n",
    "     perform_lemmatization(FILE_PATH + 'DeutscheBank-AnnualReport-2010.json'), \n",
    "     perform_lemmatization(FILE_PATH + 'DeutscheBank-AnnualReport-2011.json'), \n",
    "     perform_lemmatization(FILE_PATH + 'DeutscheBank-AnnualReport-2012.json'),\n",
    "     perform_lemmatization(FILE_PATH + 'DeutscheBank-AnnualReport-2013.json'), \n",
    "     perform_lemmatization(FILE_PATH + 'DeutscheBank-AnnualReport-2014.json'), \n",
    "     perform_lemmatization(FILE_PATH + 'DeutscheBank-AnnualReport-2015.json'),\n",
    "     perform_lemmatization(FILE_PATH + 'DeutscheBank-AnnualReport-2016.json')]"
   ]
  },
  {
   "cell_type": "code",
   "execution_count": 15,
   "metadata": {},
   "outputs": [
    {
     "name": "stdout",
     "output_type": "stream",
     "text": [
      "0.42116808891296387\n"
     ]
    }
   ],
   "source": [
    "vectorizer_db = TfidfVectorizer(vocabulary=voc)\n",
    "start_time = time.time()\n",
    "tfidf_matrix_db = vectorizer_db.fit_transform(db_lemm_docs_prep)\n",
    "print (time.time() - start_time)"
   ]
  },
  {
   "cell_type": "code",
   "execution_count": 16,
   "metadata": {},
   "outputs": [],
   "source": [
    "#db_lemm_docs_prep\n",
    "#voc"
   ]
  },
  {
   "cell_type": "code",
   "execution_count": 17,
   "metadata": {},
   "outputs": [],
   "source": [
    "db_feature_names = vectorizer_db.get_feature_names()\n",
    "db_corpus_index = [n for n in [\n",
    "    'DB-2010', 'DB-2011', 'DB-2012', \n",
    "    'DB-2013', 'DB-2014', 'DB-2015',\n",
    "    'DB-2016']]\n",
    "idf = vectorizer_db.idf_\n",
    "df_db = pd.DataFrame(tfidf_matrix_db.T.todense(), index=db_feature_names, columns=db_corpus_index)\n",
    "df_db['idf'] = idf"
   ]
  },
  {
   "cell_type": "code",
   "execution_count": 18,
   "metadata": {},
   "outputs": [
    {
     "data": {
      "text/html": [
       "<div>\n",
       "<style scoped>\n",
       "    .dataframe tbody tr th:only-of-type {\n",
       "        vertical-align: middle;\n",
       "    }\n",
       "\n",
       "    .dataframe tbody tr th {\n",
       "        vertical-align: top;\n",
       "    }\n",
       "\n",
       "    .dataframe thead th {\n",
       "        text-align: right;\n",
       "    }\n",
       "</style>\n",
       "<table border=\"1\" class=\"dataframe\">\n",
       "  <thead>\n",
       "    <tr style=\"text-align: right;\">\n",
       "      <th></th>\n",
       "      <th>DB-2010</th>\n",
       "      <th>DB-2011</th>\n",
       "      <th>DB-2012</th>\n",
       "      <th>DB-2013</th>\n",
       "      <th>DB-2014</th>\n",
       "      <th>DB-2015</th>\n",
       "      <th>DB-2016</th>\n",
       "      <th>idf</th>\n",
       "    </tr>\n",
       "  </thead>\n",
       "  <tbody>\n",
       "    <tr>\n",
       "      <th>beizulegenden</th>\n",
       "      <td>0.000000</td>\n",
       "      <td>0.209947</td>\n",
       "      <td>0.161107</td>\n",
       "      <td>0.117547</td>\n",
       "      <td>0.042820</td>\n",
       "      <td>0.137138</td>\n",
       "      <td>0.149401</td>\n",
       "      <td>1.133531</td>\n",
       "    </tr>\n",
       "    <tr>\n",
       "      <th>zeitwerts</th>\n",
       "      <td>0.000000</td>\n",
       "      <td>0.069982</td>\n",
       "      <td>0.043938</td>\n",
       "      <td>0.033334</td>\n",
       "      <td>0.002745</td>\n",
       "      <td>0.045897</td>\n",
       "      <td>0.050533</td>\n",
       "      <td>1.133531</td>\n",
       "    </tr>\n",
       "    <tr>\n",
       "      <th>pwcc</th>\n",
       "      <td>0.000000</td>\n",
       "      <td>0.000000</td>\n",
       "      <td>0.000000</td>\n",
       "      <td>0.000000</td>\n",
       "      <td>0.000000</td>\n",
       "      <td>0.006764</td>\n",
       "      <td>0.046072</td>\n",
       "      <td>1.980829</td>\n",
       "    </tr>\n",
       "    <tr>\n",
       "      <th>crrcrd</th>\n",
       "      <td>0.000000</td>\n",
       "      <td>0.000000</td>\n",
       "      <td>0.000000</td>\n",
       "      <td>0.047021</td>\n",
       "      <td>0.103942</td>\n",
       "      <td>0.038724</td>\n",
       "      <td>0.044163</td>\n",
       "      <td>1.470004</td>\n",
       "    </tr>\n",
       "    <tr>\n",
       "      <th>ncou</th>\n",
       "      <td>0.000000</td>\n",
       "      <td>0.000000</td>\n",
       "      <td>0.039265</td>\n",
       "      <td>0.063776</td>\n",
       "      <td>0.047396</td>\n",
       "      <td>0.034550</td>\n",
       "      <td>0.042430</td>\n",
       "      <td>1.287682</td>\n",
       "    </tr>\n",
       "    <tr>\n",
       "      <th>gm</th>\n",
       "      <td>0.000000</td>\n",
       "      <td>0.000000</td>\n",
       "      <td>0.000000</td>\n",
       "      <td>0.000000</td>\n",
       "      <td>0.000000</td>\n",
       "      <td>0.004832</td>\n",
       "      <td>0.037434</td>\n",
       "      <td>1.980829</td>\n",
       "    </tr>\n",
       "    <tr>\n",
       "      <th>cib</th>\n",
       "      <td>0.022867</td>\n",
       "      <td>0.022116</td>\n",
       "      <td>0.001331</td>\n",
       "      <td>0.000000</td>\n",
       "      <td>0.000000</td>\n",
       "      <td>0.004397</td>\n",
       "      <td>0.030574</td>\n",
       "      <td>1.287682</td>\n",
       "    </tr>\n",
       "    <tr>\n",
       "      <th>kernkapital</th>\n",
       "      <td>0.000516</td>\n",
       "      <td>0.000000</td>\n",
       "      <td>0.005858</td>\n",
       "      <td>0.007603</td>\n",
       "      <td>0.026900</td>\n",
       "      <td>0.025990</td>\n",
       "      <td>0.030210</td>\n",
       "      <td>1.133531</td>\n",
       "    </tr>\n",
       "    <tr>\n",
       "      <th>vollumsetzung</th>\n",
       "      <td>0.000000</td>\n",
       "      <td>0.000000</td>\n",
       "      <td>0.000000</td>\n",
       "      <td>0.004550</td>\n",
       "      <td>0.025630</td>\n",
       "      <td>0.018645</td>\n",
       "      <td>0.028492</td>\n",
       "      <td>1.470004</td>\n",
       "    </tr>\n",
       "    <tr>\n",
       "      <th>harte</th>\n",
       "      <td>0.000000</td>\n",
       "      <td>0.000000</td>\n",
       "      <td>0.000000</td>\n",
       "      <td>0.000000</td>\n",
       "      <td>0.000000</td>\n",
       "      <td>0.026091</td>\n",
       "      <td>0.025916</td>\n",
       "      <td>1.980829</td>\n",
       "    </tr>\n",
       "  </tbody>\n",
       "</table>\n",
       "</div>"
      ],
      "text/plain": [
       "                DB-2010   DB-2011   DB-2012   DB-2013   DB-2014   DB-2015  \\\n",
       "beizulegenden  0.000000  0.209947  0.161107  0.117547  0.042820  0.137138   \n",
       "zeitwerts      0.000000  0.069982  0.043938  0.033334  0.002745  0.045897   \n",
       "pwcc           0.000000  0.000000  0.000000  0.000000  0.000000  0.006764   \n",
       "crrcrd         0.000000  0.000000  0.000000  0.047021  0.103942  0.038724   \n",
       "ncou           0.000000  0.000000  0.039265  0.063776  0.047396  0.034550   \n",
       "gm             0.000000  0.000000  0.000000  0.000000  0.000000  0.004832   \n",
       "cib            0.022867  0.022116  0.001331  0.000000  0.000000  0.004397   \n",
       "kernkapital    0.000516  0.000000  0.005858  0.007603  0.026900  0.025990   \n",
       "vollumsetzung  0.000000  0.000000  0.000000  0.004550  0.025630  0.018645   \n",
       "harte          0.000000  0.000000  0.000000  0.000000  0.000000  0.026091   \n",
       "\n",
       "                DB-2016       idf  \n",
       "beizulegenden  0.149401  1.133531  \n",
       "zeitwerts      0.050533  1.133531  \n",
       "pwcc           0.046072  1.980829  \n",
       "crrcrd         0.044163  1.470004  \n",
       "ncou           0.042430  1.287682  \n",
       "gm             0.037434  1.980829  \n",
       "cib            0.030574  1.287682  \n",
       "kernkapital    0.030210  1.133531  \n",
       "vollumsetzung  0.028492  1.470004  \n",
       "harte          0.025916  1.980829  "
      ]
     },
     "execution_count": 18,
     "metadata": {},
     "output_type": "execute_result"
    }
   ],
   "source": [
    "df_db = df_db.sort_values(by=['DB-2016'], ascending=False)\n",
    "df_db[(df_db['idf'] != 1)].head(10)"
   ]
  },
  {
   "cell_type": "markdown",
   "metadata": {},
   "source": [
    "# Visualization"
   ]
  },
  {
   "cell_type": "code",
   "execution_count": 19,
   "metadata": {},
   "outputs": [
    {
     "data": {
      "text/html": [
       "<script>requirejs.config({paths: { 'plotly': ['https://cdn.plot.ly/plotly-latest.min']},});if(!window.Plotly) {{require(['plotly'],function(plotly) {window.Plotly=plotly;});}}</script>"
      ],
      "text/vnd.plotly.v1+html": [
       "<script>requirejs.config({paths: { 'plotly': ['https://cdn.plot.ly/plotly-latest.min']},});if(!window.Plotly) {{require(['plotly'],function(plotly) {window.Plotly=plotly;});}}</script>"
      ]
     },
     "metadata": {},
     "output_type": "display_data"
    }
   ],
   "source": [
    "import plotly as py\n",
    "import plotly.graph_objs as go\n",
    "import numpy as np\n",
    "\n",
    "py.offline.init_notebook_mode(connected=True)"
   ]
  },
  {
   "cell_type": "markdown",
   "metadata": {},
   "source": [
    "## BMW"
   ]
  },
  {
   "cell_type": "code",
   "execution_count": 36,
   "metadata": {},
   "outputs": [],
   "source": [
    "key = ['husqvarna', 'aktienbasierte', 'citroën', 'electrification', 'amsterdam', 'Drivenow', 'co2', 'brexit', 'HERE / Amsterdam', 'there']"
   ]
  },
  {
   "cell_type": "code",
   "execution_count": 37,
   "metadata": {},
   "outputs": [],
   "source": [
    "# get the value of certain row\n",
    "y1 = df.loc['husqvarna'].tolist()\n",
    "#y2 = df.loc['aktienbasierte'].tolist()\n",
    "y3 = df.loc['citroën'].tolist()\n",
    "#y4 = df.loc['electrification'].tolist()\n",
    "y5 = df.loc['amsterdam'].tolist()\n",
    "y6 = df.loc['drivenow'].tolist()\n",
    "y7 = df.loc['co2'].tolist()\n",
    "y8 = df.loc['brexit'].tolist()\n",
    "y9 = df.loc['here'].tolist()\n",
    "y10= df.loc['there'].tolist()"
   ]
  },
  {
   "cell_type": "code",
   "execution_count": 38,
   "metadata": {},
   "outputs": [],
   "source": [
    "years = np.linspace(2010, 2017, 8)\n",
    "\n",
    "line1 = go.Scatter(x=years, y=y1, mode='lines+markers', name=key[0])\n",
    "#line2 = go.Scatter(x=years , y=y2, mode='lines+markers', name=key[1])\n",
    "line3 = go.Scatter(x=years, y=y3, mode='lines+markers', name=key[2])\n",
    "#line4 = go.Scatter(x=years, y=y4, mode='lines+markers', name=key[3])\n",
    "\n",
    "#line5 = go.Scatter(x=years, y=y5, mode='lines+markers', name=key[4])\n",
    "line6 = go.Scatter(x=years, y=y6, mode='lines+markers', name=key[5])\n",
    "line7 = go.Scatter(x=years, y=y7, mode='lines+markers', name=key[6])\n",
    "line8 = go.Scatter(x=years, y=y8, mode='lines+markers', name=key[7])\n",
    "line9 = go.Scatter(x=years, y=y9, mode='lines+markers', name=key[8])\n",
    "#line10= go.Scatter(x=years, y=y10, mode='lines+markers', name=key[9])"
   ]
  },
  {
   "cell_type": "code",
   "execution_count": 40,
   "metadata": {},
   "outputs": [
    {
     "data": {
      "application/vnd.plotly.v1+json": {
       "data": [
        {
         "mode": "lines+markers",
         "name": "husqvarna",
         "type": "scatter",
         "uid": "8e3b2938-9bcc-11e8-8d51-fd32757f0bd4",
         "x": [
          2010,
          2011,
          2012,
          2013,
          2014,
          2015,
          2016,
          2017
         ],
         "y": [
          0.017836753624268252,
          0.014445569000219262,
          0.02106670200236513,
          0.013090543699845778,
          0,
          0,
          0.0009792555672832244,
          0.0009792555672832244,
          1.251314428280906
         ]
        },
        {
         "mode": "lines+markers",
         "name": "citroën",
         "type": "scatter",
         "uid": "8e3b2c30-9bcc-11e8-8d51-fd32757f0bd4",
         "x": [
          2010,
          2011,
          2012,
          2013,
          2014,
          2015,
          2016,
          2017
         ],
         "y": [
          0.0028291210136394203,
          0.009164955388943456,
          0.017820955712293654,
          0.0011864661358815323,
          0,
          0,
          0,
          0,
          1.587786664902119
         ]
        }
       ],
       "layout": {
        "title": "topic trend of BMW - decay",
        "xaxis": {
         "title": "years"
        },
        "yaxis": {
         "title": "corelation"
        }
       }
      },
      "text/html": [
       "<div id=\"88ce834b-073e-4f1c-8139-bb58443ad2d4\" style=\"height: 525px; width: 100%;\" class=\"plotly-graph-div\"></div><script type=\"text/javascript\">require([\"plotly\"], function(Plotly) { window.PLOTLYENV=window.PLOTLYENV || {};window.PLOTLYENV.BASE_URL=\"https://plot.ly\";Plotly.newPlot(\"88ce834b-073e-4f1c-8139-bb58443ad2d4\", [{\"mode\": \"lines+markers\", \"name\": \"husqvarna\", \"x\": [2010.0, 2011.0, 2012.0, 2013.0, 2014.0, 2015.0, 2016.0, 2017.0], \"y\": [0.017836753624268252, 0.014445569000219262, 0.02106670200236513, 0.013090543699845778, 0.0, 0.0, 0.0009792555672832244, 0.0009792555672832244, 1.251314428280906], \"type\": \"scatter\", \"uid\": \"8e416852-9bcc-11e8-8d51-fd32757f0bd4\"}, {\"mode\": \"lines+markers\", \"name\": \"citro\\u00ebn\", \"x\": [2010.0, 2011.0, 2012.0, 2013.0, 2014.0, 2015.0, 2016.0, 2017.0], \"y\": [0.0028291210136394203, 0.009164955388943456, 0.017820955712293654, 0.0011864661358815323, 0.0, 0.0, 0.0, 0.0, 1.587786664902119], \"type\": \"scatter\", \"uid\": \"8e416b0e-9bcc-11e8-8d51-fd32757f0bd4\"}], {\"title\": \"topic trend of BMW - decay\", \"xaxis\": {\"title\": \"years\"}, \"yaxis\": {\"title\": \"corelation\"}}, {\"showLink\": true, \"linkText\": \"Export to plot.ly\"})});</script>"
      ],
      "text/vnd.plotly.v1+html": [
       "<div id=\"88ce834b-073e-4f1c-8139-bb58443ad2d4\" style=\"height: 525px; width: 100%;\" class=\"plotly-graph-div\"></div><script type=\"text/javascript\">require([\"plotly\"], function(Plotly) { window.PLOTLYENV=window.PLOTLYENV || {};window.PLOTLYENV.BASE_URL=\"https://plot.ly\";Plotly.newPlot(\"88ce834b-073e-4f1c-8139-bb58443ad2d4\", [{\"mode\": \"lines+markers\", \"name\": \"husqvarna\", \"x\": [2010.0, 2011.0, 2012.0, 2013.0, 2014.0, 2015.0, 2016.0, 2017.0], \"y\": [0.017836753624268252, 0.014445569000219262, 0.02106670200236513, 0.013090543699845778, 0.0, 0.0, 0.0009792555672832244, 0.0009792555672832244, 1.251314428280906], \"type\": \"scatter\", \"uid\": \"8e416852-9bcc-11e8-8d51-fd32757f0bd4\"}, {\"mode\": \"lines+markers\", \"name\": \"citro\\u00ebn\", \"x\": [2010.0, 2011.0, 2012.0, 2013.0, 2014.0, 2015.0, 2016.0, 2017.0], \"y\": [0.0028291210136394203, 0.009164955388943456, 0.017820955712293654, 0.0011864661358815323, 0.0, 0.0, 0.0, 0.0, 1.587786664902119], \"type\": \"scatter\", \"uid\": \"8e416b0e-9bcc-11e8-8d51-fd32757f0bd4\"}], {\"title\": \"topic trend of BMW - decay\", \"xaxis\": {\"title\": \"years\"}, \"yaxis\": {\"title\": \"corelation\"}}, {\"showLink\": true, \"linkText\": \"Export to plot.ly\"})});</script>"
      ]
     },
     "metadata": {},
     "output_type": "display_data"
    },
    {
     "data": {
      "application/vnd.plotly.v1+json": {
       "data": [
        {
         "mode": "lines+markers",
         "name": "Drivenow",
         "type": "scatter",
         "uid": "8e48c1e2-9bcc-11e8-8d51-fd32757f0bd4",
         "x": [
          2010,
          2011,
          2012,
          2013,
          2014,
          2015,
          2016,
          2017
         ],
         "y": [
          0,
          0.01013888890656666,
          0.011649617644813773,
          0.007517323161520712,
          0.01481426393051123,
          0.014853060750597872,
          0.013996101839056321,
          0.013996101839056321,
          1.1177830356563834
         ]
        },
        {
         "mode": "lines+markers",
         "name": "co2",
         "type": "scatter",
         "uid": "8e48c3f4-9bcc-11e8-8d51-fd32757f0bd4",
         "x": [
          2010,
          2011,
          2012,
          2013,
          2014,
          2015,
          2016,
          2017
         ],
         "y": [
          0,
          0,
          0,
          0.0011864661358815323,
          0.0011690745564546922,
          0,
          0.027336595594754202,
          0.027336595594754202,
          1.587786664902119
         ]
        },
        {
         "mode": "lines+markers",
         "name": "brexit",
         "type": "scatter",
         "uid": "8e48c552-9bcc-11e8-8d51-fd32757f0bd4",
         "x": [
          2010,
          2011,
          2012,
          2013,
          2014,
          2015,
          2016,
          2017
         ],
         "y": [
          0,
          0,
          0,
          0,
          0,
          0,
          0.01806568751131257,
          0.01806568751131257,
          2.09861228866811
         ]
        },
        {
         "mode": "lines+markers",
         "name": "HERE / Amsterdam",
         "type": "scatter",
         "uid": "8e48c674-9bcc-11e8-8d51-fd32757f0bd4",
         "x": [
          2010,
          2011,
          2012,
          2013,
          2014,
          2015,
          2016,
          2017
         ],
         "y": [
          0,
          0,
          0,
          0,
          0,
          0.01899755963734115,
          0.01700640660200062,
          0.01700640660200062,
          1.8109302162163288
         ]
        }
       ],
       "layout": {
        "title": "topic trend of BMW - increase",
        "xaxis": {
         "title": "years"
        },
        "yaxis": {
         "title": "corelation"
        }
       }
      },
      "text/html": [
       "<div id=\"29090676-475a-4a85-b886-93d26e571b36\" style=\"height: 525px; width: 100%;\" class=\"plotly-graph-div\"></div><script type=\"text/javascript\">require([\"plotly\"], function(Plotly) { window.PLOTLYENV=window.PLOTLYENV || {};window.PLOTLYENV.BASE_URL=\"https://plot.ly\";Plotly.newPlot(\"29090676-475a-4a85-b886-93d26e571b36\", [{\"mode\": \"lines+markers\", \"name\": \"Drivenow\", \"x\": [2010.0, 2011.0, 2012.0, 2013.0, 2014.0, 2015.0, 2016.0, 2017.0], \"y\": [0.0, 0.01013888890656666, 0.011649617644813773, 0.007517323161520712, 0.01481426393051123, 0.014853060750597872, 0.013996101839056321, 0.013996101839056321, 1.1177830356563834], \"type\": \"scatter\", \"uid\": \"8e4eaed6-9bcc-11e8-8d51-fd32757f0bd4\"}, {\"mode\": \"lines+markers\", \"name\": \"co2\", \"x\": [2010.0, 2011.0, 2012.0, 2013.0, 2014.0, 2015.0, 2016.0, 2017.0], \"y\": [0.0, 0.0, 0.0, 0.0011864661358815323, 0.0011690745564546922, 0.0, 0.027336595594754202, 0.027336595594754202, 1.587786664902119], \"type\": \"scatter\", \"uid\": \"8e4eb0c0-9bcc-11e8-8d51-fd32757f0bd4\"}, {\"mode\": \"lines+markers\", \"name\": \"brexit\", \"x\": [2010.0, 2011.0, 2012.0, 2013.0, 2014.0, 2015.0, 2016.0, 2017.0], \"y\": [0.0, 0.0, 0.0, 0.0, 0.0, 0.0, 0.01806568751131257, 0.01806568751131257, 2.09861228866811], \"type\": \"scatter\", \"uid\": \"8e4eb1f6-9bcc-11e8-8d51-fd32757f0bd4\"}, {\"mode\": \"lines+markers\", \"name\": \"HERE / Amsterdam\", \"x\": [2010.0, 2011.0, 2012.0, 2013.0, 2014.0, 2015.0, 2016.0, 2017.0], \"y\": [0.0, 0.0, 0.0, 0.0, 0.0, 0.01899755963734115, 0.01700640660200062, 0.01700640660200062, 1.8109302162163288], \"type\": \"scatter\", \"uid\": \"8e4eb2fa-9bcc-11e8-8d51-fd32757f0bd4\"}], {\"title\": \"topic trend of BMW - increase\", \"xaxis\": {\"title\": \"years\"}, \"yaxis\": {\"title\": \"corelation\"}}, {\"showLink\": true, \"linkText\": \"Export to plot.ly\"})});</script>"
      ],
      "text/vnd.plotly.v1+html": [
       "<div id=\"29090676-475a-4a85-b886-93d26e571b36\" style=\"height: 525px; width: 100%;\" class=\"plotly-graph-div\"></div><script type=\"text/javascript\">require([\"plotly\"], function(Plotly) { window.PLOTLYENV=window.PLOTLYENV || {};window.PLOTLYENV.BASE_URL=\"https://plot.ly\";Plotly.newPlot(\"29090676-475a-4a85-b886-93d26e571b36\", [{\"mode\": \"lines+markers\", \"name\": \"Drivenow\", \"x\": [2010.0, 2011.0, 2012.0, 2013.0, 2014.0, 2015.0, 2016.0, 2017.0], \"y\": [0.0, 0.01013888890656666, 0.011649617644813773, 0.007517323161520712, 0.01481426393051123, 0.014853060750597872, 0.013996101839056321, 0.013996101839056321, 1.1177830356563834], \"type\": \"scatter\", \"uid\": \"8e4eaed6-9bcc-11e8-8d51-fd32757f0bd4\"}, {\"mode\": \"lines+markers\", \"name\": \"co2\", \"x\": [2010.0, 2011.0, 2012.0, 2013.0, 2014.0, 2015.0, 2016.0, 2017.0], \"y\": [0.0, 0.0, 0.0, 0.0011864661358815323, 0.0011690745564546922, 0.0, 0.027336595594754202, 0.027336595594754202, 1.587786664902119], \"type\": \"scatter\", \"uid\": \"8e4eb0c0-9bcc-11e8-8d51-fd32757f0bd4\"}, {\"mode\": \"lines+markers\", \"name\": \"brexit\", \"x\": [2010.0, 2011.0, 2012.0, 2013.0, 2014.0, 2015.0, 2016.0, 2017.0], \"y\": [0.0, 0.0, 0.0, 0.0, 0.0, 0.0, 0.01806568751131257, 0.01806568751131257, 2.09861228866811], \"type\": \"scatter\", \"uid\": \"8e4eb1f6-9bcc-11e8-8d51-fd32757f0bd4\"}, {\"mode\": \"lines+markers\", \"name\": \"HERE / Amsterdam\", \"x\": [2010.0, 2011.0, 2012.0, 2013.0, 2014.0, 2015.0, 2016.0, 2017.0], \"y\": [0.0, 0.0, 0.0, 0.0, 0.0, 0.01899755963734115, 0.01700640660200062, 0.01700640660200062, 1.8109302162163288], \"type\": \"scatter\", \"uid\": \"8e4eb2fa-9bcc-11e8-8d51-fd32757f0bd4\"}], {\"title\": \"topic trend of BMW - increase\", \"xaxis\": {\"title\": \"years\"}, \"yaxis\": {\"title\": \"corelation\"}}, {\"showLink\": true, \"linkText\": \"Export to plot.ly\"})});</script>"
      ]
     },
     "metadata": {},
     "output_type": "display_data"
    },
    {
     "data": {
      "application/vnd.plotly.v1+json": {
       "data": [
        {
         "mode": "lines+markers",
         "name": "husqvarna",
         "type": "scatter",
         "uid": "8e552acc-9bcc-11e8-8d51-fd32757f0bd4",
         "x": [
          2010,
          2011,
          2012,
          2013,
          2014,
          2015,
          2016,
          2017
         ],
         "y": [
          0.017836753624268252,
          0.014445569000219262,
          0.02106670200236513,
          0.013090543699845778,
          0,
          0,
          0.0009792555672832244,
          0.0009792555672832244,
          1.251314428280906
         ]
        },
        {
         "mode": "lines+markers",
         "name": "citroën",
         "type": "scatter",
         "uid": "8e552c52-9bcc-11e8-8d51-fd32757f0bd4",
         "x": [
          2010,
          2011,
          2012,
          2013,
          2014,
          2015,
          2016,
          2017
         ],
         "y": [
          0.0028291210136394203,
          0.009164955388943456,
          0.017820955712293654,
          0.0011864661358815323,
          0,
          0,
          0,
          0,
          1.587786664902119
         ]
        },
        {
         "mode": "lines+markers",
         "name": "Drivenow",
         "type": "scatter",
         "uid": "8e552d56-9bcc-11e8-8d51-fd32757f0bd4",
         "x": [
          2010,
          2011,
          2012,
          2013,
          2014,
          2015,
          2016,
          2017
         ],
         "y": [
          0,
          0.01013888890656666,
          0.011649617644813773,
          0.007517323161520712,
          0.01481426393051123,
          0.014853060750597872,
          0.013996101839056321,
          0.013996101839056321,
          1.1177830356563834
         ]
        },
        {
         "mode": "lines+markers",
         "name": "co2",
         "type": "scatter",
         "uid": "8e552e32-9bcc-11e8-8d51-fd32757f0bd4",
         "x": [
          2010,
          2011,
          2012,
          2013,
          2014,
          2015,
          2016,
          2017
         ],
         "y": [
          0,
          0,
          0,
          0.0011864661358815323,
          0.0011690745564546922,
          0,
          0.027336595594754202,
          0.027336595594754202,
          1.587786664902119
         ]
        },
        {
         "mode": "lines+markers",
         "name": "brexit",
         "type": "scatter",
         "uid": "8e552f04-9bcc-11e8-8d51-fd32757f0bd4",
         "x": [
          2010,
          2011,
          2012,
          2013,
          2014,
          2015,
          2016,
          2017
         ],
         "y": [
          0,
          0,
          0,
          0,
          0,
          0,
          0.01806568751131257,
          0.01806568751131257,
          2.09861228866811
         ]
        },
        {
         "mode": "lines+markers",
         "name": "HERE / Amsterdam",
         "type": "scatter",
         "uid": "8e552fcc-9bcc-11e8-8d51-fd32757f0bd4",
         "x": [
          2010,
          2011,
          2012,
          2013,
          2014,
          2015,
          2016,
          2017
         ],
         "y": [
          0,
          0,
          0,
          0,
          0,
          0.01899755963734115,
          0.01700640660200062,
          0.01700640660200062,
          1.8109302162163288
         ]
        }
       ],
       "layout": {
        "title": "all topics trend of BMW",
        "xaxis": {
         "title": "years"
        },
        "yaxis": {
         "title": "corelation"
        }
       }
      },
      "text/html": [
       "<div id=\"8cdacc52-1a5d-4f7a-a9f2-43e962be4f83\" style=\"height: 525px; width: 100%;\" class=\"plotly-graph-div\"></div><script type=\"text/javascript\">require([\"plotly\"], function(Plotly) { window.PLOTLYENV=window.PLOTLYENV || {};window.PLOTLYENV.BASE_URL=\"https://plot.ly\";Plotly.newPlot(\"8cdacc52-1a5d-4f7a-a9f2-43e962be4f83\", [{\"mode\": \"lines+markers\", \"name\": \"husqvarna\", \"x\": [2010.0, 2011.0, 2012.0, 2013.0, 2014.0, 2015.0, 2016.0, 2017.0], \"y\": [0.017836753624268252, 0.014445569000219262, 0.02106670200236513, 0.013090543699845778, 0.0, 0.0, 0.0009792555672832244, 0.0009792555672832244, 1.251314428280906], \"type\": \"scatter\", \"uid\": \"8e5a9e12-9bcc-11e8-8d51-fd32757f0bd4\"}, {\"mode\": \"lines+markers\", \"name\": \"citro\\u00ebn\", \"x\": [2010.0, 2011.0, 2012.0, 2013.0, 2014.0, 2015.0, 2016.0, 2017.0], \"y\": [0.0028291210136394203, 0.009164955388943456, 0.017820955712293654, 0.0011864661358815323, 0.0, 0.0, 0.0, 0.0, 1.587786664902119], \"type\": \"scatter\", \"uid\": \"8e5a9f7a-9bcc-11e8-8d51-fd32757f0bd4\"}, {\"mode\": \"lines+markers\", \"name\": \"Drivenow\", \"x\": [2010.0, 2011.0, 2012.0, 2013.0, 2014.0, 2015.0, 2016.0, 2017.0], \"y\": [0.0, 0.01013888890656666, 0.011649617644813773, 0.007517323161520712, 0.01481426393051123, 0.014853060750597872, 0.013996101839056321, 0.013996101839056321, 1.1177830356563834], \"type\": \"scatter\", \"uid\": \"8e5aa06a-9bcc-11e8-8d51-fd32757f0bd4\"}, {\"mode\": \"lines+markers\", \"name\": \"co2\", \"x\": [2010.0, 2011.0, 2012.0, 2013.0, 2014.0, 2015.0, 2016.0, 2017.0], \"y\": [0.0, 0.0, 0.0, 0.0011864661358815323, 0.0011690745564546922, 0.0, 0.027336595594754202, 0.027336595594754202, 1.587786664902119], \"type\": \"scatter\", \"uid\": \"8e5aa132-9bcc-11e8-8d51-fd32757f0bd4\"}, {\"mode\": \"lines+markers\", \"name\": \"brexit\", \"x\": [2010.0, 2011.0, 2012.0, 2013.0, 2014.0, 2015.0, 2016.0, 2017.0], \"y\": [0.0, 0.0, 0.0, 0.0, 0.0, 0.0, 0.01806568751131257, 0.01806568751131257, 2.09861228866811], \"type\": \"scatter\", \"uid\": \"8e5aa1e6-9bcc-11e8-8d51-fd32757f0bd4\"}, {\"mode\": \"lines+markers\", \"name\": \"HERE / Amsterdam\", \"x\": [2010.0, 2011.0, 2012.0, 2013.0, 2014.0, 2015.0, 2016.0, 2017.0], \"y\": [0.0, 0.0, 0.0, 0.0, 0.0, 0.01899755963734115, 0.01700640660200062, 0.01700640660200062, 1.8109302162163288], \"type\": \"scatter\", \"uid\": \"8e5aa29a-9bcc-11e8-8d51-fd32757f0bd4\"}], {\"title\": \"all topics trend of BMW\", \"xaxis\": {\"title\": \"years\"}, \"yaxis\": {\"title\": \"corelation\"}}, {\"showLink\": true, \"linkText\": \"Export to plot.ly\"})});</script>"
      ],
      "text/vnd.plotly.v1+html": [
       "<div id=\"8cdacc52-1a5d-4f7a-a9f2-43e962be4f83\" style=\"height: 525px; width: 100%;\" class=\"plotly-graph-div\"></div><script type=\"text/javascript\">require([\"plotly\"], function(Plotly) { window.PLOTLYENV=window.PLOTLYENV || {};window.PLOTLYENV.BASE_URL=\"https://plot.ly\";Plotly.newPlot(\"8cdacc52-1a5d-4f7a-a9f2-43e962be4f83\", [{\"mode\": \"lines+markers\", \"name\": \"husqvarna\", \"x\": [2010.0, 2011.0, 2012.0, 2013.0, 2014.0, 2015.0, 2016.0, 2017.0], \"y\": [0.017836753624268252, 0.014445569000219262, 0.02106670200236513, 0.013090543699845778, 0.0, 0.0, 0.0009792555672832244, 0.0009792555672832244, 1.251314428280906], \"type\": \"scatter\", \"uid\": \"8e5a9e12-9bcc-11e8-8d51-fd32757f0bd4\"}, {\"mode\": \"lines+markers\", \"name\": \"citro\\u00ebn\", \"x\": [2010.0, 2011.0, 2012.0, 2013.0, 2014.0, 2015.0, 2016.0, 2017.0], \"y\": [0.0028291210136394203, 0.009164955388943456, 0.017820955712293654, 0.0011864661358815323, 0.0, 0.0, 0.0, 0.0, 1.587786664902119], \"type\": \"scatter\", \"uid\": \"8e5a9f7a-9bcc-11e8-8d51-fd32757f0bd4\"}, {\"mode\": \"lines+markers\", \"name\": \"Drivenow\", \"x\": [2010.0, 2011.0, 2012.0, 2013.0, 2014.0, 2015.0, 2016.0, 2017.0], \"y\": [0.0, 0.01013888890656666, 0.011649617644813773, 0.007517323161520712, 0.01481426393051123, 0.014853060750597872, 0.013996101839056321, 0.013996101839056321, 1.1177830356563834], \"type\": \"scatter\", \"uid\": \"8e5aa06a-9bcc-11e8-8d51-fd32757f0bd4\"}, {\"mode\": \"lines+markers\", \"name\": \"co2\", \"x\": [2010.0, 2011.0, 2012.0, 2013.0, 2014.0, 2015.0, 2016.0, 2017.0], \"y\": [0.0, 0.0, 0.0, 0.0011864661358815323, 0.0011690745564546922, 0.0, 0.027336595594754202, 0.027336595594754202, 1.587786664902119], \"type\": \"scatter\", \"uid\": \"8e5aa132-9bcc-11e8-8d51-fd32757f0bd4\"}, {\"mode\": \"lines+markers\", \"name\": \"brexit\", \"x\": [2010.0, 2011.0, 2012.0, 2013.0, 2014.0, 2015.0, 2016.0, 2017.0], \"y\": [0.0, 0.0, 0.0, 0.0, 0.0, 0.0, 0.01806568751131257, 0.01806568751131257, 2.09861228866811], \"type\": \"scatter\", \"uid\": \"8e5aa1e6-9bcc-11e8-8d51-fd32757f0bd4\"}, {\"mode\": \"lines+markers\", \"name\": \"HERE / Amsterdam\", \"x\": [2010.0, 2011.0, 2012.0, 2013.0, 2014.0, 2015.0, 2016.0, 2017.0], \"y\": [0.0, 0.0, 0.0, 0.0, 0.0, 0.01899755963734115, 0.01700640660200062, 0.01700640660200062, 1.8109302162163288], \"type\": \"scatter\", \"uid\": \"8e5aa29a-9bcc-11e8-8d51-fd32757f0bd4\"}], {\"title\": \"all topics trend of BMW\", \"xaxis\": {\"title\": \"years\"}, \"yaxis\": {\"title\": \"corelation\"}}, {\"showLink\": true, \"linkText\": \"Export to plot.ly\"})});</script>"
      ]
     },
     "metadata": {},
     "output_type": "display_data"
    }
   ],
   "source": [
    "decay = [line1, line3]\n",
    "increase = [line6, line7, line8, line9]\n",
    "total = [line1, line3, line6, line7, line8, line9]\n",
    "\n",
    "\n",
    "layout_decay = dict(title = 'topic trend of BMW - decay',\n",
    "              xaxis = dict(title = 'years'),\n",
    "              yaxis = dict(title = 'corelation'),\n",
    "              )\n",
    "fig_decay = dict(data=decay, layout=layout_decay)\n",
    "\n",
    "\n",
    "layout_increase = dict(title = 'topic trend of BMW - increase',\n",
    "              xaxis = dict(title = 'years'),\n",
    "              yaxis = dict(title = 'corelation'),\n",
    "              )\n",
    "fig_increase = dict(data=increase, layout=layout_increase)\n",
    "\n",
    "\n",
    "layout_total = dict(title = 'all topics trend of BMW',\n",
    "              xaxis = dict(title = 'years'),\n",
    "              yaxis = dict(title = 'corelation'),\n",
    "              )\n",
    "fig_total = dict(data=total, layout=layout_total)\n",
    "\n",
    "\n",
    "py.offline.iplot(fig_decay, filename='topic trend of BMW - decay')\n",
    "py.offline.iplot(fig_increase, filename='topic trend of BMW - increase')\n",
    "py.offline.iplot(fig_total, filename='all topics trend of BMW')"
   ]
  },
  {
   "cell_type": "markdown",
   "metadata": {},
   "source": [
    "## Deutsche Bank"
   ]
  },
  {
   "cell_type": "code",
   "execution_count": 24,
   "metadata": {},
   "outputs": [],
   "source": [
    "key_co = ['Goodwill', 'ABN AMRO', 'Deutsche Bank National Trust Co.', \n",
    "          'klage (lawsuit)', 'gericht (judgement)', 'court']\n",
    "key_ser = ['PCAM', \n",
    "           'special purpose entities', \n",
    "           'CIB',\n",
    "           'Incremental Risk Charge',\n",
    "           'non-core operations unit',\n",
    "           'exposure at defaut',\n",
    "           'PWCC',\n",
    "           'global market'\n",
    "          ]"
   ]
  },
  {
   "cell_type": "code",
   "execution_count": 25,
   "metadata": {},
   "outputs": [],
   "source": [
    "y1 = df_db.loc['goodwill'].tolist()\n",
    "y2 = df_db.loc['amro'].tolist()\n",
    "y3 = df_db.loc['dbntc'].tolist()\n",
    "y4 = df_db.loc['klage'].tolist()\n",
    "y5 = df_db.loc['gericht'].tolist()\n",
    "y6 = df_db.loc['court'].tolist()\n",
    "\n",
    "y7 = df_db.loc['pcam'].tolist()\n",
    "y8 = df_db.loc['spe'].tolist()\n",
    "y9 = df_db.loc['cib'].tolist()\n",
    "y10 = df_db.loc['irc'].tolist()\n",
    "y11 = df_db.loc['ncou'].tolist()\n",
    "y12 = df_db.loc['ead'].tolist()\n",
    "y13 = df_db.loc['pwcc'].tolist()\n",
    "y14 = df_db.loc['gm'].tolist()"
   ]
  },
  {
   "cell_type": "code",
   "execution_count": 29,
   "metadata": {},
   "outputs": [],
   "source": [
    "years = np.linspace(2010, 2016, 7)\n",
    "\n",
    "line1 = go.Scatter(x=years, y=y1, mode='lines+markers', name=key_co[0])\n",
    "line2 = go.Scatter(x=years, y=y2, mode='lines+markers', name=key_co[1])\n",
    "line3 = go.Scatter(x=years, y=y3, mode='lines+markers', name=key_co[2])\n",
    "#line4 = go.Scatter(x=years, y=y4, mode='lines+markers', name=key_co[3])\n",
    "#line5 = go.Scatter(x=years, y=y5, mode='lines+markers', name=key_co[4])\n",
    "#line6 = go.Scatter(x=years, y=y6, mode='lines+markers', name=key_co[5])\n",
    "\n",
    "line7 = go.Scatter(x=years, y=y7, mode='lines+markers', name=key_ser[0])\n",
    "line8 = go.Scatter(x=years, y=y8, mode='lines+markers', name=key_ser[1])\n",
    "line9 = go.Scatter(x=years, y=y9, mode='lines+markers', name=key_ser[2])\n",
    "line10 = go.Scatter(x=years, y=y10, mode='lines+markers', name=key_ser[3])\n",
    "line11 = go.Scatter(x=years, y=y11, mode='lines+markers', name=key_ser[4])\n",
    "line12 = go.Scatter(x=years, y=y12, mode='lines+markers', name=key_ser[5])\n",
    "line13 = go.Scatter(x=years, y=y13, mode='lines+markers', name=key_ser[6])\n",
    "line14 = go.Scatter(x=years, y=y14, mode='lines+markers', name=key_ser[7])"
   ]
  },
  {
   "cell_type": "code",
   "execution_count": 30,
   "metadata": {},
   "outputs": [],
   "source": [
    "company = [line1, line2, line3]#, line4, line5, line6]\n",
    "service = [line7, line8, line9, line10, line11, line12, line13, line14]\n",
    "\n",
    "\n",
    "layout_company = dict(title = 'Deutsche Bank - topic trend about company',\n",
    "              xaxis = dict(title = 'years'),\n",
    "              yaxis = dict(title = 'corelation'),\n",
    "              )\n",
    "fig_company = dict(data=company, layout=layout_company)\n",
    "\n",
    "\n",
    "layout_service = dict(title = 'Deutsche Bank - topic trend about service',\n",
    "              xaxis = dict(title = 'years'),\n",
    "              yaxis = dict(title = 'corelation'),\n",
    "              )\n",
    "fig_service = dict(data=service, layout=layout_service)"
   ]
  },
  {
   "cell_type": "code",
   "execution_count": 32,
   "metadata": {},
   "outputs": [
    {
     "data": {
      "application/vnd.plotly.v1+json": {
       "data": [
        {
         "mode": "lines+markers",
         "name": "Goodwill",
         "type": "scatter",
         "uid": "5dd1755e-9bcc-11e8-8d51-fd32757f0bd4",
         "x": [
          2010,
          2011,
          2012,
          2013,
          2014,
          2015,
          2016
         ],
         "y": [
          0.049839000706234544,
          0.0011954773700815439,
          0.0006655136399644355,
          0,
          0,
          0.001256351187784299,
          0.0006239656450679151,
          1.2876820724517808
         ]
        },
        {
         "mode": "lines+markers",
         "name": "ABN AMRO",
         "type": "scatter",
         "uid": "5dd1781a-9bcc-11e8-8d51-fd32757f0bd4",
         "x": [
          2010,
          2011,
          2012,
          2013,
          2014,
          2015,
          2016
         ],
         "y": [
          0.021694623836831507,
          0.013747989755937755,
          0.0033275681998221774,
          0.001328674995850737,
          0.0006236323183508977,
          0,
          0,
          1.2876820724517808
         ]
        },
        {
         "mode": "lines+markers",
         "name": "Deutsche Bank National Trust Co.",
         "type": "scatter",
         "uid": "5dd17a18-9bcc-11e8-8d51-fd32757f0bd4",
         "x": [
          2010,
          2011,
          2012,
          2013,
          2014,
          2015,
          2016
         ],
         "y": [
          0,
          0,
          0,
          0,
          0,
          0.027938794699107358,
          0,
          2.386294361119891
         ]
        }
       ],
       "layout": {
        "title": "Deutsche Bank - topic trend about company",
        "xaxis": {
         "title": "years"
        },
        "yaxis": {
         "title": "corelation"
        }
       }
      },
      "text/html": [
       "<div id=\"96ab20d5-d456-499e-b085-780492c1c217\" style=\"height: 525px; width: 100%;\" class=\"plotly-graph-div\"></div><script type=\"text/javascript\">require([\"plotly\"], function(Plotly) { window.PLOTLYENV=window.PLOTLYENV || {};window.PLOTLYENV.BASE_URL=\"https://plot.ly\";Plotly.newPlot(\"96ab20d5-d456-499e-b085-780492c1c217\", [{\"mode\": \"lines+markers\", \"name\": \"Goodwill\", \"x\": [2010.0, 2011.0, 2012.0, 2013.0, 2014.0, 2015.0, 2016.0], \"y\": [0.049839000706234544, 0.0011954773700815439, 0.0006655136399644355, 0.0, 0.0, 0.001256351187784299, 0.0006239656450679151, 1.2876820724517808], \"type\": \"scatter\", \"uid\": \"5dd875ca-9bcc-11e8-8d51-fd32757f0bd4\"}, {\"mode\": \"lines+markers\", \"name\": \"ABN AMRO\", \"x\": [2010.0, 2011.0, 2012.0, 2013.0, 2014.0, 2015.0, 2016.0], \"y\": [0.021694623836831507, 0.013747989755937755, 0.0033275681998221774, 0.001328674995850737, 0.0006236323183508977, 0.0, 0.0, 1.2876820724517808], \"type\": \"scatter\", \"uid\": \"5dd87822-9bcc-11e8-8d51-fd32757f0bd4\"}, {\"mode\": \"lines+markers\", \"name\": \"Deutsche Bank National Trust Co.\", \"x\": [2010.0, 2011.0, 2012.0, 2013.0, 2014.0, 2015.0, 2016.0], \"y\": [0.0, 0.0, 0.0, 0.0, 0.0, 0.027938794699107358, 0.0, 2.386294361119891], \"type\": \"scatter\", \"uid\": \"5dd87994-9bcc-11e8-8d51-fd32757f0bd4\"}], {\"title\": \"Deutsche Bank - topic trend about company\", \"xaxis\": {\"title\": \"years\"}, \"yaxis\": {\"title\": \"corelation\"}}, {\"showLink\": true, \"linkText\": \"Export to plot.ly\"})});</script>"
      ],
      "text/vnd.plotly.v1+html": [
       "<div id=\"96ab20d5-d456-499e-b085-780492c1c217\" style=\"height: 525px; width: 100%;\" class=\"plotly-graph-div\"></div><script type=\"text/javascript\">require([\"plotly\"], function(Plotly) { window.PLOTLYENV=window.PLOTLYENV || {};window.PLOTLYENV.BASE_URL=\"https://plot.ly\";Plotly.newPlot(\"96ab20d5-d456-499e-b085-780492c1c217\", [{\"mode\": \"lines+markers\", \"name\": \"Goodwill\", \"x\": [2010.0, 2011.0, 2012.0, 2013.0, 2014.0, 2015.0, 2016.0], \"y\": [0.049839000706234544, 0.0011954773700815439, 0.0006655136399644355, 0.0, 0.0, 0.001256351187784299, 0.0006239656450679151, 1.2876820724517808], \"type\": \"scatter\", \"uid\": \"5dd875ca-9bcc-11e8-8d51-fd32757f0bd4\"}, {\"mode\": \"lines+markers\", \"name\": \"ABN AMRO\", \"x\": [2010.0, 2011.0, 2012.0, 2013.0, 2014.0, 2015.0, 2016.0], \"y\": [0.021694623836831507, 0.013747989755937755, 0.0033275681998221774, 0.001328674995850737, 0.0006236323183508977, 0.0, 0.0, 1.2876820724517808], \"type\": \"scatter\", \"uid\": \"5dd87822-9bcc-11e8-8d51-fd32757f0bd4\"}, {\"mode\": \"lines+markers\", \"name\": \"Deutsche Bank National Trust Co.\", \"x\": [2010.0, 2011.0, 2012.0, 2013.0, 2014.0, 2015.0, 2016.0], \"y\": [0.0, 0.0, 0.0, 0.0, 0.0, 0.027938794699107358, 0.0, 2.386294361119891], \"type\": \"scatter\", \"uid\": \"5dd87994-9bcc-11e8-8d51-fd32757f0bd4\"}], {\"title\": \"Deutsche Bank - topic trend about company\", \"xaxis\": {\"title\": \"years\"}, \"yaxis\": {\"title\": \"corelation\"}}, {\"showLink\": true, \"linkText\": \"Export to plot.ly\"})});</script>"
      ]
     },
     "metadata": {},
     "output_type": "display_data"
    }
   ],
   "source": [
    "py.offline.iplot(fig_company, filename='Deutsche Bank - topic trend about company')\n",
    "#py.offline.iplot(fig_service, filename='Deutsche Bank - topic trend about service')"
   ]
  },
  {
   "cell_type": "code",
   "execution_count": null,
   "metadata": {},
   "outputs": [],
   "source": []
  }
 ],
 "metadata": {
  "kernelspec": {
   "display_name": "Python 3",
   "language": "python",
   "name": "python3"
  },
  "language_info": {
   "codemirror_mode": {
    "name": "ipython",
    "version": 3
   },
   "file_extension": ".py",
   "mimetype": "text/x-python",
   "name": "python",
   "nbconvert_exporter": "python",
   "pygments_lexer": "ipython3",
   "version": "3.6.6"
  }
 },
 "nbformat": 4,
 "nbformat_minor": 1
}
