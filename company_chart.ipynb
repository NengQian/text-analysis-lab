{
 "cells": [
  {
   "cell_type": "markdown",
   "metadata": {},
   "source": [
    "# Day2"
   ]
  },
  {
   "cell_type": "code",
   "execution_count": 80,
   "metadata": {},
   "outputs": [],
   "source": [
    "import spacy\n",
    "import json\n",
    "from sklearn.feature_extraction.text import TfidfVectorizer\n",
    "from spacy.lang.de.stop_words import STOP_WORDS\n",
    "import pandas as pd\n",
    "from sklearn.cluster import KMeans\n",
    "import time\n",
    "\n",
    "voc = set()"
   ]
  },
  {
   "cell_type": "code",
   "execution_count": 81,
   "metadata": {},
   "outputs": [],
   "source": [
    "%run src/file_utils.py\n",
    "%run src/configuration.py"
   ]
  },
  {
   "cell_type": "code",
   "execution_count": 82,
   "metadata": {},
   "outputs": [],
   "source": [
    "TYPE = 'type'\n",
    "PARAGRAPH = 'paragraph'\n",
    "CONTENT = 'content'\n",
    "#FILE_PATH = 'data/jsons/'"
   ]
  },
  {
   "cell_type": "code",
   "execution_count": 83,
   "metadata": {},
   "outputs": [],
   "source": [
    "def readContentOfFile(file_name):\n",
    "    content = ''\n",
    "    try:\n",
    "        with open(file_name) as f:\n",
    "            data = json.load(f)\n",
    "            for item in data:\n",
    "                typeDoc = item[TYPE]\n",
    "                if typeDoc == PARAGRAPH:\n",
    "                    content += item[CONTENT]\n",
    "    except:\n",
    "        FileUtils.fix_json(file_name)\n",
    "        with open(file_name) as f:\n",
    "            data = json.load(f)\n",
    "            for item in data:\n",
    "                typeDoc = item[TYPE]\n",
    "                if typeDoc == PARAGRAPH:\n",
    "                    content += item[CONTENT]\n",
    "    \n",
    "    return content"
   ]
  },
  {
   "cell_type": "markdown",
   "metadata": {},
   "source": [
    "# Clustering without lemmatization"
   ]
  },
  {
   "cell_type": "code",
   "execution_count": 97,
   "metadata": {},
   "outputs": [],
   "source": [
    "nlp = spacy.load(\"de\")\n",
    "def perform_lemmatization(document):\n",
    "    content_of_document = readContentOfFile(document)\n",
    "    \n",
    "    #remove minus sign and next-line sign\n",
    "    content_of_document = content_of_document.replace('-\\n','')\n",
    "    content_of_document = content_of_document.replace('\\n',' ')\n",
    "    \n",
    "    #replace all gco2 with co2\n",
    "    content_of_document = content_of_document.replace('gCO2','CO2')\n",
    "    \n",
    "    #remove the character we don't need\n",
    "    remove_char = content_of_document.maketrans('-',' ','+*<>%/&$')\n",
    "    content_of_document = content_of_document.translate(remove_char)\n",
    "    \n",
    "    #adjust the length before tokenization\n",
    "    content_of_document = content_of_document[0:999999]\n",
    "    \n",
    "    sentence = nlp(content_of_document)\n",
    "    filtered_words = [word for word in sentence if word.lower_ not in STOP_WORDS]\n",
    "    filtered_words_withoutdigits = [word for word in filtered_words if not word.is_digit]\n",
    "    filtered_words_withoutpunc = [word for word in filtered_words_withoutdigits if word.pos_ != 'PUNCT']\n",
    "    filtered_lemmas = [word.lemma_ for word in filtered_words_withoutpunc]\n",
    "    \n",
    "    final = []  \n",
    "    for item in filtered_lemmas:\n",
    "        #remove the words contain digit except of co2\n",
    "        if(any(c.isdigit() for c in item)):\n",
    "            if 'CO2' in item:\n",
    "                final.append(item)\n",
    "        else:\n",
    "            #remove the words contain dot\n",
    "            if '.' not in item:\n",
    "                final.append(item)\n",
    "    \n",
    "    \n",
    "    for item in final:\n",
    "        if item not in voc:\n",
    "            voc.add(item.lower())\n",
    "    \n",
    "    \n",
    "    lemmatized_content = \" \".join(item for item in final)\n",
    "    \n",
    "    \n",
    "    #output the result into file \n",
    "    if document.startswith(FILE_PATH):\n",
    "        filename = \"filtered_\" + document[len(FILE_PATH):]\n",
    "    \n",
    "    with open(filename, 'w') as outfile:\n",
    "        json.dump(lemmatized_content.lower(), outfile)\n",
    "    \n",
    "    \n",
    "    return lemmatized_content.lower()"
   ]
  },
  {
   "cell_type": "markdown",
   "metadata": {},
   "source": [
    "# BMW 2010-2017"
   ]
  },
  {
   "cell_type": "code",
   "execution_count": 86,
   "metadata": {},
   "outputs": [],
   "source": [
    "voc=set()"
   ]
  },
  {
   "cell_type": "code",
   "execution_count": 87,
   "metadata": {},
   "outputs": [],
   "source": [
    "bmw_lemm_docs_prep = [\n",
    "     perform_lemmatization(FILE_PATH + 'BMW-AnnualReport-2010.json'), \n",
    "     perform_lemmatization(FILE_PATH + 'BMW-AnnualReport-2011.json'), \n",
    "     perform_lemmatization(FILE_PATH + 'BMW-AnnualReport-2012.json'),\n",
    "     perform_lemmatization(FILE_PATH + 'BMW-AnnualReport-2013.json'), \n",
    "     perform_lemmatization(FILE_PATH + 'BMW-AnnualReport-2014.json'), \n",
    "     perform_lemmatization(FILE_PATH + 'BMW-AnnualReport-2015.json'),\n",
    "     perform_lemmatization(FILE_PATH + 'BMW-AnnualReport-2016.json'), \n",
    "     perform_lemmatization(FILE_PATH + 'BMW-AnnualReport-2017.json')]"
   ]
  },
  {
   "cell_type": "code",
   "execution_count": 88,
   "metadata": {},
   "outputs": [
    {
     "name": "stdout",
     "output_type": "stream",
     "text": [
      "0.20790743827819824\n"
     ]
    }
   ],
   "source": [
    "vectorizer_bmw = TfidfVectorizer(vocabulary=voc)\n",
    "start_time = time.time()\n",
    "tfidf_matrix_bmw = vectorizer_bmw.fit_transform(bmw_lemm_docs_prep)\n",
    "print (time.time() - start_time)"
   ]
  },
  {
   "cell_type": "code",
   "execution_count": 89,
   "metadata": {},
   "outputs": [],
   "source": [
    "#bmw_lemm_docs_prep"
   ]
  },
  {
   "cell_type": "code",
   "execution_count": 90,
   "metadata": {},
   "outputs": [],
   "source": [
    "bmw_feature_names = vectorizer_bmw.get_feature_names()\n",
    "bmw_corpus_index = [n for n in [\n",
    "    'BMW-2010', 'BMW-2011', 'BMW-2012', \n",
    "    'BMW-2013', 'BMW-2014', 'BMW-2015',\n",
    "    'BMW-2016', 'BMW-2017']]\n",
    "idf = vectorizer_bmw.idf_\n",
    "df = pd.DataFrame(tfidf_matrix_bmw.T.todense(), index=bmw_feature_names, columns=bmw_corpus_index)\n",
    "df['idf'] = idf"
   ]
  },
  {
   "cell_type": "code",
   "execution_count": 91,
   "metadata": {},
   "outputs": [
    {
     "data": {
      "text/html": [
       "<div>\n",
       "<style scoped>\n",
       "    .dataframe tbody tr th:only-of-type {\n",
       "        vertical-align: middle;\n",
       "    }\n",
       "\n",
       "    .dataframe tbody tr th {\n",
       "        vertical-align: top;\n",
       "    }\n",
       "\n",
       "    .dataframe thead th {\n",
       "        text-align: right;\n",
       "    }\n",
       "</style>\n",
       "<table border=\"1\" class=\"dataframe\">\n",
       "  <thead>\n",
       "    <tr style=\"text-align: right;\">\n",
       "      <th></th>\n",
       "      <th>BMW-2010</th>\n",
       "      <th>BMW-2011</th>\n",
       "      <th>BMW-2012</th>\n",
       "      <th>BMW-2013</th>\n",
       "      <th>BMW-2014</th>\n",
       "      <th>BMW-2015</th>\n",
       "      <th>BMW-2016</th>\n",
       "      <th>BMW-2017</th>\n",
       "      <th>idf</th>\n",
       "    </tr>\n",
       "  </thead>\n",
       "  <tbody>\n",
       "    <tr>\n",
       "      <th>next</th>\n",
       "      <td>0.000000</td>\n",
       "      <td>0.000000</td>\n",
       "      <td>0.000000</td>\n",
       "      <td>0.000000</td>\n",
       "      <td>0.000000</td>\n",
       "      <td>0.007599</td>\n",
       "      <td>0.032596</td>\n",
       "      <td>0.032596</td>\n",
       "      <td>1.810930</td>\n",
       "    </tr>\n",
       "    <tr>\n",
       "      <th>co2</th>\n",
       "      <td>0.000000</td>\n",
       "      <td>0.000000</td>\n",
       "      <td>0.000000</td>\n",
       "      <td>0.001186</td>\n",
       "      <td>0.001169</td>\n",
       "      <td>0.000000</td>\n",
       "      <td>0.027337</td>\n",
       "      <td>0.027337</td>\n",
       "      <td>1.587787</td>\n",
       "    </tr>\n",
       "    <tr>\n",
       "      <th>ergebnisauswirkungen</th>\n",
       "      <td>0.000000</td>\n",
       "      <td>0.000000</td>\n",
       "      <td>0.000000</td>\n",
       "      <td>0.002100</td>\n",
       "      <td>0.016557</td>\n",
       "      <td>0.018676</td>\n",
       "      <td>0.021998</td>\n",
       "      <td>0.021998</td>\n",
       "      <td>1.405465</td>\n",
       "    </tr>\n",
       "    <tr>\n",
       "      <th>zweijährig</th>\n",
       "      <td>0.000000</td>\n",
       "      <td>0.000000</td>\n",
       "      <td>0.000000</td>\n",
       "      <td>0.000000</td>\n",
       "      <td>0.019874</td>\n",
       "      <td>0.018878</td>\n",
       "      <td>0.021124</td>\n",
       "      <td>0.021124</td>\n",
       "      <td>1.587787</td>\n",
       "    </tr>\n",
       "    <tr>\n",
       "      <th>betrachtungszeitraum</th>\n",
       "      <td>0.000996</td>\n",
       "      <td>0.000000</td>\n",
       "      <td>0.000896</td>\n",
       "      <td>0.002506</td>\n",
       "      <td>0.009876</td>\n",
       "      <td>0.017198</td>\n",
       "      <td>0.020119</td>\n",
       "      <td>0.020119</td>\n",
       "      <td>1.117783</td>\n",
       "    </tr>\n",
       "    <tr>\n",
       "      <th>there</th>\n",
       "      <td>0.000000</td>\n",
       "      <td>0.000000</td>\n",
       "      <td>0.000000</td>\n",
       "      <td>0.000000</td>\n",
       "      <td>0.000000</td>\n",
       "      <td>0.024064</td>\n",
       "      <td>0.019841</td>\n",
       "      <td>0.019841</td>\n",
       "      <td>1.810930</td>\n",
       "    </tr>\n",
       "    <tr>\n",
       "      <th>brexit</th>\n",
       "      <td>0.000000</td>\n",
       "      <td>0.000000</td>\n",
       "      <td>0.000000</td>\n",
       "      <td>0.000000</td>\n",
       "      <td>0.000000</td>\n",
       "      <td>0.000000</td>\n",
       "      <td>0.018066</td>\n",
       "      <td>0.018066</td>\n",
       "      <td>2.098612</td>\n",
       "    </tr>\n",
       "    <tr>\n",
       "      <th>here</th>\n",
       "      <td>0.000000</td>\n",
       "      <td>0.000000</td>\n",
       "      <td>0.000000</td>\n",
       "      <td>0.000000</td>\n",
       "      <td>0.000000</td>\n",
       "      <td>0.018998</td>\n",
       "      <td>0.017006</td>\n",
       "      <td>0.017006</td>\n",
       "      <td>1.810930</td>\n",
       "    </tr>\n",
       "    <tr>\n",
       "      <th>plug</th>\n",
       "      <td>0.000000</td>\n",
       "      <td>0.003687</td>\n",
       "      <td>0.000896</td>\n",
       "      <td>0.001671</td>\n",
       "      <td>0.009876</td>\n",
       "      <td>0.007036</td>\n",
       "      <td>0.016620</td>\n",
       "      <td>0.016620</td>\n",
       "      <td>1.117783</td>\n",
       "    </tr>\n",
       "    <tr>\n",
       "      <th>aktienbasierte</th>\n",
       "      <td>0.000000</td>\n",
       "      <td>0.013826</td>\n",
       "      <td>0.017026</td>\n",
       "      <td>0.016705</td>\n",
       "      <td>0.014814</td>\n",
       "      <td>0.016417</td>\n",
       "      <td>0.016620</td>\n",
       "      <td>0.016620</td>\n",
       "      <td>1.117783</td>\n",
       "    </tr>\n",
       "  </tbody>\n",
       "</table>\n",
       "</div>"
      ],
      "text/plain": [
       "                      BMW-2010  BMW-2011  BMW-2012  BMW-2013  BMW-2014  \\\n",
       "next                  0.000000  0.000000  0.000000  0.000000  0.000000   \n",
       "co2                   0.000000  0.000000  0.000000  0.001186  0.001169   \n",
       "ergebnisauswirkungen  0.000000  0.000000  0.000000  0.002100  0.016557   \n",
       "zweijährig            0.000000  0.000000  0.000000  0.000000  0.019874   \n",
       "betrachtungszeitraum  0.000996  0.000000  0.000896  0.002506  0.009876   \n",
       "there                 0.000000  0.000000  0.000000  0.000000  0.000000   \n",
       "brexit                0.000000  0.000000  0.000000  0.000000  0.000000   \n",
       "here                  0.000000  0.000000  0.000000  0.000000  0.000000   \n",
       "plug                  0.000000  0.003687  0.000896  0.001671  0.009876   \n",
       "aktienbasierte        0.000000  0.013826  0.017026  0.016705  0.014814   \n",
       "\n",
       "                      BMW-2015  BMW-2016  BMW-2017       idf  \n",
       "next                  0.007599  0.032596  0.032596  1.810930  \n",
       "co2                   0.000000  0.027337  0.027337  1.587787  \n",
       "ergebnisauswirkungen  0.018676  0.021998  0.021998  1.405465  \n",
       "zweijährig            0.018878  0.021124  0.021124  1.587787  \n",
       "betrachtungszeitraum  0.017198  0.020119  0.020119  1.117783  \n",
       "there                 0.024064  0.019841  0.019841  1.810930  \n",
       "brexit                0.000000  0.018066  0.018066  2.098612  \n",
       "here                  0.018998  0.017006  0.017006  1.810930  \n",
       "plug                  0.007036  0.016620  0.016620  1.117783  \n",
       "aktienbasierte        0.016417  0.016620  0.016620  1.117783  "
      ]
     },
     "execution_count": 91,
     "metadata": {},
     "output_type": "execute_result"
    }
   ],
   "source": [
    "df = df.sort_values(by=['BMW-2016'], ascending=False)\n",
    "df[(df['idf'] != 1)].head(10)\n",
    "#df.head(10)"
   ]
  },
  {
   "cell_type": "markdown",
   "metadata": {},
   "source": [
    "# Deutsche Bank 2010-2016"
   ]
  },
  {
   "cell_type": "code",
   "execution_count": 107,
   "metadata": {},
   "outputs": [],
   "source": [
    "voc=set()"
   ]
  },
  {
   "cell_type": "code",
   "execution_count": 108,
   "metadata": {},
   "outputs": [],
   "source": [
    "db_lemm_docs_prep = [\n",
    "     perform_lemmatization(FILE_PATH + 'DeutscheBank-AnnualReport-2010.json'), \n",
    "     perform_lemmatization(FILE_PATH + 'DeutscheBank-AnnualReport-2011.json'), \n",
    "     perform_lemmatization(FILE_PATH + 'DeutscheBank-AnnualReport-2012.json'),\n",
    "     perform_lemmatization(FILE_PATH + 'DeutscheBank-AnnualReport-2013.json'), \n",
    "     perform_lemmatization(FILE_PATH + 'DeutscheBank-AnnualReport-2014.json'), \n",
    "     perform_lemmatization(FILE_PATH + 'DeutscheBank-AnnualReport-2015.json'),\n",
    "     perform_lemmatization(FILE_PATH + 'DeutscheBank-AnnualReport-2016.json')]"
   ]
  },
  {
   "cell_type": "code",
   "execution_count": 109,
   "metadata": {},
   "outputs": [
    {
     "name": "stdout",
     "output_type": "stream",
     "text": [
      "0.4131004810333252\n"
     ]
    }
   ],
   "source": [
    "vectorizer_db = TfidfVectorizer(vocabulary=voc)\n",
    "start_time = time.time()\n",
    "tfidf_matrix_db = vectorizer_db.fit_transform(db_lemm_docs_prep)\n",
    "print (time.time() - start_time)"
   ]
  },
  {
   "cell_type": "code",
   "execution_count": 113,
   "metadata": {},
   "outputs": [],
   "source": [
    "#db_lemm_docs_prep\n",
    "#voc"
   ]
  },
  {
   "cell_type": "code",
   "execution_count": 114,
   "metadata": {},
   "outputs": [],
   "source": [
    "db_feature_names = vectorizer_db.get_feature_names()\n",
    "db_corpus_index = [n for n in [\n",
    "    'DB-2010', 'DB-2011', 'DB-2012', \n",
    "    'DB-2013', 'DB-2014', 'DB-2015',\n",
    "    'DB-2016']]\n",
    "idf = vectorizer_db.idf_\n",
    "df_db = pd.DataFrame(tfidf_matrix_db.T.todense(), index=db_feature_names, columns=db_corpus_index)\n",
    "df_db['idf'] = idf"
   ]
  },
  {
   "cell_type": "code",
   "execution_count": 115,
   "metadata": {},
   "outputs": [
    {
     "data": {
      "text/html": [
       "<div>\n",
       "<style scoped>\n",
       "    .dataframe tbody tr th:only-of-type {\n",
       "        vertical-align: middle;\n",
       "    }\n",
       "\n",
       "    .dataframe tbody tr th {\n",
       "        vertical-align: top;\n",
       "    }\n",
       "\n",
       "    .dataframe thead th {\n",
       "        text-align: right;\n",
       "    }\n",
       "</style>\n",
       "<table border=\"1\" class=\"dataframe\">\n",
       "  <thead>\n",
       "    <tr style=\"text-align: right;\">\n",
       "      <th></th>\n",
       "      <th>DB-2010</th>\n",
       "      <th>DB-2011</th>\n",
       "      <th>DB-2012</th>\n",
       "      <th>DB-2013</th>\n",
       "      <th>DB-2014</th>\n",
       "      <th>DB-2015</th>\n",
       "      <th>DB-2016</th>\n",
       "      <th>idf</th>\n",
       "    </tr>\n",
       "  </thead>\n",
       "  <tbody>\n",
       "    <tr>\n",
       "      <th>beizulegenden</th>\n",
       "      <td>0.000000</td>\n",
       "      <td>0.209947</td>\n",
       "      <td>0.161107</td>\n",
       "      <td>0.117547</td>\n",
       "      <td>0.042820</td>\n",
       "      <td>0.137138</td>\n",
       "      <td>0.149401</td>\n",
       "      <td>1.133531</td>\n",
       "    </tr>\n",
       "    <tr>\n",
       "      <th>zeitwerts</th>\n",
       "      <td>0.000000</td>\n",
       "      <td>0.069982</td>\n",
       "      <td>0.043938</td>\n",
       "      <td>0.033334</td>\n",
       "      <td>0.002745</td>\n",
       "      <td>0.045897</td>\n",
       "      <td>0.050533</td>\n",
       "      <td>1.133531</td>\n",
       "    </tr>\n",
       "    <tr>\n",
       "      <th>pwcc</th>\n",
       "      <td>0.000000</td>\n",
       "      <td>0.000000</td>\n",
       "      <td>0.000000</td>\n",
       "      <td>0.000000</td>\n",
       "      <td>0.000000</td>\n",
       "      <td>0.006764</td>\n",
       "      <td>0.046072</td>\n",
       "      <td>1.980829</td>\n",
       "    </tr>\n",
       "    <tr>\n",
       "      <th>crrcrd</th>\n",
       "      <td>0.000000</td>\n",
       "      <td>0.000000</td>\n",
       "      <td>0.000000</td>\n",
       "      <td>0.047021</td>\n",
       "      <td>0.103942</td>\n",
       "      <td>0.038724</td>\n",
       "      <td>0.044163</td>\n",
       "      <td>1.470004</td>\n",
       "    </tr>\n",
       "    <tr>\n",
       "      <th>ncou</th>\n",
       "      <td>0.000000</td>\n",
       "      <td>0.000000</td>\n",
       "      <td>0.039265</td>\n",
       "      <td>0.063776</td>\n",
       "      <td>0.047396</td>\n",
       "      <td>0.034550</td>\n",
       "      <td>0.042430</td>\n",
       "      <td>1.287682</td>\n",
       "    </tr>\n",
       "    <tr>\n",
       "      <th>gm</th>\n",
       "      <td>0.000000</td>\n",
       "      <td>0.000000</td>\n",
       "      <td>0.000000</td>\n",
       "      <td>0.000000</td>\n",
       "      <td>0.000000</td>\n",
       "      <td>0.004832</td>\n",
       "      <td>0.037434</td>\n",
       "      <td>1.980829</td>\n",
       "    </tr>\n",
       "    <tr>\n",
       "      <th>cib</th>\n",
       "      <td>0.022867</td>\n",
       "      <td>0.022116</td>\n",
       "      <td>0.001331</td>\n",
       "      <td>0.000000</td>\n",
       "      <td>0.000000</td>\n",
       "      <td>0.004397</td>\n",
       "      <td>0.030574</td>\n",
       "      <td>1.287682</td>\n",
       "    </tr>\n",
       "    <tr>\n",
       "      <th>kernkapital</th>\n",
       "      <td>0.000516</td>\n",
       "      <td>0.000000</td>\n",
       "      <td>0.005858</td>\n",
       "      <td>0.007603</td>\n",
       "      <td>0.026900</td>\n",
       "      <td>0.025990</td>\n",
       "      <td>0.030210</td>\n",
       "      <td>1.133531</td>\n",
       "    </tr>\n",
       "    <tr>\n",
       "      <th>vollumsetzung</th>\n",
       "      <td>0.000000</td>\n",
       "      <td>0.000000</td>\n",
       "      <td>0.000000</td>\n",
       "      <td>0.004550</td>\n",
       "      <td>0.025630</td>\n",
       "      <td>0.018645</td>\n",
       "      <td>0.028492</td>\n",
       "      <td>1.470004</td>\n",
       "    </tr>\n",
       "    <tr>\n",
       "      <th>harte</th>\n",
       "      <td>0.000000</td>\n",
       "      <td>0.000000</td>\n",
       "      <td>0.000000</td>\n",
       "      <td>0.000000</td>\n",
       "      <td>0.000000</td>\n",
       "      <td>0.026091</td>\n",
       "      <td>0.025916</td>\n",
       "      <td>1.980829</td>\n",
       "    </tr>\n",
       "  </tbody>\n",
       "</table>\n",
       "</div>"
      ],
      "text/plain": [
       "                DB-2010   DB-2011   DB-2012   DB-2013   DB-2014   DB-2015  \\\n",
       "beizulegenden  0.000000  0.209947  0.161107  0.117547  0.042820  0.137138   \n",
       "zeitwerts      0.000000  0.069982  0.043938  0.033334  0.002745  0.045897   \n",
       "pwcc           0.000000  0.000000  0.000000  0.000000  0.000000  0.006764   \n",
       "crrcrd         0.000000  0.000000  0.000000  0.047021  0.103942  0.038724   \n",
       "ncou           0.000000  0.000000  0.039265  0.063776  0.047396  0.034550   \n",
       "gm             0.000000  0.000000  0.000000  0.000000  0.000000  0.004832   \n",
       "cib            0.022867  0.022116  0.001331  0.000000  0.000000  0.004397   \n",
       "kernkapital    0.000516  0.000000  0.005858  0.007603  0.026900  0.025990   \n",
       "vollumsetzung  0.000000  0.000000  0.000000  0.004550  0.025630  0.018645   \n",
       "harte          0.000000  0.000000  0.000000  0.000000  0.000000  0.026091   \n",
       "\n",
       "                DB-2016       idf  \n",
       "beizulegenden  0.149401  1.133531  \n",
       "zeitwerts      0.050533  1.133531  \n",
       "pwcc           0.046072  1.980829  \n",
       "crrcrd         0.044163  1.470004  \n",
       "ncou           0.042430  1.287682  \n",
       "gm             0.037434  1.980829  \n",
       "cib            0.030574  1.287682  \n",
       "kernkapital    0.030210  1.133531  \n",
       "vollumsetzung  0.028492  1.470004  \n",
       "harte          0.025916  1.980829  "
      ]
     },
     "execution_count": 115,
     "metadata": {},
     "output_type": "execute_result"
    }
   ],
   "source": [
    "df_db = df_db.sort_values(by=['DB-2016'], ascending=False)\n",
    "df_db[(df_db['idf'] != 1)].head(10)"
   ]
  },
  {
   "cell_type": "markdown",
   "metadata": {},
   "source": [
    "# Visualization"
   ]
  },
  {
   "cell_type": "code",
   "execution_count": 73,
   "metadata": {},
   "outputs": [
    {
     "data": {
      "text/html": [
       "<script>requirejs.config({paths: { 'plotly': ['https://cdn.plot.ly/plotly-latest.min']},});if(!window.Plotly) {{require(['plotly'],function(plotly) {window.Plotly=plotly;});}}</script>"
      ],
      "text/vnd.plotly.v1+html": [
       "<script>requirejs.config({paths: { 'plotly': ['https://cdn.plot.ly/plotly-latest.min']},});if(!window.Plotly) {{require(['plotly'],function(plotly) {window.Plotly=plotly;});}}</script>"
      ]
     },
     "metadata": {},
     "output_type": "display_data"
    }
   ],
   "source": [
    "import plotly as py\n",
    "import plotly.graph_objs as go\n",
    "import numpy as np\n",
    "\n",
    "py.offline.init_notebook_mode(connected=True)"
   ]
  },
  {
   "cell_type": "markdown",
   "metadata": {},
   "source": [
    "## BMW"
   ]
  },
  {
   "cell_type": "code",
   "execution_count": 116,
   "metadata": {},
   "outputs": [],
   "source": [
    "key = ['husqvarna', 'aktienbasierte', 'citroën', 'electrification', 'amsterdam', 'drivenow', 'co2', 'brexit', 'here', 'there']"
   ]
  },
  {
   "cell_type": "code",
   "execution_count": 122,
   "metadata": {},
   "outputs": [],
   "source": [
    "# get the value of certain row\n",
    "y1 = df.loc['husqvarna'].tolist()\n",
    "#y2 = df.loc['aktienbasierte'].tolist()\n",
    "y3 = df.loc['citroën'].tolist()\n",
    "#y4 = df.loc['electrification'].tolist()\n",
    "y5 = df.loc['amsterdam'].tolist()\n",
    "y6 = df.loc['drivenow'].tolist()\n",
    "y7 = df.loc['co2'].tolist()\n",
    "y8 = df.loc['brexit'].tolist()\n",
    "y9 = df.loc['here'].tolist()\n",
    "y10= df.loc['there'].tolist()"
   ]
  },
  {
   "cell_type": "code",
   "execution_count": 123,
   "metadata": {},
   "outputs": [],
   "source": [
    "years = np.linspace(2010, 2017, 8)\n",
    "\n",
    "line1 = go.Scatter(x=years, y=y1, mode='lines+markers', name=key[0])\n",
    "#line2 = go.Scatter(x=years , y=y2, mode='lines+markers', name=key[1])\n",
    "line3 = go.Scatter(x=years, y=y3, mode='lines+markers', name=key[2])\n",
    "#line4 = go.Scatter(x=years, y=y4, mode='lines+markers', name=key[3])\n",
    "\n",
    "line5 = go.Scatter(x=years, y=y5, mode='lines+markers', name=key[4])\n",
    "line6 = go.Scatter(x=years, y=y6, mode='lines+markers', name=key[5])\n",
    "line7 = go.Scatter(x=years, y=y7, mode='lines+markers', name=key[6])\n",
    "line8 = go.Scatter(x=years, y=y8, mode='lines+markers', name=key[7])\n",
    "line9 = go.Scatter(x=years, y=y9, mode='lines+markers', name=key[8])\n",
    "line10= go.Scatter(x=years, y=y10, mode='lines+markers', name=key[9])"
   ]
  },
  {
   "cell_type": "code",
   "execution_count": 128,
   "metadata": {},
   "outputs": [
    {
     "data": {
      "application/vnd.plotly.v1+json": {
       "data": [
        {
         "mode": "lines+markers",
         "name": "husqvarna",
         "type": "scatter",
         "uid": "983e0acc-9bc7-11e8-8f7e-6534b18f819c",
         "x": [
          2010,
          2011,
          2012,
          2013,
          2014,
          2015,
          2016,
          2017
         ],
         "y": [
          0.017836753624268252,
          0.014445569000219262,
          0.02106670200236513,
          0.013090543699845778,
          0,
          0,
          0.0009792555672832244,
          0.0009792555672832244,
          1.251314428280906
         ]
        },
        {
         "mode": "lines+markers",
         "name": "citroën",
         "type": "scatter",
         "uid": "983e0d88-9bc7-11e8-8f7e-6534b18f819c",
         "x": [
          2010,
          2011,
          2012,
          2013,
          2014,
          2015,
          2016,
          2017
         ],
         "y": [
          0.0028291210136394203,
          0.009164955388943456,
          0.017820955712293654,
          0.0011864661358815323,
          0,
          0,
          0,
          0,
          1.587786664902119
         ]
        }
       ],
       "layout": {
        "title": "topic trend of BMW - decay",
        "xaxis": {
         "title": "years"
        },
        "yaxis": {
         "title": "corelation"
        }
       }
      },
      "text/html": [
       "<div id=\"249a97dc-d206-4199-a629-cc62c86672f2\" style=\"height: 525px; width: 100%;\" class=\"plotly-graph-div\"></div><script type=\"text/javascript\">require([\"plotly\"], function(Plotly) { window.PLOTLYENV=window.PLOTLYENV || {};window.PLOTLYENV.BASE_URL=\"https://plot.ly\";Plotly.newPlot(\"249a97dc-d206-4199-a629-cc62c86672f2\", [{\"mode\": \"lines+markers\", \"name\": \"husqvarna\", \"x\": [2010.0, 2011.0, 2012.0, 2013.0, 2014.0, 2015.0, 2016.0, 2017.0], \"y\": [0.017836753624268252, 0.014445569000219262, 0.02106670200236513, 0.013090543699845778, 0.0, 0.0, 0.0009792555672832244, 0.0009792555672832244, 1.251314428280906], \"type\": \"scatter\", \"uid\": \"98441b42-9bc7-11e8-8f7e-6534b18f819c\"}, {\"mode\": \"lines+markers\", \"name\": \"citro\\u00ebn\", \"x\": [2010.0, 2011.0, 2012.0, 2013.0, 2014.0, 2015.0, 2016.0, 2017.0], \"y\": [0.0028291210136394203, 0.009164955388943456, 0.017820955712293654, 0.0011864661358815323, 0.0, 0.0, 0.0, 0.0, 1.587786664902119], \"type\": \"scatter\", \"uid\": \"98441d4a-9bc7-11e8-8f7e-6534b18f819c\"}], {\"title\": \"topic trend of BMW - decay\", \"xaxis\": {\"title\": \"years\"}, \"yaxis\": {\"title\": \"corelation\"}}, {\"showLink\": true, \"linkText\": \"Export to plot.ly\"})});</script>"
      ],
      "text/vnd.plotly.v1+html": [
       "<div id=\"249a97dc-d206-4199-a629-cc62c86672f2\" style=\"height: 525px; width: 100%;\" class=\"plotly-graph-div\"></div><script type=\"text/javascript\">require([\"plotly\"], function(Plotly) { window.PLOTLYENV=window.PLOTLYENV || {};window.PLOTLYENV.BASE_URL=\"https://plot.ly\";Plotly.newPlot(\"249a97dc-d206-4199-a629-cc62c86672f2\", [{\"mode\": \"lines+markers\", \"name\": \"husqvarna\", \"x\": [2010.0, 2011.0, 2012.0, 2013.0, 2014.0, 2015.0, 2016.0, 2017.0], \"y\": [0.017836753624268252, 0.014445569000219262, 0.02106670200236513, 0.013090543699845778, 0.0, 0.0, 0.0009792555672832244, 0.0009792555672832244, 1.251314428280906], \"type\": \"scatter\", \"uid\": \"98441b42-9bc7-11e8-8f7e-6534b18f819c\"}, {\"mode\": \"lines+markers\", \"name\": \"citro\\u00ebn\", \"x\": [2010.0, 2011.0, 2012.0, 2013.0, 2014.0, 2015.0, 2016.0, 2017.0], \"y\": [0.0028291210136394203, 0.009164955388943456, 0.017820955712293654, 0.0011864661358815323, 0.0, 0.0, 0.0, 0.0, 1.587786664902119], \"type\": \"scatter\", \"uid\": \"98441d4a-9bc7-11e8-8f7e-6534b18f819c\"}], {\"title\": \"topic trend of BMW - decay\", \"xaxis\": {\"title\": \"years\"}, \"yaxis\": {\"title\": \"corelation\"}}, {\"showLink\": true, \"linkText\": \"Export to plot.ly\"})});</script>"
      ]
     },
     "metadata": {},
     "output_type": "display_data"
    },
    {
     "data": {
      "application/vnd.plotly.v1+json": {
       "data": [
        {
         "mode": "lines+markers",
         "name": "amsterdam",
         "type": "scatter",
         "uid": "984c2cb0-9bc7-11e8-8f7e-6534b18f819c",
         "x": [
          2010,
          2011,
          2012,
          2013,
          2014,
          2015,
          2016,
          2017
         ],
         "y": [
          0,
          0.003476814243894656,
          0.0011267585789354877,
          0.0021004544159415914,
          0.0020696653199003766,
          0.01769283452474952,
          0,
          0,
          1.4054651081081644
         ]
        },
        {
         "mode": "lines+markers",
         "name": "drivenow",
         "type": "scatter",
         "uid": "984c2e68-9bc7-11e8-8f7e-6534b18f819c",
         "x": [
          2010,
          2011,
          2012,
          2013,
          2014,
          2015,
          2016,
          2017
         ],
         "y": [
          0,
          0.01013888890656666,
          0.011649617644813773,
          0.007517323161520712,
          0.01481426393051123,
          0.014853060750597872,
          0.013996101839056321,
          0.013996101839056321,
          1.1177830356563834
         ]
        },
        {
         "mode": "lines+markers",
         "name": "co2",
         "type": "scatter",
         "uid": "984c2f80-9bc7-11e8-8f7e-6534b18f819c",
         "x": [
          2010,
          2011,
          2012,
          2013,
          2014,
          2015,
          2016,
          2017
         ],
         "y": [
          0,
          0,
          0,
          0.0011864661358815323,
          0.0011690745564546922,
          0,
          0.027336595594754202,
          0.027336595594754202,
          1.587786664902119
         ]
        },
        {
         "mode": "lines+markers",
         "name": "brexit",
         "type": "scatter",
         "uid": "984c3070-9bc7-11e8-8f7e-6534b18f819c",
         "x": [
          2010,
          2011,
          2012,
          2013,
          2014,
          2015,
          2016,
          2017
         ],
         "y": [
          0,
          0,
          0,
          0,
          0,
          0,
          0.01806568751131257,
          0.01806568751131257,
          2.09861228866811
         ]
        },
        {
         "mode": "lines+markers",
         "name": "here",
         "type": "scatter",
         "uid": "984c3156-9bc7-11e8-8f7e-6534b18f819c",
         "x": [
          2010,
          2011,
          2012,
          2013,
          2014,
          2015,
          2016,
          2017
         ],
         "y": [
          0,
          0,
          0,
          0,
          0,
          0.01899755963734115,
          0.01700640660200062,
          0.01700640660200062,
          1.8109302162163288
         ]
        },
        {
         "mode": "lines+markers",
         "name": "there",
         "type": "scatter",
         "uid": "984c3232-9bc7-11e8-8f7e-6534b18f819c",
         "x": [
          2010,
          2011,
          2012,
          2013,
          2014,
          2015,
          2016,
          2017
         ],
         "y": [
          0,
          0,
          0,
          0,
          0,
          0.024063575540632123,
          0.019840807702334057,
          0.019840807702334057,
          1.8109302162163288
         ]
        }
       ],
       "layout": {
        "title": "topic trend of BMW - increase",
        "xaxis": {
         "title": "years"
        },
        "yaxis": {
         "title": "corelation"
        }
       }
      },
      "text/html": [
       "<div id=\"a0b8736a-8694-48ae-a444-88226be4b376\" style=\"height: 525px; width: 100%;\" class=\"plotly-graph-div\"></div><script type=\"text/javascript\">require([\"plotly\"], function(Plotly) { window.PLOTLYENV=window.PLOTLYENV || {};window.PLOTLYENV.BASE_URL=\"https://plot.ly\";Plotly.newPlot(\"a0b8736a-8694-48ae-a444-88226be4b376\", [{\"mode\": \"lines+markers\", \"name\": \"amsterdam\", \"x\": [2010.0, 2011.0, 2012.0, 2013.0, 2014.0, 2015.0, 2016.0, 2017.0], \"y\": [0.0, 0.003476814243894656, 0.0011267585789354877, 0.0021004544159415914, 0.0020696653199003766, 0.01769283452474952, 0.0, 0.0, 1.4054651081081644], \"type\": \"scatter\", \"uid\": \"985281e6-9bc7-11e8-8f7e-6534b18f819c\"}, {\"mode\": \"lines+markers\", \"name\": \"drivenow\", \"x\": [2010.0, 2011.0, 2012.0, 2013.0, 2014.0, 2015.0, 2016.0, 2017.0], \"y\": [0.0, 0.01013888890656666, 0.011649617644813773, 0.007517323161520712, 0.01481426393051123, 0.014853060750597872, 0.013996101839056321, 0.013996101839056321, 1.1177830356563834], \"type\": \"scatter\", \"uid\": \"98528362-9bc7-11e8-8f7e-6534b18f819c\"}, {\"mode\": \"lines+markers\", \"name\": \"co2\", \"x\": [2010.0, 2011.0, 2012.0, 2013.0, 2014.0, 2015.0, 2016.0, 2017.0], \"y\": [0.0, 0.0, 0.0, 0.0011864661358815323, 0.0011690745564546922, 0.0, 0.027336595594754202, 0.027336595594754202, 1.587786664902119], \"type\": \"scatter\", \"uid\": \"9852845c-9bc7-11e8-8f7e-6534b18f819c\"}, {\"mode\": \"lines+markers\", \"name\": \"brexit\", \"x\": [2010.0, 2011.0, 2012.0, 2013.0, 2014.0, 2015.0, 2016.0, 2017.0], \"y\": [0.0, 0.0, 0.0, 0.0, 0.0, 0.0, 0.01806568751131257, 0.01806568751131257, 2.09861228866811], \"type\": \"scatter\", \"uid\": \"98528538-9bc7-11e8-8f7e-6534b18f819c\"}, {\"mode\": \"lines+markers\", \"name\": \"here\", \"x\": [2010.0, 2011.0, 2012.0, 2013.0, 2014.0, 2015.0, 2016.0, 2017.0], \"y\": [0.0, 0.0, 0.0, 0.0, 0.0, 0.01899755963734115, 0.01700640660200062, 0.01700640660200062, 1.8109302162163288], \"type\": \"scatter\", \"uid\": \"98528600-9bc7-11e8-8f7e-6534b18f819c\"}, {\"mode\": \"lines+markers\", \"name\": \"there\", \"x\": [2010.0, 2011.0, 2012.0, 2013.0, 2014.0, 2015.0, 2016.0, 2017.0], \"y\": [0.0, 0.0, 0.0, 0.0, 0.0, 0.024063575540632123, 0.019840807702334057, 0.019840807702334057, 1.8109302162163288], \"type\": \"scatter\", \"uid\": \"985286c8-9bc7-11e8-8f7e-6534b18f819c\"}], {\"title\": \"topic trend of BMW - increase\", \"xaxis\": {\"title\": \"years\"}, \"yaxis\": {\"title\": \"corelation\"}}, {\"showLink\": true, \"linkText\": \"Export to plot.ly\"})});</script>"
      ],
      "text/vnd.plotly.v1+html": [
       "<div id=\"a0b8736a-8694-48ae-a444-88226be4b376\" style=\"height: 525px; width: 100%;\" class=\"plotly-graph-div\"></div><script type=\"text/javascript\">require([\"plotly\"], function(Plotly) { window.PLOTLYENV=window.PLOTLYENV || {};window.PLOTLYENV.BASE_URL=\"https://plot.ly\";Plotly.newPlot(\"a0b8736a-8694-48ae-a444-88226be4b376\", [{\"mode\": \"lines+markers\", \"name\": \"amsterdam\", \"x\": [2010.0, 2011.0, 2012.0, 2013.0, 2014.0, 2015.0, 2016.0, 2017.0], \"y\": [0.0, 0.003476814243894656, 0.0011267585789354877, 0.0021004544159415914, 0.0020696653199003766, 0.01769283452474952, 0.0, 0.0, 1.4054651081081644], \"type\": \"scatter\", \"uid\": \"985281e6-9bc7-11e8-8f7e-6534b18f819c\"}, {\"mode\": \"lines+markers\", \"name\": \"drivenow\", \"x\": [2010.0, 2011.0, 2012.0, 2013.0, 2014.0, 2015.0, 2016.0, 2017.0], \"y\": [0.0, 0.01013888890656666, 0.011649617644813773, 0.007517323161520712, 0.01481426393051123, 0.014853060750597872, 0.013996101839056321, 0.013996101839056321, 1.1177830356563834], \"type\": \"scatter\", \"uid\": \"98528362-9bc7-11e8-8f7e-6534b18f819c\"}, {\"mode\": \"lines+markers\", \"name\": \"co2\", \"x\": [2010.0, 2011.0, 2012.0, 2013.0, 2014.0, 2015.0, 2016.0, 2017.0], \"y\": [0.0, 0.0, 0.0, 0.0011864661358815323, 0.0011690745564546922, 0.0, 0.027336595594754202, 0.027336595594754202, 1.587786664902119], \"type\": \"scatter\", \"uid\": \"9852845c-9bc7-11e8-8f7e-6534b18f819c\"}, {\"mode\": \"lines+markers\", \"name\": \"brexit\", \"x\": [2010.0, 2011.0, 2012.0, 2013.0, 2014.0, 2015.0, 2016.0, 2017.0], \"y\": [0.0, 0.0, 0.0, 0.0, 0.0, 0.0, 0.01806568751131257, 0.01806568751131257, 2.09861228866811], \"type\": \"scatter\", \"uid\": \"98528538-9bc7-11e8-8f7e-6534b18f819c\"}, {\"mode\": \"lines+markers\", \"name\": \"here\", \"x\": [2010.0, 2011.0, 2012.0, 2013.0, 2014.0, 2015.0, 2016.0, 2017.0], \"y\": [0.0, 0.0, 0.0, 0.0, 0.0, 0.01899755963734115, 0.01700640660200062, 0.01700640660200062, 1.8109302162163288], \"type\": \"scatter\", \"uid\": \"98528600-9bc7-11e8-8f7e-6534b18f819c\"}, {\"mode\": \"lines+markers\", \"name\": \"there\", \"x\": [2010.0, 2011.0, 2012.0, 2013.0, 2014.0, 2015.0, 2016.0, 2017.0], \"y\": [0.0, 0.0, 0.0, 0.0, 0.0, 0.024063575540632123, 0.019840807702334057, 0.019840807702334057, 1.8109302162163288], \"type\": \"scatter\", \"uid\": \"985286c8-9bc7-11e8-8f7e-6534b18f819c\"}], {\"title\": \"topic trend of BMW - increase\", \"xaxis\": {\"title\": \"years\"}, \"yaxis\": {\"title\": \"corelation\"}}, {\"showLink\": true, \"linkText\": \"Export to plot.ly\"})});</script>"
      ]
     },
     "metadata": {},
     "output_type": "display_data"
    },
    {
     "data": {
      "application/vnd.plotly.v1+json": {
       "data": [
        {
         "mode": "lines+markers",
         "name": "husqvarna",
         "type": "scatter",
         "uid": "9859a3b8-9bc7-11e8-8f7e-6534b18f819c",
         "x": [
          2010,
          2011,
          2012,
          2013,
          2014,
          2015,
          2016,
          2017
         ],
         "y": [
          0.017836753624268252,
          0.014445569000219262,
          0.02106670200236513,
          0.013090543699845778,
          0,
          0,
          0.0009792555672832244,
          0.0009792555672832244,
          1.251314428280906
         ]
        },
        {
         "mode": "lines+markers",
         "name": "citroën",
         "type": "scatter",
         "uid": "9859a50c-9bc7-11e8-8f7e-6534b18f819c",
         "x": [
          2010,
          2011,
          2012,
          2013,
          2014,
          2015,
          2016,
          2017
         ],
         "y": [
          0.0028291210136394203,
          0.009164955388943456,
          0.017820955712293654,
          0.0011864661358815323,
          0,
          0,
          0,
          0,
          1.587786664902119
         ]
        },
        {
         "mode": "lines+markers",
         "name": "amsterdam",
         "type": "scatter",
         "uid": "9859a5f2-9bc7-11e8-8f7e-6534b18f819c",
         "x": [
          2010,
          2011,
          2012,
          2013,
          2014,
          2015,
          2016,
          2017
         ],
         "y": [
          0,
          0.003476814243894656,
          0.0011267585789354877,
          0.0021004544159415914,
          0.0020696653199003766,
          0.01769283452474952,
          0,
          0,
          1.4054651081081644
         ]
        },
        {
         "mode": "lines+markers",
         "name": "drivenow",
         "type": "scatter",
         "uid": "9859a6b0-9bc7-11e8-8f7e-6534b18f819c",
         "x": [
          2010,
          2011,
          2012,
          2013,
          2014,
          2015,
          2016,
          2017
         ],
         "y": [
          0,
          0.01013888890656666,
          0.011649617644813773,
          0.007517323161520712,
          0.01481426393051123,
          0.014853060750597872,
          0.013996101839056321,
          0.013996101839056321,
          1.1177830356563834
         ]
        },
        {
         "mode": "lines+markers",
         "name": "co2",
         "type": "scatter",
         "uid": "9859a764-9bc7-11e8-8f7e-6534b18f819c",
         "x": [
          2010,
          2011,
          2012,
          2013,
          2014,
          2015,
          2016,
          2017
         ],
         "y": [
          0,
          0,
          0,
          0.0011864661358815323,
          0.0011690745564546922,
          0,
          0.027336595594754202,
          0.027336595594754202,
          1.587786664902119
         ]
        },
        {
         "mode": "lines+markers",
         "name": "brexit",
         "type": "scatter",
         "uid": "9859a818-9bc7-11e8-8f7e-6534b18f819c",
         "x": [
          2010,
          2011,
          2012,
          2013,
          2014,
          2015,
          2016,
          2017
         ],
         "y": [
          0,
          0,
          0,
          0,
          0,
          0,
          0.01806568751131257,
          0.01806568751131257,
          2.09861228866811
         ]
        },
        {
         "mode": "lines+markers",
         "name": "here",
         "type": "scatter",
         "uid": "9859a8cc-9bc7-11e8-8f7e-6534b18f819c",
         "x": [
          2010,
          2011,
          2012,
          2013,
          2014,
          2015,
          2016,
          2017
         ],
         "y": [
          0,
          0,
          0,
          0,
          0,
          0.01899755963734115,
          0.01700640660200062,
          0.01700640660200062,
          1.8109302162163288
         ]
        },
        {
         "mode": "lines+markers",
         "name": "there",
         "type": "scatter",
         "uid": "9859a976-9bc7-11e8-8f7e-6534b18f819c",
         "x": [
          2010,
          2011,
          2012,
          2013,
          2014,
          2015,
          2016,
          2017
         ],
         "y": [
          0,
          0,
          0,
          0,
          0,
          0.024063575540632123,
          0.019840807702334057,
          0.019840807702334057,
          1.8109302162163288
         ]
        }
       ],
       "layout": {
        "title": "all topics trend of BMW",
        "xaxis": {
         "title": "years"
        },
        "yaxis": {
         "title": "corelation"
        }
       }
      },
      "text/html": [
       "<div id=\"3d53b769-66e6-48d3-9b0f-37e28818bc16\" style=\"height: 525px; width: 100%;\" class=\"plotly-graph-div\"></div><script type=\"text/javascript\">require([\"plotly\"], function(Plotly) { window.PLOTLYENV=window.PLOTLYENV || {};window.PLOTLYENV.BASE_URL=\"https://plot.ly\";Plotly.newPlot(\"3d53b769-66e6-48d3-9b0f-37e28818bc16\", [{\"mode\": \"lines+markers\", \"name\": \"husqvarna\", \"x\": [2010.0, 2011.0, 2012.0, 2013.0, 2014.0, 2015.0, 2016.0, 2017.0], \"y\": [0.017836753624268252, 0.014445569000219262, 0.02106670200236513, 0.013090543699845778, 0.0, 0.0, 0.0009792555672832244, 0.0009792555672832244, 1.251314428280906], \"type\": \"scatter\", \"uid\": \"985f9a98-9bc7-11e8-8f7e-6534b18f819c\"}, {\"mode\": \"lines+markers\", \"name\": \"citro\\u00ebn\", \"x\": [2010.0, 2011.0, 2012.0, 2013.0, 2014.0, 2015.0, 2016.0, 2017.0], \"y\": [0.0028291210136394203, 0.009164955388943456, 0.017820955712293654, 0.0011864661358815323, 0.0, 0.0, 0.0, 0.0, 1.587786664902119], \"type\": \"scatter\", \"uid\": \"985f9bd8-9bc7-11e8-8f7e-6534b18f819c\"}, {\"mode\": \"lines+markers\", \"name\": \"amsterdam\", \"x\": [2010.0, 2011.0, 2012.0, 2013.0, 2014.0, 2015.0, 2016.0, 2017.0], \"y\": [0.0, 0.003476814243894656, 0.0011267585789354877, 0.0021004544159415914, 0.0020696653199003766, 0.01769283452474952, 0.0, 0.0, 1.4054651081081644], \"type\": \"scatter\", \"uid\": \"985f9caa-9bc7-11e8-8f7e-6534b18f819c\"}, {\"mode\": \"lines+markers\", \"name\": \"drivenow\", \"x\": [2010.0, 2011.0, 2012.0, 2013.0, 2014.0, 2015.0, 2016.0, 2017.0], \"y\": [0.0, 0.01013888890656666, 0.011649617644813773, 0.007517323161520712, 0.01481426393051123, 0.014853060750597872, 0.013996101839056321, 0.013996101839056321, 1.1177830356563834], \"type\": \"scatter\", \"uid\": \"985f9d5e-9bc7-11e8-8f7e-6534b18f819c\"}, {\"mode\": \"lines+markers\", \"name\": \"co2\", \"x\": [2010.0, 2011.0, 2012.0, 2013.0, 2014.0, 2015.0, 2016.0, 2017.0], \"y\": [0.0, 0.0, 0.0, 0.0011864661358815323, 0.0011690745564546922, 0.0, 0.027336595594754202, 0.027336595594754202, 1.587786664902119], \"type\": \"scatter\", \"uid\": \"985f9e08-9bc7-11e8-8f7e-6534b18f819c\"}, {\"mode\": \"lines+markers\", \"name\": \"brexit\", \"x\": [2010.0, 2011.0, 2012.0, 2013.0, 2014.0, 2015.0, 2016.0, 2017.0], \"y\": [0.0, 0.0, 0.0, 0.0, 0.0, 0.0, 0.01806568751131257, 0.01806568751131257, 2.09861228866811], \"type\": \"scatter\", \"uid\": \"985f9eb2-9bc7-11e8-8f7e-6534b18f819c\"}, {\"mode\": \"lines+markers\", \"name\": \"here\", \"x\": [2010.0, 2011.0, 2012.0, 2013.0, 2014.0, 2015.0, 2016.0, 2017.0], \"y\": [0.0, 0.0, 0.0, 0.0, 0.0, 0.01899755963734115, 0.01700640660200062, 0.01700640660200062, 1.8109302162163288], \"type\": \"scatter\", \"uid\": \"985f9f52-9bc7-11e8-8f7e-6534b18f819c\"}, {\"mode\": \"lines+markers\", \"name\": \"there\", \"x\": [2010.0, 2011.0, 2012.0, 2013.0, 2014.0, 2015.0, 2016.0, 2017.0], \"y\": [0.0, 0.0, 0.0, 0.0, 0.0, 0.024063575540632123, 0.019840807702334057, 0.019840807702334057, 1.8109302162163288], \"type\": \"scatter\", \"uid\": \"985f9ff2-9bc7-11e8-8f7e-6534b18f819c\"}], {\"title\": \"all topics trend of BMW\", \"xaxis\": {\"title\": \"years\"}, \"yaxis\": {\"title\": \"corelation\"}}, {\"showLink\": true, \"linkText\": \"Export to plot.ly\"})});</script>"
      ],
      "text/vnd.plotly.v1+html": [
       "<div id=\"3d53b769-66e6-48d3-9b0f-37e28818bc16\" style=\"height: 525px; width: 100%;\" class=\"plotly-graph-div\"></div><script type=\"text/javascript\">require([\"plotly\"], function(Plotly) { window.PLOTLYENV=window.PLOTLYENV || {};window.PLOTLYENV.BASE_URL=\"https://plot.ly\";Plotly.newPlot(\"3d53b769-66e6-48d3-9b0f-37e28818bc16\", [{\"mode\": \"lines+markers\", \"name\": \"husqvarna\", \"x\": [2010.0, 2011.0, 2012.0, 2013.0, 2014.0, 2015.0, 2016.0, 2017.0], \"y\": [0.017836753624268252, 0.014445569000219262, 0.02106670200236513, 0.013090543699845778, 0.0, 0.0, 0.0009792555672832244, 0.0009792555672832244, 1.251314428280906], \"type\": \"scatter\", \"uid\": \"985f9a98-9bc7-11e8-8f7e-6534b18f819c\"}, {\"mode\": \"lines+markers\", \"name\": \"citro\\u00ebn\", \"x\": [2010.0, 2011.0, 2012.0, 2013.0, 2014.0, 2015.0, 2016.0, 2017.0], \"y\": [0.0028291210136394203, 0.009164955388943456, 0.017820955712293654, 0.0011864661358815323, 0.0, 0.0, 0.0, 0.0, 1.587786664902119], \"type\": \"scatter\", \"uid\": \"985f9bd8-9bc7-11e8-8f7e-6534b18f819c\"}, {\"mode\": \"lines+markers\", \"name\": \"amsterdam\", \"x\": [2010.0, 2011.0, 2012.0, 2013.0, 2014.0, 2015.0, 2016.0, 2017.0], \"y\": [0.0, 0.003476814243894656, 0.0011267585789354877, 0.0021004544159415914, 0.0020696653199003766, 0.01769283452474952, 0.0, 0.0, 1.4054651081081644], \"type\": \"scatter\", \"uid\": \"985f9caa-9bc7-11e8-8f7e-6534b18f819c\"}, {\"mode\": \"lines+markers\", \"name\": \"drivenow\", \"x\": [2010.0, 2011.0, 2012.0, 2013.0, 2014.0, 2015.0, 2016.0, 2017.0], \"y\": [0.0, 0.01013888890656666, 0.011649617644813773, 0.007517323161520712, 0.01481426393051123, 0.014853060750597872, 0.013996101839056321, 0.013996101839056321, 1.1177830356563834], \"type\": \"scatter\", \"uid\": \"985f9d5e-9bc7-11e8-8f7e-6534b18f819c\"}, {\"mode\": \"lines+markers\", \"name\": \"co2\", \"x\": [2010.0, 2011.0, 2012.0, 2013.0, 2014.0, 2015.0, 2016.0, 2017.0], \"y\": [0.0, 0.0, 0.0, 0.0011864661358815323, 0.0011690745564546922, 0.0, 0.027336595594754202, 0.027336595594754202, 1.587786664902119], \"type\": \"scatter\", \"uid\": \"985f9e08-9bc7-11e8-8f7e-6534b18f819c\"}, {\"mode\": \"lines+markers\", \"name\": \"brexit\", \"x\": [2010.0, 2011.0, 2012.0, 2013.0, 2014.0, 2015.0, 2016.0, 2017.0], \"y\": [0.0, 0.0, 0.0, 0.0, 0.0, 0.0, 0.01806568751131257, 0.01806568751131257, 2.09861228866811], \"type\": \"scatter\", \"uid\": \"985f9eb2-9bc7-11e8-8f7e-6534b18f819c\"}, {\"mode\": \"lines+markers\", \"name\": \"here\", \"x\": [2010.0, 2011.0, 2012.0, 2013.0, 2014.0, 2015.0, 2016.0, 2017.0], \"y\": [0.0, 0.0, 0.0, 0.0, 0.0, 0.01899755963734115, 0.01700640660200062, 0.01700640660200062, 1.8109302162163288], \"type\": \"scatter\", \"uid\": \"985f9f52-9bc7-11e8-8f7e-6534b18f819c\"}, {\"mode\": \"lines+markers\", \"name\": \"there\", \"x\": [2010.0, 2011.0, 2012.0, 2013.0, 2014.0, 2015.0, 2016.0, 2017.0], \"y\": [0.0, 0.0, 0.0, 0.0, 0.0, 0.024063575540632123, 0.019840807702334057, 0.019840807702334057, 1.8109302162163288], \"type\": \"scatter\", \"uid\": \"985f9ff2-9bc7-11e8-8f7e-6534b18f819c\"}], {\"title\": \"all topics trend of BMW\", \"xaxis\": {\"title\": \"years\"}, \"yaxis\": {\"title\": \"corelation\"}}, {\"showLink\": true, \"linkText\": \"Export to plot.ly\"})});</script>"
      ]
     },
     "metadata": {},
     "output_type": "display_data"
    }
   ],
   "source": [
    "decay = [line1, line3]\n",
    "increase = [line5, line6, line7, line8, line9, line10]\n",
    "total = [line1, line3, line5, line6, line7, line8, line9, line10]\n",
    "\n",
    "\n",
    "layout_decay = dict(title = 'topic trend of BMW - decay',\n",
    "              xaxis = dict(title = 'years'),\n",
    "              yaxis = dict(title = 'corelation'),\n",
    "              )\n",
    "fig_decay = dict(data=decay, layout=layout_decay)\n",
    "\n",
    "\n",
    "layout_increase = dict(title = 'topic trend of BMW - increase',\n",
    "              xaxis = dict(title = 'years'),\n",
    "              yaxis = dict(title = 'corelation'),\n",
    "              )\n",
    "fig_increase = dict(data=increase, layout=layout_increase)\n",
    "\n",
    "\n",
    "layout_total = dict(title = 'all topics trend of BMW',\n",
    "              xaxis = dict(title = 'years'),\n",
    "              yaxis = dict(title = 'corelation'),\n",
    "              )\n",
    "fig_total = dict(data=total, layout=layout_total)\n",
    "\n",
    "\n",
    "py.offline.iplot(fig_decay, filename='topic trend of BMW - decay')\n",
    "py.offline.iplot(fig_increase, filename='topic trend of BMW - increase')\n",
    "py.offline.iplot(fig_total, filename='all topics trend of BMW')"
   ]
  },
  {
   "cell_type": "markdown",
   "metadata": {},
   "source": [
    "## Deutsche Bank"
   ]
  },
  {
   "cell_type": "code",
   "execution_count": 149,
   "metadata": {},
   "outputs": [],
   "source": [
    "key_co = ['Goodwill', 'ABN AMRO', 'Deutsche Bank National Trust Co.', \n",
    "          'klage (lawsuit)', 'gericht (judgement)', 'court']\n",
    "key_ser = ['PCAM', \n",
    "           'special purpose entities', \n",
    "           'CIB',\n",
    "           'Incremental Risk Charge',\n",
    "           'non-core operations unit',\n",
    "           'exposure at defaut',\n",
    "           'PWCC',\n",
    "           'global market'\n",
    "          ]"
   ]
  },
  {
   "cell_type": "code",
   "execution_count": 150,
   "metadata": {},
   "outputs": [],
   "source": [
    "y1 = df_db.loc['goodwill'].tolist()\n",
    "y2 = df_db.loc['amro'].tolist()\n",
    "y3 = df_db.loc['dbntc'].tolist()\n",
    "y4 = df_db.loc['klage'].tolist()\n",
    "y5 = df_db.loc['gericht'].tolist()\n",
    "y6 = df_db.loc['court'].tolist()\n",
    "\n",
    "y7 = df_db.loc['pcam'].tolist()\n",
    "y8 = df_db.loc['spe'].tolist()\n",
    "y9 = df_db.loc['cib'].tolist()\n",
    "y10 = df_db.loc['irc'].tolist()\n",
    "y11 = df_db.loc['ncou'].tolist()\n",
    "y12 = df_db.loc['ead'].tolist()\n",
    "y13 = df_db.loc['pwcc'].tolist()\n",
    "y14 = df_db.loc['gm'].tolist()"
   ]
  },
  {
   "cell_type": "code",
   "execution_count": 151,
   "metadata": {},
   "outputs": [],
   "source": [
    "years = np.linspace(2010, 2016, 7)\n",
    "\n",
    "line1 = go.Scatter(x=years, y=y1, mode='lines+markers', name=key_co[0])\n",
    "line2 = go.Scatter(x=years, y=y2, mode='lines+markers', name=key_co[1])\n",
    "line3 = go.Scatter(x=years, y=y3, mode='lines+markers', name=key_co[2])\n",
    "line4 = go.Scatter(x=years, y=y4, mode='lines+markers', name=key_co[3])\n",
    "line5 = go.Scatter(x=years, y=y5, mode='lines+markers', name=key_co[4])\n",
    "line6 = go.Scatter(x=years, y=y6, mode='lines+markers', name=key_co[5])\n",
    "\n",
    "line7 = go.Scatter(x=years, y=y7, mode='lines+markers', name=key_ser[0])\n",
    "line8 = go.Scatter(x=years, y=y8, mode='lines+markers', name=key_ser[1])\n",
    "line9 = go.Scatter(x=years, y=y9, mode='lines+markers', name=key_ser[2])\n",
    "line10 = go.Scatter(x=years, y=y10, mode='lines+markers', name=key_ser[3])\n",
    "line11 = go.Scatter(x=years, y=y11, mode='lines+markers', name=key_ser[4])\n",
    "line12 = go.Scatter(x=years, y=y12, mode='lines+markers', name=key_ser[5])\n",
    "line13 = go.Scatter(x=years, y=y13, mode='lines+markers', name=key_ser[6])\n",
    "line14 = go.Scatter(x=years, y=y14, mode='lines+markers', name=key_ser[7])"
   ]
  },
  {
   "cell_type": "code",
   "execution_count": 152,
   "metadata": {},
   "outputs": [],
   "source": [
    "company = [line1, line2, line3, line4, line5, line6]\n",
    "service = [line7, line8, line9, line10, line11, line12, line13, line14]\n",
    "\n",
    "\n",
    "layout_company = dict(title = 'Deutsche Bank - topic trend about company',\n",
    "              xaxis = dict(title = 'years'),\n",
    "              yaxis = dict(title = 'corelation'),\n",
    "              )\n",
    "fig_company = dict(data=company, layout=layout_company)\n",
    "\n",
    "\n",
    "layout_service = dict(title = 'Deutsche Bank - topic trend about service',\n",
    "              xaxis = dict(title = 'years'),\n",
    "              yaxis = dict(title = 'corelation'),\n",
    "              )\n",
    "fig_service = dict(data=service, layout=layout_service)"
   ]
  },
  {
   "cell_type": "code",
   "execution_count": 153,
   "metadata": {},
   "outputs": [
    {
     "data": {
      "application/vnd.plotly.v1+json": {
       "data": [
        {
         "mode": "lines+markers",
         "name": "Goodwill",
         "type": "scatter",
         "uid": "52665b50-9bca-11e8-8f7e-6534b18f819c",
         "x": [
          2010,
          2011,
          2012,
          2013,
          2014,
          2015,
          2016
         ],
         "y": [
          0.049839000706234544,
          0.0011954773700815439,
          0.0006655136399644355,
          0,
          0,
          0.001256351187784299,
          0.0006239656450679151,
          1.2876820724517808
         ]
        },
        {
         "mode": "lines+markers",
         "name": "ABN AMRO",
         "type": "scatter",
         "uid": "52665dc6-9bca-11e8-8f7e-6534b18f819c",
         "x": [
          2010,
          2011,
          2012,
          2013,
          2014,
          2015,
          2016
         ],
         "y": [
          0.021694623836831507,
          0.013747989755937755,
          0.0033275681998221774,
          0.001328674995850737,
          0.0006236323183508977,
          0,
          0,
          1.2876820724517808
         ]
        },
        {
         "mode": "lines+markers",
         "name": "Deutsche Bank National Trust Co.",
         "type": "scatter",
         "uid": "52665f9c-9bca-11e8-8f7e-6534b18f819c",
         "x": [
          2010,
          2011,
          2012,
          2013,
          2014,
          2015,
          2016
         ],
         "y": [
          0,
          0,
          0,
          0,
          0,
          0.027938794699107358,
          0,
          2.386294361119891
         ]
        },
        {
         "mode": "lines+markers",
         "name": "klage (lawsuit)",
         "type": "scatter",
         "uid": "526660f0-9bca-11e8-8f7e-6534b18f819c",
         "x": [
          2010,
          2011,
          2012,
          2013,
          2014,
          2015,
          2016
         ],
         "y": [
          0.0056776417824740775,
          0.014206923138506385,
          0.0005858438346378008,
          0.0005848084906254938,
          0,
          0.05032077883210659,
          0.012633201331219191,
          1.1335313926245225
         ]
        },
        {
         "mode": "lines+markers",
         "name": "gericht (judgement)",
         "type": "scatter",
         "uid": "52666230-9bca-11e8-8f7e-6534b18f819c",
         "x": [
          2010,
          2011,
          2012,
          2013,
          2014,
          2015,
          2016
         ],
         "y": [
          0.004645343276569699,
          0.007892735076947993,
          0.002343375338551203,
          0.0023392339625019753,
          0,
          0.029860681944326988,
          0.008239044346447297,
          1.1335313926245225
         ]
        },
        {
         "mode": "lines+markers",
         "name": "court",
         "type": "scatter",
         "uid": "52666366-9bca-11e8-8f7e-6534b18f819c",
         "x": [
          2010,
          2011,
          2012,
          2013,
          2014,
          2015,
          2016
         ],
         "y": [
          0.007362966813358252,
          0.004776603158528391,
          0,
          0,
          0,
          0.02294778619860632,
          0.003561561438174169,
          1.4700036292457357
         ]
        }
       ],
       "layout": {
        "title": "Deutsche Bank - topic trend about company",
        "xaxis": {
         "title": "years"
        },
        "yaxis": {
         "title": "corelation"
        }
       }
      },
      "text/html": [
       "<div id=\"fd31af52-2115-4672-98b8-c77e2b24bc9b\" style=\"height: 525px; width: 100%;\" class=\"plotly-graph-div\"></div><script type=\"text/javascript\">require([\"plotly\"], function(Plotly) { window.PLOTLYENV=window.PLOTLYENV || {};window.PLOTLYENV.BASE_URL=\"https://plot.ly\";Plotly.newPlot(\"fd31af52-2115-4672-98b8-c77e2b24bc9b\", [{\"mode\": \"lines+markers\", \"name\": \"Goodwill\", \"x\": [2010.0, 2011.0, 2012.0, 2013.0, 2014.0, 2015.0, 2016.0], \"y\": [0.049839000706234544, 0.0011954773700815439, 0.0006655136399644355, 0.0, 0.0, 0.001256351187784299, 0.0006239656450679151, 1.2876820724517808], \"type\": \"scatter\", \"uid\": \"526ec132-9bca-11e8-8f7e-6534b18f819c\"}, {\"mode\": \"lines+markers\", \"name\": \"ABN AMRO\", \"x\": [2010.0, 2011.0, 2012.0, 2013.0, 2014.0, 2015.0, 2016.0], \"y\": [0.021694623836831507, 0.013747989755937755, 0.0033275681998221774, 0.001328674995850737, 0.0006236323183508977, 0.0, 0.0, 1.2876820724517808], \"type\": \"scatter\", \"uid\": \"526ec312-9bca-11e8-8f7e-6534b18f819c\"}, {\"mode\": \"lines+markers\", \"name\": \"Deutsche Bank National Trust Co.\", \"x\": [2010.0, 2011.0, 2012.0, 2013.0, 2014.0, 2015.0, 2016.0], \"y\": [0.0, 0.0, 0.0, 0.0, 0.0, 0.027938794699107358, 0.0, 2.386294361119891], \"type\": \"scatter\", \"uid\": \"526ec466-9bca-11e8-8f7e-6534b18f819c\"}, {\"mode\": \"lines+markers\", \"name\": \"klage (lawsuit)\", \"x\": [2010.0, 2011.0, 2012.0, 2013.0, 2014.0, 2015.0, 2016.0], \"y\": [0.0056776417824740775, 0.014206923138506385, 0.0005858438346378008, 0.0005848084906254938, 0.0, 0.05032077883210659, 0.012633201331219191, 1.1335313926245225], \"type\": \"scatter\", \"uid\": \"526ec59c-9bca-11e8-8f7e-6534b18f819c\"}, {\"mode\": \"lines+markers\", \"name\": \"gericht (judgement)\", \"x\": [2010.0, 2011.0, 2012.0, 2013.0, 2014.0, 2015.0, 2016.0], \"y\": [0.004645343276569699, 0.007892735076947993, 0.002343375338551203, 0.0023392339625019753, 0.0, 0.029860681944326988, 0.008239044346447297, 1.1335313926245225], \"type\": \"scatter\", \"uid\": \"526ec6c8-9bca-11e8-8f7e-6534b18f819c\"}, {\"mode\": \"lines+markers\", \"name\": \"court\", \"x\": [2010.0, 2011.0, 2012.0, 2013.0, 2014.0, 2015.0, 2016.0], \"y\": [0.007362966813358252, 0.004776603158528391, 0.0, 0.0, 0.0, 0.02294778619860632, 0.003561561438174169, 1.4700036292457357], \"type\": \"scatter\", \"uid\": \"526ec7e0-9bca-11e8-8f7e-6534b18f819c\"}], {\"title\": \"Deutsche Bank - topic trend about company\", \"xaxis\": {\"title\": \"years\"}, \"yaxis\": {\"title\": \"corelation\"}}, {\"showLink\": true, \"linkText\": \"Export to plot.ly\"})});</script>"
      ],
      "text/vnd.plotly.v1+html": [
       "<div id=\"fd31af52-2115-4672-98b8-c77e2b24bc9b\" style=\"height: 525px; width: 100%;\" class=\"plotly-graph-div\"></div><script type=\"text/javascript\">require([\"plotly\"], function(Plotly) { window.PLOTLYENV=window.PLOTLYENV || {};window.PLOTLYENV.BASE_URL=\"https://plot.ly\";Plotly.newPlot(\"fd31af52-2115-4672-98b8-c77e2b24bc9b\", [{\"mode\": \"lines+markers\", \"name\": \"Goodwill\", \"x\": [2010.0, 2011.0, 2012.0, 2013.0, 2014.0, 2015.0, 2016.0], \"y\": [0.049839000706234544, 0.0011954773700815439, 0.0006655136399644355, 0.0, 0.0, 0.001256351187784299, 0.0006239656450679151, 1.2876820724517808], \"type\": \"scatter\", \"uid\": \"526ec132-9bca-11e8-8f7e-6534b18f819c\"}, {\"mode\": \"lines+markers\", \"name\": \"ABN AMRO\", \"x\": [2010.0, 2011.0, 2012.0, 2013.0, 2014.0, 2015.0, 2016.0], \"y\": [0.021694623836831507, 0.013747989755937755, 0.0033275681998221774, 0.001328674995850737, 0.0006236323183508977, 0.0, 0.0, 1.2876820724517808], \"type\": \"scatter\", \"uid\": \"526ec312-9bca-11e8-8f7e-6534b18f819c\"}, {\"mode\": \"lines+markers\", \"name\": \"Deutsche Bank National Trust Co.\", \"x\": [2010.0, 2011.0, 2012.0, 2013.0, 2014.0, 2015.0, 2016.0], \"y\": [0.0, 0.0, 0.0, 0.0, 0.0, 0.027938794699107358, 0.0, 2.386294361119891], \"type\": \"scatter\", \"uid\": \"526ec466-9bca-11e8-8f7e-6534b18f819c\"}, {\"mode\": \"lines+markers\", \"name\": \"klage (lawsuit)\", \"x\": [2010.0, 2011.0, 2012.0, 2013.0, 2014.0, 2015.0, 2016.0], \"y\": [0.0056776417824740775, 0.014206923138506385, 0.0005858438346378008, 0.0005848084906254938, 0.0, 0.05032077883210659, 0.012633201331219191, 1.1335313926245225], \"type\": \"scatter\", \"uid\": \"526ec59c-9bca-11e8-8f7e-6534b18f819c\"}, {\"mode\": \"lines+markers\", \"name\": \"gericht (judgement)\", \"x\": [2010.0, 2011.0, 2012.0, 2013.0, 2014.0, 2015.0, 2016.0], \"y\": [0.004645343276569699, 0.007892735076947993, 0.002343375338551203, 0.0023392339625019753, 0.0, 0.029860681944326988, 0.008239044346447297, 1.1335313926245225], \"type\": \"scatter\", \"uid\": \"526ec6c8-9bca-11e8-8f7e-6534b18f819c\"}, {\"mode\": \"lines+markers\", \"name\": \"court\", \"x\": [2010.0, 2011.0, 2012.0, 2013.0, 2014.0, 2015.0, 2016.0], \"y\": [0.007362966813358252, 0.004776603158528391, 0.0, 0.0, 0.0, 0.02294778619860632, 0.003561561438174169, 1.4700036292457357], \"type\": \"scatter\", \"uid\": \"526ec7e0-9bca-11e8-8f7e-6534b18f819c\"}], {\"title\": \"Deutsche Bank - topic trend about company\", \"xaxis\": {\"title\": \"years\"}, \"yaxis\": {\"title\": \"corelation\"}}, {\"showLink\": true, \"linkText\": \"Export to plot.ly\"})});</script>"
      ]
     },
     "metadata": {},
     "output_type": "display_data"
    },
    {
     "data": {
      "application/vnd.plotly.v1+json": {
       "data": [
        {
         "mode": "lines+markers",
         "name": "PCAM",
         "type": "scatter",
         "uid": "52774690-9bca-11e8-8f7e-6534b18f819c",
         "x": [
          2010,
          2011,
          2012,
          2013,
          2014,
          2015,
          2016
         ],
         "y": [
          0.024353004898802846,
          0.019309412054913176,
          0,
          0,
          0,
          0,
          0,
          1.9808292530117262
         ]
        },
        {
         "mode": "lines+markers",
         "name": "special purpose entities",
         "type": "scatter",
         "uid": "52774820-9bca-11e8-8f7e-6534b18f819c",
         "x": [
          2010,
          2011,
          2012,
          2013,
          2014,
          2015,
          2016
         ],
         "y": [
          0.02074515232120242,
          0,
          0,
          0,
          0.0009593277453656851,
          0,
          0,
          1.9808292530117262
         ]
        },
        {
         "mode": "lines+markers",
         "name": "CIB",
         "type": "scatter",
         "uid": "52774924-9bca-11e8-8f7e-6534b18f819c",
         "x": [
          2010,
          2011,
          2012,
          2013,
          2014,
          2015,
          2016
         ],
         "y": [
          0.022867306206389965,
          0.022116331346508564,
          0.001331027279928871,
          0,
          0,
          0.004397229157245047,
          0.030574316608327837,
          1.2876820724517808
         ]
        },
        {
         "mode": "lines+markers",
         "name": "Incremental Risk Charge",
         "type": "scatter",
         "uid": "52774a00-9bca-11e8-8f7e-6534b18f819c",
         "x": [
          2010,
          2011,
          2012,
          2013,
          2014,
          2015,
          2016
         ],
         "y": [
          0,
          0.019106412634113563,
          0.0022792290589187204,
          0.0022752010466408645,
          0.0014238635310737083,
          0,
          0,
          1.4700036292457357
         ]
        },
        {
         "mode": "lines+markers",
         "name": "non-core operations unit",
         "type": "scatter",
         "uid": "52774ad2-9bca-11e8-8f7e-6534b18f819c",
         "x": [
          2010,
          2011,
          2012,
          2013,
          2014,
          2015,
          2016
         ],
         "y": [
          0,
          0,
          0.039265304757901694,
          0.06377639980083537,
          0.047396056194668225,
          0.034549657664068215,
          0.042429663864618224,
          1.2876820724517808
         ]
        },
        {
         "mode": "lines+markers",
         "name": "exposure at defaut",
         "type": "scatter",
         "uid": "52774b9a-9bca-11e8-8f7e-6534b18f819c",
         "x": [
          2010,
          2011,
          2012,
          2013,
          2014,
          2015,
          2016
         ],
         "y": [
          0,
          0,
          0.0206309228388975,
          0.022587474929462524,
          0.028063454325790396,
          0.0006281755938921495,
          0.0018718969352037452,
          1.2876820724517808
         ]
        },
        {
         "mode": "lines+markers",
         "name": "PWCC",
         "type": "scatter",
         "uid": "52774c6c-9bca-11e8-8f7e-6534b18f819c",
         "x": [
          2010,
          2011,
          2012,
          2013,
          2014,
          2015,
          2016
         ],
         "y": [
          0,
          0,
          0,
          0,
          0,
          0.006764216364589677,
          0.046072343938930435,
          1.9808292530117262
         ]
        },
        {
         "mode": "lines+markers",
         "name": "global market",
         "type": "scatter",
         "uid": "52774d34-9bca-11e8-8f7e-6534b18f819c",
         "x": [
          2010,
          2011,
          2012,
          2013,
          2014,
          2015,
          2016
         ],
         "y": [
          0,
          0,
          0,
          0,
          0,
          0.004831583117564056,
          0.03743377945038098,
          1.9808292530117262
         ]
        }
       ],
       "layout": {
        "title": "Deutsche Bank - topic trend about service",
        "xaxis": {
         "title": "years"
        },
        "yaxis": {
         "title": "corelation"
        }
       }
      },
      "text/html": [
       "<div id=\"6e460bd3-d0ae-476e-9308-3ae4dd627684\" style=\"height: 525px; width: 100%;\" class=\"plotly-graph-div\"></div><script type=\"text/javascript\">require([\"plotly\"], function(Plotly) { window.PLOTLYENV=window.PLOTLYENV || {};window.PLOTLYENV.BASE_URL=\"https://plot.ly\";Plotly.newPlot(\"6e460bd3-d0ae-476e-9308-3ae4dd627684\", [{\"mode\": \"lines+markers\", \"name\": \"PCAM\", \"x\": [2010.0, 2011.0, 2012.0, 2013.0, 2014.0, 2015.0, 2016.0], \"y\": [0.024353004898802846, 0.019309412054913176, 0.0, 0.0, 0.0, 0.0, 0.0, 1.9808292530117262], \"type\": \"scatter\", \"uid\": \"527dcf38-9bca-11e8-8f7e-6534b18f819c\"}, {\"mode\": \"lines+markers\", \"name\": \"special purpose entities\", \"x\": [2010.0, 2011.0, 2012.0, 2013.0, 2014.0, 2015.0, 2016.0], \"y\": [0.02074515232120242, 0.0, 0.0, 0.0, 0.0009593277453656851, 0.0, 0.0, 1.9808292530117262], \"type\": \"scatter\", \"uid\": \"527dd08c-9bca-11e8-8f7e-6534b18f819c\"}, {\"mode\": \"lines+markers\", \"name\": \"CIB\", \"x\": [2010.0, 2011.0, 2012.0, 2013.0, 2014.0, 2015.0, 2016.0], \"y\": [0.022867306206389965, 0.022116331346508564, 0.001331027279928871, 0.0, 0.0, 0.004397229157245047, 0.030574316608327837, 1.2876820724517808], \"type\": \"scatter\", \"uid\": \"527dd172-9bca-11e8-8f7e-6534b18f819c\"}, {\"mode\": \"lines+markers\", \"name\": \"Incremental Risk Charge\", \"x\": [2010.0, 2011.0, 2012.0, 2013.0, 2014.0, 2015.0, 2016.0], \"y\": [0.0, 0.019106412634113563, 0.0022792290589187204, 0.0022752010466408645, 0.0014238635310737083, 0.0, 0.0, 1.4700036292457357], \"type\": \"scatter\", \"uid\": \"527dd230-9bca-11e8-8f7e-6534b18f819c\"}, {\"mode\": \"lines+markers\", \"name\": \"non-core operations unit\", \"x\": [2010.0, 2011.0, 2012.0, 2013.0, 2014.0, 2015.0, 2016.0], \"y\": [0.0, 0.0, 0.039265304757901694, 0.06377639980083537, 0.047396056194668225, 0.034549657664068215, 0.042429663864618224, 1.2876820724517808], \"type\": \"scatter\", \"uid\": \"527dd2e4-9bca-11e8-8f7e-6534b18f819c\"}, {\"mode\": \"lines+markers\", \"name\": \"exposure at defaut\", \"x\": [2010.0, 2011.0, 2012.0, 2013.0, 2014.0, 2015.0, 2016.0], \"y\": [0.0, 0.0, 0.0206309228388975, 0.022587474929462524, 0.028063454325790396, 0.0006281755938921495, 0.0018718969352037452, 1.2876820724517808], \"type\": \"scatter\", \"uid\": \"527dd38e-9bca-11e8-8f7e-6534b18f819c\"}, {\"mode\": \"lines+markers\", \"name\": \"PWCC\", \"x\": [2010.0, 2011.0, 2012.0, 2013.0, 2014.0, 2015.0, 2016.0], \"y\": [0.0, 0.0, 0.0, 0.0, 0.0, 0.006764216364589677, 0.046072343938930435, 1.9808292530117262], \"type\": \"scatter\", \"uid\": \"527dd442-9bca-11e8-8f7e-6534b18f819c\"}, {\"mode\": \"lines+markers\", \"name\": \"global market\", \"x\": [2010.0, 2011.0, 2012.0, 2013.0, 2014.0, 2015.0, 2016.0], \"y\": [0.0, 0.0, 0.0, 0.0, 0.0, 0.004831583117564056, 0.03743377945038098, 1.9808292530117262], \"type\": \"scatter\", \"uid\": \"527dd4ec-9bca-11e8-8f7e-6534b18f819c\"}], {\"title\": \"Deutsche Bank - topic trend about service\", \"xaxis\": {\"title\": \"years\"}, \"yaxis\": {\"title\": \"corelation\"}}, {\"showLink\": true, \"linkText\": \"Export to plot.ly\"})});</script>"
      ],
      "text/vnd.plotly.v1+html": [
       "<div id=\"6e460bd3-d0ae-476e-9308-3ae4dd627684\" style=\"height: 525px; width: 100%;\" class=\"plotly-graph-div\"></div><script type=\"text/javascript\">require([\"plotly\"], function(Plotly) { window.PLOTLYENV=window.PLOTLYENV || {};window.PLOTLYENV.BASE_URL=\"https://plot.ly\";Plotly.newPlot(\"6e460bd3-d0ae-476e-9308-3ae4dd627684\", [{\"mode\": \"lines+markers\", \"name\": \"PCAM\", \"x\": [2010.0, 2011.0, 2012.0, 2013.0, 2014.0, 2015.0, 2016.0], \"y\": [0.024353004898802846, 0.019309412054913176, 0.0, 0.0, 0.0, 0.0, 0.0, 1.9808292530117262], \"type\": \"scatter\", \"uid\": \"527dcf38-9bca-11e8-8f7e-6534b18f819c\"}, {\"mode\": \"lines+markers\", \"name\": \"special purpose entities\", \"x\": [2010.0, 2011.0, 2012.0, 2013.0, 2014.0, 2015.0, 2016.0], \"y\": [0.02074515232120242, 0.0, 0.0, 0.0, 0.0009593277453656851, 0.0, 0.0, 1.9808292530117262], \"type\": \"scatter\", \"uid\": \"527dd08c-9bca-11e8-8f7e-6534b18f819c\"}, {\"mode\": \"lines+markers\", \"name\": \"CIB\", \"x\": [2010.0, 2011.0, 2012.0, 2013.0, 2014.0, 2015.0, 2016.0], \"y\": [0.022867306206389965, 0.022116331346508564, 0.001331027279928871, 0.0, 0.0, 0.004397229157245047, 0.030574316608327837, 1.2876820724517808], \"type\": \"scatter\", \"uid\": \"527dd172-9bca-11e8-8f7e-6534b18f819c\"}, {\"mode\": \"lines+markers\", \"name\": \"Incremental Risk Charge\", \"x\": [2010.0, 2011.0, 2012.0, 2013.0, 2014.0, 2015.0, 2016.0], \"y\": [0.0, 0.019106412634113563, 0.0022792290589187204, 0.0022752010466408645, 0.0014238635310737083, 0.0, 0.0, 1.4700036292457357], \"type\": \"scatter\", \"uid\": \"527dd230-9bca-11e8-8f7e-6534b18f819c\"}, {\"mode\": \"lines+markers\", \"name\": \"non-core operations unit\", \"x\": [2010.0, 2011.0, 2012.0, 2013.0, 2014.0, 2015.0, 2016.0], \"y\": [0.0, 0.0, 0.039265304757901694, 0.06377639980083537, 0.047396056194668225, 0.034549657664068215, 0.042429663864618224, 1.2876820724517808], \"type\": \"scatter\", \"uid\": \"527dd2e4-9bca-11e8-8f7e-6534b18f819c\"}, {\"mode\": \"lines+markers\", \"name\": \"exposure at defaut\", \"x\": [2010.0, 2011.0, 2012.0, 2013.0, 2014.0, 2015.0, 2016.0], \"y\": [0.0, 0.0, 0.0206309228388975, 0.022587474929462524, 0.028063454325790396, 0.0006281755938921495, 0.0018718969352037452, 1.2876820724517808], \"type\": \"scatter\", \"uid\": \"527dd38e-9bca-11e8-8f7e-6534b18f819c\"}, {\"mode\": \"lines+markers\", \"name\": \"PWCC\", \"x\": [2010.0, 2011.0, 2012.0, 2013.0, 2014.0, 2015.0, 2016.0], \"y\": [0.0, 0.0, 0.0, 0.0, 0.0, 0.006764216364589677, 0.046072343938930435, 1.9808292530117262], \"type\": \"scatter\", \"uid\": \"527dd442-9bca-11e8-8f7e-6534b18f819c\"}, {\"mode\": \"lines+markers\", \"name\": \"global market\", \"x\": [2010.0, 2011.0, 2012.0, 2013.0, 2014.0, 2015.0, 2016.0], \"y\": [0.0, 0.0, 0.0, 0.0, 0.0, 0.004831583117564056, 0.03743377945038098, 1.9808292530117262], \"type\": \"scatter\", \"uid\": \"527dd4ec-9bca-11e8-8f7e-6534b18f819c\"}], {\"title\": \"Deutsche Bank - topic trend about service\", \"xaxis\": {\"title\": \"years\"}, \"yaxis\": {\"title\": \"corelation\"}}, {\"showLink\": true, \"linkText\": \"Export to plot.ly\"})});</script>"
      ]
     },
     "metadata": {},
     "output_type": "display_data"
    }
   ],
   "source": [
    "py.offline.iplot(fig_company, filename='Deutsche Bank - topic trend about company')\n",
    "py.offline.iplot(fig_service, filename='Deutsche Bank - topic trend about service')"
   ]
  },
  {
   "cell_type": "code",
   "execution_count": null,
   "metadata": {},
   "outputs": [],
   "source": []
  }
 ],
 "metadata": {
  "kernelspec": {
   "display_name": "Python 3",
   "language": "python",
   "name": "python3"
  },
  "language_info": {
   "codemirror_mode": {
    "name": "ipython",
    "version": 3
   },
   "file_extension": ".py",
   "mimetype": "text/x-python",
   "name": "python",
   "nbconvert_exporter": "python",
   "pygments_lexer": "ipython3",
   "version": "3.6.6"
  }
 },
 "nbformat": 4,
 "nbformat_minor": 1
}
