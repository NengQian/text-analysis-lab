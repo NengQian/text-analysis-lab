{
 "cells": [
  {
   "cell_type": "markdown",
   "metadata": {},
   "source": [
    "# Visualisation"
   ]
  },
  {
   "cell_type": "code",
   "execution_count": 7,
   "metadata": {},
   "outputs": [
    {
     "data": {
      "text/html": [
       "<script>requirejs.config({paths: { 'plotly': ['https://cdn.plot.ly/plotly-latest.min']},});if(!window.Plotly) {{require(['plotly'],function(plotly) {window.Plotly=plotly;});}}</script>"
      ],
      "text/vnd.plotly.v1+html": [
       "<script>requirejs.config({paths: { 'plotly': ['https://cdn.plot.ly/plotly-latest.min']},});if(!window.Plotly) {{require(['plotly'],function(plotly) {window.Plotly=plotly;});}}</script>"
      ]
     },
     "metadata": {},
     "output_type": "display_data"
    },
    {
     "data": {
      "application/vnd.plotly.v1+json": {
       "data": [
        {
         "marker": {
          "size": [
           40,
           60,
           80,
           100
          ]
         },
         "mode": "markers",
         "type": "scatter",
         "uid": "74270ae6-9b20-11e8-baea-39c2ef4f6d2a",
         "x": [
          1,
          2,
          3,
          4
         ],
         "y": [
          10,
          11,
          12,
          13
         ]
        }
       ],
       "layout": {}
      },
      "text/html": [
       "<div id=\"c34fb53c-a20a-4cb4-ab53-3363b1feb12a\" style=\"height: 525px; width: 100%;\" class=\"plotly-graph-div\"></div><script type=\"text/javascript\">require([\"plotly\"], function(Plotly) { window.PLOTLYENV=window.PLOTLYENV || {};window.PLOTLYENV.BASE_URL=\"https://plot.ly\";Plotly.newPlot(\"c34fb53c-a20a-4cb4-ab53-3363b1feb12a\", [{\"marker\": {\"size\": [40, 60, 80, 100]}, \"mode\": \"markers\", \"x\": [1, 2, 3, 4], \"y\": [10, 11, 12, 13], \"type\": \"scatter\", \"uid\": \"742bb8fc-9b20-11e8-baea-39c2ef4f6d2a\"}], {}, {\"showLink\": true, \"linkText\": \"Export to plot.ly\"})});</script>"
      ],
      "text/vnd.plotly.v1+html": [
       "<div id=\"c34fb53c-a20a-4cb4-ab53-3363b1feb12a\" style=\"height: 525px; width: 100%;\" class=\"plotly-graph-div\"></div><script type=\"text/javascript\">require([\"plotly\"], function(Plotly) { window.PLOTLYENV=window.PLOTLYENV || {};window.PLOTLYENV.BASE_URL=\"https://plot.ly\";Plotly.newPlot(\"c34fb53c-a20a-4cb4-ab53-3363b1feb12a\", [{\"marker\": {\"size\": [40, 60, 80, 100]}, \"mode\": \"markers\", \"x\": [1, 2, 3, 4], \"y\": [10, 11, 12, 13], \"type\": \"scatter\", \"uid\": \"742bb8fc-9b20-11e8-baea-39c2ef4f6d2a\"}], {}, {\"showLink\": true, \"linkText\": \"Export to plot.ly\"})});</script>"
      ]
     },
     "metadata": {},
     "output_type": "display_data"
    }
   ],
   "source": [
    "import plotly as py\n",
    "import plotly.graph_objs as go\n",
    "py.offline.init_notebook_mode(connected=True)\n",
    "\n",
    "trace0 = go.Scatter(\n",
    "    x=[1, 2, 3, 4],\n",
    "    y=[10, 11, 12, 13],\n",
    "    mode='markers',\n",
    "    marker=dict(\n",
    "        size=[40, 60, 80, 100],\n",
    "    )\n",
    ")\n",
    "\n",
    "data = [trace0]\n",
    "fig = go.Figure(data=data, layout=layout)\n",
    "py.offline.iplot(data)"
   ]
  },
  {
   "cell_type": "code",
   "execution_count": 8,
   "metadata": {},
   "outputs": [
    {
     "data": {
      "application/vnd.plotly.v1+json": {
       "data": [
        {
         "mode": "lines+markers",
         "name": "CommerzBank",
         "type": "scatter",
         "uid": "75cf25cc-9b20-11e8-baea-39c2ef4f6d2a",
         "x": [
          2010,
          2011,
          2012,
          2013,
          2014,
          2015,
          2016,
          2017
         ],
         "y": [
          10.71,
          11.27,
          12.2,
          12.21,
          13.41,
          12.76,
          13.52
         ]
        },
        {
         "mode": "lines+markers",
         "name": "DeutscheBank",
         "type": "scatter",
         "uid": "75cf27c0-9b20-11e8-baea-39c2ef4f6d2a",
         "x": [
          2010,
          2011,
          2012,
          2013,
          2014,
          2015,
          2016,
          2017
         ],
         "y": [
          12.13,
          13.51,
          20.44,
          20.48,
          22.37,
          16.39,
          17.34
         ]
        },
        {
         "mode": "lines+markers",
         "name": "DzBank",
         "type": "scatter",
         "uid": "75cf28ec-9b20-11e8-baea-39c2ef4f6d2a",
         "x": [
          2010,
          2011,
          2012,
          2013,
          2014,
          2015,
          2016,
          2017
         ],
         "y": [
          18.08,
          21.6,
          20.76,
          21.87,
          21.55,
          26.19,
          25.32
         ]
        },
        {
         "mode": "lines+markers",
         "name": "BayerischeLandesbank",
         "type": "scatter",
         "uid": "75cf29e6-9b20-11e8-baea-39c2ef4f6d2a",
         "x": [
          2010,
          2011,
          2012,
          2013,
          2014,
          2015,
          2016,
          2017
         ],
         "y": [
          19.91,
          22,
          20.79,
          23.37,
          13.17,
          15.14,
          15.04
         ]
        },
        {
         "mode": "lines+markers",
         "name": "DeutschePfandbriefbank",
         "type": "scatter",
         "uid": "75cf2acc-9b20-11e8-baea-39c2ef4f6d2a",
         "x": [
          2010,
          2011,
          2012,
          2013,
          2014,
          2015,
          2016,
          2017
         ],
         "y": [
          14.83,
          15.63,
          16.62,
          16.41,
          15.51,
          13.58,
          13.91
         ]
        },
        {
         "mode": "lines+markers",
         "name": "Landesbank_Hessen",
         "type": "scatter",
         "uid": "75cf2ba8-9b20-11e8-baea-39c2ef4f6d2a",
         "x": [
          2010,
          2011,
          2012,
          2013,
          2014,
          2015,
          2016,
          2017
         ],
         "y": [
          14.82,
          14.91,
          14.89,
          17.47,
          15.62,
          16.09,
          18.92
         ]
        },
        {
         "mode": "lines+markers",
         "name": "Landesbank_Baden",
         "type": "scatter",
         "uid": "75cf2c8e-9b20-11e8-baea-39c2ef4f6d2a",
         "x": [
          2010,
          2011,
          2012,
          2013,
          2014,
          2015,
          2016,
          2017
         ],
         "y": [
          16.83,
          15.8,
          16.77,
          14.06,
          15.88,
          16.73,
          15.2
         ]
        }
       ],
       "layout": {}
      },
      "text/html": [
       "<div id=\"4ca1cec8-9d5d-4fb3-a65f-357075f5f850\" style=\"height: 525px; width: 100%;\" class=\"plotly-graph-div\"></div><script type=\"text/javascript\">require([\"plotly\"], function(Plotly) { window.PLOTLYENV=window.PLOTLYENV || {};window.PLOTLYENV.BASE_URL=\"https://plot.ly\";Plotly.newPlot(\"4ca1cec8-9d5d-4fb3-a65f-357075f5f850\", [{\"mode\": \"lines+markers\", \"name\": \"CommerzBank\", \"x\": [2010, 2011, 2012, 2013, 2014, 2015, 2016, 2017], \"y\": [10.71, 11.27, 12.2, 12.21, 13.41, 12.76, 13.52], \"type\": \"scatter\", \"uid\": \"75d6b198-9b20-11e8-baea-39c2ef4f6d2a\"}, {\"mode\": \"lines+markers\", \"name\": \"DeutscheBank\", \"x\": [2010, 2011, 2012, 2013, 2014, 2015, 2016, 2017], \"y\": [12.13, 13.51, 20.44, 20.48, 22.37, 16.39, 17.34], \"type\": \"scatter\", \"uid\": \"75d6b31e-9b20-11e8-baea-39c2ef4f6d2a\"}, {\"mode\": \"lines+markers\", \"name\": \"DzBank\", \"x\": [2010, 2011, 2012, 2013, 2014, 2015, 2016, 2017], \"y\": [18.08, 21.6, 20.76, 21.87, 21.55, 26.19, 25.32], \"type\": \"scatter\", \"uid\": \"75d6b40e-9b20-11e8-baea-39c2ef4f6d2a\"}, {\"mode\": \"lines+markers\", \"name\": \"BayerischeLandesbank\", \"x\": [2010, 2011, 2012, 2013, 2014, 2015, 2016, 2017], \"y\": [19.91, 22.0, 20.79, 23.37, 13.17, 15.14, 15.04], \"type\": \"scatter\", \"uid\": \"75d6b4d6-9b20-11e8-baea-39c2ef4f6d2a\"}, {\"mode\": \"lines+markers\", \"name\": \"DeutschePfandbriefbank\", \"x\": [2010, 2011, 2012, 2013, 2014, 2015, 2016, 2017], \"y\": [14.83, 15.63, 16.62, 16.41, 15.51, 13.58, 13.91], \"type\": \"scatter\", \"uid\": \"75d6b59e-9b20-11e8-baea-39c2ef4f6d2a\"}, {\"mode\": \"lines+markers\", \"name\": \"Landesbank_Hessen\", \"x\": [2010, 2011, 2012, 2013, 2014, 2015, 2016, 2017], \"y\": [14.82, 14.91, 14.89, 17.47, 15.62, 16.09, 18.92], \"type\": \"scatter\", \"uid\": \"75d6b652-9b20-11e8-baea-39c2ef4f6d2a\"}, {\"mode\": \"lines+markers\", \"name\": \"Landesbank_Baden\", \"x\": [2010, 2011, 2012, 2013, 2014, 2015, 2016, 2017], \"y\": [16.83, 15.8, 16.77, 14.06, 15.88, 16.73, 15.2], \"type\": \"scatter\", \"uid\": \"75d6b706-9b20-11e8-baea-39c2ef4f6d2a\"}], {}, {\"showLink\": true, \"linkText\": \"Export to plot.ly\"})});</script>"
      ],
      "text/vnd.plotly.v1+html": [
       "<div id=\"4ca1cec8-9d5d-4fb3-a65f-357075f5f850\" style=\"height: 525px; width: 100%;\" class=\"plotly-graph-div\"></div><script type=\"text/javascript\">require([\"plotly\"], function(Plotly) { window.PLOTLYENV=window.PLOTLYENV || {};window.PLOTLYENV.BASE_URL=\"https://plot.ly\";Plotly.newPlot(\"4ca1cec8-9d5d-4fb3-a65f-357075f5f850\", [{\"mode\": \"lines+markers\", \"name\": \"CommerzBank\", \"x\": [2010, 2011, 2012, 2013, 2014, 2015, 2016, 2017], \"y\": [10.71, 11.27, 12.2, 12.21, 13.41, 12.76, 13.52], \"type\": \"scatter\", \"uid\": \"75d6b198-9b20-11e8-baea-39c2ef4f6d2a\"}, {\"mode\": \"lines+markers\", \"name\": \"DeutscheBank\", \"x\": [2010, 2011, 2012, 2013, 2014, 2015, 2016, 2017], \"y\": [12.13, 13.51, 20.44, 20.48, 22.37, 16.39, 17.34], \"type\": \"scatter\", \"uid\": \"75d6b31e-9b20-11e8-baea-39c2ef4f6d2a\"}, {\"mode\": \"lines+markers\", \"name\": \"DzBank\", \"x\": [2010, 2011, 2012, 2013, 2014, 2015, 2016, 2017], \"y\": [18.08, 21.6, 20.76, 21.87, 21.55, 26.19, 25.32], \"type\": \"scatter\", \"uid\": \"75d6b40e-9b20-11e8-baea-39c2ef4f6d2a\"}, {\"mode\": \"lines+markers\", \"name\": \"BayerischeLandesbank\", \"x\": [2010, 2011, 2012, 2013, 2014, 2015, 2016, 2017], \"y\": [19.91, 22.0, 20.79, 23.37, 13.17, 15.14, 15.04], \"type\": \"scatter\", \"uid\": \"75d6b4d6-9b20-11e8-baea-39c2ef4f6d2a\"}, {\"mode\": \"lines+markers\", \"name\": \"DeutschePfandbriefbank\", \"x\": [2010, 2011, 2012, 2013, 2014, 2015, 2016, 2017], \"y\": [14.83, 15.63, 16.62, 16.41, 15.51, 13.58, 13.91], \"type\": \"scatter\", \"uid\": \"75d6b59e-9b20-11e8-baea-39c2ef4f6d2a\"}, {\"mode\": \"lines+markers\", \"name\": \"Landesbank_Hessen\", \"x\": [2010, 2011, 2012, 2013, 2014, 2015, 2016, 2017], \"y\": [14.82, 14.91, 14.89, 17.47, 15.62, 16.09, 18.92], \"type\": \"scatter\", \"uid\": \"75d6b652-9b20-11e8-baea-39c2ef4f6d2a\"}, {\"mode\": \"lines+markers\", \"name\": \"Landesbank_Baden\", \"x\": [2010, 2011, 2012, 2013, 2014, 2015, 2016, 2017], \"y\": [16.83, 15.8, 16.77, 14.06, 15.88, 16.73, 15.2], \"type\": \"scatter\", \"uid\": \"75d6b706-9b20-11e8-baea-39c2ef4f6d2a\"}], {}, {\"showLink\": true, \"linkText\": \"Export to plot.ly\"})});</script>"
      ]
     },
     "metadata": {},
     "output_type": "display_data"
    }
   ],
   "source": [
    "# Create random data with numpy\n",
    "import numpy as np\n",
    "\n",
    "N = 100\n",
    "random_x = np.linspace(0, 1, N)\n",
    "random_y0 = np.random.randn(N)+5\n",
    "random_y1 = np.random.randn(N)\n",
    "random_y2 = np.random.randn(N)-5\n",
    "\n",
    "years = [2010,2011,2012, 2013, 2014, 2015, 2016, 2017]\n",
    "\n",
    "# Create traces\n",
    "trace0 = go.Scatter(\n",
    "    x = years,\n",
    "    y = [10.71, 11.27, 12.2, 12.21, 13.41, 12.76, 13.52],\n",
    "    mode = 'lines+markers',\n",
    "    name = 'CommerzBank'\n",
    ")\n",
    "trace1 = go.Scatter(\n",
    "    x = years,\n",
    "    y = [12.13, 13.51, 20.44, 20.48, 22.37, 16.39, 17.34],\n",
    "    mode = 'lines+markers',\n",
    "    name = 'DeutscheBank'\n",
    ")\n",
    "trace2 = go.Scatter(\n",
    "    x = years,\n",
    "    y = [18.08, 21.60, 20.76, 21.87, 21.55, 26.19, 25.32],\n",
    "    mode = 'lines+markers',\n",
    "    name = 'DzBank'\n",
    ")\n",
    "\n",
    "trace4 = go.Scatter(\n",
    "    x = years,\n",
    "    y = [19.91, 22.0, 20.79, 23.37, 13.17, 15.14, 15.04],\n",
    "    mode = 'lines+markers',\n",
    "    name = 'BayerischeLandesbank'\n",
    ")\n",
    "\n",
    "trace4 = go.Scatter(\n",
    "    x = years,\n",
    "    y = [19.91, 22.0, 20.79, 23.37, 13.17, 15.14, 15.04],\n",
    "    mode = 'lines+markers',\n",
    "    name = 'BayerischeLandesbank'\n",
    ")\n",
    "\n",
    "trace5 = go.Scatter(\n",
    "    x = years,\n",
    "    y = [14.83, 15.63, 16.62, 16.41, 15.51, 13.58, 13.91],\n",
    "    mode = 'lines+markers',\n",
    "    name = 'DeutschePfandbriefbank'\n",
    ")\n",
    "\n",
    "trace6 = go.Scatter(\n",
    "    x = years,\n",
    "    y = [14.82, 14.91, 14.89, 17.47, 15.62, 16.09, 18.92],\n",
    "    mode = 'lines+markers',\n",
    "    name = 'Landesbank_Hessen'\n",
    ")\n",
    "\n",
    "trace7 = go.Scatter(\n",
    "    x = years,\n",
    "    y = [16.83, 15.8, 16.77, 14.06, 15.88, 16.73, 15.2],\n",
    "    mode = 'lines+markers',\n",
    "    name = 'Landesbank_Baden'\n",
    ")\n",
    "\n",
    "data = [trace0, trace1, trace2, trace4,trace5, trace6, trace7]\n",
    "py.offline.iplot(data, filename='scatter-mode')"
   ]
  },
  {
   "cell_type": "code",
   "execution_count": null,
   "metadata": {},
   "outputs": [],
   "source": []
  }
 ],
 "metadata": {
  "kernelspec": {
   "display_name": "Python 3",
   "language": "python",
   "name": "python3"
  },
  "language_info": {
   "codemirror_mode": {
    "name": "ipython",
    "version": 3
   },
   "file_extension": ".py",
   "mimetype": "text/x-python",
   "name": "python",
   "nbconvert_exporter": "python",
   "pygments_lexer": "ipython3",
   "version": "3.6.6"
  }
 },
 "nbformat": 4,
 "nbformat_minor": 2
}
