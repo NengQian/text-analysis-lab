{
 "cells": [
  {
   "cell_type": "markdown",
   "metadata": {},
   "source": [
    "# Day1"
   ]
  },
  {
   "cell_type": "code",
   "execution_count": 72,
   "metadata": {},
   "outputs": [],
   "source": [
    "import json\n",
    "\n",
    "filepath = \"data/\"\n",
    "\n",
    "\n",
    "\n",
    "class FileUtils:\n",
    "\n",
    "    def __init__(self):\n",
    "        pass\n",
    "\n",
    "    @staticmethod\n",
    "    def fix_json(file_path):\n",
    "        # Read in the file\n",
    "        with open(file_path, 'r') as my_file:\n",
    "            filedata = my_file.read()\n",
    "\n",
    "        # Replace the target string\n",
    "        filedata = filedata.replace('}', '},')\n",
    "        filedata = filedata[0:len(filedata) - 2] + filedata[len(filedata) - 1:]\n",
    "        filedata = '[' + filedata + ']'\n",
    "\n",
    "        # Write the file out again\n",
    "        with open(file_path, 'w') as my_file:\n",
    "            my_file.write(filedata)\n",
    "\n",
    "            \n",
    "\n",
    "FILE_NAME = filepath+'Aareal-AnnualReport-2010.json'\n",
    "TYPE = 'type'\n",
    "PARAGRAPH = 'paragraph'\n",
    "CONTENT = 'content'\n",
    "\n",
    "try:\n",
    "    with open(FILE_NAME) as f:\n",
    "        data = json.load(f)\n",
    "        for item in data:\n",
    "            typeDoc = item[TYPE]\n",
    "            if typeDoc == PARAGRAPH:\n",
    "                content = item[CONTENT]\n",
    "                #print (content)\n",
    "except:\n",
    "    FileUtils.fix_json(FILE_NAME)\n",
    "    with open(FILE_NAME) as f:\n",
    "        data = json.load(f)\n",
    "        for item in data:\n",
    "            typeDoc = item[TYPE]\n",
    "            if typeDoc == PARAGRAPH:\n",
    "                content = item[CONTENT]\n",
    "                #print (content)\n"
   ]
  },
  {
   "cell_type": "code",
   "execution_count": 16,
   "metadata": {},
   "outputs": [],
   "source": [
    "import spacy"
   ]
  },
  {
   "cell_type": "code",
   "execution_count": 73,
   "metadata": {},
   "outputs": [],
   "source": [
    "\n",
    "from spacy.lang.de.stop_words import STOP_WORDS\n",
    "filtered_words = [word for word in sentence if word.lower_ not in STOP_WORDS]\n",
    "#for token in filtered_words:\n",
    "    #print(token)\n",
    "#print(content)\n",
    "#print(STOP_WORDS)"
   ]
  },
  {
   "cell_type": "code",
   "execution_count": 74,
   "metadata": {},
   "outputs": [],
   "source": [
    "nlp = spacy.load(\"de\")\n",
    "#content = content.lower()\n",
    "sentence = nlp(content)\n",
    "#for token in sentence:\n",
    "#    print(token.text)\n",
    "\n",
    "\n",
    "#print(sentence.text)"
   ]
  },
  {
   "cell_type": "code",
   "execution_count": 68,
   "metadata": {},
   "outputs": [],
   "source": [
    "filtered_words_withoutpunc = [word for word in filtered_words if word.pos_ != 'PUNCT']"
   ]
  },
  {
   "cell_type": "code",
   "execution_count": null,
   "metadata": {},
   "outputs": [],
   "source": []
  }
 ],
 "metadata": {
  "kernelspec": {
   "display_name": "Python 3",
   "language": "python",
   "name": "python3"
  },
  "language_info": {
   "codemirror_mode": {
    "name": "ipython",
    "version": 3
   },
   "file_extension": ".py",
   "mimetype": "text/x-python",
   "name": "python",
   "nbconvert_exporter": "python",
   "pygments_lexer": "ipython3",
   "version": "3.6.6"
  }
 },
 "nbformat": 4,
 "nbformat_minor": 2
}
