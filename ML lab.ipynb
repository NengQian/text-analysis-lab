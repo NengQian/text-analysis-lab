{
 "cells": [
  {
   "cell_type": "markdown",
   "metadata": {},
   "source": [
    "# Day2"
   ]
  },
  {
   "cell_type": "code",
   "execution_count": 113,
   "metadata": {},
   "outputs": [],
   "source": [
    "import spacy\n",
    "import json\n",
    "from sklearn.feature_extraction.text import TfidfVectorizer\n",
    "from spacy.lang.de.stop_words import STOP_WORDS\n",
    "import pandas as pd\n",
    "from sklearn.cluster import KMeans\n",
    "import time"
   ]
  },
  {
   "cell_type": "code",
   "execution_count": 3,
   "metadata": {},
   "outputs": [],
   "source": [
    "%run src/file_utils.py\n",
    "%run src/configuration.py"
   ]
  },
  {
   "cell_type": "code",
   "execution_count": 49,
   "metadata": {},
   "outputs": [],
   "source": [
    "document_test = ['BMW-AnnualReport-2016.json']"
   ]
  },
  {
   "cell_type": "code",
   "execution_count": 24,
   "metadata": {},
   "outputs": [],
   "source": [
    "vocab_documents = ['BMW-AnnualReport-2016.json', 'CarlZeissMeditec-AnnualReport-2016.json', 'BVB-AnnualReport-2016.json']"
   ]
  },
  {
   "cell_type": "code",
   "execution_count": 4,
   "metadata": {},
   "outputs": [],
   "source": [
    "documents = ['BMW-AnnualReport-2015.json', 'BMW-AnnualReport-2016.json', 'BMW-AnnualReport-2017.json', \n",
    " 'CarlZeissMeditec-AnnualReport-2015.json', 'CarlZeissMeditec-AnnualReport-2016.json', 'CarlZeissMeditec-AnnualReport-2017.json',\n",
    " 'BVB-AnnualReport-2015.json', 'BVB-AnnualReport-2016.json', 'BVB-AnnualReport-2017.json']"
   ]
  },
  {
   "cell_type": "code",
   "execution_count": 5,
   "metadata": {},
   "outputs": [],
   "source": [
    "TYPE = 'type'\n",
    "PARAGRAPH = 'paragraph'\n",
    "CONTENT = 'content'"
   ]
  },
  {
   "cell_type": "code",
   "execution_count": 6,
   "metadata": {},
   "outputs": [],
   "source": [
    "def readContentOfFile(file_name):\n",
    "    content = ''\n",
    "    try:\n",
    "        with open(file_name) as f:\n",
    "            data = json.load(f)\n",
    "            for item in data:\n",
    "                typeDoc = item[TYPE]\n",
    "                if typeDoc == PARAGRAPH:\n",
    "                    content += item[CONTENT]\n",
    "    except:\n",
    "        FileUtils.fix_json(file_name)\n",
    "        with open(file_name) as f:\n",
    "            data = json.load(f)\n",
    "            for item in data:\n",
    "                typeDoc = item[TYPE]\n",
    "                if typeDoc == PARAGRAPH:\n",
    "                    content += item[CONTENT]\n",
    "    return content"
   ]
  },
  {
   "cell_type": "markdown",
   "metadata": {},
   "source": [
    "# Clustering without lemmatization"
   ]
  },
  {
   "cell_type": "code",
   "execution_count": 40,
   "metadata": {},
   "outputs": [],
   "source": [
    "common_vocabularly = set()\n",
    "for document in documents:\n",
    "    content_of_document = readContentOfFile(FILE_PATH + document)\n",
    "    nlp = spacy.load(\"de\")\n",
    "    sentence = nlp(content_of_document)\n",
    "    filtered_words = [word for word in sentence if word.lower_ not in STOP_WORDS]\n",
    "    filtered_words_withoutdigits = [word for word in filtered_words if not word.is_digit]\n",
    "    filtered_words_withoutpunc = [word for word in filtered_words_withoutdigits if word.pos_ != 'PUNCT']\n",
    "    vocabularly = set()\n",
    "    for word in filtered_words_withoutpunc:\n",
    "        vocabularly.add(word.text.replace('\\n', '').strip().lower())\n",
    "    new_vocab = set()\n",
    "    for u in vocabularly:\n",
    "        if u != '':\n",
    "            new_vocab.add(u)\n",
    "    vectorizer = TfidfVectorizer(vocabulary=new_vocab)\n",
    "    tfidf_matrix = vectorizer.fit_transform([content_of_document])\n",
    "    feature_names = vectorizer.get_feature_names()\n",
    "    corpus_index = [n for n in ['Values']]\n",
    "    df = pd.DataFrame(tfidf_matrix.T.todense(), index=feature_names, columns=corpus_index)\n",
    "    df = df.sort_values(by=['Values'], ascending=False)\n",
    "    common_vocabularly.update(df.head(1000).index.values.tolist())\n"
   ]
  },
  {
   "cell_type": "code",
   "execution_count": 42,
   "metadata": {},
   "outputs": [],
   "source": [
    "vectorizer = TfidfVectorizer(vocabulary=common_vocabularly)"
   ]
  },
  {
   "cell_type": "code",
   "execution_count": 46,
   "metadata": {},
   "outputs": [],
   "source": [
    "tfidf_matrix = vectorizer.fit_transform(\n",
    "    [readContentOfFile(FILE_PATH + 'BVB-AnnualReport-2011.json'), \n",
    "     readContentOfFile(FILE_PATH + 'BVB-AnnualReport-2012.json'), \n",
    "     readContentOfFile(FILE_PATH + 'BMW-AnnualReport-2012.json'),\n",
    "     readContentOfFile(FILE_PATH + 'BMW-AnnualReport-2011.json'),\n",
    "     readContentOfFile(FILE_PATH + 'CarlZeissMeditec-AnnualReport-2013.json'),\n",
    "     readContentOfFile(FILE_PATH + 'CarlZeissMeditec-AnnualReport-2012.json'),\n",
    "     readContentOfFile(FILE_PATH + 'BVB-AnnualReport-2013.json'), \n",
    "     readContentOfFile(FILE_PATH + 'BMW-AnnualReport-2013.json'),])"
   ]
  },
  {
   "cell_type": "code",
   "execution_count": 47,
   "metadata": {},
   "outputs": [
    {
     "data": {
      "text/plain": [
       "array([1, 1, 2, 2, 0, 0, 1, 2], dtype=int32)"
      ]
     },
     "execution_count": 47,
     "metadata": {},
     "output_type": "execute_result"
    }
   ],
   "source": [
    "km = KMeans(n_clusters=3, init='k-means++')\n",
    "km.fit(tfidf_matrix)\n",
    "km.labels_"
   ]
  },
  {
   "cell_type": "markdown",
   "metadata": {},
   "source": [
    "# Clustering with lemmatization"
   ]
  },
  {
   "cell_type": "code",
   "execution_count": 159,
   "metadata": {},
   "outputs": [],
   "source": [
    "nlp = spacy.load(\"de\")\n",
    "def perform_lemmatization(document):\n",
    "    content_of_document = readContentOfFile(document)\n",
    "    sentence = nlp(content_of_document)\n",
    "    filtered_words = [word for word in sentence if word.lower_ not in STOP_WORDS]\n",
    "    filtered_words_withoutdigits = [word for word in filtered_words if not word.is_digit]\n",
    "    filtered_words_withoutpunc = [word for word in filtered_words_withoutdigits if word.pos_ != 'PUNCT']\n",
    "    filtered_lemmas = [word.lemma_ for word in filtered_words_withoutpunc]\n",
    "    lemmatized_content = \" \".join(item for item in filtered_lemmas)\n",
    "    return lemmatized_content"
   ]
  },
  {
   "cell_type": "code",
   "execution_count": 160,
   "metadata": {},
   "outputs": [
    {
     "name": "stdout",
     "output_type": "stream",
     "text": [
      "60.13927459716797\n"
     ]
    }
   ],
   "source": [
    "start_time = time.time()\n",
    "common_vocabularly_lem = set()\n",
    "for document in documents:\n",
    "    content_of_document = readContentOfFile(FILE_PATH + document)\n",
    "    nlp = spacy.load(\"de\")\n",
    "    sentence = nlp(content_of_document)\n",
    "    filtered_words = [word for word in sentence if word.lower_ not in STOP_WORDS]\n",
    "    filtered_words_withoutdigits = [word for word in filtered_words if not word.is_digit]\n",
    "    filtered_words_withoutpunc = [word for word in filtered_words_withoutdigits if word.pos_ != 'PUNCT']\n",
    "    filtered_lemmas = [word.lemma_ for word in filtered_words_withoutpunc]\n",
    "    vocabularly = set()\n",
    "    for word in filtered_lemmas:\n",
    "        vocabularly.add(word.replace('\\n', '').strip().lower())\n",
    "    new_vocab = set()\n",
    "    for u in vocabularly:\n",
    "        if u != '':\n",
    "            new_vocab.add(u)\n",
    "\n",
    "#     lemmatized_content = \" \".join(item for item in filtered_lemmas)\n",
    "#     vectorizer = TfidfVectorizer(vocabulary=new_vocab)\n",
    "#     tfidf_matrix = vectorizer.fit_transform([lemmatized_content])\n",
    "#     feature_names = vectorizer.get_feature_names()\n",
    "#     corpus_index = [n for n in ['Values']]\n",
    "#     df = pd.DataFrame(tfidf_matrix.T.todense(), index=feature_names, columns=corpus_index)\n",
    "#     df = df.sort_values(by=['Values'], ascending=False)\n",
    "#     print (df.head(5).index.values.tolist())\n",
    "#     common_vocabularly_lem.update(df.head(1000).index.values.tolist())\n",
    "    common_vocabularly_lem.update(new_vocab)\n",
    "print (time.time() - start_time)"
   ]
  },
  {
   "cell_type": "code",
   "execution_count": 93,
   "metadata": {},
   "outputs": [],
   "source": [
    "#common_vocabularly_lem.remove(\"borussia\")\n",
    "#common_vocabularly_lem.remove(\"dortmund\")\n",
    "#common_vocabularly_lem.remove(\"bmw\")\n",
    "#common_vocabularly_lem.remove(\"group\")\n",
    "#common_vocabularly_lem.remove(\"zeiss\")\n",
    "#common_vocabularly_lem.remove(\"carl\")"
   ]
  },
  {
   "cell_type": "code",
   "execution_count": null,
   "metadata": {},
   "outputs": [],
   "source": [
    "vectorizer = TfidfVectorizer(vocabulary=common_vocabularly_lem)"
   ]
  },
  {
   "cell_type": "code",
   "execution_count": 95,
   "metadata": {},
   "outputs": [],
   "source": [
    "tfidf_matrix = vectorizer.fit_transform(\n",
    "    [perform_lemmatization(FILE_PATH + 'BVB-AnnualReport-2011.json'), \n",
    "     perform_lemmatization(FILE_PATH + 'BVB-AnnualReport-2012.json'), \n",
    "     perform_lemmatization(FILE_PATH + 'BMW-AnnualReport-2012.json'),\n",
    "     perform_lemmatization(FILE_PATH + 'BMW-AnnualReport-2011.json'),\n",
    "     perform_lemmatization(FILE_PATH + 'CarlZeissMeditec-AnnualReport-2013.json'),\n",
    "     perform_lemmatization(FILE_PATH + 'CarlZeissMeditec-AnnualReport-2012.json'),\n",
    "     perform_lemmatization(FILE_PATH + 'BVB-AnnualReport-2013.json'), \n",
    "     perform_lemmatization(FILE_PATH + 'BMW-AnnualReport-2013.json'),])"
   ]
  },
  {
   "cell_type": "code",
   "execution_count": 161,
   "metadata": {},
   "outputs": [
    {
     "name": "stdout",
     "output_type": "stream",
     "text": [
      "56.57222080230713\n"
     ]
    }
   ],
   "source": [
    "start_time = time.time()\n",
    "lemm_docs_prep = [\n",
    "     perform_lemmatization(FILE_PATH + 'BVB-AnnualReport-2015.json'), \n",
    "     perform_lemmatization(FILE_PATH + 'BVB-AnnualReport-2016.json'), \n",
    "     perform_lemmatization(FILE_PATH + 'BVB-AnnualReport-2017.json'),\n",
    "     perform_lemmatization(FILE_PATH + 'BMW-AnnualReport-2015.json'),\n",
    "     perform_lemmatization(FILE_PATH + 'BMW-AnnualReport-2016.json'),\n",
    "     perform_lemmatization(FILE_PATH + 'BMW-AnnualReport-2017.json'),\n",
    "     perform_lemmatization(FILE_PATH + 'CarlZeissMeditec-AnnualReport-2015.json'),\n",
    "     perform_lemmatization(FILE_PATH + 'CarlZeissMeditec-AnnualReport-2016.json'),\n",
    "     perform_lemmatization(FILE_PATH + 'CarlZeissMeditec-AnnualReport-2017.json')]\n",
    "print (time.time() - start_time)"
   ]
  },
  {
   "cell_type": "code",
   "execution_count": 162,
   "metadata": {},
   "outputs": [
    {
     "name": "stdout",
     "output_type": "stream",
     "text": [
      "0.27321958541870117\n"
     ]
    }
   ],
   "source": [
    "vectorizer = TfidfVectorizer(vocabulary=common_vocabularly_lem)\n",
    "start_time = time.time()\n",
    "tfidf_matrix = vectorizer.fit_transform(lemm_docs_prep)\n",
    "print (time.time() - start_time)"
   ]
  },
  {
   "cell_type": "code",
   "execution_count": 163,
   "metadata": {},
   "outputs": [],
   "source": [
    "feature_names = vectorizer.get_feature_names()\n",
    "corpus_index = [n for n in [\n",
    "    'BVB-2015', 'BVB-2016', 'BVB-2017', \n",
    "    'BMW-2015', 'BMW-2016', 'BMW-2017',\n",
    "    'CZM-2015', 'CZM-2016', 'CZM-2017']]\n",
    "df = pd.DataFrame(tfidf_matrix.T.todense(), index=feature_names, columns=corpus_index)"
   ]
  },
  {
   "cell_type": "code",
   "execution_count": 167,
   "metadata": {},
   "outputs": [
    {
     "name": "stdout",
     "output_type": "stream",
     "text": [
      "23292\n"
     ]
    }
   ],
   "source": [
    "print(len(feature_names))"
   ]
  },
  {
   "cell_type": "code",
   "execution_count": 172,
   "metadata": {},
   "outputs": [
    {
     "data": {
      "text/html": [
       "<div>\n",
       "<style scoped>\n",
       "    .dataframe tbody tr th:only-of-type {\n",
       "        vertical-align: middle;\n",
       "    }\n",
       "\n",
       "    .dataframe tbody tr th {\n",
       "        vertical-align: top;\n",
       "    }\n",
       "\n",
       "    .dataframe thead th {\n",
       "        text-align: right;\n",
       "    }\n",
       "</style>\n",
       "<table border=\"1\" class=\"dataframe\">\n",
       "  <thead>\n",
       "    <tr style=\"text-align: right;\">\n",
       "      <th></th>\n",
       "      <th>BVB-2015</th>\n",
       "      <th>BVB-2016</th>\n",
       "      <th>BVB-2017</th>\n",
       "      <th>BMW-2015</th>\n",
       "      <th>BMW-2016</th>\n",
       "      <th>BMW-2017</th>\n",
       "      <th>CZM-2015</th>\n",
       "      <th>CZM-2016</th>\n",
       "      <th>CZM-2017</th>\n",
       "    </tr>\n",
       "  </thead>\n",
       "  <tbody>\n",
       "    <tr>\n",
       "      <th>dortmund</th>\n",
       "      <td>0.512785</td>\n",
       "      <td>0.547217</td>\n",
       "      <td>0.524926</td>\n",
       "      <td>0.000000</td>\n",
       "      <td>0.000000</td>\n",
       "      <td>0.000000</td>\n",
       "      <td>0.000000</td>\n",
       "      <td>0.000000</td>\n",
       "      <td>0.000000</td>\n",
       "    </tr>\n",
       "    <tr>\n",
       "      <th>borussia</th>\n",
       "      <td>0.468832</td>\n",
       "      <td>0.512288</td>\n",
       "      <td>0.480867</td>\n",
       "      <td>0.000000</td>\n",
       "      <td>0.000000</td>\n",
       "      <td>0.000000</td>\n",
       "      <td>0.000000</td>\n",
       "      <td>0.000000</td>\n",
       "      <td>0.000000</td>\n",
       "    </tr>\n",
       "    <tr>\n",
       "      <th>teur</th>\n",
       "      <td>0.486414</td>\n",
       "      <td>0.457955</td>\n",
       "      <td>0.487161</td>\n",
       "      <td>0.000000</td>\n",
       "      <td>0.000000</td>\n",
       "      <td>0.000000</td>\n",
       "      <td>0.000000</td>\n",
       "      <td>0.000000</td>\n",
       "      <td>0.000000</td>\n",
       "    </tr>\n",
       "    <tr>\n",
       "      <th>gmbh</th>\n",
       "      <td>0.127680</td>\n",
       "      <td>0.124891</td>\n",
       "      <td>0.121527</td>\n",
       "      <td>0.009907</td>\n",
       "      <td>0.007879</td>\n",
       "      <td>0.007879</td>\n",
       "      <td>0.015340</td>\n",
       "      <td>0.013049</td>\n",
       "      <td>0.010231</td>\n",
       "    </tr>\n",
       "    <tr>\n",
       "      <th>risiko</th>\n",
       "      <td>0.088688</td>\n",
       "      <td>0.099237</td>\n",
       "      <td>0.094594</td>\n",
       "      <td>0.066991</td>\n",
       "      <td>0.071966</td>\n",
       "      <td>0.071966</td>\n",
       "      <td>0.064069</td>\n",
       "      <td>0.055456</td>\n",
       "      <td>0.057733</td>\n",
       "    </tr>\n",
       "    <tr>\n",
       "      <th>bvb</th>\n",
       "      <td>0.064464</td>\n",
       "      <td>0.078913</td>\n",
       "      <td>0.076788</td>\n",
       "      <td>0.000000</td>\n",
       "      <td>0.000000</td>\n",
       "      <td>0.000000</td>\n",
       "      <td>0.000000</td>\n",
       "      <td>0.000000</td>\n",
       "      <td>0.000000</td>\n",
       "    </tr>\n",
       "    <tr>\n",
       "      <th>uefa</th>\n",
       "      <td>0.079115</td>\n",
       "      <td>0.076326</td>\n",
       "      <td>0.059164</td>\n",
       "      <td>0.000000</td>\n",
       "      <td>0.000000</td>\n",
       "      <td>0.000000</td>\n",
       "      <td>0.000000</td>\n",
       "      <td>0.000000</td>\n",
       "      <td>0.000000</td>\n",
       "    </tr>\n",
       "  </tbody>\n",
       "</table>\n",
       "</div>"
      ],
      "text/plain": [
       "          BVB-2015  BVB-2016  BVB-2017  BMW-2015  BMW-2016  BMW-2017  \\\n",
       "dortmund  0.512785  0.547217  0.524926  0.000000  0.000000  0.000000   \n",
       "borussia  0.468832  0.512288  0.480867  0.000000  0.000000  0.000000   \n",
       "teur      0.486414  0.457955  0.487161  0.000000  0.000000  0.000000   \n",
       "gmbh      0.127680  0.124891  0.121527  0.009907  0.007879  0.007879   \n",
       "risiko    0.088688  0.099237  0.094594  0.066991  0.071966  0.071966   \n",
       "bvb       0.064464  0.078913  0.076788  0.000000  0.000000  0.000000   \n",
       "uefa      0.079115  0.076326  0.059164  0.000000  0.000000  0.000000   \n",
       "\n",
       "          CZM-2015  CZM-2016  CZM-2017  \n",
       "dortmund  0.000000  0.000000  0.000000  \n",
       "borussia  0.000000  0.000000  0.000000  \n",
       "teur      0.000000  0.000000  0.000000  \n",
       "gmbh      0.015340  0.013049  0.010231  \n",
       "risiko    0.064069  0.055456  0.057733  \n",
       "bvb       0.000000  0.000000  0.000000  \n",
       "uefa      0.000000  0.000000  0.000000  "
      ]
     },
     "execution_count": 172,
     "metadata": {},
     "output_type": "execute_result"
    }
   ],
   "source": [
    "df = df.sort_values(by=['BVB-2016'], ascending=False)\n",
    "df.head(7)"
   ]
  },
  {
   "cell_type": "code",
   "execution_count": 173,
   "metadata": {},
   "outputs": [
    {
     "data": {
      "text/html": [
       "<div>\n",
       "<style scoped>\n",
       "    .dataframe tbody tr th:only-of-type {\n",
       "        vertical-align: middle;\n",
       "    }\n",
       "\n",
       "    .dataframe tbody tr th {\n",
       "        vertical-align: top;\n",
       "    }\n",
       "\n",
       "    .dataframe thead th {\n",
       "        text-align: right;\n",
       "    }\n",
       "</style>\n",
       "<table border=\"1\" class=\"dataframe\">\n",
       "  <thead>\n",
       "    <tr style=\"text-align: right;\">\n",
       "      <th></th>\n",
       "      <th>BVB-2015</th>\n",
       "      <th>BVB-2016</th>\n",
       "      <th>BVB-2017</th>\n",
       "      <th>BMW-2015</th>\n",
       "      <th>BMW-2016</th>\n",
       "      <th>BMW-2017</th>\n",
       "      <th>CZM-2015</th>\n",
       "      <th>CZM-2016</th>\n",
       "      <th>CZM-2017</th>\n",
       "    </tr>\n",
       "  </thead>\n",
       "  <tbody>\n",
       "    <tr>\n",
       "      <th>bmw</th>\n",
       "      <td>0.000000</td>\n",
       "      <td>0.000000</td>\n",
       "      <td>0.000000</td>\n",
       "      <td>0.827197</td>\n",
       "      <td>0.830462</td>\n",
       "      <td>0.830462</td>\n",
       "      <td>0.000000</td>\n",
       "      <td>0.000000</td>\n",
       "      <td>0.000000</td>\n",
       "    </tr>\n",
       "    <tr>\n",
       "      <th>group</th>\n",
       "      <td>0.000000</td>\n",
       "      <td>0.000746</td>\n",
       "      <td>0.000726</td>\n",
       "      <td>0.261257</td>\n",
       "      <td>0.272321</td>\n",
       "      <td>0.272321</td>\n",
       "      <td>0.001995</td>\n",
       "      <td>0.003606</td>\n",
       "      <td>0.001616</td>\n",
       "    </tr>\n",
       "    <tr>\n",
       "      <th>million</th>\n",
       "      <td>0.003823</td>\n",
       "      <td>0.020253</td>\n",
       "      <td>0.013795</td>\n",
       "      <td>0.226919</td>\n",
       "      <td>0.167044</td>\n",
       "      <td>0.167044</td>\n",
       "      <td>0.079409</td>\n",
       "      <td>0.076660</td>\n",
       "      <td>0.099388</td>\n",
       "    </tr>\n",
       "    <tr>\n",
       "      <th>fahrzeug</th>\n",
       "      <td>0.000000</td>\n",
       "      <td>0.000000</td>\n",
       "      <td>0.000000</td>\n",
       "      <td>0.093116</td>\n",
       "      <td>0.110728</td>\n",
       "      <td>0.110728</td>\n",
       "      <td>0.000000</td>\n",
       "      <td>0.000000</td>\n",
       "      <td>0.000000</td>\n",
       "    </tr>\n",
       "    <tr>\n",
       "      <th>unternehmen</th>\n",
       "      <td>0.043579</td>\n",
       "      <td>0.048606</td>\n",
       "      <td>0.052552</td>\n",
       "      <td>0.075011</td>\n",
       "      <td>0.081946</td>\n",
       "      <td>0.081946</td>\n",
       "      <td>0.102871</td>\n",
       "      <td>0.114990</td>\n",
       "      <td>0.103773</td>\n",
       "    </tr>\n",
       "    <tr>\n",
       "      <th>automobile</th>\n",
       "      <td>0.000000</td>\n",
       "      <td>0.000000</td>\n",
       "      <td>0.005561</td>\n",
       "      <td>0.061505</td>\n",
       "      <td>0.079157</td>\n",
       "      <td>0.079157</td>\n",
       "      <td>0.000000</td>\n",
       "      <td>0.000000</td>\n",
       "      <td>0.000000</td>\n",
       "    </tr>\n",
       "    <tr>\n",
       "      <th>risiko</th>\n",
       "      <td>0.088688</td>\n",
       "      <td>0.099237</td>\n",
       "      <td>0.094594</td>\n",
       "      <td>0.066991</td>\n",
       "      <td>0.071966</td>\n",
       "      <td>0.071966</td>\n",
       "      <td>0.064069</td>\n",
       "      <td>0.055456</td>\n",
       "      <td>0.057733</td>\n",
       "    </tr>\n",
       "  </tbody>\n",
       "</table>\n",
       "</div>"
      ],
      "text/plain": [
       "             BVB-2015  BVB-2016  BVB-2017  BMW-2015  BMW-2016  BMW-2017  \\\n",
       "bmw          0.000000  0.000000  0.000000  0.827197  0.830462  0.830462   \n",
       "group        0.000000  0.000746  0.000726  0.261257  0.272321  0.272321   \n",
       "million      0.003823  0.020253  0.013795  0.226919  0.167044  0.167044   \n",
       "fahrzeug     0.000000  0.000000  0.000000  0.093116  0.110728  0.110728   \n",
       "unternehmen  0.043579  0.048606  0.052552  0.075011  0.081946  0.081946   \n",
       "automobile   0.000000  0.000000  0.005561  0.061505  0.079157  0.079157   \n",
       "risiko       0.088688  0.099237  0.094594  0.066991  0.071966  0.071966   \n",
       "\n",
       "             CZM-2015  CZM-2016  CZM-2017  \n",
       "bmw          0.000000  0.000000  0.000000  \n",
       "group        0.001995  0.003606  0.001616  \n",
       "million      0.079409  0.076660  0.099388  \n",
       "fahrzeug     0.000000  0.000000  0.000000  \n",
       "unternehmen  0.102871  0.114990  0.103773  \n",
       "automobile   0.000000  0.000000  0.000000  \n",
       "risiko       0.064069  0.055456  0.057733  "
      ]
     },
     "execution_count": 173,
     "metadata": {},
     "output_type": "execute_result"
    }
   ],
   "source": [
    "df = df.sort_values(by=['BMW-2016'], ascending=False)\n",
    "df.head(7)"
   ]
  },
  {
   "cell_type": "code",
   "execution_count": 174,
   "metadata": {},
   "outputs": [
    {
     "data": {
      "text/html": [
       "<div>\n",
       "<style scoped>\n",
       "    .dataframe tbody tr th:only-of-type {\n",
       "        vertical-align: middle;\n",
       "    }\n",
       "\n",
       "    .dataframe tbody tr th {\n",
       "        vertical-align: top;\n",
       "    }\n",
       "\n",
       "    .dataframe thead th {\n",
       "        text-align: right;\n",
       "    }\n",
       "</style>\n",
       "<table border=\"1\" class=\"dataframe\">\n",
       "  <thead>\n",
       "    <tr style=\"text-align: right;\">\n",
       "      <th></th>\n",
       "      <th>BVB-2015</th>\n",
       "      <th>BVB-2016</th>\n",
       "      <th>BVB-2017</th>\n",
       "      <th>BMW-2015</th>\n",
       "      <th>BMW-2016</th>\n",
       "      <th>BMW-2017</th>\n",
       "      <th>CZM-2015</th>\n",
       "      <th>CZM-2016</th>\n",
       "      <th>CZM-2017</th>\n",
       "    </tr>\n",
       "  </thead>\n",
       "  <tbody>\n",
       "    <tr>\n",
       "      <th>zeiss</th>\n",
       "      <td>0.000000</td>\n",
       "      <td>0.000000</td>\n",
       "      <td>0.000000</td>\n",
       "      <td>0.000000</td>\n",
       "      <td>0.000000</td>\n",
       "      <td>0.000000</td>\n",
       "      <td>0.556807</td>\n",
       "      <td>0.576673</td>\n",
       "      <td>0.571370</td>\n",
       "    </tr>\n",
       "    <tr>\n",
       "      <th>carl</th>\n",
       "      <td>0.000000</td>\n",
       "      <td>0.000000</td>\n",
       "      <td>0.000000</td>\n",
       "      <td>0.000000</td>\n",
       "      <td>0.000000</td>\n",
       "      <td>0.000000</td>\n",
       "      <td>0.477263</td>\n",
       "      <td>0.468839</td>\n",
       "      <td>0.483144</td>\n",
       "    </tr>\n",
       "    <tr>\n",
       "      <th>meditec</th>\n",
       "      <td>0.000000</td>\n",
       "      <td>0.000000</td>\n",
       "      <td>0.000000</td>\n",
       "      <td>0.000000</td>\n",
       "      <td>0.000000</td>\n",
       "      <td>0.000000</td>\n",
       "      <td>0.406365</td>\n",
       "      <td>0.418830</td>\n",
       "      <td>0.401919</td>\n",
       "    </tr>\n",
       "    <tr>\n",
       "      <th>konzern</th>\n",
       "      <td>0.036698</td>\n",
       "      <td>0.035779</td>\n",
       "      <td>0.038100</td>\n",
       "      <td>0.029721</td>\n",
       "      <td>0.029417</td>\n",
       "      <td>0.029417</td>\n",
       "      <td>0.196718</td>\n",
       "      <td>0.195728</td>\n",
       "      <td>0.233855</td>\n",
       "    </tr>\n",
       "    <tr>\n",
       "      <th>unternehmen</th>\n",
       "      <td>0.043579</td>\n",
       "      <td>0.048606</td>\n",
       "      <td>0.052552</td>\n",
       "      <td>0.075011</td>\n",
       "      <td>0.081946</td>\n",
       "      <td>0.081946</td>\n",
       "      <td>0.102871</td>\n",
       "      <td>0.114990</td>\n",
       "      <td>0.103773</td>\n",
       "    </tr>\n",
       "    <tr>\n",
       "      <th>vj</th>\n",
       "      <td>0.000000</td>\n",
       "      <td>0.000000</td>\n",
       "      <td>0.000000</td>\n",
       "      <td>0.000000</td>\n",
       "      <td>0.000000</td>\n",
       "      <td>0.000000</td>\n",
       "      <td>0.109385</td>\n",
       "      <td>0.097060</td>\n",
       "      <td>0.000000</td>\n",
       "    </tr>\n",
       "    <tr>\n",
       "      <th>tausend</th>\n",
       "      <td>0.001037</td>\n",
       "      <td>0.001832</td>\n",
       "      <td>0.001782</td>\n",
       "      <td>0.000000</td>\n",
       "      <td>0.000000</td>\n",
       "      <td>0.000000</td>\n",
       "      <td>0.095490</td>\n",
       "      <td>0.088513</td>\n",
       "      <td>0.071385</td>\n",
       "    </tr>\n",
       "  </tbody>\n",
       "</table>\n",
       "</div>"
      ],
      "text/plain": [
       "             BVB-2015  BVB-2016  BVB-2017  BMW-2015  BMW-2016  BMW-2017  \\\n",
       "zeiss        0.000000  0.000000  0.000000  0.000000  0.000000  0.000000   \n",
       "carl         0.000000  0.000000  0.000000  0.000000  0.000000  0.000000   \n",
       "meditec      0.000000  0.000000  0.000000  0.000000  0.000000  0.000000   \n",
       "konzern      0.036698  0.035779  0.038100  0.029721  0.029417  0.029417   \n",
       "unternehmen  0.043579  0.048606  0.052552  0.075011  0.081946  0.081946   \n",
       "vj           0.000000  0.000000  0.000000  0.000000  0.000000  0.000000   \n",
       "tausend      0.001037  0.001832  0.001782  0.000000  0.000000  0.000000   \n",
       "\n",
       "             CZM-2015  CZM-2016  CZM-2017  \n",
       "zeiss        0.556807  0.576673  0.571370  \n",
       "carl         0.477263  0.468839  0.483144  \n",
       "meditec      0.406365  0.418830  0.401919  \n",
       "konzern      0.196718  0.195728  0.233855  \n",
       "unternehmen  0.102871  0.114990  0.103773  \n",
       "vj           0.109385  0.097060  0.000000  \n",
       "tausend      0.095490  0.088513  0.071385  "
      ]
     },
     "execution_count": 174,
     "metadata": {},
     "output_type": "execute_result"
    }
   ],
   "source": [
    "df = df.sort_values(by=['CZM-2016'], ascending=False)\n",
    "df.head(7)"
   ]
  },
  {
   "cell_type": "code",
   "execution_count": 96,
   "metadata": {},
   "outputs": [
    {
     "data": {
      "text/plain": [
       "array([1, 1, 0, 0, 2, 2, 1, 0], dtype=int32)"
      ]
     },
     "execution_count": 96,
     "metadata": {},
     "output_type": "execute_result"
    }
   ],
   "source": [
    "km = KMeans(n_clusters=3, init='k-means++')\n",
    "km.fit(tfidf_matrix)\n",
    "km.labels_"
   ]
  },
  {
   "cell_type": "markdown",
   "metadata": {},
   "source": [
    "# Picking topic of a paragraph"
   ]
  },
  {
   "cell_type": "code",
   "execution_count": 127,
   "metadata": {},
   "outputs": [],
   "source": [
    "def readContentOfParagraphs(file_name):\n",
    "    contents = []\n",
    "    try:\n",
    "        with open(file_name) as f:\n",
    "            data = json.load(f)\n",
    "            for item in data:\n",
    "                typeDoc = item[TYPE]\n",
    "                if typeDoc == PARAGRAPH:\n",
    "                    contents.append(item[CONTENT])\n",
    "    except:\n",
    "        FileUtils.fix_json(file_name)\n",
    "        with open(file_name) as f:\n",
    "            data = json.load(f)\n",
    "            for item in data:\n",
    "                typeDoc = item[TYPE]\n",
    "                if typeDoc == PARAGRAPH:\n",
    "                    contents.append(item[CONTENT])\n",
    "    return contents"
   ]
  },
  {
   "cell_type": "code",
   "execution_count": 128,
   "metadata": {},
   "outputs": [],
   "source": [
    "def lemmatize_paragraphs(paragraphs):\n",
    "    lemmatized_paragraphs = []\n",
    "    for paragraph in paragraphs:\n",
    "        nlp = spacy.load(\"de\")\n",
    "        sentence = nlp(paragraph)\n",
    "        filtered_words = [word for word in sentence if word.lower_ not in STOP_WORDS]\n",
    "        filtered_words_withoutdigits = [word for word in filtered_words if not word.is_digit]\n",
    "        filtered_words_withoutpunc = [word for word in filtered_words_withoutdigits if word.pos_ != 'PUNCT']\n",
    "        filtered_lemmas = [word.lemma_ for word in filtered_words_withoutpunc]\n",
    "        lemmatized_content = \" \".join(item for item in filtered_lemmas)\n",
    "        lemmatized_paragraphs.append(lemmatized_content)\n",
    "    return lemmatized_paragraphs"
   ]
  },
  {
   "cell_type": "code",
   "execution_count": 176,
   "metadata": {},
   "outputs": [],
   "source": [
    "lem_pars = lemmatize_paragraphs(readContentOfParagraphs(FILE_PATH + 'BVB-AnnualReport-2017.json'))"
   ]
  },
  {
   "cell_type": "code",
   "execution_count": 177,
   "metadata": {},
   "outputs": [],
   "source": [
    "vectorizer_par = TfidfVectorizer(vocabulary=common_vocabularly_lem)\n",
    "\n",
    "tfidf_matrix_par = vectorizer_par.fit_transform(lem_pars)"
   ]
  },
  {
   "cell_type": "code",
   "execution_count": 178,
   "metadata": {},
   "outputs": [],
   "source": [
    "feature_names = vectorizer_par.get_feature_names()\n",
    "corpus_index = [n for n in range(len(lem_pars))]\n",
    "df_par = pd.DataFrame(tfidf_matrix_par.T.todense(), index=feature_names, columns=corpus_index)"
   ]
  },
  {
   "cell_type": "code",
   "execution_count": 218,
   "metadata": {},
   "outputs": [
    {
     "name": "stdout",
     "output_type": "stream",
     "text": [
      "161 0.23991215404275826\n",
      "167 0.16720434803083561\n",
      "313 0.4214550630189431\n",
      "449 0.16996541854098215\n",
      "450 0.24473899536512775\n"
     ]
    }
   ],
   "source": [
    "row = df_par.loc[['prämie']]\n",
    "for i in row:\n",
    "    if(row[i].prämie != 0):\n",
    "        print ((str(i) + \" \" + str(row[i].prämie)))"
   ]
  },
  {
   "cell_type": "code",
   "execution_count": 221,
   "metadata": {},
   "outputs": [
    {
     "data": {
      "text/plain": [
       "'Die Erlöse aus der internationalen TV-Vermarktung\\nverzeichneten im abgelaufenen Geschäftsjahr\\n2016/2017 den größten Anstieg. Der Umsatz be-\\ntrug im Berichtszeitraum vom 01. Juli 2016 bis\\nzum 30. Juni 2017 TEUR 50.993 (Vorjahr TEUR\\n17.233). Die Erlöse enthalten die Ausschüttungen\\nfür die Teilnahme an den Spielen der UEFA Cham-\\npions League in 2016/2017 sowie die das Vorjahr\\nbetreffenden Überschussbeteiligungen.\\nDie Ausschüttung der UEFA für die UEFA Champions\\nLeague erfolgte analog der letzten Jahre. Sie be-\\ninhaltet den Marketpool, Start- und Spielprämien\\nsowie leistungsbezogene Prämien.\\n'"
      ]
     },
     "execution_count": 221,
     "metadata": {},
     "output_type": "execute_result"
    }
   ],
   "source": [
    "readContentOfParagraphs(FILE_PATH + 'BVB-AnnualReport-2017.json')[167]"
   ]
  },
  {
   "cell_type": "code",
   "execution_count": 197,
   "metadata": {
    "collapsed": true
   },
   "outputs": [],
   "source": [
    "nlp = spacy.load(\"de\")\n",
    "sentence = nlp(content_of_all_documents)"
   ]
  },
  {
   "cell_type": "code",
   "execution_count": 198,
   "metadata": {
    "collapsed": true
   },
   "outputs": [],
   "source": [
    "filtered_words = [word for word in sentence if word.lower_ not in STOP_WORDS]\n",
    "filtered_words_withoutpunc = [word for word in filtered_words if word.pos_ != 'PUNCT']"
   ]
  },
  {
   "cell_type": "code",
   "execution_count": 199,
   "metadata": {
    "collapsed": true
   },
   "outputs": [],
   "source": [
    "vocabularly = []\n",
    "for word in filtered_words_withoutpunc:\n",
    "    vocabularly.append(word.text.replace('\\n', '').lower())"
   ]
  },
  {
   "cell_type": "code",
   "execution_count": 200,
   "metadata": {
    "collapsed": true
   },
   "outputs": [],
   "source": [
    "new_vocab = set()\n",
    "for u in vocabularly:\n",
    "    if u != '':\n",
    "        new_vocab.add(u)"
   ]
  },
  {
   "cell_type": "code",
   "execution_count": 202,
   "metadata": {
    "collapsed": true
   },
   "outputs": [],
   "source": [
    "vectorizer = TfidfVectorizer(vocabulary=new_vocab)"
   ]
  },
  {
   "cell_type": "code",
   "execution_count": 232,
   "metadata": {
    "collapsed": true
   },
   "outputs": [],
   "source": [
    "tfidf_matrix = vectorizer.fit_transform([readContentOfFile(FILE_PATH + 'BVB-AnnualReport-2016.json'), readContentOfFile(FILE_PATH + 'BMW-AnnualReport-2016.json')])"
   ]
  },
  {
   "cell_type": "code",
   "execution_count": 233,
   "metadata": {},
   "outputs": [
    {
     "name": "stdout",
     "output_type": "stream",
     "text": [
      "14420\n"
     ]
    }
   ],
   "source": [
    "print (len(new_vocab))"
   ]
  },
  {
   "cell_type": "code",
   "execution_count": 234,
   "metadata": {
    "collapsed": true
   },
   "outputs": [],
   "source": [
    "feature_names = vectorizer.get_feature_names()\n",
    "corpus_index = [n for n in ['A', 'B']]\n",
    "import pandas as pd\n",
    "df = pd.DataFrame(tfidf_matrix.T.todense(), index=feature_names, columns=corpus_index)\n",
    "#df['1'].argmax()\n",
    "# print(df.)"
   ]
  },
  {
   "cell_type": "code",
   "execution_count": 235,
   "metadata": {},
   "outputs": [
    {
     "name": "stdout",
     "output_type": "stream",
     "text": [
      "dortmund\n"
     ]
    },
    {
     "name": "stderr",
     "output_type": "stream",
     "text": [
      "/opt/anaconda3/lib/python3.6/site-packages/ipykernel_launcher.py:1: FutureWarning: 'argmax' is deprecated, use 'idxmax' instead. The behavior of 'argmax'\n",
      "will be corrected to return the positional maximum in the future.\n",
      "Use 'series.values.argmax' to get the position of the maximum now.\n",
      "  \"\"\"Entry point for launching an IPython kernel.\n"
     ]
    }
   ],
   "source": [
    "print (df['A'].argmax())"
   ]
  },
  {
   "cell_type": "code",
   "execution_count": 238,
   "metadata": {},
   "outputs": [
    {
     "name": "stdout",
     "output_type": "stream",
     "text": [
      "                               A         B\n",
      "bmw                     0.000000  0.778350\n",
      "group                   0.000871  0.314828\n",
      "2016                    0.160191  0.173860\n",
      "2015                    0.147132  0.169833\n",
      "automobile              0.000000  0.083967\n",
      "unternehmen             0.040048  0.079211\n",
      "höhe                    0.079225  0.079211\n",
      "risiken                 0.060072  0.078539\n",
      "vorstand                0.001741  0.073169\n",
      "vorstands               0.000871  0.071826\n",
      "aufsichtsrat            0.053107  0.066456\n",
      "segment                 0.002612  0.062429\n",
      "vorjahr                 0.084449  0.061086\n",
      "geschäftsjahr           0.075743  0.061086\n",
      "aufsichtsrats           0.010447  0.053702\n",
      "beziehungsweise         0.000000  0.051890\n",
      "entwicklung             0.017412  0.051017\n",
      "fahrzeuge               0.000000  0.050947\n",
      "mini                    0.000000  0.050947\n",
      "wesentlichen            0.047883  0.050346\n",
      "compliance              0.001741  0.049674\n",
      "2017                    0.023506  0.047661\n",
      "rahmen                  0.025248  0.047661\n",
      "insbesondere            0.036565  0.046318\n",
      "mitarbeiter             0.011318  0.043633\n",
      "mitglieder              0.010447  0.042290\n",
      "31                      0.012188  0.041619\n",
      "chancen                 0.014800  0.041619\n",
      "hinaus                  0.019153  0.041619\n",
      "finanzdienstleistungen  0.000000  0.041512\n",
      "...                          ...       ...\n",
      "halbfinalsieg           0.001224  0.000000\n",
      "handelsgesetzbuches     0.002447  0.000000\n",
      "handelsaufnahme         0.001224  0.000000\n",
      "handelsauf-             0.000000  0.000000\n",
      "handels-                0.000000  0.000000\n",
      "handelns                0.004894  0.000000\n",
      "handelbar               0.001224  0.000000\n",
      "han-                    0.000000  0.000000\n",
      "hamburg                 0.002447  0.000000\n",
      "haltung                 0.001224  0.000000\n",
      "haltenen                0.002447  0.000000\n",
      "hallesche               0.003671  0.000000\n",
      "halbjahresfi-           0.000000  0.000000\n",
      "halbjahres-             0.000000  0.000000\n",
      "halb                    0.001224  0.000000\n",
      "gülti-gen               0.000000  0.000000\n",
      "haftet                  0.001224  0.000000\n",
      "haftenden               0.024472  0.000000\n",
      "haftende                0.024472  0.000000\n",
      "haf-                    0.000000  0.000000\n",
      "haf                     0.003671  0.000000\n",
      "habilitationszentrum    0.001224  0.000000\n",
      "ha-                     0.000000  0.000000\n",
      "h.                      0.000000  0.000000\n",
      "h                       0.000000  0.000000\n",
      "gütungsbestandteile     0.001224  0.000000\n",
      "gündogan                0.009789  0.000000\n",
      "gün-                    0.000000  0.000000\n",
      "gültige                 0.001224  0.000000\n",
      "€                       0.000000  0.000000\n",
      "\n",
      "[14420 rows x 2 columns]\n"
     ]
    }
   ],
   "source": [
    "print (df.sort_values(by=['B'], ascending=False))"
   ]
  },
  {
   "cell_type": "code",
   "execution_count": null,
   "metadata": {
    "collapsed": true
   },
   "outputs": [],
   "source": []
  }
 ],
 "metadata": {
  "kernelspec": {
   "display_name": "Python 3",
   "language": "python",
   "name": "python3"
  },
  "language_info": {
   "codemirror_mode": {
    "name": "ipython",
    "version": 3
   },
   "file_extension": ".py",
   "mimetype": "text/x-python",
   "name": "python",
   "nbconvert_exporter": "python",
   "pygments_lexer": "ipython3",
   "version": "3.6.6"
  }
 },
 "nbformat": 4,
 "nbformat_minor": 1
}
