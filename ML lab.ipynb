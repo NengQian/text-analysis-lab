{
 "cells": [
  {
   "cell_type": "markdown",
   "metadata": {},
   "source": [
    "# Day1"
   ]
  },
  {
   "cell_type": "code",
   "execution_count": 179,
   "metadata": {},
   "outputs": [],
   "source": [
    "import spacy\n",
    "import json\n",
    "from sklearn.feature_extraction.text import TfidfVectorizer\n",
    "from spacy.lang.de.stop_words import STOP_WORDS"
   ]
  },
  {
   "cell_type": "code",
   "execution_count": 180,
   "metadata": {},
   "outputs": [],
   "source": [
    "%run src/file_utils.py\n",
    "%run src/configuration.py"
   ]
  },
  {
   "cell_type": "code",
   "execution_count": 195,
   "metadata": {},
   "outputs": [],
   "source": [
    "vocab_documents = ['BMW-AnnualReport-2016.json', 'BVB-AnnualReport-2016.json']"
   ]
  },
  {
   "cell_type": "code",
   "execution_count": 182,
   "metadata": {},
   "outputs": [],
   "source": [
    "documents = ['BMW-AnnualReport-2015.json', 'BMW-AnnualReport-2016.json', 'BMW-AnnualReport-2017.json', \n",
    " 'CarlZeissMeditec-AnnualReport-2015.json', 'CarlZeissMeditec-AnnualReport-2016.json', 'CarlZeissMeditec-AnnualReport-2017.json',\n",
    " 'BVB-AnnualReport-2015.json', 'BVB-AnnualReport-2016.json', 'BVB-AnnualReport-2017.json']"
   ]
  },
  {
   "cell_type": "code",
   "execution_count": 184,
   "metadata": {},
   "outputs": [],
   "source": [
    "TYPE = 'type'\n",
    "PARAGRAPH = 'paragraph'\n",
    "CONTENT = 'content'"
   ]
  },
  {
   "cell_type": "code",
   "execution_count": 187,
   "metadata": {},
   "outputs": [],
   "source": [
    "def readContentOfFile(file_name):\n",
    "    content = ''\n",
    "    try:\n",
    "        with open(file_name) as f:\n",
    "            data = json.load(f)\n",
    "            for item in data:\n",
    "                typeDoc = item[TYPE]\n",
    "                if typeDoc == PARAGRAPH:\n",
    "                    content += item[CONTENT]\n",
    "    except:\n",
    "        FileUtils.fix_json(file_name)\n",
    "        with open(file_name) as f:\n",
    "            data = json.load(f)\n",
    "            for item in data:\n",
    "                typeDoc = item[TYPE]\n",
    "                if typeDoc == PARAGRAPH:\n",
    "                    content += item[CONTENT]\n",
    "    return content"
   ]
  },
  {
   "cell_type": "code",
   "execution_count": 196,
   "metadata": {},
   "outputs": [],
   "source": [
    "content_of_all_documents = ''\n",
    "for document in vocab_documents:\n",
    "    content_of_all_documents += readContentOfFile(FILE_PATH + document)"
   ]
  },
  {
   "cell_type": "code",
   "execution_count": 55,
   "metadata": {},
   "outputs": [
    {
     "data": {
      "text/plain": [
       "'„Weitwinkel“, so lauten der Titel und das Leitthema unseres diesjährigen Geschäfts\\xad\\nberichts. Dieser Begriff setzt unseren Ansatz aus dem Vorjahr, die „Nahaufnahme“,\\nkonsequent fort. Im vorliegenden Geschäftsbericht 2010 stellen wir Ihnen wieder\\ndie Handlungsfelder unseres Unternehmens vor – in einem umfassenden Kontext\\nund mit einem erweiterten Blickwinkel.\\n'"
      ]
     },
     "execution_count": 55,
     "metadata": {},
     "output_type": "execute_result"
    }
   ],
   "source": [
    "content_first"
   ]
  },
  {
   "cell_type": "code",
   "execution_count": 54,
   "metadata": {},
   "outputs": [
    {
     "data": {
      "text/plain": [
       "'Durch die Verschmelzung der Aareal Bank France\\nS.A. auf die Muttergesellschaft endete die Amtszeit\\naller Aufsichtsratsmitglieder vorzeitig und ent\\xad\\nsprechende Neuwahlen wurden notwendig. Infolge\\nder Neuwahl der Arbeitnehmervertreter endete\\ndie Tätigkeit von Frau Tamara Birke im Aufsichtsrat\\nmit dem Ende der Hauptversammlung der Aareal\\nBank AG am 19. Mai 2010. Der Aufsichtsrat dankt\\nFrau Birke für die langjährige vertrauensvolle und\\nkonstruktive Zusammenarbeit. Als Mandatsnach\\xad\\nfolger von Frau Birke wurde Herr Dieter Kirsch von\\nden Arbeitnehmern in den Aufsichtsrat gewählt.\\nDer Aufsichtsrat wünscht Herrn Kirsch viel Erfolg\\nfür seine Tätigkeit.\\n'"
      ]
     },
     "execution_count": 54,
     "metadata": {},
     "output_type": "execute_result"
    }
   ],
   "source": [
    "content"
   ]
  },
  {
   "cell_type": "code",
   "execution_count": 197,
   "metadata": {},
   "outputs": [],
   "source": [
    "nlp = spacy.load(\"de\")\n",
    "sentence = nlp(content_of_all_documents)"
   ]
  },
  {
   "cell_type": "code",
   "execution_count": 198,
   "metadata": {},
   "outputs": [],
   "source": [
    "filtered_words = [word for word in sentence if word.lower_ not in STOP_WORDS]\n",
    "filtered_words_withoutpunc = [word for word in filtered_words if word.pos_ != 'PUNCT']"
   ]
  },
  {
   "cell_type": "code",
   "execution_count": 199,
   "metadata": {},
   "outputs": [],
   "source": [
    "vocabularly = []\n",
    "for word in filtered_words_withoutpunc:\n",
    "    vocabularly.append(word.text.replace('\\n', '').lower())"
   ]
  },
  {
   "cell_type": "code",
   "execution_count": 200,
   "metadata": {},
   "outputs": [],
   "source": [
    "new_vocab = set()\n",
    "for u in vocabularly:\n",
    "    if u != '':\n",
    "        new_vocab.add(u)"
   ]
  },
  {
   "cell_type": "code",
   "execution_count": 202,
   "metadata": {},
   "outputs": [],
   "source": [
    "vectorizer = TfidfVectorizer(vocabulary=new_vocab)"
   ]
  },
  {
   "cell_type": "code",
   "execution_count": 232,
   "metadata": {},
   "outputs": [],
   "source": [
    "tfidf_matrix = vectorizer.fit_transform([readContentOfFile(FILE_PATH + 'BVB-AnnualReport-2016.json'), readContentOfFile(FILE_PATH + 'BMW-AnnualReport-2016.json')])"
   ]
  },
  {
   "cell_type": "code",
   "execution_count": 233,
   "metadata": {},
   "outputs": [
    {
     "name": "stdout",
     "output_type": "stream",
     "text": [
      "14420\n"
     ]
    }
   ],
   "source": [
    "print (len(new_vocab))"
   ]
  },
  {
   "cell_type": "code",
   "execution_count": 234,
   "metadata": {},
   "outputs": [],
   "source": [
    "feature_names = vectorizer.get_feature_names()\n",
    "corpus_index = [n for n in ['A', 'B']]\n",
    "import pandas as pd\n",
    "df = pd.DataFrame(tfidf_matrix.T.todense(), index=feature_names, columns=corpus_index)\n",
    "#df['1'].argmax()\n",
    "# print(df.)"
   ]
  },
  {
   "cell_type": "code",
   "execution_count": 235,
   "metadata": {},
   "outputs": [
    {
     "name": "stdout",
     "output_type": "stream",
     "text": [
      "dortmund\n"
     ]
    },
    {
     "name": "stderr",
     "output_type": "stream",
     "text": [
      "/opt/anaconda3/lib/python3.6/site-packages/ipykernel_launcher.py:1: FutureWarning: 'argmax' is deprecated, use 'idxmax' instead. The behavior of 'argmax'\n",
      "will be corrected to return the positional maximum in the future.\n",
      "Use 'series.values.argmax' to get the position of the maximum now.\n",
      "  \"\"\"Entry point for launching an IPython kernel.\n"
     ]
    }
   ],
   "source": [
    "print (df['A'].argmax())"
   ]
  },
  {
   "cell_type": "code",
   "execution_count": 238,
   "metadata": {},
   "outputs": [
    {
     "name": "stdout",
     "output_type": "stream",
     "text": [
      "                               A         B\n",
      "bmw                     0.000000  0.778350\n",
      "group                   0.000871  0.314828\n",
      "2016                    0.160191  0.173860\n",
      "2015                    0.147132  0.169833\n",
      "automobile              0.000000  0.083967\n",
      "unternehmen             0.040048  0.079211\n",
      "höhe                    0.079225  0.079211\n",
      "risiken                 0.060072  0.078539\n",
      "vorstand                0.001741  0.073169\n",
      "vorstands               0.000871  0.071826\n",
      "aufsichtsrat            0.053107  0.066456\n",
      "segment                 0.002612  0.062429\n",
      "vorjahr                 0.084449  0.061086\n",
      "geschäftsjahr           0.075743  0.061086\n",
      "aufsichtsrats           0.010447  0.053702\n",
      "beziehungsweise         0.000000  0.051890\n",
      "entwicklung             0.017412  0.051017\n",
      "fahrzeuge               0.000000  0.050947\n",
      "mini                    0.000000  0.050947\n",
      "wesentlichen            0.047883  0.050346\n",
      "compliance              0.001741  0.049674\n",
      "2017                    0.023506  0.047661\n",
      "rahmen                  0.025248  0.047661\n",
      "insbesondere            0.036565  0.046318\n",
      "mitarbeiter             0.011318  0.043633\n",
      "mitglieder              0.010447  0.042290\n",
      "31                      0.012188  0.041619\n",
      "chancen                 0.014800  0.041619\n",
      "hinaus                  0.019153  0.041619\n",
      "finanzdienstleistungen  0.000000  0.041512\n",
      "...                          ...       ...\n",
      "halbfinalsieg           0.001224  0.000000\n",
      "handelsgesetzbuches     0.002447  0.000000\n",
      "handelsaufnahme         0.001224  0.000000\n",
      "handelsauf-             0.000000  0.000000\n",
      "handels-                0.000000  0.000000\n",
      "handelns                0.004894  0.000000\n",
      "handelbar               0.001224  0.000000\n",
      "han-                    0.000000  0.000000\n",
      "hamburg                 0.002447  0.000000\n",
      "haltung                 0.001224  0.000000\n",
      "haltenen                0.002447  0.000000\n",
      "hallesche               0.003671  0.000000\n",
      "halbjahresfi-           0.000000  0.000000\n",
      "halbjahres-             0.000000  0.000000\n",
      "halb                    0.001224  0.000000\n",
      "gülti-gen               0.000000  0.000000\n",
      "haftet                  0.001224  0.000000\n",
      "haftenden               0.024472  0.000000\n",
      "haftende                0.024472  0.000000\n",
      "haf-                    0.000000  0.000000\n",
      "haf                     0.003671  0.000000\n",
      "habilitationszentrum    0.001224  0.000000\n",
      "ha-                     0.000000  0.000000\n",
      "h.                      0.000000  0.000000\n",
      "h                       0.000000  0.000000\n",
      "gütungsbestandteile     0.001224  0.000000\n",
      "gündogan                0.009789  0.000000\n",
      "gün-                    0.000000  0.000000\n",
      "gültige                 0.001224  0.000000\n",
      "€                       0.000000  0.000000\n",
      "\n",
      "[14420 rows x 2 columns]\n"
     ]
    }
   ],
   "source": [
    "print (df.sort_values(by=['B'], ascending=False))"
   ]
  },
  {
   "cell_type": "code",
   "execution_count": null,
   "metadata": {},
   "outputs": [],
   "source": [
    ""
   ]
  }
 ],
 "metadata": {
  "kernelspec": {
   "display_name": "Python 3",
   "language": "python",
   "name": "python3"
  },
  "language_info": {
   "codemirror_mode": {
    "name": "ipython",
    "version": 3.0
   },
   "file_extension": ".py",
   "mimetype": "text/x-python",
   "name": "python",
   "nbconvert_exporter": "python",
   "pygments_lexer": "ipython3",
   "version": "3.6.6"
  }
 },
 "nbformat": 4,
 "nbformat_minor": 0
}