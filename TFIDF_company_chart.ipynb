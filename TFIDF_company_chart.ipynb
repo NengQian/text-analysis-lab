{
 "cells": [
  {
   "cell_type": "markdown",
   "metadata": {},
   "source": [
    "# TF/IDF keywords trend"
   ]
  },
  {
   "cell_type": "code",
   "execution_count": 22,
   "metadata": {},
   "outputs": [],
   "source": [
    "import spacy\n",
    "import json\n",
    "from sklearn.feature_extraction.text import TfidfVectorizer\n",
    "from spacy.lang.de.stop_words import STOP_WORDS\n",
    "import pandas as pd\n",
    "from sklearn.cluster import KMeans\n",
    "import time"
   ]
  },
  {
   "cell_type": "code",
   "execution_count": 23,
   "metadata": {},
   "outputs": [],
   "source": [
    "#other needed configurations\n",
    "%run src/file_utils.py\n",
    "%run src/configuration.py\n",
    "%run \"load_and_prepro_document.ipynb\""
   ]
  },
  {
   "cell_type": "markdown",
   "metadata": {},
   "source": [
    "# BMW 2010-2017"
   ]
  },
  {
   "cell_type": "code",
   "execution_count": 24,
   "metadata": {},
   "outputs": [],
   "source": [
    "#the file list of BMW from 2010 to 2017\n",
    "bmw_lemm_docs_prep = [\n",
    "     'BMW-AnnualReport-2010.json', \n",
    "     'BMW-AnnualReport-2011.json', \n",
    "     'BMW-AnnualReport-2012.json',\n",
    "     'BMW-AnnualReport-2013.json', \n",
    "     'BMW-AnnualReport-2014.json', \n",
    "     'BMW-AnnualReport-2015.json',\n",
    "     'BMW-AnnualReport-2016.json', \n",
    "     'BMW-AnnualReport-2017.json']"
   ]
  },
  {
   "cell_type": "code",
   "execution_count": 25,
   "metadata": {},
   "outputs": [],
   "source": [
    "#stop tfidf from preprocessing and split the word\n",
    "def preProcess(s):\n",
    "    return s"
   ]
  },
  {
   "cell_type": "code",
   "execution_count": 26,
   "metadata": {},
   "outputs": [
    {
     "name": "stdout",
     "output_type": "stream",
     "text": [
      "filtered_BMW-AnnualReport-2010.json has already done preprocess\n",
      "filtered_BMW-AnnualReport-2011.json has already done preprocess\n",
      "filtered_BMW-AnnualReport-2012.json has already done preprocess\n",
      "filtered_BMW-AnnualReport-2013.json has already done preprocess\n",
      "filtered_BMW-AnnualReport-2014.json has already done preprocess\n",
      "filtered_BMW-AnnualReport-2015.json has already done preprocess\n",
      "filtered_BMW-AnnualReport-2016.json has already done preprocess\n",
      "filtered_BMW-AnnualReport-2017.json has already done preprocess\n",
      "0.2378082275390625\n"
     ]
    }
   ],
   "source": [
    "#remove all the stop words and other meaningless characters\n",
    "bmw_doc, bmw_name= get_clean_data(bmw_lemm_docs_prep)\n",
    "\n",
    "#do the TF/IDF and produce the tfidf-matrix\n",
    "vectorizer_bmw = TfidfVectorizer()\n",
    "start_time = time.time()\n",
    "tfidf_matrix_bmw = vectorizer_bmw.fit_transform(bmw_doc)\n",
    "print (time.time() - start_time)"
   ]
  },
  {
   "cell_type": "code",
   "execution_count": 27,
   "metadata": {},
   "outputs": [],
   "source": [
    "#use pandas to show the result (make data structure more clear)\n",
    "bmw_feature_names = vectorizer_bmw.get_feature_names()\n",
    "bmw_corpus_index = [n for n in [\n",
    "    'BMW-2010', 'BMW-2011', 'BMW-2012', \n",
    "    'BMW-2013', 'BMW-2014', 'BMW-2015',\n",
    "    'BMW-2016', 'BMW-2017']]\n",
    "idf = vectorizer_bmw.idf_\n",
    "df = pd.DataFrame(tfidf_matrix_bmw.T.todense(), index=bmw_feature_names, columns=bmw_corpus_index)\n",
    "df['idf'] = idf"
   ]
  },
  {
   "cell_type": "markdown",
   "metadata": {},
   "source": [
    "# Deutsche Bank 2010-2016"
   ]
  },
  {
   "cell_type": "code",
   "execution_count": 28,
   "metadata": {},
   "outputs": [],
   "source": [
    "#the file list of Deutsche Bank from 2010 to 2017\n",
    "db_lemm_docs_prep = [\n",
    "     'DeutscheBank-AnnualReport-2010.json', \n",
    "     'DeutscheBank-AnnualReport-2011.json', \n",
    "     'DeutscheBank-AnnualReport-2012.json',\n",
    "     'DeutscheBank-AnnualReport-2013.json', \n",
    "     'DeutscheBank-AnnualReport-2014.json', \n",
    "     'DeutscheBank-AnnualReport-2015.json',\n",
    "     'DeutscheBank-AnnualReport-2016.json']"
   ]
  },
  {
   "cell_type": "code",
   "execution_count": 29,
   "metadata": {},
   "outputs": [
    {
     "name": "stdout",
     "output_type": "stream",
     "text": [
      "filtered_DeutscheBank-AnnualReport-2010.json has already done preprocess\n",
      "filtered_DeutscheBank-AnnualReport-2011.json has already done preprocess\n",
      "filtered_DeutscheBank-AnnualReport-2012.json has already done preprocess\n",
      "filtered_DeutscheBank-AnnualReport-2013.json has already done preprocess\n",
      "filtered_DeutscheBank-AnnualReport-2014.json has already done preprocess\n",
      "filtered_DeutscheBank-AnnualReport-2015.json has already done preprocess\n",
      "filtered_DeutscheBank-AnnualReport-2016.json has already done preprocess\n",
      "0.4333820343017578\n"
     ]
    }
   ],
   "source": [
    "#remove the stop words and other meaningless characters\n",
    "db_doc, db_name = get_clean_data(db_lemm_docs_prep)\n",
    "\n",
    "#do the TF/IDF and produce the tfidf-matrix\n",
    "vectorizer_db = TfidfVectorizer()\n",
    "start_time = time.time()\n",
    "tfidf_matrix_db = vectorizer_db.fit_transform(db_doc)\n",
    "print (time.time() - start_time)"
   ]
  },
  {
   "cell_type": "code",
   "execution_count": 30,
   "metadata": {},
   "outputs": [],
   "source": [
    "#use pandas to show the result (make data structure more clear)\n",
    "db_feature_names = vectorizer_db.get_feature_names()\n",
    "db_corpus_index = [n for n in [\n",
    "    'DB-2010', 'DB-2011', 'DB-2012', \n",
    "    'DB-2013', 'DB-2014', 'DB-2015',\n",
    "    'DB-2016']]\n",
    "idf = vectorizer_db.idf_\n",
    "df_db = pd.DataFrame(tfidf_matrix_db.T.todense(), index=db_feature_names, columns=db_corpus_index)\n",
    "df_db['idf'] = idf"
   ]
  },
  {
   "cell_type": "markdown",
   "metadata": {},
   "source": [
    "# Visualization"
   ]
  },
  {
   "cell_type": "code",
   "execution_count": 31,
   "metadata": {},
   "outputs": [
    {
     "data": {
      "text/html": [
       "<script>requirejs.config({paths: { 'plotly': ['https://cdn.plot.ly/plotly-latest.min']},});if(!window.Plotly) {{require(['plotly'],function(plotly) {window.Plotly=plotly;});}}</script>"
      ],
      "text/vnd.plotly.v1+html": [
       "<script>requirejs.config({paths: { 'plotly': ['https://cdn.plot.ly/plotly-latest.min']},});if(!window.Plotly) {{require(['plotly'],function(plotly) {window.Plotly=plotly;});}}</script>"
      ]
     },
     "metadata": {},
     "output_type": "display_data"
    }
   ],
   "source": [
    "import plotly as py\n",
    "import plotly.graph_objs as go\n",
    "import numpy as np\n",
    "\n",
    "py.offline.init_notebook_mode(connected=True)"
   ]
  },
  {
   "cell_type": "markdown",
   "metadata": {},
   "source": [
    "## BMW"
   ]
  },
  {
   "cell_type": "code",
   "execution_count": 32,
   "metadata": {},
   "outputs": [],
   "source": [
    "#the keywords chosen from the BMW Annual reports\n",
    "key = ['Husqvarna', 'aktienbasierte', 'Citroën', 'electrification', 'amsterdam', 'Drivenow', 'co2', 'brexit', 'HERE / Amsterdam', 'there']"
   ]
  },
  {
   "cell_type": "code",
   "execution_count": 33,
   "metadata": {},
   "outputs": [],
   "source": [
    "#get the value of certain row (as y-value of visualization result)\n",
    "y1 = df.loc['husqvarna'].tolist()\n",
    "y3 = df.loc['citroën'].tolist()\n",
    "y5 = df.loc['amsterdam'].tolist()\n",
    "y6 = df.loc['drivenow'].tolist()\n",
    "y7 = df.loc['co2'].tolist()\n",
    "y8 = df.loc['brexit'].tolist()\n",
    "y9 = df.loc['here'].tolist()\n",
    "y10= df.loc['there'].tolist()"
   ]
  },
  {
   "cell_type": "code",
   "execution_count": 34,
   "metadata": {},
   "outputs": [],
   "source": [
    "#x-value(year 2010-2017) of visualization result\n",
    "years = np.linspace(2010, 2017, 8)\n",
    "\n",
    "#define all the lines(keywords) with the data from TF/IDF\n",
    "line1 = go.Scatter(x=years, y=y1, mode='lines+markers', name=key[0])\n",
    "line3 = go.Scatter(x=years, y=y3, mode='lines+markers', name=key[2])\n",
    "line6 = go.Scatter(x=years, y=y6, mode='lines+markers', name=key[5])\n",
    "line7 = go.Scatter(x=years, y=y7, mode='lines+markers', name=key[6])\n",
    "line8 = go.Scatter(x=years, y=y8, mode='lines+markers', name=key[7])\n",
    "line9 = go.Scatter(x=years, y=y9, mode='lines+markers', name=key[8])"
   ]
  },
  {
   "cell_type": "code",
   "execution_count": 35,
   "metadata": {},
   "outputs": [
    {
     "data": {
      "application/vnd.plotly.v1+json": {
       "data": [
        {
         "mode": "lines+markers",
         "name": "Husqvarna",
         "type": "scatter",
         "uid": "f7938008-9ca1-11e8-81fb-e718724e1941",
         "x": [
          2010,
          2011,
          2012,
          2013,
          2014,
          2015,
          2016,
          2017
         ],
         "y": [
          0.02177643935218017,
          0.019772659042221336,
          0.02963686220697395,
          0.018795087002581805,
          0,
          0,
          0.001456255927845524,
          0.001456255927845524,
          1.251314428280906
         ]
        },
        {
         "mode": "lines+markers",
         "name": "Citroën",
         "type": "scatter",
         "uid": "f7938332-9ca1-11e8-81fb-e718724e1941",
         "x": [
          2010,
          2011,
          2012,
          2013,
          2014,
          2015,
          2016,
          2017
         ],
         "y": [
          0.0034540019709458076,
          0.012544714440808626,
          0.025070711532471333,
          0.0017034994696036316,
          0,
          0,
          0,
          0,
          1.587786664902119
         ]
        }
       ],
       "layout": {
        "title": "BMW:TF-IDF keywords trend - decrease",
        "xaxis": {
         "title": "years"
        }
       }
      },
      "text/html": [
       "<div id=\"643d096a-22dd-4f9c-9ea0-25248695da0b\" style=\"height: 525px; width: 100%;\" class=\"plotly-graph-div\"></div><script type=\"text/javascript\">require([\"plotly\"], function(Plotly) { window.PLOTLYENV=window.PLOTLYENV || {};window.PLOTLYENV.BASE_URL=\"https://plot.ly\";Plotly.newPlot(\"643d096a-22dd-4f9c-9ea0-25248695da0b\", [{\"mode\": \"lines+markers\", \"name\": \"Husqvarna\", \"x\": [2010.0, 2011.0, 2012.0, 2013.0, 2014.0, 2015.0, 2016.0, 2017.0], \"y\": [0.02177643935218017, 0.019772659042221336, 0.02963686220697395, 0.018795087002581805, 0.0, 0.0, 0.001456255927845524, 0.001456255927845524, 1.251314428280906], \"type\": \"scatter\", \"uid\": \"f79a5374-9ca1-11e8-81fb-e718724e1941\"}, {\"mode\": \"lines+markers\", \"name\": \"Citro\\u00ebn\", \"x\": [2010.0, 2011.0, 2012.0, 2013.0, 2014.0, 2015.0, 2016.0, 2017.0], \"y\": [0.0034540019709458076, 0.012544714440808626, 0.025070711532471333, 0.0017034994696036316, 0.0, 0.0, 0.0, 0.0, 1.587786664902119], \"type\": \"scatter\", \"uid\": \"f79a55e0-9ca1-11e8-81fb-e718724e1941\"}], {\"title\": \"BMW:TF-IDF keywords trend - decrease\", \"xaxis\": {\"title\": \"years\"}}, {\"showLink\": true, \"linkText\": \"Export to plot.ly\"})});</script>"
      ],
      "text/vnd.plotly.v1+html": [
       "<div id=\"643d096a-22dd-4f9c-9ea0-25248695da0b\" style=\"height: 525px; width: 100%;\" class=\"plotly-graph-div\"></div><script type=\"text/javascript\">require([\"plotly\"], function(Plotly) { window.PLOTLYENV=window.PLOTLYENV || {};window.PLOTLYENV.BASE_URL=\"https://plot.ly\";Plotly.newPlot(\"643d096a-22dd-4f9c-9ea0-25248695da0b\", [{\"mode\": \"lines+markers\", \"name\": \"Husqvarna\", \"x\": [2010.0, 2011.0, 2012.0, 2013.0, 2014.0, 2015.0, 2016.0, 2017.0], \"y\": [0.02177643935218017, 0.019772659042221336, 0.02963686220697395, 0.018795087002581805, 0.0, 0.0, 0.001456255927845524, 0.001456255927845524, 1.251314428280906], \"type\": \"scatter\", \"uid\": \"f79a5374-9ca1-11e8-81fb-e718724e1941\"}, {\"mode\": \"lines+markers\", \"name\": \"Citro\\u00ebn\", \"x\": [2010.0, 2011.0, 2012.0, 2013.0, 2014.0, 2015.0, 2016.0, 2017.0], \"y\": [0.0034540019709458076, 0.012544714440808626, 0.025070711532471333, 0.0017034994696036316, 0.0, 0.0, 0.0, 0.0, 1.587786664902119], \"type\": \"scatter\", \"uid\": \"f79a55e0-9ca1-11e8-81fb-e718724e1941\"}], {\"title\": \"BMW:TF-IDF keywords trend - decrease\", \"xaxis\": {\"title\": \"years\"}}, {\"showLink\": true, \"linkText\": \"Export to plot.ly\"})});</script>"
      ]
     },
     "metadata": {},
     "output_type": "display_data"
    },
    {
     "data": {
      "application/vnd.plotly.v1+json": {
       "data": [
        {
         "mode": "lines+markers",
         "name": "Drivenow",
         "type": "scatter",
         "uid": "f7a16b8c-9ca1-11e8-81fb-e718724e1941",
         "x": [
          2010,
          2011,
          2012,
          2013,
          2014,
          2015,
          2016,
          2017
         ],
         "y": [
          0,
          0.013877805257339466,
          0.016388806983860908,
          0.010793191336198635,
          0.020866608082130016,
          0.021614845496604414,
          0.02081367413248565,
          0.02081367413248565,
          1.1177830356563834
         ]
        },
        {
         "mode": "lines+markers",
         "name": "co2",
         "type": "scatter",
         "uid": "f7a16db2-9ca1-11e8-81fb-e718724e1941",
         "x": [
          2010,
          2011,
          2012,
          2013,
          2014,
          2015,
          2016,
          2017
         ],
         "y": [
          0,
          0,
          0,
          0.0017034994696036316,
          0.001646698121672266,
          0,
          0.04065239015430882,
          0.04065239015430882,
          1.587786664902119
         ]
        },
        {
         "mode": "lines+markers",
         "name": "brexit",
         "type": "scatter",
         "uid": "f7a16f1a-9ca1-11e8-81fb-e718724e1941",
         "x": [
          2010,
          2011,
          2012,
          2013,
          2014,
          2015,
          2016,
          2017
         ],
         "y": [
          0,
          0,
          0,
          0,
          0,
          0,
          0.026865575655537523,
          0.026865575655537523,
          2.09861228866811
         ]
        },
        {
         "mode": "lines+markers",
         "name": "HERE / Amsterdam",
         "type": "scatter",
         "uid": "f7a17046-9ca1-11e8-81fb-e718724e1941",
         "x": [
          2010,
          2011,
          2012,
          2013,
          2014,
          2015,
          2016,
          2017
         ],
         "y": [
          0,
          0,
          0,
          0,
          0,
          0.027646107645330157,
          0.025290313635104235,
          0.025290313635104235,
          1.8109302162163288
         ]
        }
       ],
       "layout": {
        "title": "BMW:TF-IDF keywords trend - increase",
        "xaxis": {
         "title": "years"
        }
       }
      },
      "text/html": [
       "<div id=\"3ac3532f-23eb-4e55-885e-fc029584bc08\" style=\"height: 525px; width: 100%;\" class=\"plotly-graph-div\"></div><script type=\"text/javascript\">require([\"plotly\"], function(Plotly) { window.PLOTLYENV=window.PLOTLYENV || {};window.PLOTLYENV.BASE_URL=\"https://plot.ly\";Plotly.newPlot(\"3ac3532f-23eb-4e55-885e-fc029584bc08\", [{\"mode\": \"lines+markers\", \"name\": \"Drivenow\", \"x\": [2010.0, 2011.0, 2012.0, 2013.0, 2014.0, 2015.0, 2016.0, 2017.0], \"y\": [0.0, 0.013877805257339466, 0.016388806983860908, 0.010793191336198635, 0.020866608082130016, 0.021614845496604414, 0.02081367413248565, 0.02081367413248565, 1.1177830356563834], \"type\": \"scatter\", \"uid\": \"f7a75c04-9ca1-11e8-81fb-e718724e1941\"}, {\"mode\": \"lines+markers\", \"name\": \"co2\", \"x\": [2010.0, 2011.0, 2012.0, 2013.0, 2014.0, 2015.0, 2016.0, 2017.0], \"y\": [0.0, 0.0, 0.0, 0.0017034994696036316, 0.001646698121672266, 0.0, 0.04065239015430882, 0.04065239015430882, 1.587786664902119], \"type\": \"scatter\", \"uid\": \"f7a75de4-9ca1-11e8-81fb-e718724e1941\"}, {\"mode\": \"lines+markers\", \"name\": \"brexit\", \"x\": [2010.0, 2011.0, 2012.0, 2013.0, 2014.0, 2015.0, 2016.0, 2017.0], \"y\": [0.0, 0.0, 0.0, 0.0, 0.0, 0.0, 0.026865575655537523, 0.026865575655537523, 2.09861228866811], \"type\": \"scatter\", \"uid\": \"f7a75f1a-9ca1-11e8-81fb-e718724e1941\"}, {\"mode\": \"lines+markers\", \"name\": \"HERE / Amsterdam\", \"x\": [2010.0, 2011.0, 2012.0, 2013.0, 2014.0, 2015.0, 2016.0, 2017.0], \"y\": [0.0, 0.0, 0.0, 0.0, 0.0, 0.027646107645330157, 0.025290313635104235, 0.025290313635104235, 1.8109302162163288], \"type\": \"scatter\", \"uid\": \"f7a76028-9ca1-11e8-81fb-e718724e1941\"}], {\"title\": \"BMW:TF-IDF keywords trend - increase\", \"xaxis\": {\"title\": \"years\"}}, {\"showLink\": true, \"linkText\": \"Export to plot.ly\"})});</script>"
      ],
      "text/vnd.plotly.v1+html": [
       "<div id=\"3ac3532f-23eb-4e55-885e-fc029584bc08\" style=\"height: 525px; width: 100%;\" class=\"plotly-graph-div\"></div><script type=\"text/javascript\">require([\"plotly\"], function(Plotly) { window.PLOTLYENV=window.PLOTLYENV || {};window.PLOTLYENV.BASE_URL=\"https://plot.ly\";Plotly.newPlot(\"3ac3532f-23eb-4e55-885e-fc029584bc08\", [{\"mode\": \"lines+markers\", \"name\": \"Drivenow\", \"x\": [2010.0, 2011.0, 2012.0, 2013.0, 2014.0, 2015.0, 2016.0, 2017.0], \"y\": [0.0, 0.013877805257339466, 0.016388806983860908, 0.010793191336198635, 0.020866608082130016, 0.021614845496604414, 0.02081367413248565, 0.02081367413248565, 1.1177830356563834], \"type\": \"scatter\", \"uid\": \"f7a75c04-9ca1-11e8-81fb-e718724e1941\"}, {\"mode\": \"lines+markers\", \"name\": \"co2\", \"x\": [2010.0, 2011.0, 2012.0, 2013.0, 2014.0, 2015.0, 2016.0, 2017.0], \"y\": [0.0, 0.0, 0.0, 0.0017034994696036316, 0.001646698121672266, 0.0, 0.04065239015430882, 0.04065239015430882, 1.587786664902119], \"type\": \"scatter\", \"uid\": \"f7a75de4-9ca1-11e8-81fb-e718724e1941\"}, {\"mode\": \"lines+markers\", \"name\": \"brexit\", \"x\": [2010.0, 2011.0, 2012.0, 2013.0, 2014.0, 2015.0, 2016.0, 2017.0], \"y\": [0.0, 0.0, 0.0, 0.0, 0.0, 0.0, 0.026865575655537523, 0.026865575655537523, 2.09861228866811], \"type\": \"scatter\", \"uid\": \"f7a75f1a-9ca1-11e8-81fb-e718724e1941\"}, {\"mode\": \"lines+markers\", \"name\": \"HERE / Amsterdam\", \"x\": [2010.0, 2011.0, 2012.0, 2013.0, 2014.0, 2015.0, 2016.0, 2017.0], \"y\": [0.0, 0.0, 0.0, 0.0, 0.0, 0.027646107645330157, 0.025290313635104235, 0.025290313635104235, 1.8109302162163288], \"type\": \"scatter\", \"uid\": \"f7a76028-9ca1-11e8-81fb-e718724e1941\"}], {\"title\": \"BMW:TF-IDF keywords trend - increase\", \"xaxis\": {\"title\": \"years\"}}, {\"showLink\": true, \"linkText\": \"Export to plot.ly\"})});</script>"
      ]
     },
     "metadata": {},
     "output_type": "display_data"
    }
   ],
   "source": [
    "#the layout of visualization of BMW (main title, axis title)\n",
    "decay = [line1, line3]\n",
    "increase = [line6, line7, line8, line9]\n",
    "\n",
    "layout_decay = dict(title = 'BMW:TF-IDF keywords trend - decrease',\n",
    "              xaxis = dict(title = 'years')\n",
    "              )\n",
    "fig_decay = dict(data=decay, layout=layout_decay)\n",
    "\n",
    "layout_increase = dict(title = 'BMW:TF-IDF keywords trend - increase',\n",
    "              xaxis = dict(title = 'years')\n",
    "              )\n",
    "fig_increase = dict(data=increase, layout=layout_increase)\n",
    "\n",
    "#draw the line chart\n",
    "py.offline.iplot(fig_decay, filename='BMW:TF-IDF keywords trend - decrease')\n",
    "py.offline.iplot(fig_increase, filename='BMW:TF-IDF keywords trend - increase')"
   ]
  },
  {
   "cell_type": "markdown",
   "metadata": {},
   "source": [
    "## Deutsche Bank"
   ]
  },
  {
   "cell_type": "code",
   "execution_count": 36,
   "metadata": {},
   "outputs": [],
   "source": [
    "#the keywords chosen from the Deutsche Bank Annual reports\n",
    "key_co = ['Goodwill', 'ABN AMRO', 'Deutsche Bank National Trust Co.']"
   ]
  },
  {
   "cell_type": "code",
   "execution_count": 37,
   "metadata": {},
   "outputs": [],
   "source": [
    "#get the value of certain row (as y-value of visualization result)\n",
    "y1 = df_db.loc['goodwill'].tolist()\n",
    "y2 = df_db.loc['amro'].tolist()\n",
    "y3 = df_db.loc['dbntc'].tolist()"
   ]
  },
  {
   "cell_type": "code",
   "execution_count": 38,
   "metadata": {},
   "outputs": [],
   "source": [
    "#x-value(year 2010-2016) of visualization result\n",
    "years = np.linspace(2010, 2016, 7)\n",
    "\n",
    "#define all the lines(keywords) with the data from TF/IDF\n",
    "line1 = go.Scatter(x=years, y=y1, mode='lines+markers', name=key_co[0])\n",
    "line2 = go.Scatter(x=years, y=y2, mode='lines+markers', name=key_co[1])\n",
    "line3 = go.Scatter(x=years, y=y3, mode='lines+markers', name=key_co[2])"
   ]
  },
  {
   "cell_type": "code",
   "execution_count": 39,
   "metadata": {},
   "outputs": [
    {
     "data": {
      "application/vnd.plotly.v1+json": {
       "data": [
        {
         "mode": "lines+markers",
         "name": "Goodwill",
         "type": "scatter",
         "uid": "fa7e8f56-9ca1-11e8-81fb-e718724e1941",
         "x": [
          2010,
          2011,
          2012,
          2013,
          2014,
          2015,
          2016
         ],
         "y": [
          0.04991548613574003,
          0.0011506396039015516,
          0.0005152863584182154,
          0,
          0,
          0.0011947623249202435,
          0.0005125010967421039,
          1.2876820724517808
         ]
        },
        {
         "mode": "lines+markers",
         "name": "ABN AMRO",
         "type": "scatter",
         "uid": "fa7e924e-9ca1-11e8-81fb-e718724e1941",
         "x": [
          2010,
          2011,
          2012,
          2013,
          2014,
          2015,
          2016
         ],
         "y": [
          0.021727917494380956,
          0.013232355444867842,
          0.00772929537627323,
          0.0010662206435667523,
          0.00044069063733971576,
          0,
          0,
          1.2876820724517808
         ]
        },
        {
         "mode": "lines+markers",
         "name": "Deutsche Bank National Trust Co.",
         "type": "scatter",
         "uid": "fa7e941a-9ca1-11e8-81fb-e718724e1941",
         "x": [
          2010,
          2011,
          2012,
          2013,
          2014,
          2015,
          2016
         ],
         "y": [
          0,
          0,
          0,
          0,
          0.006101192461877822,
          0.022054700124159173,
          0,
          1.9808292530117262
         ]
        }
       ],
       "layout": {
        "title": "Deutsche Bank:TF-IDF keywords trend",
        "xaxis": {
         "title": "years"
        }
       }
      },
      "text/html": [
       "<div id=\"a8d1c85d-b514-4f37-a635-2f9b6d2571f4\" style=\"height: 525px; width: 100%;\" class=\"plotly-graph-div\"></div><script type=\"text/javascript\">require([\"plotly\"], function(Plotly) { window.PLOTLYENV=window.PLOTLYENV || {};window.PLOTLYENV.BASE_URL=\"https://plot.ly\";Plotly.newPlot(\"a8d1c85d-b514-4f37-a635-2f9b6d2571f4\", [{\"mode\": \"lines+markers\", \"name\": \"Goodwill\", \"x\": [2010.0, 2011.0, 2012.0, 2013.0, 2014.0, 2015.0, 2016.0], \"y\": [0.04991548613574003, 0.0011506396039015516, 0.0005152863584182154, 0.0, 0.0, 0.0011947623249202435, 0.0005125010967421039, 1.2876820724517808], \"type\": \"scatter\", \"uid\": \"fa8582f2-9ca1-11e8-81fb-e718724e1941\"}, {\"mode\": \"lines+markers\", \"name\": \"ABN AMRO\", \"x\": [2010.0, 2011.0, 2012.0, 2013.0, 2014.0, 2015.0, 2016.0], \"y\": [0.021727917494380956, 0.013232355444867842, 0.00772929537627323, 0.0010662206435667523, 0.00044069063733971576, 0.0, 0.0, 1.2876820724517808], \"type\": \"scatter\", \"uid\": \"fa858536-9ca1-11e8-81fb-e718724e1941\"}, {\"mode\": \"lines+markers\", \"name\": \"Deutsche Bank National Trust Co.\", \"x\": [2010.0, 2011.0, 2012.0, 2013.0, 2014.0, 2015.0, 2016.0], \"y\": [0.0, 0.0, 0.0, 0.0, 0.006101192461877822, 0.022054700124159173, 0.0, 1.9808292530117262], \"type\": \"scatter\", \"uid\": \"fa8586a8-9ca1-11e8-81fb-e718724e1941\"}], {\"title\": \"Deutsche Bank:TF-IDF keywords trend\", \"xaxis\": {\"title\": \"years\"}}, {\"showLink\": true, \"linkText\": \"Export to plot.ly\"})});</script>"
      ],
      "text/vnd.plotly.v1+html": [
       "<div id=\"a8d1c85d-b514-4f37-a635-2f9b6d2571f4\" style=\"height: 525px; width: 100%;\" class=\"plotly-graph-div\"></div><script type=\"text/javascript\">require([\"plotly\"], function(Plotly) { window.PLOTLYENV=window.PLOTLYENV || {};window.PLOTLYENV.BASE_URL=\"https://plot.ly\";Plotly.newPlot(\"a8d1c85d-b514-4f37-a635-2f9b6d2571f4\", [{\"mode\": \"lines+markers\", \"name\": \"Goodwill\", \"x\": [2010.0, 2011.0, 2012.0, 2013.0, 2014.0, 2015.0, 2016.0], \"y\": [0.04991548613574003, 0.0011506396039015516, 0.0005152863584182154, 0.0, 0.0, 0.0011947623249202435, 0.0005125010967421039, 1.2876820724517808], \"type\": \"scatter\", \"uid\": \"fa8582f2-9ca1-11e8-81fb-e718724e1941\"}, {\"mode\": \"lines+markers\", \"name\": \"ABN AMRO\", \"x\": [2010.0, 2011.0, 2012.0, 2013.0, 2014.0, 2015.0, 2016.0], \"y\": [0.021727917494380956, 0.013232355444867842, 0.00772929537627323, 0.0010662206435667523, 0.00044069063733971576, 0.0, 0.0, 1.2876820724517808], \"type\": \"scatter\", \"uid\": \"fa858536-9ca1-11e8-81fb-e718724e1941\"}, {\"mode\": \"lines+markers\", \"name\": \"Deutsche Bank National Trust Co.\", \"x\": [2010.0, 2011.0, 2012.0, 2013.0, 2014.0, 2015.0, 2016.0], \"y\": [0.0, 0.0, 0.0, 0.0, 0.006101192461877822, 0.022054700124159173, 0.0, 1.9808292530117262], \"type\": \"scatter\", \"uid\": \"fa8586a8-9ca1-11e8-81fb-e718724e1941\"}], {\"title\": \"Deutsche Bank:TF-IDF keywords trend\", \"xaxis\": {\"title\": \"years\"}}, {\"showLink\": true, \"linkText\": \"Export to plot.ly\"})});</script>"
      ]
     },
     "metadata": {},
     "output_type": "display_data"
    }
   ],
   "source": [
    "#the layout of visualization of Deutsche Bank (main title, axis title)\n",
    "company = [line1, line2, line3]\n",
    "\n",
    "layout_company = dict(title = 'Deutsche Bank:TF-IDF keywords trend',\n",
    "              xaxis = dict(title = 'years')\n",
    "              )\n",
    "fig_company = dict(data=company, layout=layout_company)\n",
    "\n",
    "#draw the line chart\n",
    "py.offline.iplot(fig_company, filename='Deutsche Bank:TF-IDF keywords trend')"
   ]
  }
 ],
 "metadata": {
  "kernelspec": {
   "display_name": "Python 3",
   "language": "python",
   "name": "python3"
  },
  "language_info": {
   "codemirror_mode": {
    "name": "ipython",
    "version": 3
   },
   "file_extension": ".py",
   "mimetype": "text/x-python",
   "name": "python",
   "nbconvert_exporter": "python",
   "pygments_lexer": "ipython3",
   "version": "3.6.6"
  }
 },
 "nbformat": 4,
 "nbformat_minor": 1
}
