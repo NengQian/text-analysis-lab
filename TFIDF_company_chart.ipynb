{
 "cells": [
  {
   "cell_type": "markdown",
   "metadata": {},
   "source": [
    "# TF/IDF keywords trend"
   ]
  },
  {
   "cell_type": "code",
   "execution_count": 43,
   "metadata": {},
   "outputs": [],
   "source": [
    "import spacy\n",
    "import json\n",
    "from sklearn.feature_extraction.text import TfidfVectorizer\n",
    "from spacy.lang.de.stop_words import STOP_WORDS\n",
    "import pandas as pd\n",
    "from sklearn.cluster import KMeans\n",
    "import time"
   ]
  },
  {
   "cell_type": "code",
   "execution_count": 44,
   "metadata": {},
   "outputs": [],
   "source": [
    "#other needed configurations\n",
    "%run src/file_utils.py\n",
    "%run src/configuration.py\n",
    "%run \"load_and_prepro_document.ipynb\""
   ]
  },
  {
   "cell_type": "markdown",
   "metadata": {},
   "source": [
    "# BMW 2010-2017"
   ]
  },
  {
   "cell_type": "code",
   "execution_count": 45,
   "metadata": {},
   "outputs": [],
   "source": [
    "#the file list of BMW from 2010 to 2017\n",
    "bmw_lemm_docs_prep = [\n",
    "     'BMW-AnnualReport-2010.json', \n",
    "     'BMW-AnnualReport-2011.json', \n",
    "     'BMW-AnnualReport-2012.json',\n",
    "     'BMW-AnnualReport-2013.json', \n",
    "     'BMW-AnnualReport-2014.json', \n",
    "     'BMW-AnnualReport-2015.json',\n",
    "     'BMW-AnnualReport-2016.json', \n",
    "     'BMW-AnnualReport-2017.json']"
   ]
  },
  {
   "cell_type": "code",
   "execution_count": 46,
   "metadata": {},
   "outputs": [],
   "source": [
    "#stop tfidf from preprocessing and split the word\n",
    "def preProcess(s):\n",
    "    return s"
   ]
  },
  {
   "cell_type": "code",
   "execution_count": 47,
   "metadata": {},
   "outputs": [
    {
     "name": "stdout",
     "output_type": "stream",
     "text": [
      "filtered_BMW-AnnualReport-2010.json has already done preprocess\n",
      "filtered_BMW-AnnualReport-2011.json has already done preprocess\n",
      "filtered_BMW-AnnualReport-2012.json has already done preprocess\n",
      "filtered_BMW-AnnualReport-2013.json has already done preprocess\n",
      "filtered_BMW-AnnualReport-2014.json has already done preprocess\n",
      "filtered_BMW-AnnualReport-2015.json has already done preprocess\n",
      "filtered_BMW-AnnualReport-2016.json has already done preprocess\n",
      "filtered_BMW-AnnualReport-2017.json has already done preprocess\n",
      "0.2481086254119873\n"
     ]
    }
   ],
   "source": [
    "#remove all the stop words and other meaningless characters\n",
    "bmw_doc, bmw_name= get_clean_data(bmw_lemm_docs_prep)\n",
    "\n",
    "#do the TF/IDF and produce the tfidf-matrix\n",
    "vectorizer_bmw = TfidfVectorizer()\n",
    "start_time = time.time()\n",
    "tfidf_matrix_bmw = vectorizer_bmw.fit_transform(bmw_doc)\n",
    "print (time.time() - start_time)"
   ]
  },
  {
   "cell_type": "code",
   "execution_count": 48,
   "metadata": {},
   "outputs": [],
   "source": [
    "#use pandas to show the result (make data structure more clear)\n",
    "bmw_feature_names = vectorizer_bmw.get_feature_names()\n",
    "bmw_corpus_index = [n for n in [\n",
    "    'BMW-2010', 'BMW-2011', 'BMW-2012', \n",
    "    'BMW-2013', 'BMW-2014', 'BMW-2015',\n",
    "    'BMW-2016', 'BMW-2017']]\n",
    "idf = vectorizer_bmw.idf_\n",
    "df = pd.DataFrame(tfidf_matrix_bmw.T.todense(), index=bmw_feature_names, columns=bmw_corpus_index)\n",
    "df['idf'] = idf"
   ]
  },
  {
   "cell_type": "code",
   "execution_count": 50,
   "metadata": {},
   "outputs": [
    {
     "data": {
      "text/html": [
       "<div>\n",
       "<style scoped>\n",
       "    .dataframe tbody tr th:only-of-type {\n",
       "        vertical-align: middle;\n",
       "    }\n",
       "\n",
       "    .dataframe tbody tr th {\n",
       "        vertical-align: top;\n",
       "    }\n",
       "\n",
       "    .dataframe thead th {\n",
       "        text-align: right;\n",
       "    }\n",
       "</style>\n",
       "<table border=\"1\" class=\"dataframe\">\n",
       "  <thead>\n",
       "    <tr style=\"text-align: right;\">\n",
       "      <th></th>\n",
       "      <th>BMW-2010</th>\n",
       "      <th>BMW-2011</th>\n",
       "      <th>BMW-2012</th>\n",
       "      <th>BMW-2013</th>\n",
       "      <th>BMW-2014</th>\n",
       "      <th>BMW-2015</th>\n",
       "      <th>BMW-2016</th>\n",
       "      <th>BMW-2017</th>\n",
       "      <th>idf</th>\n",
       "    </tr>\n",
       "  </thead>\n",
       "  <tbody>\n",
       "    <tr>\n",
       "      <th>next</th>\n",
       "      <td>0.000000</td>\n",
       "      <td>0.000000</td>\n",
       "      <td>0.000000</td>\n",
       "      <td>0.000000</td>\n",
       "      <td>0.000000</td>\n",
       "      <td>0.011058</td>\n",
       "      <td>0.048473</td>\n",
       "      <td>0.048473</td>\n",
       "      <td>1.810930</td>\n",
       "    </tr>\n",
       "    <tr>\n",
       "      <th>co2</th>\n",
       "      <td>0.000000</td>\n",
       "      <td>0.000000</td>\n",
       "      <td>0.000000</td>\n",
       "      <td>0.001703</td>\n",
       "      <td>0.001647</td>\n",
       "      <td>0.000000</td>\n",
       "      <td>0.040652</td>\n",
       "      <td>0.040652</td>\n",
       "      <td>1.587787</td>\n",
       "    </tr>\n",
       "    <tr>\n",
       "      <th>ergebnisauswirkungen</th>\n",
       "      <td>0.000000</td>\n",
       "      <td>0.000000</td>\n",
       "      <td>0.000000</td>\n",
       "      <td>0.003016</td>\n",
       "      <td>0.023322</td>\n",
       "      <td>0.027178</td>\n",
       "      <td>0.032713</td>\n",
       "      <td>0.032713</td>\n",
       "      <td>1.405465</td>\n",
       "    </tr>\n",
       "    <tr>\n",
       "      <th>zweijährig</th>\n",
       "      <td>0.000000</td>\n",
       "      <td>0.000000</td>\n",
       "      <td>0.000000</td>\n",
       "      <td>0.000000</td>\n",
       "      <td>0.027994</td>\n",
       "      <td>0.027471</td>\n",
       "      <td>0.031413</td>\n",
       "      <td>0.031413</td>\n",
       "      <td>1.587787</td>\n",
       "    </tr>\n",
       "    <tr>\n",
       "      <th>betrachtungszeitraum</th>\n",
       "      <td>0.001216</td>\n",
       "      <td>0.000000</td>\n",
       "      <td>0.001261</td>\n",
       "      <td>0.003598</td>\n",
       "      <td>0.013911</td>\n",
       "      <td>0.025028</td>\n",
       "      <td>0.029920</td>\n",
       "      <td>0.029920</td>\n",
       "      <td>1.117783</td>\n",
       "    </tr>\n",
       "    <tr>\n",
       "      <th>there</th>\n",
       "      <td>0.000000</td>\n",
       "      <td>0.000000</td>\n",
       "      <td>0.000000</td>\n",
       "      <td>0.000000</td>\n",
       "      <td>0.000000</td>\n",
       "      <td>0.035018</td>\n",
       "      <td>0.029505</td>\n",
       "      <td>0.029505</td>\n",
       "      <td>1.810930</td>\n",
       "    </tr>\n",
       "    <tr>\n",
       "      <th>brexit</th>\n",
       "      <td>0.000000</td>\n",
       "      <td>0.000000</td>\n",
       "      <td>0.000000</td>\n",
       "      <td>0.000000</td>\n",
       "      <td>0.000000</td>\n",
       "      <td>0.000000</td>\n",
       "      <td>0.026866</td>\n",
       "      <td>0.026866</td>\n",
       "      <td>2.098612</td>\n",
       "    </tr>\n",
       "    <tr>\n",
       "      <th>here</th>\n",
       "      <td>0.000000</td>\n",
       "      <td>0.000000</td>\n",
       "      <td>0.000000</td>\n",
       "      <td>0.000000</td>\n",
       "      <td>0.000000</td>\n",
       "      <td>0.027646</td>\n",
       "      <td>0.025290</td>\n",
       "      <td>0.025290</td>\n",
       "      <td>1.810930</td>\n",
       "    </tr>\n",
       "    <tr>\n",
       "      <th>plug</th>\n",
       "      <td>0.000000</td>\n",
       "      <td>0.005046</td>\n",
       "      <td>0.001261</td>\n",
       "      <td>0.002398</td>\n",
       "      <td>0.013911</td>\n",
       "      <td>0.010239</td>\n",
       "      <td>0.024716</td>\n",
       "      <td>0.024716</td>\n",
       "      <td>1.117783</td>\n",
       "    </tr>\n",
       "    <tr>\n",
       "      <th>aktienbasierte</th>\n",
       "      <td>0.000000</td>\n",
       "      <td>0.018924</td>\n",
       "      <td>0.023953</td>\n",
       "      <td>0.023985</td>\n",
       "      <td>0.020867</td>\n",
       "      <td>0.023890</td>\n",
       "      <td>0.024716</td>\n",
       "      <td>0.024716</td>\n",
       "      <td>1.117783</td>\n",
       "    </tr>\n",
       "  </tbody>\n",
       "</table>\n",
       "</div>"
      ],
      "text/plain": [
       "                      BMW-2010  BMW-2011  BMW-2012  BMW-2013  BMW-2014  \\\n",
       "next                  0.000000  0.000000  0.000000  0.000000  0.000000   \n",
       "co2                   0.000000  0.000000  0.000000  0.001703  0.001647   \n",
       "ergebnisauswirkungen  0.000000  0.000000  0.000000  0.003016  0.023322   \n",
       "zweijährig            0.000000  0.000000  0.000000  0.000000  0.027994   \n",
       "betrachtungszeitraum  0.001216  0.000000  0.001261  0.003598  0.013911   \n",
       "there                 0.000000  0.000000  0.000000  0.000000  0.000000   \n",
       "brexit                0.000000  0.000000  0.000000  0.000000  0.000000   \n",
       "here                  0.000000  0.000000  0.000000  0.000000  0.000000   \n",
       "plug                  0.000000  0.005046  0.001261  0.002398  0.013911   \n",
       "aktienbasierte        0.000000  0.018924  0.023953  0.023985  0.020867   \n",
       "\n",
       "                      BMW-2015  BMW-2016  BMW-2017       idf  \n",
       "next                  0.011058  0.048473  0.048473  1.810930  \n",
       "co2                   0.000000  0.040652  0.040652  1.587787  \n",
       "ergebnisauswirkungen  0.027178  0.032713  0.032713  1.405465  \n",
       "zweijährig            0.027471  0.031413  0.031413  1.587787  \n",
       "betrachtungszeitraum  0.025028  0.029920  0.029920  1.117783  \n",
       "there                 0.035018  0.029505  0.029505  1.810930  \n",
       "brexit                0.000000  0.026866  0.026866  2.098612  \n",
       "here                  0.027646  0.025290  0.025290  1.810930  \n",
       "plug                  0.010239  0.024716  0.024716  1.117783  \n",
       "aktienbasierte        0.023890  0.024716  0.024716  1.117783  "
      ]
     },
     "execution_count": 50,
     "metadata": {},
     "output_type": "execute_result"
    }
   ],
   "source": [
    "#present the matrix sorted by year-2016 value\n",
    "df = df.sort_values(by=['BMW-2016'], ascending=False)\n",
    "df[(df['idf'] != 1)].head(10)"
   ]
  },
  {
   "cell_type": "markdown",
   "metadata": {},
   "source": [
    "# Deutsche Bank 2010-2016"
   ]
  },
  {
   "cell_type": "code",
   "execution_count": 51,
   "metadata": {},
   "outputs": [],
   "source": [
    "#the file list of Deutsche Bank from 2010 to 2017\n",
    "db_lemm_docs_prep = [\n",
    "     'DeutscheBank-AnnualReport-2010.json', \n",
    "     'DeutscheBank-AnnualReport-2011.json', \n",
    "     'DeutscheBank-AnnualReport-2012.json',\n",
    "     'DeutscheBank-AnnualReport-2013.json', \n",
    "     'DeutscheBank-AnnualReport-2014.json', \n",
    "     'DeutscheBank-AnnualReport-2015.json',\n",
    "     'DeutscheBank-AnnualReport-2016.json']"
   ]
  },
  {
   "cell_type": "code",
   "execution_count": 52,
   "metadata": {},
   "outputs": [
    {
     "name": "stdout",
     "output_type": "stream",
     "text": [
      "filtered_DeutscheBank-AnnualReport-2010.json has already done preprocess\n",
      "filtered_DeutscheBank-AnnualReport-2011.json has already done preprocess\n",
      "filtered_DeutscheBank-AnnualReport-2012.json has already done preprocess\n",
      "filtered_DeutscheBank-AnnualReport-2013.json has already done preprocess\n",
      "filtered_DeutscheBank-AnnualReport-2014.json has already done preprocess\n",
      "filtered_DeutscheBank-AnnualReport-2015.json has already done preprocess\n",
      "filtered_DeutscheBank-AnnualReport-2016.json has already done preprocess\n",
      "0.44272732734680176\n"
     ]
    }
   ],
   "source": [
    "#remove the stop words and other meaningless characters\n",
    "db_doc, db_name = get_clean_data(db_lemm_docs_prep)\n",
    "\n",
    "#do the TF/IDF and produce the tfidf-matrix\n",
    "vectorizer_db = TfidfVectorizer()\n",
    "start_time = time.time()\n",
    "tfidf_matrix_db = vectorizer_db.fit_transform(db_doc)\n",
    "print (time.time() - start_time)"
   ]
  },
  {
   "cell_type": "code",
   "execution_count": 53,
   "metadata": {},
   "outputs": [],
   "source": [
    "#use pandas to show the result (make data structure more clear)\n",
    "db_feature_names = vectorizer_db.get_feature_names()\n",
    "db_corpus_index = [n for n in [\n",
    "    'DB-2010', 'DB-2011', 'DB-2012', \n",
    "    'DB-2013', 'DB-2014', 'DB-2015',\n",
    "    'DB-2016']]\n",
    "idf = vectorizer_db.idf_\n",
    "df_db = pd.DataFrame(tfidf_matrix_db.T.todense(), index=db_feature_names, columns=db_corpus_index)\n",
    "df_db['idf'] = idf"
   ]
  },
  {
   "cell_type": "code",
   "execution_count": 54,
   "metadata": {},
   "outputs": [
    {
     "data": {
      "text/html": [
       "<div>\n",
       "<style scoped>\n",
       "    .dataframe tbody tr th:only-of-type {\n",
       "        vertical-align: middle;\n",
       "    }\n",
       "\n",
       "    .dataframe tbody tr th {\n",
       "        vertical-align: top;\n",
       "    }\n",
       "\n",
       "    .dataframe thead th {\n",
       "        text-align: right;\n",
       "    }\n",
       "</style>\n",
       "<table border=\"1\" class=\"dataframe\">\n",
       "  <thead>\n",
       "    <tr style=\"text-align: right;\">\n",
       "      <th></th>\n",
       "      <th>DB-2010</th>\n",
       "      <th>DB-2011</th>\n",
       "      <th>DB-2012</th>\n",
       "      <th>DB-2013</th>\n",
       "      <th>DB-2014</th>\n",
       "      <th>DB-2015</th>\n",
       "      <th>DB-2016</th>\n",
       "      <th>idf</th>\n",
       "    </tr>\n",
       "  </thead>\n",
       "  <tbody>\n",
       "    <tr>\n",
       "      <th>beizulegenden</th>\n",
       "      <td>0.000000</td>\n",
       "      <td>0.203085</td>\n",
       "      <td>0.166018</td>\n",
       "      <td>0.131401</td>\n",
       "      <td>0.128794</td>\n",
       "      <td>0.131993</td>\n",
       "      <td>0.126773</td>\n",
       "      <td>1.133531</td>\n",
       "    </tr>\n",
       "    <tr>\n",
       "      <th>crrcrd</th>\n",
       "      <td>0.000000</td>\n",
       "      <td>0.000000</td>\n",
       "      <td>0.000000</td>\n",
       "      <td>0.040167</td>\n",
       "      <td>0.075463</td>\n",
       "      <td>0.038190</td>\n",
       "      <td>0.046220</td>\n",
       "      <td>1.470004</td>\n",
       "    </tr>\n",
       "    <tr>\n",
       "      <th>zeitwerts</th>\n",
       "      <td>0.000000</td>\n",
       "      <td>0.067357</td>\n",
       "      <td>0.050803</td>\n",
       "      <td>0.042236</td>\n",
       "      <td>0.040345</td>\n",
       "      <td>0.044699</td>\n",
       "      <td>0.042408</td>\n",
       "      <td>1.133531</td>\n",
       "    </tr>\n",
       "    <tr>\n",
       "      <th>pwcc</th>\n",
       "      <td>0.000000</td>\n",
       "      <td>0.000000</td>\n",
       "      <td>0.000000</td>\n",
       "      <td>0.000000</td>\n",
       "      <td>0.000000</td>\n",
       "      <td>0.006433</td>\n",
       "      <td>0.037842</td>\n",
       "      <td>1.980829</td>\n",
       "    </tr>\n",
       "    <tr>\n",
       "      <th>ncou</th>\n",
       "      <td>0.000000</td>\n",
       "      <td>0.000000</td>\n",
       "      <td>0.042769</td>\n",
       "      <td>0.058109</td>\n",
       "      <td>0.041425</td>\n",
       "      <td>0.032856</td>\n",
       "      <td>0.035363</td>\n",
       "      <td>1.287682</td>\n",
       "    </tr>\n",
       "    <tr>\n",
       "      <th>gm</th>\n",
       "      <td>0.000000</td>\n",
       "      <td>0.000000</td>\n",
       "      <td>0.000000</td>\n",
       "      <td>0.000000</td>\n",
       "      <td>0.000000</td>\n",
       "      <td>0.004595</td>\n",
       "      <td>0.030747</td>\n",
       "      <td>1.980829</td>\n",
       "    </tr>\n",
       "    <tr>\n",
       "      <th>vollumsetzung</th>\n",
       "      <td>0.000000</td>\n",
       "      <td>0.000000</td>\n",
       "      <td>0.000000</td>\n",
       "      <td>0.003652</td>\n",
       "      <td>0.017608</td>\n",
       "      <td>0.018413</td>\n",
       "      <td>0.028668</td>\n",
       "      <td>1.470004</td>\n",
       "    </tr>\n",
       "    <tr>\n",
       "      <th>kernkapital</th>\n",
       "      <td>0.000517</td>\n",
       "      <td>0.000000</td>\n",
       "      <td>0.004536</td>\n",
       "      <td>0.006101</td>\n",
       "      <td>0.020173</td>\n",
       "      <td>0.025242</td>\n",
       "      <td>0.025264</td>\n",
       "      <td>1.133531</td>\n",
       "    </tr>\n",
       "    <tr>\n",
       "      <th>cib</th>\n",
       "      <td>0.022902</td>\n",
       "      <td>0.021287</td>\n",
       "      <td>0.001546</td>\n",
       "      <td>0.000000</td>\n",
       "      <td>0.000000</td>\n",
       "      <td>0.004182</td>\n",
       "      <td>0.025113</td>\n",
       "      <td>1.287682</td>\n",
       "    </tr>\n",
       "    <tr>\n",
       "      <th>harte</th>\n",
       "      <td>0.000000</td>\n",
       "      <td>0.000000</td>\n",
       "      <td>0.000000</td>\n",
       "      <td>0.000000</td>\n",
       "      <td>0.000000</td>\n",
       "      <td>0.024812</td>\n",
       "      <td>0.022863</td>\n",
       "      <td>1.980829</td>\n",
       "    </tr>\n",
       "  </tbody>\n",
       "</table>\n",
       "</div>"
      ],
      "text/plain": [
       "                DB-2010   DB-2011   DB-2012   DB-2013   DB-2014   DB-2015  \\\n",
       "beizulegenden  0.000000  0.203085  0.166018  0.131401  0.128794  0.131993   \n",
       "crrcrd         0.000000  0.000000  0.000000  0.040167  0.075463  0.038190   \n",
       "zeitwerts      0.000000  0.067357  0.050803  0.042236  0.040345  0.044699   \n",
       "pwcc           0.000000  0.000000  0.000000  0.000000  0.000000  0.006433   \n",
       "ncou           0.000000  0.000000  0.042769  0.058109  0.041425  0.032856   \n",
       "gm             0.000000  0.000000  0.000000  0.000000  0.000000  0.004595   \n",
       "vollumsetzung  0.000000  0.000000  0.000000  0.003652  0.017608  0.018413   \n",
       "kernkapital    0.000517  0.000000  0.004536  0.006101  0.020173  0.025242   \n",
       "cib            0.022902  0.021287  0.001546  0.000000  0.000000  0.004182   \n",
       "harte          0.000000  0.000000  0.000000  0.000000  0.000000  0.024812   \n",
       "\n",
       "                DB-2016       idf  \n",
       "beizulegenden  0.126773  1.133531  \n",
       "crrcrd         0.046220  1.470004  \n",
       "zeitwerts      0.042408  1.133531  \n",
       "pwcc           0.037842  1.980829  \n",
       "ncou           0.035363  1.287682  \n",
       "gm             0.030747  1.980829  \n",
       "vollumsetzung  0.028668  1.470004  \n",
       "kernkapital    0.025264  1.133531  \n",
       "cib            0.025113  1.287682  \n",
       "harte          0.022863  1.980829  "
      ]
     },
     "execution_count": 54,
     "metadata": {},
     "output_type": "execute_result"
    }
   ],
   "source": [
    "#present the matrix sorted by year-2016 value\n",
    "df_db = df_db.sort_values(by=['DB-2016'], ascending=False)\n",
    "df_db[(df_db['idf'] != 1)].head(10)"
   ]
  },
  {
   "cell_type": "markdown",
   "metadata": {},
   "source": [
    "# Visualization"
   ]
  },
  {
   "cell_type": "code",
   "execution_count": 55,
   "metadata": {},
   "outputs": [
    {
     "data": {
      "text/html": [
       "<script>requirejs.config({paths: { 'plotly': ['https://cdn.plot.ly/plotly-latest.min']},});if(!window.Plotly) {{require(['plotly'],function(plotly) {window.Plotly=plotly;});}}</script>"
      ],
      "text/vnd.plotly.v1+html": [
       "<script>requirejs.config({paths: { 'plotly': ['https://cdn.plot.ly/plotly-latest.min']},});if(!window.Plotly) {{require(['plotly'],function(plotly) {window.Plotly=plotly;});}}</script>"
      ]
     },
     "metadata": {},
     "output_type": "display_data"
    }
   ],
   "source": [
    "import plotly as py\n",
    "import plotly.graph_objs as go\n",
    "import numpy as np\n",
    "\n",
    "py.offline.init_notebook_mode(connected=True)"
   ]
  },
  {
   "cell_type": "markdown",
   "metadata": {},
   "source": [
    "## BMW"
   ]
  },
  {
   "cell_type": "code",
   "execution_count": 58,
   "metadata": {},
   "outputs": [],
   "source": [
    "#the keywords chosen from the BMW Annual reports\n",
    "key = ['Husqvarna', 'aktienbasierte', 'Citroën', 'electrification', 'amsterdam', 'Drivenow', 'co2', 'brexit', 'HERE / Amsterdam', 'there']"
   ]
  },
  {
   "cell_type": "code",
   "execution_count": 64,
   "metadata": {},
   "outputs": [],
   "source": [
    "#get the value of certain row (as y-value of visualization result)\n",
    "y1 = df.loc['husqvarna'].tolist()\n",
    "y3 = df.loc['citroën'].tolist()\n",
    "y5 = df.loc['amsterdam'].tolist()\n",
    "y6 = df.loc['drivenow'].tolist()\n",
    "y7 = df.loc['co2'].tolist()\n",
    "y8 = df.loc['brexit'].tolist()\n",
    "y9 = df.loc['here'].tolist()\n",
    "y10= df.loc['there'].tolist()"
   ]
  },
  {
   "cell_type": "code",
   "execution_count": 61,
   "metadata": {},
   "outputs": [],
   "source": [
    "#x-value(year 2010-2017) of visualization result\n",
    "years = np.linspace(2010, 2017, 8)\n",
    "\n",
    "#define all the lines(keywords) with the data from TF/IDF\n",
    "line1 = go.Scatter(x=years, y=y1, mode='lines+markers', name=key[0])\n",
    "line3 = go.Scatter(x=years, y=y3, mode='lines+markers', name=key[2])\n",
    "\n",
    "line6 = go.Scatter(x=years, y=y6, mode='lines+markers', name=key[5])\n",
    "line7 = go.Scatter(x=years, y=y7, mode='lines+markers', name=key[6])\n",
    "line8 = go.Scatter(x=years, y=y8, mode='lines+markers', name=key[7])\n",
    "line9 = go.Scatter(x=years, y=y9, mode='lines+markers', name=key[8])"
   ]
  },
  {
   "cell_type": "code",
   "execution_count": 62,
   "metadata": {},
   "outputs": [
    {
     "data": {
      "application/vnd.plotly.v1+json": {
       "data": [
        {
         "mode": "lines+markers",
         "name": "Husqvarna",
         "type": "scatter",
         "uid": "7b44ecba-9c9e-11e8-99ec-5907c49c6bed",
         "x": [
          2010,
          2011,
          2012,
          2013,
          2014,
          2015,
          2016,
          2017
         ],
         "y": [
          0.02177643935218017,
          0.019772659042221336,
          0.02963686220697395,
          0.018795087002581805,
          0,
          0,
          0.001456255927845524,
          0.001456255927845524,
          1.251314428280906
         ]
        },
        {
         "mode": "lines+markers",
         "name": "Citroën",
         "type": "scatter",
         "uid": "7b44efd0-9c9e-11e8-99ec-5907c49c6bed",
         "x": [
          2010,
          2011,
          2012,
          2013,
          2014,
          2015,
          2016,
          2017
         ],
         "y": [
          0.0034540019709458076,
          0.012544714440808626,
          0.025070711532471333,
          0.0017034994696036316,
          0,
          0,
          0,
          0,
          1.587786664902119
         ]
        }
       ],
       "layout": {
        "title": "BMW:TF-IDF keywords trend - decrease",
        "xaxis": {
         "title": "years"
        },
        "yaxis": {
         "title": "corelation"
        }
       }
      },
      "text/html": [
       "<div id=\"76b38028-2971-412c-9b30-fd4ad86445bf\" style=\"height: 525px; width: 100%;\" class=\"plotly-graph-div\"></div><script type=\"text/javascript\">require([\"plotly\"], function(Plotly) { window.PLOTLYENV=window.PLOTLYENV || {};window.PLOTLYENV.BASE_URL=\"https://plot.ly\";Plotly.newPlot(\"76b38028-2971-412c-9b30-fd4ad86445bf\", [{\"mode\": \"lines+markers\", \"name\": \"Husqvarna\", \"x\": [2010.0, 2011.0, 2012.0, 2013.0, 2014.0, 2015.0, 2016.0, 2017.0], \"y\": [0.02177643935218017, 0.019772659042221336, 0.02963686220697395, 0.018795087002581805, 0.0, 0.0, 0.001456255927845524, 0.001456255927845524, 1.251314428280906], \"type\": \"scatter\", \"uid\": \"7b4b5dc0-9c9e-11e8-99ec-5907c49c6bed\"}, {\"mode\": \"lines+markers\", \"name\": \"Citro\\u00ebn\", \"x\": [2010.0, 2011.0, 2012.0, 2013.0, 2014.0, 2015.0, 2016.0, 2017.0], \"y\": [0.0034540019709458076, 0.012544714440808626, 0.025070711532471333, 0.0017034994696036316, 0.0, 0.0, 0.0, 0.0, 1.587786664902119], \"type\": \"scatter\", \"uid\": \"7b4b6022-9c9e-11e8-99ec-5907c49c6bed\"}], {\"title\": \"BMW:TF-IDF keywords trend - decrease\", \"xaxis\": {\"title\": \"years\"}, \"yaxis\": {\"title\": \"corelation\"}}, {\"showLink\": true, \"linkText\": \"Export to plot.ly\"})});</script>"
      ],
      "text/vnd.plotly.v1+html": [
       "<div id=\"76b38028-2971-412c-9b30-fd4ad86445bf\" style=\"height: 525px; width: 100%;\" class=\"plotly-graph-div\"></div><script type=\"text/javascript\">require([\"plotly\"], function(Plotly) { window.PLOTLYENV=window.PLOTLYENV || {};window.PLOTLYENV.BASE_URL=\"https://plot.ly\";Plotly.newPlot(\"76b38028-2971-412c-9b30-fd4ad86445bf\", [{\"mode\": \"lines+markers\", \"name\": \"Husqvarna\", \"x\": [2010.0, 2011.0, 2012.0, 2013.0, 2014.0, 2015.0, 2016.0, 2017.0], \"y\": [0.02177643935218017, 0.019772659042221336, 0.02963686220697395, 0.018795087002581805, 0.0, 0.0, 0.001456255927845524, 0.001456255927845524, 1.251314428280906], \"type\": \"scatter\", \"uid\": \"7b4b5dc0-9c9e-11e8-99ec-5907c49c6bed\"}, {\"mode\": \"lines+markers\", \"name\": \"Citro\\u00ebn\", \"x\": [2010.0, 2011.0, 2012.0, 2013.0, 2014.0, 2015.0, 2016.0, 2017.0], \"y\": [0.0034540019709458076, 0.012544714440808626, 0.025070711532471333, 0.0017034994696036316, 0.0, 0.0, 0.0, 0.0, 1.587786664902119], \"type\": \"scatter\", \"uid\": \"7b4b6022-9c9e-11e8-99ec-5907c49c6bed\"}], {\"title\": \"BMW:TF-IDF keywords trend - decrease\", \"xaxis\": {\"title\": \"years\"}, \"yaxis\": {\"title\": \"corelation\"}}, {\"showLink\": true, \"linkText\": \"Export to plot.ly\"})});</script>"
      ]
     },
     "metadata": {},
     "output_type": "display_data"
    },
    {
     "data": {
      "application/vnd.plotly.v1+json": {
       "data": [
        {
         "mode": "lines+markers",
         "name": "Drivenow",
         "type": "scatter",
         "uid": "7b52eee6-9c9e-11e8-99ec-5907c49c6bed",
         "x": [
          2010,
          2011,
          2012,
          2013,
          2014,
          2015,
          2016,
          2017
         ],
         "y": [
          0,
          0.013877805257339466,
          0.016388806983860908,
          0.010793191336198635,
          0.020866608082130016,
          0.021614845496604414,
          0.02081367413248565,
          0.02081367413248565,
          1.1177830356563834
         ]
        },
        {
         "mode": "lines+markers",
         "name": "co2",
         "type": "scatter",
         "uid": "7b52f10c-9c9e-11e8-99ec-5907c49c6bed",
         "x": [
          2010,
          2011,
          2012,
          2013,
          2014,
          2015,
          2016,
          2017
         ],
         "y": [
          0,
          0,
          0,
          0.0017034994696036316,
          0.001646698121672266,
          0,
          0.04065239015430882,
          0.04065239015430882,
          1.587786664902119
         ]
        },
        {
         "mode": "lines+markers",
         "name": "brexit",
         "type": "scatter",
         "uid": "7b52f274-9c9e-11e8-99ec-5907c49c6bed",
         "x": [
          2010,
          2011,
          2012,
          2013,
          2014,
          2015,
          2016,
          2017
         ],
         "y": [
          0,
          0,
          0,
          0,
          0,
          0,
          0.026865575655537523,
          0.026865575655537523,
          2.09861228866811
         ]
        },
        {
         "mode": "lines+markers",
         "name": "HERE / Amsterdam",
         "type": "scatter",
         "uid": "7b52f3a0-9c9e-11e8-99ec-5907c49c6bed",
         "x": [
          2010,
          2011,
          2012,
          2013,
          2014,
          2015,
          2016,
          2017
         ],
         "y": [
          0,
          0,
          0,
          0,
          0,
          0.027646107645330157,
          0.025290313635104235,
          0.025290313635104235,
          1.8109302162163288
         ]
        }
       ],
       "layout": {
        "title": "BMW:TF-IDF keywords trend - increase",
        "xaxis": {
         "title": "years"
        },
        "yaxis": {
         "title": "corelation"
        }
       }
      },
      "text/html": [
       "<div id=\"0ea284c8-124d-4986-bdea-24e87b2a5504\" style=\"height: 525px; width: 100%;\" class=\"plotly-graph-div\"></div><script type=\"text/javascript\">require([\"plotly\"], function(Plotly) { window.PLOTLYENV=window.PLOTLYENV || {};window.PLOTLYENV.BASE_URL=\"https://plot.ly\";Plotly.newPlot(\"0ea284c8-124d-4986-bdea-24e87b2a5504\", [{\"mode\": \"lines+markers\", \"name\": \"Drivenow\", \"x\": [2010.0, 2011.0, 2012.0, 2013.0, 2014.0, 2015.0, 2016.0, 2017.0], \"y\": [0.0, 0.013877805257339466, 0.016388806983860908, 0.010793191336198635, 0.020866608082130016, 0.021614845496604414, 0.02081367413248565, 0.02081367413248565, 1.1177830356563834], \"type\": \"scatter\", \"uid\": \"7b58b632-9c9e-11e8-99ec-5907c49c6bed\"}, {\"mode\": \"lines+markers\", \"name\": \"co2\", \"x\": [2010.0, 2011.0, 2012.0, 2013.0, 2014.0, 2015.0, 2016.0, 2017.0], \"y\": [0.0, 0.0, 0.0, 0.0017034994696036316, 0.001646698121672266, 0.0, 0.04065239015430882, 0.04065239015430882, 1.587786664902119], \"type\": \"scatter\", \"uid\": \"7b58b7fe-9c9e-11e8-99ec-5907c49c6bed\"}, {\"mode\": \"lines+markers\", \"name\": \"brexit\", \"x\": [2010.0, 2011.0, 2012.0, 2013.0, 2014.0, 2015.0, 2016.0, 2017.0], \"y\": [0.0, 0.0, 0.0, 0.0, 0.0, 0.0, 0.026865575655537523, 0.026865575655537523, 2.09861228866811], \"type\": \"scatter\", \"uid\": \"7b58b92a-9c9e-11e8-99ec-5907c49c6bed\"}, {\"mode\": \"lines+markers\", \"name\": \"HERE / Amsterdam\", \"x\": [2010.0, 2011.0, 2012.0, 2013.0, 2014.0, 2015.0, 2016.0, 2017.0], \"y\": [0.0, 0.0, 0.0, 0.0, 0.0, 0.027646107645330157, 0.025290313635104235, 0.025290313635104235, 1.8109302162163288], \"type\": \"scatter\", \"uid\": \"7b58ba24-9c9e-11e8-99ec-5907c49c6bed\"}], {\"title\": \"BMW:TF-IDF keywords trend - increase\", \"xaxis\": {\"title\": \"years\"}, \"yaxis\": {\"title\": \"corelation\"}}, {\"showLink\": true, \"linkText\": \"Export to plot.ly\"})});</script>"
      ],
      "text/vnd.plotly.v1+html": [
       "<div id=\"0ea284c8-124d-4986-bdea-24e87b2a5504\" style=\"height: 525px; width: 100%;\" class=\"plotly-graph-div\"></div><script type=\"text/javascript\">require([\"plotly\"], function(Plotly) { window.PLOTLYENV=window.PLOTLYENV || {};window.PLOTLYENV.BASE_URL=\"https://plot.ly\";Plotly.newPlot(\"0ea284c8-124d-4986-bdea-24e87b2a5504\", [{\"mode\": \"lines+markers\", \"name\": \"Drivenow\", \"x\": [2010.0, 2011.0, 2012.0, 2013.0, 2014.0, 2015.0, 2016.0, 2017.0], \"y\": [0.0, 0.013877805257339466, 0.016388806983860908, 0.010793191336198635, 0.020866608082130016, 0.021614845496604414, 0.02081367413248565, 0.02081367413248565, 1.1177830356563834], \"type\": \"scatter\", \"uid\": \"7b58b632-9c9e-11e8-99ec-5907c49c6bed\"}, {\"mode\": \"lines+markers\", \"name\": \"co2\", \"x\": [2010.0, 2011.0, 2012.0, 2013.0, 2014.0, 2015.0, 2016.0, 2017.0], \"y\": [0.0, 0.0, 0.0, 0.0017034994696036316, 0.001646698121672266, 0.0, 0.04065239015430882, 0.04065239015430882, 1.587786664902119], \"type\": \"scatter\", \"uid\": \"7b58b7fe-9c9e-11e8-99ec-5907c49c6bed\"}, {\"mode\": \"lines+markers\", \"name\": \"brexit\", \"x\": [2010.0, 2011.0, 2012.0, 2013.0, 2014.0, 2015.0, 2016.0, 2017.0], \"y\": [0.0, 0.0, 0.0, 0.0, 0.0, 0.0, 0.026865575655537523, 0.026865575655537523, 2.09861228866811], \"type\": \"scatter\", \"uid\": \"7b58b92a-9c9e-11e8-99ec-5907c49c6bed\"}, {\"mode\": \"lines+markers\", \"name\": \"HERE / Amsterdam\", \"x\": [2010.0, 2011.0, 2012.0, 2013.0, 2014.0, 2015.0, 2016.0, 2017.0], \"y\": [0.0, 0.0, 0.0, 0.0, 0.0, 0.027646107645330157, 0.025290313635104235, 0.025290313635104235, 1.8109302162163288], \"type\": \"scatter\", \"uid\": \"7b58ba24-9c9e-11e8-99ec-5907c49c6bed\"}], {\"title\": \"BMW:TF-IDF keywords trend - increase\", \"xaxis\": {\"title\": \"years\"}, \"yaxis\": {\"title\": \"corelation\"}}, {\"showLink\": true, \"linkText\": \"Export to plot.ly\"})});</script>"
      ]
     },
     "metadata": {},
     "output_type": "display_data"
    },
    {
     "data": {
      "application/vnd.plotly.v1+json": {
       "data": [
        {
         "mode": "lines+markers",
         "name": "Husqvarna",
         "type": "scatter",
         "uid": "7b5f65e0-9c9e-11e8-99ec-5907c49c6bed",
         "x": [
          2010,
          2011,
          2012,
          2013,
          2014,
          2015,
          2016,
          2017
         ],
         "y": [
          0.02177643935218017,
          0.019772659042221336,
          0.02963686220697395,
          0.018795087002581805,
          0,
          0,
          0.001456255927845524,
          0.001456255927845524,
          1.251314428280906
         ]
        },
        {
         "mode": "lines+markers",
         "name": "Citroën",
         "type": "scatter",
         "uid": "7b5f6766-9c9e-11e8-99ec-5907c49c6bed",
         "x": [
          2010,
          2011,
          2012,
          2013,
          2014,
          2015,
          2016,
          2017
         ],
         "y": [
          0.0034540019709458076,
          0.012544714440808626,
          0.025070711532471333,
          0.0017034994696036316,
          0,
          0,
          0,
          0,
          1.587786664902119
         ]
        },
        {
         "mode": "lines+markers",
         "name": "Drivenow",
         "type": "scatter",
         "uid": "7b5f686a-9c9e-11e8-99ec-5907c49c6bed",
         "x": [
          2010,
          2011,
          2012,
          2013,
          2014,
          2015,
          2016,
          2017
         ],
         "y": [
          0,
          0.013877805257339466,
          0.016388806983860908,
          0.010793191336198635,
          0.020866608082130016,
          0.021614845496604414,
          0.02081367413248565,
          0.02081367413248565,
          1.1177830356563834
         ]
        },
        {
         "mode": "lines+markers",
         "name": "co2",
         "type": "scatter",
         "uid": "7b5f6946-9c9e-11e8-99ec-5907c49c6bed",
         "x": [
          2010,
          2011,
          2012,
          2013,
          2014,
          2015,
          2016,
          2017
         ],
         "y": [
          0,
          0,
          0,
          0.0017034994696036316,
          0.001646698121672266,
          0,
          0.04065239015430882,
          0.04065239015430882,
          1.587786664902119
         ]
        },
        {
         "mode": "lines+markers",
         "name": "brexit",
         "type": "scatter",
         "uid": "7b5f6a04-9c9e-11e8-99ec-5907c49c6bed",
         "x": [
          2010,
          2011,
          2012,
          2013,
          2014,
          2015,
          2016,
          2017
         ],
         "y": [
          0,
          0,
          0,
          0,
          0,
          0,
          0.026865575655537523,
          0.026865575655537523,
          2.09861228866811
         ]
        },
        {
         "mode": "lines+markers",
         "name": "HERE / Amsterdam",
         "type": "scatter",
         "uid": "7b5f6acc-9c9e-11e8-99ec-5907c49c6bed",
         "x": [
          2010,
          2011,
          2012,
          2013,
          2014,
          2015,
          2016,
          2017
         ],
         "y": [
          0,
          0,
          0,
          0,
          0,
          0.027646107645330157,
          0.025290313635104235,
          0.025290313635104235,
          1.8109302162163288
         ]
        }
       ],
       "layout": {
        "title": "all topics trend of BMW",
        "xaxis": {
         "title": "years"
        },
        "yaxis": {
         "title": "corelation"
        }
       }
      },
      "text/html": [
       "<div id=\"d0650c65-4e15-4ed1-bc57-1189ce7a21ca\" style=\"height: 525px; width: 100%;\" class=\"plotly-graph-div\"></div><script type=\"text/javascript\">require([\"plotly\"], function(Plotly) { window.PLOTLYENV=window.PLOTLYENV || {};window.PLOTLYENV.BASE_URL=\"https://plot.ly\";Plotly.newPlot(\"d0650c65-4e15-4ed1-bc57-1189ce7a21ca\", [{\"mode\": \"lines+markers\", \"name\": \"Husqvarna\", \"x\": [2010.0, 2011.0, 2012.0, 2013.0, 2014.0, 2015.0, 2016.0, 2017.0], \"y\": [0.02177643935218017, 0.019772659042221336, 0.02963686220697395, 0.018795087002581805, 0.0, 0.0, 0.001456255927845524, 0.001456255927845524, 1.251314428280906], \"type\": \"scatter\", \"uid\": \"7b7177e4-9c9e-11e8-99ec-5907c49c6bed\"}, {\"mode\": \"lines+markers\", \"name\": \"Citro\\u00ebn\", \"x\": [2010.0, 2011.0, 2012.0, 2013.0, 2014.0, 2015.0, 2016.0, 2017.0], \"y\": [0.0034540019709458076, 0.012544714440808626, 0.025070711532471333, 0.0017034994696036316, 0.0, 0.0, 0.0, 0.0, 1.587786664902119], \"type\": \"scatter\", \"uid\": \"7b717960-9c9e-11e8-99ec-5907c49c6bed\"}, {\"mode\": \"lines+markers\", \"name\": \"Drivenow\", \"x\": [2010.0, 2011.0, 2012.0, 2013.0, 2014.0, 2015.0, 2016.0, 2017.0], \"y\": [0.0, 0.013877805257339466, 0.016388806983860908, 0.010793191336198635, 0.020866608082130016, 0.021614845496604414, 0.02081367413248565, 0.02081367413248565, 1.1177830356563834], \"type\": \"scatter\", \"uid\": \"7b717a28-9c9e-11e8-99ec-5907c49c6bed\"}, {\"mode\": \"lines+markers\", \"name\": \"co2\", \"x\": [2010.0, 2011.0, 2012.0, 2013.0, 2014.0, 2015.0, 2016.0, 2017.0], \"y\": [0.0, 0.0, 0.0, 0.0017034994696036316, 0.001646698121672266, 0.0, 0.04065239015430882, 0.04065239015430882, 1.587786664902119], \"type\": \"scatter\", \"uid\": \"7b717adc-9c9e-11e8-99ec-5907c49c6bed\"}, {\"mode\": \"lines+markers\", \"name\": \"brexit\", \"x\": [2010.0, 2011.0, 2012.0, 2013.0, 2014.0, 2015.0, 2016.0, 2017.0], \"y\": [0.0, 0.0, 0.0, 0.0, 0.0, 0.0, 0.026865575655537523, 0.026865575655537523, 2.09861228866811], \"type\": \"scatter\", \"uid\": \"7b717b7c-9c9e-11e8-99ec-5907c49c6bed\"}, {\"mode\": \"lines+markers\", \"name\": \"HERE / Amsterdam\", \"x\": [2010.0, 2011.0, 2012.0, 2013.0, 2014.0, 2015.0, 2016.0, 2017.0], \"y\": [0.0, 0.0, 0.0, 0.0, 0.0, 0.027646107645330157, 0.025290313635104235, 0.025290313635104235, 1.8109302162163288], \"type\": \"scatter\", \"uid\": \"7b717c1c-9c9e-11e8-99ec-5907c49c6bed\"}], {\"title\": \"all topics trend of BMW\", \"xaxis\": {\"title\": \"years\"}, \"yaxis\": {\"title\": \"corelation\"}}, {\"showLink\": true, \"linkText\": \"Export to plot.ly\"})});</script>"
      ],
      "text/vnd.plotly.v1+html": [
       "<div id=\"d0650c65-4e15-4ed1-bc57-1189ce7a21ca\" style=\"height: 525px; width: 100%;\" class=\"plotly-graph-div\"></div><script type=\"text/javascript\">require([\"plotly\"], function(Plotly) { window.PLOTLYENV=window.PLOTLYENV || {};window.PLOTLYENV.BASE_URL=\"https://plot.ly\";Plotly.newPlot(\"d0650c65-4e15-4ed1-bc57-1189ce7a21ca\", [{\"mode\": \"lines+markers\", \"name\": \"Husqvarna\", \"x\": [2010.0, 2011.0, 2012.0, 2013.0, 2014.0, 2015.0, 2016.0, 2017.0], \"y\": [0.02177643935218017, 0.019772659042221336, 0.02963686220697395, 0.018795087002581805, 0.0, 0.0, 0.001456255927845524, 0.001456255927845524, 1.251314428280906], \"type\": \"scatter\", \"uid\": \"7b7177e4-9c9e-11e8-99ec-5907c49c6bed\"}, {\"mode\": \"lines+markers\", \"name\": \"Citro\\u00ebn\", \"x\": [2010.0, 2011.0, 2012.0, 2013.0, 2014.0, 2015.0, 2016.0, 2017.0], \"y\": [0.0034540019709458076, 0.012544714440808626, 0.025070711532471333, 0.0017034994696036316, 0.0, 0.0, 0.0, 0.0, 1.587786664902119], \"type\": \"scatter\", \"uid\": \"7b717960-9c9e-11e8-99ec-5907c49c6bed\"}, {\"mode\": \"lines+markers\", \"name\": \"Drivenow\", \"x\": [2010.0, 2011.0, 2012.0, 2013.0, 2014.0, 2015.0, 2016.0, 2017.0], \"y\": [0.0, 0.013877805257339466, 0.016388806983860908, 0.010793191336198635, 0.020866608082130016, 0.021614845496604414, 0.02081367413248565, 0.02081367413248565, 1.1177830356563834], \"type\": \"scatter\", \"uid\": \"7b717a28-9c9e-11e8-99ec-5907c49c6bed\"}, {\"mode\": \"lines+markers\", \"name\": \"co2\", \"x\": [2010.0, 2011.0, 2012.0, 2013.0, 2014.0, 2015.0, 2016.0, 2017.0], \"y\": [0.0, 0.0, 0.0, 0.0017034994696036316, 0.001646698121672266, 0.0, 0.04065239015430882, 0.04065239015430882, 1.587786664902119], \"type\": \"scatter\", \"uid\": \"7b717adc-9c9e-11e8-99ec-5907c49c6bed\"}, {\"mode\": \"lines+markers\", \"name\": \"brexit\", \"x\": [2010.0, 2011.0, 2012.0, 2013.0, 2014.0, 2015.0, 2016.0, 2017.0], \"y\": [0.0, 0.0, 0.0, 0.0, 0.0, 0.0, 0.026865575655537523, 0.026865575655537523, 2.09861228866811], \"type\": \"scatter\", \"uid\": \"7b717b7c-9c9e-11e8-99ec-5907c49c6bed\"}, {\"mode\": \"lines+markers\", \"name\": \"HERE / Amsterdam\", \"x\": [2010.0, 2011.0, 2012.0, 2013.0, 2014.0, 2015.0, 2016.0, 2017.0], \"y\": [0.0, 0.0, 0.0, 0.0, 0.0, 0.027646107645330157, 0.025290313635104235, 0.025290313635104235, 1.8109302162163288], \"type\": \"scatter\", \"uid\": \"7b717c1c-9c9e-11e8-99ec-5907c49c6bed\"}], {\"title\": \"all topics trend of BMW\", \"xaxis\": {\"title\": \"years\"}, \"yaxis\": {\"title\": \"corelation\"}}, {\"showLink\": true, \"linkText\": \"Export to plot.ly\"})});</script>"
      ]
     },
     "metadata": {},
     "output_type": "display_data"
    }
   ],
   "source": [
    "#the layout of visualization of BMW (main title, axis title)\n",
    "decay = [line1, line3]\n",
    "increase = [line6, line7, line8, line9]\n",
    "total = [line1, line3, line6, line7, line8, line9]\n",
    "\n",
    "layout_decay = dict(title = 'BMW:TF-IDF keywords trend - decrease',\n",
    "              xaxis = dict(title = 'years'),\n",
    "              yaxis = dict(title = 'corelation'),\n",
    "              )\n",
    "fig_decay = dict(data=decay, layout=layout_decay)\n",
    "\n",
    "layout_increase = dict(title = 'BMW:TF-IDF keywords trend - increase',\n",
    "              xaxis = dict(title = 'years'),\n",
    "              yaxis = dict(title = 'corelation'),\n",
    "              )\n",
    "fig_increase = dict(data=increase, layout=layout_increase)\n",
    "\n",
    "layout_total = dict(title = 'all topics trend of BMW',\n",
    "              xaxis = dict(title = 'years'),\n",
    "              yaxis = dict(title = 'corelation'),\n",
    "              )\n",
    "fig_total = dict(data=total, layout=layout_total)\n",
    "\n",
    "#draw the line chart\n",
    "py.offline.iplot(fig_decay, filename='topic trend of BMW - decay')\n",
    "py.offline.iplot(fig_increase, filename='topic trend of BMW - increase')\n",
    "py.offline.iplot(fig_total, filename='all topics trend of BMW')"
   ]
  },
  {
   "cell_type": "markdown",
   "metadata": {},
   "source": [
    "## Deutsche Bank"
   ]
  },
  {
   "cell_type": "code",
   "execution_count": 63,
   "metadata": {},
   "outputs": [],
   "source": [
    "#the keywords chosen from the Deutsche Bank Annual reports\n",
    "key_co = ['Goodwill', 'ABN AMRO', 'Deutsche Bank National Trust Co.', \n",
    "          'klage (lawsuit)', 'gericht (judgement)', 'court']\n",
    "key_ser = ['PCAM', \n",
    "           'special purpose entities', \n",
    "           'CIB',\n",
    "           'Incremental Risk Charge',\n",
    "           'non-core operations unit',\n",
    "           'exposure at defaut',\n",
    "           'PWCC',\n",
    "           'global market'\n",
    "          ]"
   ]
  },
  {
   "cell_type": "code",
   "execution_count": 65,
   "metadata": {},
   "outputs": [],
   "source": [
    "#get the value of certain row (as y-value of visualization result)\n",
    "y1 = df_db.loc['goodwill'].tolist()\n",
    "y2 = df_db.loc['amro'].tolist()\n",
    "y3 = df_db.loc['dbntc'].tolist()\n",
    "y4 = df_db.loc['klage'].tolist()\n",
    "y5 = df_db.loc['gericht'].tolist()\n",
    "y6 = df_db.loc['court'].tolist()"
   ]
  },
  {
   "cell_type": "code",
   "execution_count": 66,
   "metadata": {},
   "outputs": [],
   "source": [
    "#x-value(year 2010-2016) of visualization result\n",
    "years = np.linspace(2010, 2016, 7)\n",
    "\n",
    "#define all the lines(keywords) with the data from TF/IDF\n",
    "line1 = go.Scatter(x=years, y=y1, mode='lines+markers', name=key_co[0])\n",
    "line2 = go.Scatter(x=years, y=y2, mode='lines+markers', name=key_co[1])\n",
    "line3 = go.Scatter(x=years, y=y3, mode='lines+markers', name=key_co[2])"
   ]
  },
  {
   "cell_type": "code",
   "execution_count": 68,
   "metadata": {},
   "outputs": [
    {
     "data": {
      "application/vnd.plotly.v1+json": {
       "data": [
        {
         "mode": "lines+markers",
         "name": "Goodwill",
         "type": "scatter",
         "uid": "ff513f7c-9c9e-11e8-99ec-5907c49c6bed",
         "x": [
          2010,
          2011,
          2012,
          2013,
          2014,
          2015,
          2016
         ],
         "y": [
          0.04991548613574003,
          0.0011506396039015516,
          0.0005152863584182154,
          0,
          0,
          0.0011947623249202435,
          0.0005125010967421039,
          1.2876820724517808
         ]
        },
        {
         "mode": "lines+markers",
         "name": "ABN AMRO",
         "type": "scatter",
         "uid": "ff514238-9c9e-11e8-99ec-5907c49c6bed",
         "x": [
          2010,
          2011,
          2012,
          2013,
          2014,
          2015,
          2016
         ],
         "y": [
          0.021727917494380956,
          0.013232355444867842,
          0.00772929537627323,
          0.0010662206435667523,
          0.00044069063733971576,
          0,
          0,
          1.2876820724517808
         ]
        },
        {
         "mode": "lines+markers",
         "name": "Deutsche Bank National Trust Co.",
         "type": "scatter",
         "uid": "ff514454-9c9e-11e8-99ec-5907c49c6bed",
         "x": [
          2010,
          2011,
          2012,
          2013,
          2014,
          2015,
          2016
         ],
         "y": [
          0,
          0,
          0,
          0,
          0.006101192461877822,
          0.022054700124159173,
          0,
          1.9808292530117262
         ]
        }
       ],
       "layout": {
        "title": "Deutsche Bank:TF-IDF keywords trend",
        "xaxis": {
         "title": "years"
        },
        "yaxis": {
         "title": "corelation"
        }
       }
      },
      "text/html": [
       "<div id=\"211ffc5d-188d-4f03-a15c-9ae46e9bb75e\" style=\"height: 525px; width: 100%;\" class=\"plotly-graph-div\"></div><script type=\"text/javascript\">require([\"plotly\"], function(Plotly) { window.PLOTLYENV=window.PLOTLYENV || {};window.PLOTLYENV.BASE_URL=\"https://plot.ly\";Plotly.newPlot(\"211ffc5d-188d-4f03-a15c-9ae46e9bb75e\", [{\"mode\": \"lines+markers\", \"name\": \"Goodwill\", \"x\": [2010.0, 2011.0, 2012.0, 2013.0, 2014.0, 2015.0, 2016.0], \"y\": [0.04991548613574003, 0.0011506396039015516, 0.0005152863584182154, 0.0, 0.0, 0.0011947623249202435, 0.0005125010967421039, 1.2876820724517808], \"type\": \"scatter\", \"uid\": \"ff58357a-9c9e-11e8-99ec-5907c49c6bed\"}, {\"mode\": \"lines+markers\", \"name\": \"ABN AMRO\", \"x\": [2010.0, 2011.0, 2012.0, 2013.0, 2014.0, 2015.0, 2016.0], \"y\": [0.021727917494380956, 0.013232355444867842, 0.00772929537627323, 0.0010662206435667523, 0.00044069063733971576, 0.0, 0.0, 1.2876820724517808], \"type\": \"scatter\", \"uid\": \"ff5837be-9c9e-11e8-99ec-5907c49c6bed\"}, {\"mode\": \"lines+markers\", \"name\": \"Deutsche Bank National Trust Co.\", \"x\": [2010.0, 2011.0, 2012.0, 2013.0, 2014.0, 2015.0, 2016.0], \"y\": [0.0, 0.0, 0.0, 0.0, 0.006101192461877822, 0.022054700124159173, 0.0, 1.9808292530117262], \"type\": \"scatter\", \"uid\": \"ff58393a-9c9e-11e8-99ec-5907c49c6bed\"}], {\"title\": \"Deutsche Bank:TF-IDF keywords trend\", \"xaxis\": {\"title\": \"years\"}, \"yaxis\": {\"title\": \"corelation\"}}, {\"showLink\": true, \"linkText\": \"Export to plot.ly\"})});</script>"
      ],
      "text/vnd.plotly.v1+html": [
       "<div id=\"211ffc5d-188d-4f03-a15c-9ae46e9bb75e\" style=\"height: 525px; width: 100%;\" class=\"plotly-graph-div\"></div><script type=\"text/javascript\">require([\"plotly\"], function(Plotly) { window.PLOTLYENV=window.PLOTLYENV || {};window.PLOTLYENV.BASE_URL=\"https://plot.ly\";Plotly.newPlot(\"211ffc5d-188d-4f03-a15c-9ae46e9bb75e\", [{\"mode\": \"lines+markers\", \"name\": \"Goodwill\", \"x\": [2010.0, 2011.0, 2012.0, 2013.0, 2014.0, 2015.0, 2016.0], \"y\": [0.04991548613574003, 0.0011506396039015516, 0.0005152863584182154, 0.0, 0.0, 0.0011947623249202435, 0.0005125010967421039, 1.2876820724517808], \"type\": \"scatter\", \"uid\": \"ff58357a-9c9e-11e8-99ec-5907c49c6bed\"}, {\"mode\": \"lines+markers\", \"name\": \"ABN AMRO\", \"x\": [2010.0, 2011.0, 2012.0, 2013.0, 2014.0, 2015.0, 2016.0], \"y\": [0.021727917494380956, 0.013232355444867842, 0.00772929537627323, 0.0010662206435667523, 0.00044069063733971576, 0.0, 0.0, 1.2876820724517808], \"type\": \"scatter\", \"uid\": \"ff5837be-9c9e-11e8-99ec-5907c49c6bed\"}, {\"mode\": \"lines+markers\", \"name\": \"Deutsche Bank National Trust Co.\", \"x\": [2010.0, 2011.0, 2012.0, 2013.0, 2014.0, 2015.0, 2016.0], \"y\": [0.0, 0.0, 0.0, 0.0, 0.006101192461877822, 0.022054700124159173, 0.0, 1.9808292530117262], \"type\": \"scatter\", \"uid\": \"ff58393a-9c9e-11e8-99ec-5907c49c6bed\"}], {\"title\": \"Deutsche Bank:TF-IDF keywords trend\", \"xaxis\": {\"title\": \"years\"}, \"yaxis\": {\"title\": \"corelation\"}}, {\"showLink\": true, \"linkText\": \"Export to plot.ly\"})});</script>"
      ]
     },
     "metadata": {},
     "output_type": "display_data"
    }
   ],
   "source": [
    "#the layout of visualization of Deutsche Bank (main title, axis title)\n",
    "company = [line1, line2, line3]\n",
    "service = [line7, line8, line9, line10, line11, line12, line13, line14]\n",
    "\n",
    "layout_company = dict(title = 'Deutsche Bank:TF-IDF keywords trend',\n",
    "              xaxis = dict(title = 'years'),\n",
    "              yaxis = dict(title = 'corelation'),\n",
    "              )\n",
    "fig_company = dict(data=company, layout=layout_company)\n",
    "\n",
    "#draw the line chart\n",
    "py.offline.iplot(fig_company, filename='Deutsche Bank:TF-IDF keywords trend')"
   ]
  }
 ],
 "metadata": {
  "kernelspec": {
   "display_name": "Python 3",
   "language": "python",
   "name": "python3"
  },
  "language_info": {
   "codemirror_mode": {
    "name": "ipython",
    "version": 3
   },
   "file_extension": ".py",
   "mimetype": "text/x-python",
   "name": "python",
   "nbconvert_exporter": "python",
   "pygments_lexer": "ipython3",
   "version": "3.6.6"
  }
 },
 "nbformat": 4,
 "nbformat_minor": 1
}
